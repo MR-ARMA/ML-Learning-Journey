{
 "cells": [
  {
   "cell_type": "markdown",
   "id": "7df698d5-1ce0-46f6-a027-860793a59659",
   "metadata": {},
   "source": [
    "# <center><div style=\"width: 370px;\"> ![Panel Data](pictures/Panel_Data.jpg)"
   ]
  },
  {
   "cell_type": "markdown",
   "id": "4954d06f-8aa5-40c4-98ba-bc77fcd3903a",
   "metadata": {
    "tags": []
   },
   "source": [
    "# <center> Copying"
   ]
  },
  {
   "cell_type": "code",
   "execution_count": 1,
   "id": "407ece08-0a30-460a-b5d9-8ffe1b635524",
   "metadata": {
    "tags": []
   },
   "outputs": [],
   "source": [
    "import pandas as pd\n",
    "import numpy as np"
   ]
  },
  {
   "cell_type": "markdown",
   "id": "50c9e597-e63a-4d8d-8f28-6a56ca18c1d4",
   "metadata": {},
   "source": [
    "The [`copy()`](https://pandas.pydata.org/docs/reference/api/pandas.DataFrame.copy.html#pandas.DataFrame.copy) method on pandas objects copies the underlying data (though not\n",
    "the axis indexes, since they are immutable) and returns a new object. Note that\n",
    "**it is seldom necessary to copy objects**. For example, there are only a\n",
    "handful of ways to alter a DataFrame *in-place*:\n",
    "\n",
    "- Inserting, deleting, or modifying a column.\n",
    "- Assigning to the index or columns attributes.\n",
    "- For homogeneous data, directly modifying the values via the values attribute or advanced indexing (Will be discussed later in indexing section)."
   ]
  },
  {
   "cell_type": "markdown",
   "id": "30ffc047-3a5a-4d98-bdb9-38b78dc6e500",
   "metadata": {},
   "source": [
    "To be clear, no pandas method has the side effect of modifying your data; almost every method returns a new object, leaving the original object untouched. **If the data is modified, it is because you did so explicitly.**"
   ]
  },
  {
   "cell_type": "markdown",
   "id": "4d7ac901-f1d2-4293-b937-0e82402f49bc",
   "metadata": {},
   "source": [
    "## Copy Data for Modification"
   ]
  },
  {
   "cell_type": "markdown",
   "id": "cb7e7869-a991-4912-afad-bafe197c7018",
   "metadata": {},
   "source": [
    "Pandas `copy()` function is used to create a copy of the Pandas object. Variables are also used to generate a copy of the object. Still, variables are just pointer to an object, and any change in new data will also change the previous data. For example:"
   ]
  },
  {
   "cell_type": "code",
   "execution_count": 2,
   "id": "888c0d46-5029-4de6-9b72-2f460d9144cf",
   "metadata": {},
   "outputs": [
    {
     "data": {
      "text/plain": [
       "0    a\n",
       "1    b\n",
       "2    c\n",
       "3    d\n",
       "dtype: object"
      ]
     },
     "execution_count": 2,
     "metadata": {},
     "output_type": "execute_result"
    }
   ],
   "source": [
    "s = pd.Series(['a', 'b', 'c', 'd'])\n",
    "s"
   ]
  },
  {
   "cell_type": "code",
   "execution_count": 3,
   "id": "b17f4b44-54eb-40a4-996e-b4c589980c87",
   "metadata": {},
   "outputs": [],
   "source": [
    "# creating reference of series\n",
    "new_s = s"
   ]
  },
  {
   "cell_type": "code",
   "execution_count": 4,
   "id": "cbeed2f0-4900-4fb9-9b03-ccad2fd87e55",
   "metadata": {},
   "outputs": [],
   "source": [
    "new_s[1]='Changed value'"
   ]
  },
  {
   "cell_type": "code",
   "execution_count": 5,
   "id": "f791175e-2a2c-4720-8fad-cc434aa270ea",
   "metadata": {},
   "outputs": [
    {
     "data": {
      "text/plain": [
       "0                a\n",
       "1    Changed value\n",
       "2                c\n",
       "3                d\n",
       "dtype: object"
      ]
     },
     "execution_count": 5,
     "metadata": {},
     "output_type": "execute_result"
    }
   ],
   "source": [
    "new_s"
   ]
  },
  {
   "cell_type": "code",
   "execution_count": 6,
   "id": "24707e0b-463d-4990-97ad-f59a5b604ff0",
   "metadata": {
    "tags": []
   },
   "outputs": [
    {
     "data": {
      "text/plain": [
       "0                a\n",
       "1    Changed value\n",
       "2                c\n",
       "3                d\n",
       "dtype: object"
      ]
     },
     "execution_count": 6,
     "metadata": {},
     "output_type": "execute_result"
    }
   ],
   "source": [
    "s"
   ]
  },
  {
   "cell_type": "markdown",
   "id": "a5aa3065-7dd7-4d0d-a4dc-9e2474404659",
   "metadata": {},
   "source": [
    "To copy Pandas DataFrame, use the `copy()` method. The `DataFrame.copy()` method makes a copy of the provided object’s indices and data. The `copy()` method accepts one parameter called deep, and it returns the `Series` or `DataFrame` that matches the caller."
   ]
  },
  {
   "cell_type": "code",
   "execution_count": 7,
   "id": "fc9256f3-b243-435b-bfcd-86fbe11afb5e",
   "metadata": {
    "tags": []
   },
   "outputs": [
    {
     "data": {
      "text/plain": [
       "0    a\n",
       "1    b\n",
       "2    c\n",
       "3    d\n",
       "dtype: object"
      ]
     },
     "execution_count": 7,
     "metadata": {},
     "output_type": "execute_result"
    }
   ],
   "source": [
    "s = pd.Series(['a', 'b', 'c', 'd'])\n",
    "s"
   ]
  },
  {
   "cell_type": "code",
   "execution_count": 8,
   "id": "728d94c9-2468-44fb-bc99-62629e19a964",
   "metadata": {
    "tags": []
   },
   "outputs": [],
   "source": [
    "new_s = s.copy()"
   ]
  },
  {
   "cell_type": "code",
   "execution_count": 9,
   "id": "d4ae7d29-b77c-44e4-8564-280b9d87cc64",
   "metadata": {
    "tags": []
   },
   "outputs": [],
   "source": [
    "new_s[1] = 'Changed value'"
   ]
  },
  {
   "cell_type": "code",
   "execution_count": 10,
   "id": "7975b5f3-9b3b-4de8-a24f-3e0f055946c2",
   "metadata": {
    "tags": []
   },
   "outputs": [
    {
     "data": {
      "text/plain": [
       "0                a\n",
       "1    Changed value\n",
       "2                c\n",
       "3                d\n",
       "dtype: object"
      ]
     },
     "execution_count": 10,
     "metadata": {},
     "output_type": "execute_result"
    }
   ],
   "source": [
    "new_s"
   ]
  },
  {
   "cell_type": "code",
   "execution_count": 11,
   "id": "3c11dcd8-8794-4512-b625-03606f3e6e3d",
   "metadata": {
    "tags": []
   },
   "outputs": [
    {
     "data": {
      "text/plain": [
       "0    a\n",
       "1    b\n",
       "2    c\n",
       "3    d\n",
       "dtype: object"
      ]
     },
     "execution_count": 11,
     "metadata": {},
     "output_type": "execute_result"
    }
   ],
   "source": [
    "s"
   ]
  },
  {
   "cell_type": "markdown",
   "id": "b09761e1-49d4-4f6e-bf42-b40115ef3a31",
   "metadata": {},
   "source": [
    "When `deep=False`, the new object will be generated without copying the calling object’s data or index (only references to the data and Index are copied). Any modifications to the data of the original will be followed in the shallow copy (and vice versa)."
   ]
  },
  {
   "cell_type": "markdown",
   "id": "442f1acc-84b2-4f7a-8a84-07eff924eb82",
   "metadata": {},
   "source": [
    "# <center><div style=\"width: 370px;\"> ![Panel Data](pictures/shallowcopy.jpg)"
   ]
  },
  {
   "cell_type": "markdown",
   "id": "67f0f116-14b9-40a1-816e-b454e09b1a75",
   "metadata": {},
   "source": [
    "When `deep=False`, the new object will be generated without copying the calling object’s data or index (only references to the data and Index are copied). Any modifications to the data of the original will be followed in the shallow copy (and vice versa)."
   ]
  },
  {
   "cell_type": "markdown",
   "id": "3eeb8fd4-d456-41b5-9432-ae6aef3538e6",
   "metadata": {},
   "source": [
    "# <center><div style=\"width: 370px;\"> ![Panel Data](pictures/deepcopy.jpg)"
   ]
  },
  {
   "cell_type": "markdown",
   "id": "591a92f9-d9af-4dc9-bb73-28a5d674a22d",
   "metadata": {},
   "source": [
    "You may be wondering if shallow copy doesn't copy the data, what is the difference between shallow copy and direct assignment? Let's explore it with an example."
   ]
  },
  {
   "cell_type": "code",
   "execution_count": 12,
   "id": "024fc980-c00e-4675-8fa3-974df23e1ad4",
   "metadata": {
    "tags": []
   },
   "outputs": [
    {
     "data": {
      "text/html": [
       "<div>\n",
       "<style scoped>\n",
       "    .dataframe tbody tr th:only-of-type {\n",
       "        vertical-align: middle;\n",
       "    }\n",
       "\n",
       "    .dataframe tbody tr th {\n",
       "        vertical-align: top;\n",
       "    }\n",
       "\n",
       "    .dataframe thead th {\n",
       "        text-align: right;\n",
       "    }\n",
       "</style>\n",
       "<table border=\"1\" class=\"dataframe\">\n",
       "  <thead>\n",
       "    <tr style=\"text-align: right;\">\n",
       "      <th></th>\n",
       "      <th>int</th>\n",
       "      <th>string</th>\n",
       "    </tr>\n",
       "  </thead>\n",
       "  <tbody>\n",
       "    <tr>\n",
       "      <th>0</th>\n",
       "      <td>1</td>\n",
       "      <td>a</td>\n",
       "    </tr>\n",
       "    <tr>\n",
       "      <th>1</th>\n",
       "      <td>2</td>\n",
       "      <td>b</td>\n",
       "    </tr>\n",
       "  </tbody>\n",
       "</table>\n",
       "</div>"
      ],
      "text/plain": [
       "   int string\n",
       "0    1      a\n",
       "1    2      b"
      ]
     },
     "execution_count": 12,
     "metadata": {},
     "output_type": "execute_result"
    }
   ],
   "source": [
    "df = pd.DataFrame(\n",
    "    [[1, 'a'], [2, 'b']],\n",
    "    columns=['int', 'string']\n",
    ")\n",
    "\n",
    "df"
   ]
  },
  {
   "cell_type": "code",
   "execution_count": 13,
   "id": "601f7363-02b7-455d-8bf2-730b747549ae",
   "metadata": {},
   "outputs": [],
   "source": [
    "new_df = df"
   ]
  },
  {
   "cell_type": "code",
   "execution_count": 14,
   "id": "e5adcf58-f16f-4aeb-a3c2-bbcfda85aa2f",
   "metadata": {},
   "outputs": [],
   "source": [
    "new_df['new_column'] = 0"
   ]
  },
  {
   "cell_type": "code",
   "execution_count": 15,
   "id": "47074bb3-1bf2-49db-a5b6-e39076a908f6",
   "metadata": {},
   "outputs": [
    {
     "data": {
      "text/html": [
       "<div>\n",
       "<style scoped>\n",
       "    .dataframe tbody tr th:only-of-type {\n",
       "        vertical-align: middle;\n",
       "    }\n",
       "\n",
       "    .dataframe tbody tr th {\n",
       "        vertical-align: top;\n",
       "    }\n",
       "\n",
       "    .dataframe thead th {\n",
       "        text-align: right;\n",
       "    }\n",
       "</style>\n",
       "<table border=\"1\" class=\"dataframe\">\n",
       "  <thead>\n",
       "    <tr style=\"text-align: right;\">\n",
       "      <th></th>\n",
       "      <th>int</th>\n",
       "      <th>string</th>\n",
       "      <th>new_column</th>\n",
       "    </tr>\n",
       "  </thead>\n",
       "  <tbody>\n",
       "    <tr>\n",
       "      <th>0</th>\n",
       "      <td>1</td>\n",
       "      <td>a</td>\n",
       "      <td>0</td>\n",
       "    </tr>\n",
       "    <tr>\n",
       "      <th>1</th>\n",
       "      <td>2</td>\n",
       "      <td>b</td>\n",
       "      <td>0</td>\n",
       "    </tr>\n",
       "  </tbody>\n",
       "</table>\n",
       "</div>"
      ],
      "text/plain": [
       "   int string  new_column\n",
       "0    1      a           0\n",
       "1    2      b           0"
      ]
     },
     "execution_count": 15,
     "metadata": {},
     "output_type": "execute_result"
    }
   ],
   "source": [
    "new_df"
   ]
  },
  {
   "cell_type": "code",
   "execution_count": 16,
   "id": "be860ad4-6c6d-42c4-9112-8984b6720560",
   "metadata": {},
   "outputs": [
    {
     "data": {
      "text/html": [
       "<div>\n",
       "<style scoped>\n",
       "    .dataframe tbody tr th:only-of-type {\n",
       "        vertical-align: middle;\n",
       "    }\n",
       "\n",
       "    .dataframe tbody tr th {\n",
       "        vertical-align: top;\n",
       "    }\n",
       "\n",
       "    .dataframe thead th {\n",
       "        text-align: right;\n",
       "    }\n",
       "</style>\n",
       "<table border=\"1\" class=\"dataframe\">\n",
       "  <thead>\n",
       "    <tr style=\"text-align: right;\">\n",
       "      <th></th>\n",
       "      <th>int</th>\n",
       "      <th>string</th>\n",
       "      <th>new_column</th>\n",
       "    </tr>\n",
       "  </thead>\n",
       "  <tbody>\n",
       "    <tr>\n",
       "      <th>0</th>\n",
       "      <td>1</td>\n",
       "      <td>a</td>\n",
       "      <td>0</td>\n",
       "    </tr>\n",
       "    <tr>\n",
       "      <th>1</th>\n",
       "      <td>2</td>\n",
       "      <td>b</td>\n",
       "      <td>0</td>\n",
       "    </tr>\n",
       "  </tbody>\n",
       "</table>\n",
       "</div>"
      ],
      "text/plain": [
       "   int string  new_column\n",
       "0    1      a           0\n",
       "1    2      b           0"
      ]
     },
     "execution_count": 16,
     "metadata": {},
     "output_type": "execute_result"
    }
   ],
   "source": [
    "df"
   ]
  },
  {
   "cell_type": "code",
   "execution_count": 17,
   "id": "14cb75f3-1b3b-47ec-8992-b115df662b30",
   "metadata": {},
   "outputs": [
    {
     "data": {
      "text/plain": [
       "(True, True)"
      ]
     },
     "execution_count": 17,
     "metadata": {},
     "output_type": "execute_result"
    }
   ],
   "source": [
    "df.int is new_df.int, df.string is new_df.string"
   ]
  },
  {
   "cell_type": "code",
   "execution_count": 18,
   "id": "4e825ca5-2529-4947-974f-26762932b18d",
   "metadata": {},
   "outputs": [
    {
     "data": {
      "text/plain": [
       "True"
      ]
     },
     "execution_count": 18,
     "metadata": {},
     "output_type": "execute_result"
    }
   ],
   "source": [
    "df.index is new_df.index"
   ]
  },
  {
   "cell_type": "code",
   "execution_count": 20,
   "id": "cd417f88-f80b-494d-862a-d6d9e0e6a5e9",
   "metadata": {
    "tags": []
   },
   "outputs": [
    {
     "data": {
      "text/plain": [
       "True"
      ]
     },
     "execution_count": 20,
     "metadata": {},
     "output_type": "execute_result"
    }
   ],
   "source": [
    "df.new_column is new_df.new_column"
   ]
  },
  {
   "cell_type": "markdown",
   "id": "27b6f779-a54e-4eae-8059-7bebdeacb069",
   "metadata": {},
   "source": [
    "A simple assignment reflects the changes. Let's see shallow copy now:"
   ]
  },
  {
   "cell_type": "code",
   "execution_count": 21,
   "id": "ddeac650-a9d5-4f9d-9e02-bab66e9d1fc2",
   "metadata": {
    "tags": []
   },
   "outputs": [
    {
     "data": {
      "text/html": [
       "<div>\n",
       "<style scoped>\n",
       "    .dataframe tbody tr th:only-of-type {\n",
       "        vertical-align: middle;\n",
       "    }\n",
       "\n",
       "    .dataframe tbody tr th {\n",
       "        vertical-align: top;\n",
       "    }\n",
       "\n",
       "    .dataframe thead th {\n",
       "        text-align: right;\n",
       "    }\n",
       "</style>\n",
       "<table border=\"1\" class=\"dataframe\">\n",
       "  <thead>\n",
       "    <tr style=\"text-align: right;\">\n",
       "      <th></th>\n",
       "      <th>int</th>\n",
       "      <th>string</th>\n",
       "    </tr>\n",
       "  </thead>\n",
       "  <tbody>\n",
       "    <tr>\n",
       "      <th>0</th>\n",
       "      <td>1</td>\n",
       "      <td>a</td>\n",
       "    </tr>\n",
       "    <tr>\n",
       "      <th>1</th>\n",
       "      <td>2</td>\n",
       "      <td>b</td>\n",
       "    </tr>\n",
       "  </tbody>\n",
       "</table>\n",
       "</div>"
      ],
      "text/plain": [
       "   int string\n",
       "0    1      a\n",
       "1    2      b"
      ]
     },
     "execution_count": 21,
     "metadata": {},
     "output_type": "execute_result"
    }
   ],
   "source": [
    "df = pd.DataFrame(\n",
    "    [[1, 'a'], [2, 'b']],\n",
    "    columns=['int', 'string']\n",
    ")\n",
    "\n",
    "df"
   ]
  },
  {
   "cell_type": "code",
   "execution_count": 22,
   "id": "21440a0e-c127-4071-864a-a453f1f21ccf",
   "metadata": {
    "tags": []
   },
   "outputs": [],
   "source": [
    "new_df = df.copy(deep=False)"
   ]
  },
  {
   "cell_type": "code",
   "execution_count": 23,
   "id": "76750d63-a63a-4027-b719-7bdefe4af998",
   "metadata": {
    "tags": []
   },
   "outputs": [],
   "source": [
    "new_df['new_column'] = 0"
   ]
  },
  {
   "cell_type": "code",
   "execution_count": 24,
   "id": "bb6c52dd-d785-4cd4-b0ca-574b8f992aef",
   "metadata": {
    "tags": []
   },
   "outputs": [
    {
     "data": {
      "text/html": [
       "<div>\n",
       "<style scoped>\n",
       "    .dataframe tbody tr th:only-of-type {\n",
       "        vertical-align: middle;\n",
       "    }\n",
       "\n",
       "    .dataframe tbody tr th {\n",
       "        vertical-align: top;\n",
       "    }\n",
       "\n",
       "    .dataframe thead th {\n",
       "        text-align: right;\n",
       "    }\n",
       "</style>\n",
       "<table border=\"1\" class=\"dataframe\">\n",
       "  <thead>\n",
       "    <tr style=\"text-align: right;\">\n",
       "      <th></th>\n",
       "      <th>int</th>\n",
       "      <th>string</th>\n",
       "      <th>new_column</th>\n",
       "    </tr>\n",
       "  </thead>\n",
       "  <tbody>\n",
       "    <tr>\n",
       "      <th>0</th>\n",
       "      <td>1</td>\n",
       "      <td>a</td>\n",
       "      <td>0</td>\n",
       "    </tr>\n",
       "    <tr>\n",
       "      <th>1</th>\n",
       "      <td>2</td>\n",
       "      <td>b</td>\n",
       "      <td>0</td>\n",
       "    </tr>\n",
       "  </tbody>\n",
       "</table>\n",
       "</div>"
      ],
      "text/plain": [
       "   int string  new_column\n",
       "0    1      a           0\n",
       "1    2      b           0"
      ]
     },
     "execution_count": 24,
     "metadata": {},
     "output_type": "execute_result"
    }
   ],
   "source": [
    "new_df"
   ]
  },
  {
   "cell_type": "code",
   "execution_count": 25,
   "id": "994f3f62-bb23-4192-a22c-1d5bc2c008df",
   "metadata": {
    "tags": []
   },
   "outputs": [
    {
     "data": {
      "text/html": [
       "<div>\n",
       "<style scoped>\n",
       "    .dataframe tbody tr th:only-of-type {\n",
       "        vertical-align: middle;\n",
       "    }\n",
       "\n",
       "    .dataframe tbody tr th {\n",
       "        vertical-align: top;\n",
       "    }\n",
       "\n",
       "    .dataframe thead th {\n",
       "        text-align: right;\n",
       "    }\n",
       "</style>\n",
       "<table border=\"1\" class=\"dataframe\">\n",
       "  <thead>\n",
       "    <tr style=\"text-align: right;\">\n",
       "      <th></th>\n",
       "      <th>int</th>\n",
       "      <th>string</th>\n",
       "    </tr>\n",
       "  </thead>\n",
       "  <tbody>\n",
       "    <tr>\n",
       "      <th>0</th>\n",
       "      <td>1</td>\n",
       "      <td>a</td>\n",
       "    </tr>\n",
       "    <tr>\n",
       "      <th>1</th>\n",
       "      <td>2</td>\n",
       "      <td>b</td>\n",
       "    </tr>\n",
       "  </tbody>\n",
       "</table>\n",
       "</div>"
      ],
      "text/plain": [
       "   int string\n",
       "0    1      a\n",
       "1    2      b"
      ]
     },
     "execution_count": 25,
     "metadata": {},
     "output_type": "execute_result"
    }
   ],
   "source": [
    "df"
   ]
  },
  {
   "cell_type": "markdown",
   "id": "0840d943-5614-4bdb-bb73-087aaca4e711",
   "metadata": {},
   "source": [
    "As you can see, the new column is not added to the original dataframe as the reference to the dataframe has been copied. In general, a shallow copy allows you\n",
    "\n",
    "- Have access to frames data without copying it (memory optimization, etc.)\n",
    "- Modify frames structure without reflecting it to the original dataframe"
   ]
  },
  {
   "cell_type": "markdown",
   "id": "9b8adfe3-4c33-433a-8926-42ba944a4946",
   "metadata": {},
   "source": [
    "Of course, if you won't create a shallow copy, those changes to dataframe structure will reflect in the original one."
   ]
  },
  {
   "cell_type": "markdown",
   "id": "06839ca8-164f-4ffb-8e80-093f0fb4bb39",
   "metadata": {},
   "source": [
    "Note that the original data is still shared:"
   ]
  },
  {
   "cell_type": "code",
   "execution_count": 26,
   "id": "511c78e3-2101-4b34-9481-3ca2c1de2b84",
   "metadata": {
    "tags": []
   },
   "outputs": [
    {
     "data": {
      "text/plain": [
       "True"
      ]
     },
     "execution_count": 26,
     "metadata": {},
     "output_type": "execute_result"
    }
   ],
   "source": [
    "np.may_share_memory(df.string, new_df.string)"
   ]
  },
  {
   "cell_type": "code",
   "execution_count": 27,
   "id": "bdd9a284-7c3b-468b-b626-2b7395606a3f",
   "metadata": {
    "tags": []
   },
   "outputs": [
    {
     "data": {
      "text/plain": [
       "True"
      ]
     },
     "execution_count": 27,
     "metadata": {},
     "output_type": "execute_result"
    }
   ],
   "source": [
    "np.may_share_memory(df.int, new_df.int)"
   ]
  },
  {
   "cell_type": "code",
   "execution_count": 28,
   "id": "8efc1c99-3bcd-4539-9847-a48ea63d8318",
   "metadata": {
    "tags": []
   },
   "outputs": [
    {
     "data": {
      "text/plain": [
       "True"
      ]
     },
     "execution_count": 28,
     "metadata": {},
     "output_type": "execute_result"
    }
   ],
   "source": [
    "np.may_share_memory(df.index, new_df.index)"
   ]
  },
  {
   "cell_type": "code",
   "execution_count": 29,
   "id": "36106931-ce55-4f5c-ad1c-3e50a4bf144d",
   "metadata": {
    "tags": []
   },
   "outputs": [],
   "source": [
    "new_df.at[0, 'string'] = 'new value'"
   ]
  },
  {
   "cell_type": "code",
   "execution_count": 30,
   "id": "4acf130a-6f07-4649-816c-c14f0792956b",
   "metadata": {
    "tags": []
   },
   "outputs": [
    {
     "data": {
      "text/html": [
       "<div>\n",
       "<style scoped>\n",
       "    .dataframe tbody tr th:only-of-type {\n",
       "        vertical-align: middle;\n",
       "    }\n",
       "\n",
       "    .dataframe tbody tr th {\n",
       "        vertical-align: top;\n",
       "    }\n",
       "\n",
       "    .dataframe thead th {\n",
       "        text-align: right;\n",
       "    }\n",
       "</style>\n",
       "<table border=\"1\" class=\"dataframe\">\n",
       "  <thead>\n",
       "    <tr style=\"text-align: right;\">\n",
       "      <th></th>\n",
       "      <th>int</th>\n",
       "      <th>string</th>\n",
       "      <th>new_column</th>\n",
       "    </tr>\n",
       "  </thead>\n",
       "  <tbody>\n",
       "    <tr>\n",
       "      <th>0</th>\n",
       "      <td>1</td>\n",
       "      <td>new value</td>\n",
       "      <td>0</td>\n",
       "    </tr>\n",
       "    <tr>\n",
       "      <th>1</th>\n",
       "      <td>2</td>\n",
       "      <td>b</td>\n",
       "      <td>0</td>\n",
       "    </tr>\n",
       "  </tbody>\n",
       "</table>\n",
       "</div>"
      ],
      "text/plain": [
       "   int     string  new_column\n",
       "0    1  new value           0\n",
       "1    2          b           0"
      ]
     },
     "execution_count": 30,
     "metadata": {},
     "output_type": "execute_result"
    }
   ],
   "source": [
    "new_df"
   ]
  },
  {
   "cell_type": "code",
   "execution_count": 31,
   "id": "8c215370-1f09-4fb0-9d47-4bb49715fad5",
   "metadata": {
    "tags": []
   },
   "outputs": [
    {
     "data": {
      "text/html": [
       "<div>\n",
       "<style scoped>\n",
       "    .dataframe tbody tr th:only-of-type {\n",
       "        vertical-align: middle;\n",
       "    }\n",
       "\n",
       "    .dataframe tbody tr th {\n",
       "        vertical-align: top;\n",
       "    }\n",
       "\n",
       "    .dataframe thead th {\n",
       "        text-align: right;\n",
       "    }\n",
       "</style>\n",
       "<table border=\"1\" class=\"dataframe\">\n",
       "  <thead>\n",
       "    <tr style=\"text-align: right;\">\n",
       "      <th></th>\n",
       "      <th>int</th>\n",
       "      <th>string</th>\n",
       "    </tr>\n",
       "  </thead>\n",
       "  <tbody>\n",
       "    <tr>\n",
       "      <th>0</th>\n",
       "      <td>1</td>\n",
       "      <td>new value</td>\n",
       "    </tr>\n",
       "    <tr>\n",
       "      <th>1</th>\n",
       "      <td>2</td>\n",
       "      <td>b</td>\n",
       "    </tr>\n",
       "  </tbody>\n",
       "</table>\n",
       "</div>"
      ],
      "text/plain": [
       "   int     string\n",
       "0    1  new value\n",
       "1    2          b"
      ]
     },
     "execution_count": 31,
     "metadata": {},
     "output_type": "execute_result"
    }
   ],
   "source": [
    "df"
   ]
  },
  {
   "cell_type": "code",
   "execution_count": null,
   "id": "3da82454-9592-4732-afe3-79b00258f821",
   "metadata": {},
   "outputs": [],
   "source": []
  }
 ],
 "metadata": {
  "kernelspec": {
   "display_name": "Python 3 (ipykernel)",
   "language": "python",
   "name": "python3"
  },
  "language_info": {
   "codemirror_mode": {
    "name": "ipython",
    "version": 3
   },
   "file_extension": ".py",
   "mimetype": "text/x-python",
   "name": "python",
   "nbconvert_exporter": "python",
   "pygments_lexer": "ipython3",
   "version": "3.11.4"
  }
 },
 "nbformat": 4,
 "nbformat_minor": 5
}
