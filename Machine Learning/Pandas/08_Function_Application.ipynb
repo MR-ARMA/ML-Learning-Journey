{
 "cells": [
  {
   "cell_type": "markdown",
   "id": "3e5609f1-c813-48fd-aa4a-ee9690d1a283",
   "metadata": {},
   "source": [
    "# <center><div style=\"width: 370px;\"> ![Panel Data](pictures/Panel_Data.jpg)"
   ]
  },
  {
   "cell_type": "markdown",
   "id": "38fa30b0-0052-4f09-8b53-fdcf82a7a7ff",
   "metadata": {},
   "source": [
    "# <center> Function Application"
   ]
  },
  {
   "cell_type": "code",
   "execution_count": 1,
   "id": "42584b1c-6c39-4f57-b9ee-ffc2334130e1",
   "metadata": {
    "tags": []
   },
   "outputs": [],
   "source": [
    "import numpy as np\n",
    "import pandas as pd"
   ]
  },
  {
   "cell_type": "markdown",
   "id": "7d1bd96f-8a13-40c0-8781-b678ecd3f6f6",
   "metadata": {},
   "source": [
    "To apply your own or another library’s functions to pandas objects,\n",
    "you should be aware of the three methods below. The appropriate\n",
    "method to use depends on whether your function expects to operate\n",
    "on an entire `DataFrame` or `Series`, row- or column-wise, or elementwise.\n",
    "\n",
    "- Tablewise Function Application: `pipe()`\n",
    "- Row or Column-wise Function Application: `apply()`\n",
    "- Aggregation API: `agg()` and `transform()`\n",
    "- Applying Elementwise Functions: `applymap()`"
   ]
  },
  {
   "cell_type": "markdown",
   "id": "dfc95502-3aa9-4dd8-9dde-c53f12257e26",
   "metadata": {},
   "source": [
    "## Tablewise function application"
   ]
  },
  {
   "cell_type": "markdown",
   "id": "bf8b1489-3404-4ab1-8c4f-28a5836ea893",
   "metadata": {},
   "source": [
    "`DataFrames` and `Series` can be passed into functions.\n",
    "However, if the function needs to be called in a chain, consider using the [`pipe()`](../reference/api/pandas.DataFrame.pipe.html#pandas.DataFrame.pipe \"pandas.DataFrame.pipe\") method."
   ]
  },
  {
   "cell_type": "markdown",
   "id": "94c33776-0425-44fc-9f62-352c2234bf86",
   "metadata": {},
   "source": [
    "First some setup:"
   ]
  },
  {
   "cell_type": "code",
   "execution_count": 2,
   "id": "45643bc2-2b14-4707-821d-65d1cbb0f751",
   "metadata": {
    "tags": []
   },
   "outputs": [],
   "source": [
    "def extract_city_name(df):\n",
    "    \"\"\"\n",
    " Chicago, IL -> Chicago for city_name column\n",
    " \"\"\"\n",
    "    df[\"city_name\"] = df[\"city_and_code\"].str.split(\",\").str.get(0)\n",
    "    return df"
   ]
  },
  {
   "cell_type": "code",
   "execution_count": 3,
   "id": "7edd185d-3159-4c8e-90bb-d83a045ec259",
   "metadata": {
    "tags": []
   },
   "outputs": [],
   "source": [
    "def add_country_name(df, country_name=None):\n",
    "    \"\"\"\n",
    " Chicago -> Chicago-US for city_name column\n",
    " \"\"\"\n",
    "    col = \"city_name\"\n",
    "    df[\"city_and_country\"] = df[col] + ' - ' + country_name\n",
    "    return df"
   ]
  },
  {
   "cell_type": "code",
   "execution_count": 4,
   "id": "a8ac6025-0274-4394-a759-ebf8d2778ac4",
   "metadata": {
    "tags": []
   },
   "outputs": [],
   "source": [
    "df_p = pd.DataFrame({\"city_and_code\": [\"Chicago, IL\"]})"
   ]
  },
  {
   "cell_type": "code",
   "execution_count": 5,
   "id": "87a15ba7-4c88-4f13-a8ca-dfdb051dcda3",
   "metadata": {
    "tags": []
   },
   "outputs": [
    {
     "data": {
      "text/html": [
       "<div>\n",
       "<style scoped>\n",
       "    .dataframe tbody tr th:only-of-type {\n",
       "        vertical-align: middle;\n",
       "    }\n",
       "\n",
       "    .dataframe tbody tr th {\n",
       "        vertical-align: top;\n",
       "    }\n",
       "\n",
       "    .dataframe thead th {\n",
       "        text-align: right;\n",
       "    }\n",
       "</style>\n",
       "<table border=\"1\" class=\"dataframe\">\n",
       "  <thead>\n",
       "    <tr style=\"text-align: right;\">\n",
       "      <th></th>\n",
       "      <th>city_and_code</th>\n",
       "    </tr>\n",
       "  </thead>\n",
       "  <tbody>\n",
       "    <tr>\n",
       "      <th>0</th>\n",
       "      <td>Chicago, IL</td>\n",
       "    </tr>\n",
       "  </tbody>\n",
       "</table>\n",
       "</div>"
      ],
      "text/plain": [
       "  city_and_code\n",
       "0   Chicago, IL"
      ]
     },
     "execution_count": 5,
     "metadata": {},
     "output_type": "execute_result"
    }
   ],
   "source": [
    "df_p"
   ]
  },
  {
   "cell_type": "markdown",
   "id": "bfa30664-706c-44aa-8669-acf489f5aaed",
   "metadata": {},
   "source": [
    "`extract_city_name` and `add_country_name` are functions taking and returning `DataFrames`."
   ]
  },
  {
   "cell_type": "markdown",
   "id": "80255a70-faee-44ce-b141-be27510625e5",
   "metadata": {
    "tags": []
   },
   "source": [
    "Now compare the following:"
   ]
  },
  {
   "cell_type": "code",
   "execution_count": 7,
   "id": "87072d0f-cac4-4bb4-ba3f-21624fada08d",
   "metadata": {
    "tags": []
   },
   "outputs": [
    {
     "data": {
      "text/html": [
       "<div>\n",
       "<style scoped>\n",
       "    .dataframe tbody tr th:only-of-type {\n",
       "        vertical-align: middle;\n",
       "    }\n",
       "\n",
       "    .dataframe tbody tr th {\n",
       "        vertical-align: top;\n",
       "    }\n",
       "\n",
       "    .dataframe thead th {\n",
       "        text-align: right;\n",
       "    }\n",
       "</style>\n",
       "<table border=\"1\" class=\"dataframe\">\n",
       "  <thead>\n",
       "    <tr style=\"text-align: right;\">\n",
       "      <th></th>\n",
       "      <th>city_and_code</th>\n",
       "      <th>city_name</th>\n",
       "      <th>city_and_country</th>\n",
       "    </tr>\n",
       "  </thead>\n",
       "  <tbody>\n",
       "    <tr>\n",
       "      <th>0</th>\n",
       "      <td>Chicago, IL</td>\n",
       "      <td>Chicago</td>\n",
       "      <td>Chicago - US</td>\n",
       "    </tr>\n",
       "  </tbody>\n",
       "</table>\n",
       "</div>"
      ],
      "text/plain": [
       "  city_and_code city_name city_and_country\n",
       "0   Chicago, IL   Chicago     Chicago - US"
      ]
     },
     "execution_count": 7,
     "metadata": {},
     "output_type": "execute_result"
    }
   ],
   "source": [
    "add_country_name(extract_city_name(df_p), country_name=\"US\")"
   ]
  },
  {
   "cell_type": "markdown",
   "id": "812a8e1c-e92f-4f00-a2af-1cb1f2487a34",
   "metadata": {},
   "source": [
    "Is equivalent to:"
   ]
  },
  {
   "cell_type": "code",
   "execution_count": 8,
   "id": "dcd9f6b7-3e4e-45ce-8756-626ced1e33ea",
   "metadata": {
    "tags": []
   },
   "outputs": [
    {
     "data": {
      "text/html": [
       "<div>\n",
       "<style scoped>\n",
       "    .dataframe tbody tr th:only-of-type {\n",
       "        vertical-align: middle;\n",
       "    }\n",
       "\n",
       "    .dataframe tbody tr th {\n",
       "        vertical-align: top;\n",
       "    }\n",
       "\n",
       "    .dataframe thead th {\n",
       "        text-align: right;\n",
       "    }\n",
       "</style>\n",
       "<table border=\"1\" class=\"dataframe\">\n",
       "  <thead>\n",
       "    <tr style=\"text-align: right;\">\n",
       "      <th></th>\n",
       "      <th>city_and_code</th>\n",
       "      <th>city_name</th>\n",
       "      <th>city_and_country</th>\n",
       "    </tr>\n",
       "  </thead>\n",
       "  <tbody>\n",
       "    <tr>\n",
       "      <th>0</th>\n",
       "      <td>Chicago, IL</td>\n",
       "      <td>Chicago</td>\n",
       "      <td>Chicago - US</td>\n",
       "    </tr>\n",
       "  </tbody>\n",
       "</table>\n",
       "</div>"
      ],
      "text/plain": [
       "  city_and_code city_name city_and_country\n",
       "0   Chicago, IL   Chicago     Chicago - US"
      ]
     },
     "execution_count": 8,
     "metadata": {},
     "output_type": "execute_result"
    }
   ],
   "source": [
    "df_p.pipe(extract_city_name).pipe(add_country_name, country_name=\"US\")"
   ]
  },
  {
   "cell_type": "markdown",
   "id": "fbb9cc86-6b2d-49ab-9b17-c828e0c671ce",
   "metadata": {},
   "source": [
    "pandas encourages the second style, which is known as method chaining.\n",
    "`pipe` makes it easy to use your own or another library’s functions\n",
    "in method chains, alongside pandas’ methods."
   ]
  },
  {
   "cell_type": "markdown",
   "id": "54052a01-4933-439c-9c4a-5447b9d85005",
   "metadata": {},
   "source": [
    "In the example above, the functions `extract_city_name` and `add_country_name` each expected a `DataFrame` as the first positional argument.\n",
    "What if the function you wish to apply takes its data as, say, the second argument?\n",
    "In this case, provide `pipe` with a tuple of `(callable, data_keyword)`.\n",
    "`.pipe` will route the `DataFrame` to the argument specified in the tuple."
   ]
  },
  {
   "cell_type": "markdown",
   "id": "539f8ec7-73a6-49ac-9671-acafd707a47a",
   "metadata": {},
   "source": [
    "The pipe method is inspired by unix pipes and more recently [dplyr](https://github.com/tidyverse/dplyr) and [magrittr](https://github.com/tidyverse/magrittr), which\n",
    "have introduced the popular `(%>%)` (read pipe) operator for [R](https://www.r-project.org).\n",
    "The implementation of `pipe` here is quite clean and feels right at home in Python.\n",
    "We encourage you to view the source code of [`pipe()`](../reference/api/pandas.DataFrame.pipe.html#pandas.DataFrame.pipe \"pandas.DataFrame.pipe\")."
   ]
  },
  {
   "cell_type": "markdown",
   "id": "bc6330dc-de17-4643-9098-1ca9236ebeb0",
   "metadata": {},
   "source": [
    "## Row or column-wise function application"
   ]
  },
  {
   "cell_type": "markdown",
   "id": "75ed82e4-dda8-4fb3-aa61-edeaf07a6805",
   "metadata": {},
   "source": [
    "Arbitrary functions can be applied along the axes of a DataFrame\n",
    "using the [`apply()`](../reference/api/pandas.DataFrame.apply.html#pandas.DataFrame.apply \"pandas.DataFrame.apply\") method, which, like the descriptive\n",
    "statistics methods, takes an optional `axis` argument:"
   ]
  },
  {
   "cell_type": "code",
   "execution_count": 13,
   "id": "f60a8d57-ea08-4402-8616-18aea8e18568",
   "metadata": {
    "tags": []
   },
   "outputs": [],
   "source": [
    "df = pd.DataFrame(\n",
    "    {\n",
    "        \"one\": pd.Series(np.random.randn(3), index=list('abc')),\n",
    "        \"two\": pd.Series(np.random.randn(4), index=list('abcd')),\n",
    "        \"three\": pd.Series(np.random.randn(3), index=list('bcd'))\n",
    "    }\n",
    ")"
   ]
  },
  {
   "cell_type": "code",
   "execution_count": 14,
   "id": "7593f6ab-3a25-4362-9618-3d8757d0cf98",
   "metadata": {
    "tags": []
   },
   "outputs": [
    {
     "data": {
      "text/html": [
       "<div>\n",
       "<style scoped>\n",
       "    .dataframe tbody tr th:only-of-type {\n",
       "        vertical-align: middle;\n",
       "    }\n",
       "\n",
       "    .dataframe tbody tr th {\n",
       "        vertical-align: top;\n",
       "    }\n",
       "\n",
       "    .dataframe thead th {\n",
       "        text-align: right;\n",
       "    }\n",
       "</style>\n",
       "<table border=\"1\" class=\"dataframe\">\n",
       "  <thead>\n",
       "    <tr style=\"text-align: right;\">\n",
       "      <th></th>\n",
       "      <th>one</th>\n",
       "      <th>two</th>\n",
       "      <th>three</th>\n",
       "    </tr>\n",
       "  </thead>\n",
       "  <tbody>\n",
       "    <tr>\n",
       "      <th>a</th>\n",
       "      <td>2.362582</td>\n",
       "      <td>0.198185</td>\n",
       "      <td>NaN</td>\n",
       "    </tr>\n",
       "    <tr>\n",
       "      <th>b</th>\n",
       "      <td>0.396149</td>\n",
       "      <td>0.643059</td>\n",
       "      <td>-1.193403</td>\n",
       "    </tr>\n",
       "    <tr>\n",
       "      <th>c</th>\n",
       "      <td>0.823140</td>\n",
       "      <td>1.321589</td>\n",
       "      <td>-0.622044</td>\n",
       "    </tr>\n",
       "    <tr>\n",
       "      <th>d</th>\n",
       "      <td>NaN</td>\n",
       "      <td>0.489348</td>\n",
       "      <td>0.538136</td>\n",
       "    </tr>\n",
       "  </tbody>\n",
       "</table>\n",
       "</div>"
      ],
      "text/plain": [
       "        one       two     three\n",
       "a  2.362582  0.198185       NaN\n",
       "b  0.396149  0.643059 -1.193403\n",
       "c  0.823140  1.321589 -0.622044\n",
       "d       NaN  0.489348  0.538136"
      ]
     },
     "execution_count": 14,
     "metadata": {},
     "output_type": "execute_result"
    }
   ],
   "source": [
    "df"
   ]
  },
  {
   "cell_type": "code",
   "execution_count": 16,
   "id": "4da6d2cb-4ff6-4ea8-9749-5b0956fb5b4b",
   "metadata": {
    "tags": []
   },
   "outputs": [
    {
     "data": {
      "text/plain": [
       "one      1.193957\n",
       "two      0.663045\n",
       "three   -0.425771\n",
       "dtype: float64"
      ]
     },
     "execution_count": 16,
     "metadata": {},
     "output_type": "execute_result"
    }
   ],
   "source": [
    "df.apply(np.mean)"
   ]
  },
  {
   "cell_type": "code",
   "execution_count": 17,
   "id": "ca481e49-e6fe-4fd5-b48a-61ba4efd3f08",
   "metadata": {
    "tags": []
   },
   "outputs": [
    {
     "data": {
      "text/plain": [
       "a    1.280384\n",
       "b   -0.051398\n",
       "c    0.507562\n",
       "d    0.513742\n",
       "dtype: float64"
      ]
     },
     "execution_count": 17,
     "metadata": {},
     "output_type": "execute_result"
    }
   ],
   "source": [
    "df.apply(np.mean, axis=1)"
   ]
  },
  {
   "cell_type": "code",
   "execution_count": 18,
   "id": "96ec9fb4-0b22-47ec-bbad-1ec67f507332",
   "metadata": {
    "tags": []
   },
   "outputs": [
    {
     "data": {
      "text/plain": [
       "one      1.966434\n",
       "two      1.123404\n",
       "three    1.731538\n",
       "dtype: float64"
      ]
     },
     "execution_count": 18,
     "metadata": {},
     "output_type": "execute_result"
    }
   ],
   "source": [
    "df.apply(lambda x: x.max() - x.min())"
   ]
  },
  {
   "cell_type": "code",
   "execution_count": 19,
   "id": "3f26c540-17bf-4ff4-91bf-79b261e7f5ff",
   "metadata": {
    "tags": []
   },
   "outputs": [
    {
     "data": {
      "text/html": [
       "<div>\n",
       "<style scoped>\n",
       "    .dataframe tbody tr th:only-of-type {\n",
       "        vertical-align: middle;\n",
       "    }\n",
       "\n",
       "    .dataframe tbody tr th {\n",
       "        vertical-align: top;\n",
       "    }\n",
       "\n",
       "    .dataframe thead th {\n",
       "        text-align: right;\n",
       "    }\n",
       "</style>\n",
       "<table border=\"1\" class=\"dataframe\">\n",
       "  <thead>\n",
       "    <tr style=\"text-align: right;\">\n",
       "      <th></th>\n",
       "      <th>one</th>\n",
       "      <th>two</th>\n",
       "      <th>three</th>\n",
       "    </tr>\n",
       "  </thead>\n",
       "  <tbody>\n",
       "    <tr>\n",
       "      <th>a</th>\n",
       "      <td>2.362582</td>\n",
       "      <td>0.198185</td>\n",
       "      <td>NaN</td>\n",
       "    </tr>\n",
       "    <tr>\n",
       "      <th>b</th>\n",
       "      <td>2.758731</td>\n",
       "      <td>0.841245</td>\n",
       "      <td>-1.193403</td>\n",
       "    </tr>\n",
       "    <tr>\n",
       "      <th>c</th>\n",
       "      <td>3.581871</td>\n",
       "      <td>2.162834</td>\n",
       "      <td>-1.815447</td>\n",
       "    </tr>\n",
       "    <tr>\n",
       "      <th>d</th>\n",
       "      <td>NaN</td>\n",
       "      <td>2.652182</td>\n",
       "      <td>-1.277312</td>\n",
       "    </tr>\n",
       "  </tbody>\n",
       "</table>\n",
       "</div>"
      ],
      "text/plain": [
       "        one       two     three\n",
       "a  2.362582  0.198185       NaN\n",
       "b  2.758731  0.841245 -1.193403\n",
       "c  3.581871  2.162834 -1.815447\n",
       "d       NaN  2.652182 -1.277312"
      ]
     },
     "execution_count": 19,
     "metadata": {},
     "output_type": "execute_result"
    }
   ],
   "source": [
    "df.apply(np.cumsum)"
   ]
  },
  {
   "cell_type": "code",
   "execution_count": 21,
   "id": "a43ef047-aea7-456e-b982-3f2054dcc7e0",
   "metadata": {
    "tags": []
   },
   "outputs": [
    {
     "data": {
      "text/html": [
       "<div>\n",
       "<style scoped>\n",
       "    .dataframe tbody tr th:only-of-type {\n",
       "        vertical-align: middle;\n",
       "    }\n",
       "\n",
       "    .dataframe tbody tr th {\n",
       "        vertical-align: top;\n",
       "    }\n",
       "\n",
       "    .dataframe thead th {\n",
       "        text-align: right;\n",
       "    }\n",
       "</style>\n",
       "<table border=\"1\" class=\"dataframe\">\n",
       "  <thead>\n",
       "    <tr style=\"text-align: right;\">\n",
       "      <th></th>\n",
       "      <th>one</th>\n",
       "      <th>two</th>\n",
       "      <th>three</th>\n",
       "    </tr>\n",
       "  </thead>\n",
       "  <tbody>\n",
       "    <tr>\n",
       "      <th>a</th>\n",
       "      <td>10.618333</td>\n",
       "      <td>1.219188</td>\n",
       "      <td>NaN</td>\n",
       "    </tr>\n",
       "    <tr>\n",
       "      <th>b</th>\n",
       "      <td>1.486090</td>\n",
       "      <td>1.902292</td>\n",
       "      <td>0.303188</td>\n",
       "    </tr>\n",
       "    <tr>\n",
       "      <th>c</th>\n",
       "      <td>2.277640</td>\n",
       "      <td>3.749375</td>\n",
       "      <td>0.536846</td>\n",
       "    </tr>\n",
       "    <tr>\n",
       "      <th>d</th>\n",
       "      <td>NaN</td>\n",
       "      <td>1.631252</td>\n",
       "      <td>1.712810</td>\n",
       "    </tr>\n",
       "  </tbody>\n",
       "</table>\n",
       "</div>"
      ],
      "text/plain": [
       "         one       two     three\n",
       "a  10.618333  1.219188       NaN\n",
       "b   1.486090  1.902292  0.303188\n",
       "c   2.277640  3.749375  0.536846\n",
       "d        NaN  1.631252  1.712810"
      ]
     },
     "execution_count": 21,
     "metadata": {},
     "output_type": "execute_result"
    }
   ],
   "source": [
    "df.apply(np.exp)"
   ]
  },
  {
   "cell_type": "markdown",
   "id": "36354329-290f-4144-a15e-cb079fdaeb6c",
   "metadata": {},
   "source": [
    "The `apply()` method will also dispatch on a string method name."
   ]
  },
  {
   "cell_type": "code",
   "execution_count": 22,
   "id": "85255fdd-7a9d-404c-b18f-9f32d286e59e",
   "metadata": {
    "tags": []
   },
   "outputs": [
    {
     "data": {
      "text/plain": [
       "one      1.193957\n",
       "two      0.663045\n",
       "three   -0.425771\n",
       "dtype: float64"
      ]
     },
     "execution_count": 22,
     "metadata": {},
     "output_type": "execute_result"
    }
   ],
   "source": [
    "df.apply(\"mean\")"
   ]
  },
  {
   "cell_type": "code",
   "execution_count": 23,
   "id": "9521b1f0-46e5-430c-8bc6-309ac57eae46",
   "metadata": {
    "tags": []
   },
   "outputs": [
    {
     "data": {
      "text/plain": [
       "a    1.280384\n",
       "b   -0.051398\n",
       "c    0.507562\n",
       "d    0.513742\n",
       "dtype: float64"
      ]
     },
     "execution_count": 23,
     "metadata": {},
     "output_type": "execute_result"
    }
   ],
   "source": [
    "df.apply(\"mean\", axis=1)"
   ]
  },
  {
   "cell_type": "markdown",
   "id": "d6a9d162-3d6e-4238-b22e-50fdadb3328b",
   "metadata": {},
   "source": [
    "The return type of the function passed to `apply()` affects the\n",
    "type of the final output from `DataFrame.apply` for the default behaviour:\n",
    "\n",
    "- If the applied function returns a Series, the final output is a DataFrame. The columns match the index of the Series returned by the applied function.\n",
    "- If the applied function returns any other type, the final output is a Series."
   ]
  },
  {
   "cell_type": "markdown",
   "id": "a434ce9b-5f08-4db5-97db-d6446c17baf5",
   "metadata": {},
   "source": [
    "This default behaviour can be overridden using the `result_type`, which\n",
    "accepts three options: `reduce`, `broadcast`, and `expand`.\n",
    "These will determine how list-likes return values expand (or not) to a `DataFrame`."
   ]
  },
  {
   "cell_type": "markdown",
   "id": "d8a463c5-d48c-4d64-873a-013f81fc49b0",
   "metadata": {},
   "source": [
    "`apply()` combined with some cleverness can be used to answer many questions\n",
    "about a data set. For example, suppose we wanted to extract the date where the\n",
    "maximum value for each column occurred:"
   ]
  },
  {
   "cell_type": "code",
   "execution_count": 30,
   "id": "a73f681c-d342-46c1-98fb-b4281fcc6551",
   "metadata": {
    "tags": []
   },
   "outputs": [],
   "source": [
    "tsdf = pd.DataFrame(\n",
    "    np.random.randn(1000, 3),\n",
    "    columns = list(\"ABC\"),\n",
    "    index = pd.date_range('1/1/2000', periods=1000)\n",
    ")"
   ]
  },
  {
   "cell_type": "code",
   "execution_count": 32,
   "id": "a2a32b7e-4daa-4e2e-aa21-6432d7e03a1b",
   "metadata": {
    "tags": []
   },
   "outputs": [
    {
     "data": {
      "text/html": [
       "<div>\n",
       "<style scoped>\n",
       "    .dataframe tbody tr th:only-of-type {\n",
       "        vertical-align: middle;\n",
       "    }\n",
       "\n",
       "    .dataframe tbody tr th {\n",
       "        vertical-align: top;\n",
       "    }\n",
       "\n",
       "    .dataframe thead th {\n",
       "        text-align: right;\n",
       "    }\n",
       "</style>\n",
       "<table border=\"1\" class=\"dataframe\">\n",
       "  <thead>\n",
       "    <tr style=\"text-align: right;\">\n",
       "      <th></th>\n",
       "      <th>A</th>\n",
       "      <th>B</th>\n",
       "      <th>C</th>\n",
       "    </tr>\n",
       "  </thead>\n",
       "  <tbody>\n",
       "    <tr>\n",
       "      <th>2000-01-01</th>\n",
       "      <td>0.473652</td>\n",
       "      <td>0.712442</td>\n",
       "      <td>2.060165</td>\n",
       "    </tr>\n",
       "    <tr>\n",
       "      <th>2000-01-02</th>\n",
       "      <td>1.560232</td>\n",
       "      <td>0.830718</td>\n",
       "      <td>-2.194184</td>\n",
       "    </tr>\n",
       "    <tr>\n",
       "      <th>2000-01-03</th>\n",
       "      <td>-0.005763</td>\n",
       "      <td>0.658921</td>\n",
       "      <td>-0.597842</td>\n",
       "    </tr>\n",
       "    <tr>\n",
       "      <th>2000-01-04</th>\n",
       "      <td>-0.009619</td>\n",
       "      <td>0.118682</td>\n",
       "      <td>1.448215</td>\n",
       "    </tr>\n",
       "    <tr>\n",
       "      <th>2000-01-05</th>\n",
       "      <td>-0.202776</td>\n",
       "      <td>0.844060</td>\n",
       "      <td>-1.174555</td>\n",
       "    </tr>\n",
       "    <tr>\n",
       "      <th>...</th>\n",
       "      <td>...</td>\n",
       "      <td>...</td>\n",
       "      <td>...</td>\n",
       "    </tr>\n",
       "    <tr>\n",
       "      <th>2002-09-22</th>\n",
       "      <td>-0.443882</td>\n",
       "      <td>-0.183434</td>\n",
       "      <td>0.578656</td>\n",
       "    </tr>\n",
       "    <tr>\n",
       "      <th>2002-09-23</th>\n",
       "      <td>-0.030276</td>\n",
       "      <td>0.869985</td>\n",
       "      <td>-0.522726</td>\n",
       "    </tr>\n",
       "    <tr>\n",
       "      <th>2002-09-24</th>\n",
       "      <td>-1.108633</td>\n",
       "      <td>-1.045384</td>\n",
       "      <td>-2.313175</td>\n",
       "    </tr>\n",
       "    <tr>\n",
       "      <th>2002-09-25</th>\n",
       "      <td>-0.180611</td>\n",
       "      <td>-1.047725</td>\n",
       "      <td>0.082766</td>\n",
       "    </tr>\n",
       "    <tr>\n",
       "      <th>2002-09-26</th>\n",
       "      <td>-0.144775</td>\n",
       "      <td>-2.149301</td>\n",
       "      <td>0.985869</td>\n",
       "    </tr>\n",
       "  </tbody>\n",
       "</table>\n",
       "<p>1000 rows × 3 columns</p>\n",
       "</div>"
      ],
      "text/plain": [
       "                   A         B         C\n",
       "2000-01-01  0.473652  0.712442  2.060165\n",
       "2000-01-02  1.560232  0.830718 -2.194184\n",
       "2000-01-03 -0.005763  0.658921 -0.597842\n",
       "2000-01-04 -0.009619  0.118682  1.448215\n",
       "2000-01-05 -0.202776  0.844060 -1.174555\n",
       "...              ...       ...       ...\n",
       "2002-09-22 -0.443882 -0.183434  0.578656\n",
       "2002-09-23 -0.030276  0.869985 -0.522726\n",
       "2002-09-24 -1.108633 -1.045384 -2.313175\n",
       "2002-09-25 -0.180611 -1.047725  0.082766\n",
       "2002-09-26 -0.144775 -2.149301  0.985869\n",
       "\n",
       "[1000 rows x 3 columns]"
      ]
     },
     "execution_count": 32,
     "metadata": {},
     "output_type": "execute_result"
    }
   ],
   "source": [
    "tsdf"
   ]
  },
  {
   "cell_type": "code",
   "execution_count": 34,
   "id": "32c19a97-cda4-46d4-8be9-add367c9ebc3",
   "metadata": {
    "tags": []
   },
   "outputs": [
    {
     "data": {
      "text/plain": [
       "A   2001-04-06\n",
       "B   2002-03-16\n",
       "C   2001-08-23\n",
       "dtype: datetime64[ns]"
      ]
     },
     "execution_count": 34,
     "metadata": {},
     "output_type": "execute_result"
    }
   ],
   "source": [
    "tsdf.apply(lambda x: x.idxmax())"
   ]
  },
  {
   "cell_type": "markdown",
   "id": "5cfe8502-331e-45f5-8ad9-b1ff50078ada",
   "metadata": {},
   "source": [
    "You may also pass additional arguments and keyword arguments to the `apply()`\n",
    "method. For instance, consider the following function you would like to apply:"
   ]
  },
  {
   "cell_type": "code",
   "execution_count": 35,
   "id": "3e3ae562-9154-4c9e-a85e-d951c698d573",
   "metadata": {
    "tags": []
   },
   "outputs": [],
   "source": [
    "def sub_test(x, sub, divide=1):\n",
    "    return (x - sub) / divide"
   ]
  },
  {
   "cell_type": "markdown",
   "id": "ffa52411-5a5a-4340-b541-3b6553f2bf0d",
   "metadata": {},
   "source": [
    "You may then apply this function as follows:"
   ]
  },
  {
   "cell_type": "code",
   "execution_count": 37,
   "id": "fdebf410-f89f-448d-9587-73f62ebd670d",
   "metadata": {
    "tags": []
   },
   "outputs": [
    {
     "data": {
      "text/html": [
       "<div>\n",
       "<style scoped>\n",
       "    .dataframe tbody tr th:only-of-type {\n",
       "        vertical-align: middle;\n",
       "    }\n",
       "\n",
       "    .dataframe tbody tr th {\n",
       "        vertical-align: top;\n",
       "    }\n",
       "\n",
       "    .dataframe thead th {\n",
       "        text-align: right;\n",
       "    }\n",
       "</style>\n",
       "<table border=\"1\" class=\"dataframe\">\n",
       "  <thead>\n",
       "    <tr style=\"text-align: right;\">\n",
       "      <th></th>\n",
       "      <th>one</th>\n",
       "      <th>two</th>\n",
       "      <th>three</th>\n",
       "    </tr>\n",
       "  </thead>\n",
       "  <tbody>\n",
       "    <tr>\n",
       "      <th>a</th>\n",
       "      <td>-0.659354</td>\n",
       "      <td>-1.200454</td>\n",
       "      <td>NaN</td>\n",
       "    </tr>\n",
       "    <tr>\n",
       "      <th>b</th>\n",
       "      <td>-1.150963</td>\n",
       "      <td>-1.089235</td>\n",
       "      <td>-1.548351</td>\n",
       "    </tr>\n",
       "    <tr>\n",
       "      <th>c</th>\n",
       "      <td>-1.044215</td>\n",
       "      <td>-0.919603</td>\n",
       "      <td>-1.405511</td>\n",
       "    </tr>\n",
       "    <tr>\n",
       "      <th>d</th>\n",
       "      <td>NaN</td>\n",
       "      <td>-1.127663</td>\n",
       "      <td>-1.115466</td>\n",
       "    </tr>\n",
       "  </tbody>\n",
       "</table>\n",
       "</div>"
      ],
      "text/plain": [
       "        one       two     three\n",
       "a -0.659354 -1.200454       NaN\n",
       "b -1.150963 -1.089235 -1.548351\n",
       "c -1.044215 -0.919603 -1.405511\n",
       "d       NaN -1.127663 -1.115466"
      ]
     },
     "execution_count": 37,
     "metadata": {},
     "output_type": "execute_result"
    }
   ],
   "source": [
    "df.apply(sub_test, args=(5, 4))"
   ]
  },
  {
   "cell_type": "code",
   "execution_count": 40,
   "id": "12515226-fbda-46e2-8fc9-16e77b0918b4",
   "metadata": {
    "tags": []
   },
   "outputs": [
    {
     "data": {
      "text/html": [
       "<div>\n",
       "<style scoped>\n",
       "    .dataframe tbody tr th:only-of-type {\n",
       "        vertical-align: middle;\n",
       "    }\n",
       "\n",
       "    .dataframe tbody tr th {\n",
       "        vertical-align: top;\n",
       "    }\n",
       "\n",
       "    .dataframe thead th {\n",
       "        text-align: right;\n",
       "    }\n",
       "</style>\n",
       "<table border=\"1\" class=\"dataframe\">\n",
       "  <thead>\n",
       "    <tr style=\"text-align: right;\">\n",
       "      <th></th>\n",
       "      <th>one</th>\n",
       "      <th>two</th>\n",
       "      <th>three</th>\n",
       "    </tr>\n",
       "  </thead>\n",
       "  <tbody>\n",
       "    <tr>\n",
       "      <th>a</th>\n",
       "      <td>-0.879139</td>\n",
       "      <td>-1.600605</td>\n",
       "      <td>NaN</td>\n",
       "    </tr>\n",
       "    <tr>\n",
       "      <th>b</th>\n",
       "      <td>-1.534617</td>\n",
       "      <td>-1.452314</td>\n",
       "      <td>-2.064468</td>\n",
       "    </tr>\n",
       "    <tr>\n",
       "      <th>c</th>\n",
       "      <td>-1.392287</td>\n",
       "      <td>-1.226137</td>\n",
       "      <td>-1.874015</td>\n",
       "    </tr>\n",
       "    <tr>\n",
       "      <th>d</th>\n",
       "      <td>NaN</td>\n",
       "      <td>-1.503551</td>\n",
       "      <td>-1.487288</td>\n",
       "    </tr>\n",
       "  </tbody>\n",
       "</table>\n",
       "</div>"
      ],
      "text/plain": [
       "        one       two     three\n",
       "a -0.879139 -1.600605       NaN\n",
       "b -1.534617 -1.452314 -2.064468\n",
       "c -1.392287 -1.226137 -1.874015\n",
       "d       NaN -1.503551 -1.487288"
      ]
     },
     "execution_count": 40,
     "metadata": {},
     "output_type": "execute_result"
    }
   ],
   "source": [
    "df.apply(sub_test, args=(5,), divide=3)"
   ]
  },
  {
   "cell_type": "code",
   "execution_count": 41,
   "id": "bc7b1c97-62c3-48f0-b73b-d5af11cef088",
   "metadata": {
    "tags": []
   },
   "outputs": [
    {
     "data": {
      "text/html": [
       "<div>\n",
       "<style scoped>\n",
       "    .dataframe tbody tr th:only-of-type {\n",
       "        vertical-align: middle;\n",
       "    }\n",
       "\n",
       "    .dataframe tbody tr th {\n",
       "        vertical-align: top;\n",
       "    }\n",
       "\n",
       "    .dataframe thead th {\n",
       "        text-align: right;\n",
       "    }\n",
       "</style>\n",
       "<table border=\"1\" class=\"dataframe\">\n",
       "  <thead>\n",
       "    <tr style=\"text-align: right;\">\n",
       "      <th></th>\n",
       "      <th>one</th>\n",
       "      <th>two</th>\n",
       "      <th>three</th>\n",
       "    </tr>\n",
       "  </thead>\n",
       "  <tbody>\n",
       "    <tr>\n",
       "      <th>a</th>\n",
       "      <td>-0.879139</td>\n",
       "      <td>-1.600605</td>\n",
       "      <td>NaN</td>\n",
       "    </tr>\n",
       "    <tr>\n",
       "      <th>b</th>\n",
       "      <td>-1.534617</td>\n",
       "      <td>-1.452314</td>\n",
       "      <td>-2.064468</td>\n",
       "    </tr>\n",
       "    <tr>\n",
       "      <th>c</th>\n",
       "      <td>-1.392287</td>\n",
       "      <td>-1.226137</td>\n",
       "      <td>-1.874015</td>\n",
       "    </tr>\n",
       "    <tr>\n",
       "      <th>d</th>\n",
       "      <td>NaN</td>\n",
       "      <td>-1.503551</td>\n",
       "      <td>-1.487288</td>\n",
       "    </tr>\n",
       "  </tbody>\n",
       "</table>\n",
       "</div>"
      ],
      "text/plain": [
       "        one       two     three\n",
       "a -0.879139 -1.600605       NaN\n",
       "b -1.534617 -1.452314 -2.064468\n",
       "c -1.392287 -1.226137 -1.874015\n",
       "d       NaN -1.503551 -1.487288"
      ]
     },
     "execution_count": 41,
     "metadata": {},
     "output_type": "execute_result"
    }
   ],
   "source": [
    "df.apply(sub_test, sub=5, divide=3)"
   ]
  },
  {
   "cell_type": "markdown",
   "id": "94673f19-6cbe-4c8b-8311-3b250d1b52d2",
   "metadata": {},
   "source": [
    "Another useful feature is the ability to pass Series methods to carry out some\n",
    "Series operation on each column or row:"
   ]
  },
  {
   "cell_type": "code",
   "execution_count": 45,
   "id": "d99f91a1-98dd-41f1-9afe-4631114bb57d",
   "metadata": {
    "tags": []
   },
   "outputs": [
    {
     "name": "stdout",
     "output_type": "stream",
     "text": [
      "Collecting scipy\n",
      "  Obtaining dependency information for scipy from https://files.pythonhosted.org/packages/ef/1b/7538792254aec6850657d5b940fd05fe60582af829ffe40d6c054f065f34/scipy-1.11.3-cp311-cp311-manylinux_2_17_x86_64.manylinux2014_x86_64.whl.metadata\n",
      "  Downloading scipy-1.11.3-cp311-cp311-manylinux_2_17_x86_64.manylinux2014_x86_64.whl.metadata (60 kB)\n",
      "\u001b[2K     \u001b[90m━━━━━━━━━━━━━━━━━━━━━━━━━━━━━━━━━━━━━━━\u001b[0m \u001b[32m60.4/60.4 kB\u001b[0m \u001b[31m313.6 kB/s\u001b[0m eta \u001b[36m0:00:00\u001b[0ma \u001b[36m0:00:01\u001b[0m\n",
      "\u001b[?25hRequirement already satisfied: numpy<1.28.0,>=1.21.6 in /home/ali/anaconda3/envs/my_learning/lib/python3.11/site-packages (from scipy) (1.25.2)\n",
      "Downloading scipy-1.11.3-cp311-cp311-manylinux_2_17_x86_64.manylinux2014_x86_64.whl (36.4 MB)\n",
      "\u001b[2K   \u001b[90m━━━━━━━━━━━━━━━━━━━━━━━━━━━━━━━━━━━━━━━━\u001b[0m \u001b[32m36.4/36.4 MB\u001b[0m \u001b[31m683.3 kB/s\u001b[0m eta \u001b[36m0:00:00\u001b[0m00:01\u001b[0m00:02\u001b[0m\n",
      "\u001b[?25hInstalling collected packages: scipy\n",
      "Successfully installed scipy-1.11.3\n"
     ]
    }
   ],
   "source": [
    "!pip install scipy"
   ]
  },
  {
   "cell_type": "code",
   "execution_count": 47,
   "id": "d800fb30-534f-49ab-a208-9efed16d8058",
   "metadata": {
    "tags": []
   },
   "outputs": [
    {
     "data": {
      "text/plain": [
       "0    0.000000\n",
       "1    2.000000\n",
       "2    4.666667\n",
       "3    8.000000\n",
       "dtype: float64"
      ]
     },
     "execution_count": 47,
     "metadata": {},
     "output_type": "execute_result"
    }
   ],
   "source": [
    "s = pd.Series([0, 2, np.nan, 8])\n",
    "s.interpolate(method='polynomial', order=2)"
   ]
  },
  {
   "cell_type": "markdown",
   "id": "a3ca02bc-d24c-431a-8425-2f0b507ace12",
   "metadata": {},
   "source": [
    "Let's apply interpolation on tsdf:"
   ]
  },
  {
   "cell_type": "code",
   "execution_count": 48,
   "id": "d4e9f002-6ec2-44f9-a0a9-328b0324a9c9",
   "metadata": {
    "tags": []
   },
   "outputs": [],
   "source": [
    "# First let's add some null values\n",
    "tsdf.iloc[3] = np.nan"
   ]
  },
  {
   "cell_type": "code",
   "execution_count": 49,
   "id": "fb519d07-c5cb-4612-8c6d-7b3b16062c7e",
   "metadata": {
    "tags": []
   },
   "outputs": [],
   "source": [
    "tsdf.iloc[3] = np.nan"
   ]
  },
  {
   "cell_type": "code",
   "execution_count": 50,
   "id": "f69ce726-1359-4fbf-a0ba-96609af9c7ef",
   "metadata": {
    "tags": []
   },
   "outputs": [
    {
     "data": {
      "text/html": [
       "<div>\n",
       "<style scoped>\n",
       "    .dataframe tbody tr th:only-of-type {\n",
       "        vertical-align: middle;\n",
       "    }\n",
       "\n",
       "    .dataframe tbody tr th {\n",
       "        vertical-align: top;\n",
       "    }\n",
       "\n",
       "    .dataframe thead th {\n",
       "        text-align: right;\n",
       "    }\n",
       "</style>\n",
       "<table border=\"1\" class=\"dataframe\">\n",
       "  <thead>\n",
       "    <tr style=\"text-align: right;\">\n",
       "      <th></th>\n",
       "      <th>A</th>\n",
       "      <th>B</th>\n",
       "      <th>C</th>\n",
       "    </tr>\n",
       "  </thead>\n",
       "  <tbody>\n",
       "    <tr>\n",
       "      <th>2000-01-01</th>\n",
       "      <td>0.473652</td>\n",
       "      <td>0.712442</td>\n",
       "      <td>2.060165</td>\n",
       "    </tr>\n",
       "    <tr>\n",
       "      <th>2000-01-02</th>\n",
       "      <td>1.560232</td>\n",
       "      <td>0.830718</td>\n",
       "      <td>-2.194184</td>\n",
       "    </tr>\n",
       "    <tr>\n",
       "      <th>2000-01-03</th>\n",
       "      <td>-0.005763</td>\n",
       "      <td>0.658921</td>\n",
       "      <td>-0.597842</td>\n",
       "    </tr>\n",
       "    <tr>\n",
       "      <th>2000-01-04</th>\n",
       "      <td>NaN</td>\n",
       "      <td>NaN</td>\n",
       "      <td>NaN</td>\n",
       "    </tr>\n",
       "    <tr>\n",
       "      <th>2000-01-05</th>\n",
       "      <td>-0.202776</td>\n",
       "      <td>0.844060</td>\n",
       "      <td>-1.174555</td>\n",
       "    </tr>\n",
       "  </tbody>\n",
       "</table>\n",
       "</div>"
      ],
      "text/plain": [
       "                   A         B         C\n",
       "2000-01-01  0.473652  0.712442  2.060165\n",
       "2000-01-02  1.560232  0.830718 -2.194184\n",
       "2000-01-03 -0.005763  0.658921 -0.597842\n",
       "2000-01-04       NaN       NaN       NaN\n",
       "2000-01-05 -0.202776  0.844060 -1.174555"
      ]
     },
     "execution_count": 50,
     "metadata": {},
     "output_type": "execute_result"
    }
   ],
   "source": [
    "tsdf.head()"
   ]
  },
  {
   "cell_type": "code",
   "execution_count": 54,
   "id": "690e3372-9c76-4b8f-a073-be4cf37ab968",
   "metadata": {
    "tags": []
   },
   "outputs": [
    {
     "data": {
      "text/html": [
       "<div>\n",
       "<style scoped>\n",
       "    .dataframe tbody tr th:only-of-type {\n",
       "        vertical-align: middle;\n",
       "    }\n",
       "\n",
       "    .dataframe tbody tr th {\n",
       "        vertical-align: top;\n",
       "    }\n",
       "\n",
       "    .dataframe thead th {\n",
       "        text-align: right;\n",
       "    }\n",
       "</style>\n",
       "<table border=\"1\" class=\"dataframe\">\n",
       "  <thead>\n",
       "    <tr style=\"text-align: right;\">\n",
       "      <th></th>\n",
       "      <th>A</th>\n",
       "      <th>B</th>\n",
       "      <th>C</th>\n",
       "    </tr>\n",
       "  </thead>\n",
       "  <tbody>\n",
       "    <tr>\n",
       "      <th>2000-01-01</th>\n",
       "      <td>0.473652</td>\n",
       "      <td>0.712442</td>\n",
       "      <td>2.060165</td>\n",
       "    </tr>\n",
       "    <tr>\n",
       "      <th>2000-01-02</th>\n",
       "      <td>1.560232</td>\n",
       "      <td>0.830718</td>\n",
       "      <td>-2.194184</td>\n",
       "    </tr>\n",
       "    <tr>\n",
       "      <th>2000-01-03</th>\n",
       "      <td>-0.005763</td>\n",
       "      <td>0.658921</td>\n",
       "      <td>-0.597842</td>\n",
       "    </tr>\n",
       "    <tr>\n",
       "      <th>2000-01-04</th>\n",
       "      <td>-0.104269</td>\n",
       "      <td>0.751490</td>\n",
       "      <td>-0.886198</td>\n",
       "    </tr>\n",
       "    <tr>\n",
       "      <th>2000-01-05</th>\n",
       "      <td>-0.202776</td>\n",
       "      <td>0.844060</td>\n",
       "      <td>-1.174555</td>\n",
       "    </tr>\n",
       "  </tbody>\n",
       "</table>\n",
       "</div>"
      ],
      "text/plain": [
       "                   A         B         C\n",
       "2000-01-01  0.473652  0.712442  2.060165\n",
       "2000-01-02  1.560232  0.830718 -2.194184\n",
       "2000-01-03 -0.005763  0.658921 -0.597842\n",
       "2000-01-04 -0.104269  0.751490 -0.886198\n",
       "2000-01-05 -0.202776  0.844060 -1.174555"
      ]
     },
     "execution_count": 54,
     "metadata": {},
     "output_type": "execute_result"
    }
   ],
   "source": [
    "tsdf.apply(pd.Series.interpolate, method='linear').head()"
   ]
  },
  {
   "cell_type": "markdown",
   "id": "5f8f0152-bc98-48cc-98fd-03c393bb518e",
   "metadata": {},
   "source": [
    "Finally, `apply()` takes an argument `raw` which is False by default, which\n",
    "converts each row or column into a Series before applying the function. When\n",
    "set to True, the passed function will instead receive an ndarray object, which\n",
    "has positive performance implications if you do not need the indexing\n",
    "functionality."
   ]
  },
  {
   "cell_type": "markdown",
   "id": "11c196c2-9ec7-49ac-b096-78b9078cd040",
   "metadata": {},
   "source": [
    "## Aggregation API"
   ]
  },
  {
   "cell_type": "markdown",
   "id": "384cd2a3-b286-406d-ac49-e8c4016b5291",
   "metadata": {},
   "source": [
    "The aggregation API allows one to express possibly multiple aggregation operations in a single concise way.\n",
    "This API is similar across pandas objects, see groupby API, the\n",
    "window API, and the resample API.\n",
    "The entry point for aggregation is `DataFrame.aggregate()`, or the alias\n",
    "`DataFrame.agg()`"
   ]
  },
  {
   "cell_type": "markdown",
   "id": "c3425130-766b-4d6a-bcad-7343a75d7842",
   "metadata": {},
   "source": [
    "We will use a similar starting frame from above:"
   ]
  },
  {
   "cell_type": "code",
   "execution_count": 55,
   "id": "238226b0-017e-42ca-8678-a8ea285d7704",
   "metadata": {
    "tags": []
   },
   "outputs": [],
   "source": [
    "tsdf = pd.DataFrame(\n",
    "    np.random.randn(10, 3),\n",
    "    columns=[\"A\", \"B\", \"C\"],\n",
    "    index=pd.date_range(\"1/1/2000\", periods=10),\n",
    ")"
   ]
  },
  {
   "cell_type": "code",
   "execution_count": 56,
   "id": "fc500f7a-a7e2-4d6c-a197-269070be75c0",
   "metadata": {
    "tags": []
   },
   "outputs": [],
   "source": [
    "tsdf.iloc[3:7] = np.nan"
   ]
  },
  {
   "cell_type": "code",
   "execution_count": 58,
   "id": "e7e966ec-d013-4b8e-9203-3502f4ff1b0a",
   "metadata": {
    "tags": []
   },
   "outputs": [
    {
     "data": {
      "text/html": [
       "<div>\n",
       "<style scoped>\n",
       "    .dataframe tbody tr th:only-of-type {\n",
       "        vertical-align: middle;\n",
       "    }\n",
       "\n",
       "    .dataframe tbody tr th {\n",
       "        vertical-align: top;\n",
       "    }\n",
       "\n",
       "    .dataframe thead th {\n",
       "        text-align: right;\n",
       "    }\n",
       "</style>\n",
       "<table border=\"1\" class=\"dataframe\">\n",
       "  <thead>\n",
       "    <tr style=\"text-align: right;\">\n",
       "      <th></th>\n",
       "      <th>A</th>\n",
       "      <th>B</th>\n",
       "      <th>C</th>\n",
       "    </tr>\n",
       "  </thead>\n",
       "  <tbody>\n",
       "    <tr>\n",
       "      <th>2000-01-01</th>\n",
       "      <td>-0.442268</td>\n",
       "      <td>-1.441069</td>\n",
       "      <td>-1.685952</td>\n",
       "    </tr>\n",
       "    <tr>\n",
       "      <th>2000-01-02</th>\n",
       "      <td>0.781424</td>\n",
       "      <td>1.343911</td>\n",
       "      <td>1.302184</td>\n",
       "    </tr>\n",
       "    <tr>\n",
       "      <th>2000-01-03</th>\n",
       "      <td>0.640035</td>\n",
       "      <td>-0.127640</td>\n",
       "      <td>-0.386197</td>\n",
       "    </tr>\n",
       "    <tr>\n",
       "      <th>2000-01-04</th>\n",
       "      <td>NaN</td>\n",
       "      <td>NaN</td>\n",
       "      <td>NaN</td>\n",
       "    </tr>\n",
       "    <tr>\n",
       "      <th>2000-01-05</th>\n",
       "      <td>NaN</td>\n",
       "      <td>NaN</td>\n",
       "      <td>NaN</td>\n",
       "    </tr>\n",
       "    <tr>\n",
       "      <th>2000-01-06</th>\n",
       "      <td>NaN</td>\n",
       "      <td>NaN</td>\n",
       "      <td>NaN</td>\n",
       "    </tr>\n",
       "    <tr>\n",
       "      <th>2000-01-07</th>\n",
       "      <td>NaN</td>\n",
       "      <td>NaN</td>\n",
       "      <td>NaN</td>\n",
       "    </tr>\n",
       "    <tr>\n",
       "      <th>2000-01-08</th>\n",
       "      <td>-1.898662</td>\n",
       "      <td>0.323027</td>\n",
       "      <td>0.390243</td>\n",
       "    </tr>\n",
       "    <tr>\n",
       "      <th>2000-01-09</th>\n",
       "      <td>0.242443</td>\n",
       "      <td>0.598272</td>\n",
       "      <td>-0.784099</td>\n",
       "    </tr>\n",
       "    <tr>\n",
       "      <th>2000-01-10</th>\n",
       "      <td>-0.065355</td>\n",
       "      <td>0.953811</td>\n",
       "      <td>-0.567138</td>\n",
       "    </tr>\n",
       "  </tbody>\n",
       "</table>\n",
       "</div>"
      ],
      "text/plain": [
       "                   A         B         C\n",
       "2000-01-01 -0.442268 -1.441069 -1.685952\n",
       "2000-01-02  0.781424  1.343911  1.302184\n",
       "2000-01-03  0.640035 -0.127640 -0.386197\n",
       "2000-01-04       NaN       NaN       NaN\n",
       "2000-01-05       NaN       NaN       NaN\n",
       "2000-01-06       NaN       NaN       NaN\n",
       "2000-01-07       NaN       NaN       NaN\n",
       "2000-01-08 -1.898662  0.323027  0.390243\n",
       "2000-01-09  0.242443  0.598272 -0.784099\n",
       "2000-01-10 -0.065355  0.953811 -0.567138"
      ]
     },
     "execution_count": 58,
     "metadata": {},
     "output_type": "execute_result"
    }
   ],
   "source": [
    "tsdf"
   ]
  },
  {
   "cell_type": "markdown",
   "id": "230cd55e-065b-4e93-bc23-50003dbe57cc",
   "metadata": {},
   "source": [
    "Using a single function is equivalent to `apply()`. You can also\n",
    "pass named methods as strings. These will return a `Series` of the aggregated\n",
    "output:"
   ]
  },
  {
   "cell_type": "code",
   "execution_count": 59,
   "id": "587e064b-55d1-4c1c-8f29-1e45c3050dca",
   "metadata": {
    "tags": []
   },
   "outputs": [
    {
     "name": "stderr",
     "output_type": "stream",
     "text": [
      "/tmp/ipykernel_1456/392193179.py:1: FutureWarning: The provided callable <function sum at 0x7fa9a80ee2a0> is currently using DataFrame.sum. In a future version of pandas, the provided callable will be used directly. To keep current behavior pass 'sum' instead.\n",
      "  tsdf.agg(np.sum)\n"
     ]
    },
    {
     "data": {
      "text/plain": [
       "A   -0.742384\n",
       "B    1.650312\n",
       "C   -1.730959\n",
       "dtype: float64"
      ]
     },
     "execution_count": 59,
     "metadata": {},
     "output_type": "execute_result"
    }
   ],
   "source": [
    "tsdf.agg(np.sum)"
   ]
  },
  {
   "cell_type": "code",
   "execution_count": 60,
   "id": "bd24fb66-0993-4c35-b3a6-34cf165f43c4",
   "metadata": {
    "tags": []
   },
   "outputs": [
    {
     "data": {
      "text/plain": [
       "A   -0.742384\n",
       "B    1.650312\n",
       "C   -1.730959\n",
       "dtype: float64"
      ]
     },
     "execution_count": 60,
     "metadata": {},
     "output_type": "execute_result"
    }
   ],
   "source": [
    "tsdf.agg(\"sum\")"
   ]
  },
  {
   "cell_type": "code",
   "execution_count": 61,
   "id": "f6486c98-ffa7-45bf-a6ea-cea3fe3e99bc",
   "metadata": {
    "tags": []
   },
   "outputs": [
    {
     "data": {
      "text/plain": [
       "A   -0.742384\n",
       "B    1.650312\n",
       "C   -1.730959\n",
       "dtype: float64"
      ]
     },
     "execution_count": 61,
     "metadata": {},
     "output_type": "execute_result"
    }
   ],
   "source": [
    "tsdf.sum()"
   ]
  },
  {
   "cell_type": "markdown",
   "id": "33b2f10b-2dcf-45d1-bc24-880ad9aaac32",
   "metadata": {},
   "source": [
    "Single aggregations on a `Series` this will return a scalar value:"
   ]
  },
  {
   "cell_type": "code",
   "execution_count": 63,
   "id": "e01e64df-1981-404a-ae6a-7136e3aabe0a",
   "metadata": {
    "tags": []
   },
   "outputs": [
    {
     "data": {
      "text/plain": [
       "-0.7423840766079615"
      ]
     },
     "execution_count": 63,
     "metadata": {},
     "output_type": "execute_result"
    }
   ],
   "source": [
    "tsdf[\"A\"].agg(\"sum\")"
   ]
  },
  {
   "cell_type": "markdown",
   "id": "82142c9a-f92f-49e2-b625-1eaa040cf2b5",
   "metadata": {},
   "source": [
    "### Aggregating with multiple functions"
   ]
  },
  {
   "cell_type": "markdown",
   "id": "d254604d-15b9-46ac-8060-eb561e570a28",
   "metadata": {},
   "source": [
    "You can pass multiple aggregation arguments as a list.\n",
    "The results of each of the passed functions will be a row in the resulting `DataFrame`.\n",
    "These are naturally named from the aggregation function."
   ]
  },
  {
   "cell_type": "code",
   "execution_count": 64,
   "id": "296e23d5-cead-4296-b31a-e68c9e0fa016",
   "metadata": {
    "tags": []
   },
   "outputs": [
    {
     "data": {
      "text/html": [
       "<div>\n",
       "<style scoped>\n",
       "    .dataframe tbody tr th:only-of-type {\n",
       "        vertical-align: middle;\n",
       "    }\n",
       "\n",
       "    .dataframe tbody tr th {\n",
       "        vertical-align: top;\n",
       "    }\n",
       "\n",
       "    .dataframe thead th {\n",
       "        text-align: right;\n",
       "    }\n",
       "</style>\n",
       "<table border=\"1\" class=\"dataframe\">\n",
       "  <thead>\n",
       "    <tr style=\"text-align: right;\">\n",
       "      <th></th>\n",
       "      <th>A</th>\n",
       "      <th>B</th>\n",
       "      <th>C</th>\n",
       "    </tr>\n",
       "  </thead>\n",
       "  <tbody>\n",
       "    <tr>\n",
       "      <th>sum</th>\n",
       "      <td>-0.742384</td>\n",
       "      <td>1.650312</td>\n",
       "      <td>-1.730959</td>\n",
       "    </tr>\n",
       "  </tbody>\n",
       "</table>\n",
       "</div>"
      ],
      "text/plain": [
       "            A         B         C\n",
       "sum -0.742384  1.650312 -1.730959"
      ]
     },
     "execution_count": 64,
     "metadata": {},
     "output_type": "execute_result"
    }
   ],
   "source": [
    "tsdf.agg([\"sum\"])"
   ]
  },
  {
   "cell_type": "markdown",
   "id": "a070f93e-f61c-4f69-bb60-a83c93d00d86",
   "metadata": {},
   "source": [
    "Multiple functions yield multiple rows:"
   ]
  },
  {
   "cell_type": "code",
   "execution_count": 65,
   "id": "788d8981-e00f-4734-b280-10abea56dc64",
   "metadata": {
    "tags": []
   },
   "outputs": [
    {
     "data": {
      "text/html": [
       "<div>\n",
       "<style scoped>\n",
       "    .dataframe tbody tr th:only-of-type {\n",
       "        vertical-align: middle;\n",
       "    }\n",
       "\n",
       "    .dataframe tbody tr th {\n",
       "        vertical-align: top;\n",
       "    }\n",
       "\n",
       "    .dataframe thead th {\n",
       "        text-align: right;\n",
       "    }\n",
       "</style>\n",
       "<table border=\"1\" class=\"dataframe\">\n",
       "  <thead>\n",
       "    <tr style=\"text-align: right;\">\n",
       "      <th></th>\n",
       "      <th>A</th>\n",
       "      <th>B</th>\n",
       "      <th>C</th>\n",
       "    </tr>\n",
       "  </thead>\n",
       "  <tbody>\n",
       "    <tr>\n",
       "      <th>sum</th>\n",
       "      <td>-0.742384</td>\n",
       "      <td>1.650312</td>\n",
       "      <td>-1.730959</td>\n",
       "    </tr>\n",
       "    <tr>\n",
       "      <th>mean</th>\n",
       "      <td>-0.123731</td>\n",
       "      <td>0.275052</td>\n",
       "      <td>-0.288493</td>\n",
       "    </tr>\n",
       "  </tbody>\n",
       "</table>\n",
       "</div>"
      ],
      "text/plain": [
       "             A         B         C\n",
       "sum  -0.742384  1.650312 -1.730959\n",
       "mean -0.123731  0.275052 -0.288493"
      ]
     },
     "execution_count": 65,
     "metadata": {},
     "output_type": "execute_result"
    }
   ],
   "source": [
    "tsdf.agg([\"sum\", \"mean\"])"
   ]
  },
  {
   "cell_type": "markdown",
   "id": "4843de94-919c-441b-95d1-5db1cc93b471",
   "metadata": {},
   "source": [
    "On a `Series`, multiple functions return a `Series`, indexed by the function names:"
   ]
  },
  {
   "cell_type": "code",
   "execution_count": 66,
   "id": "f2fb82d0-ab17-472d-99f1-89b0cb7b33c0",
   "metadata": {
    "tags": []
   },
   "outputs": [
    {
     "data": {
      "text/plain": [
       "sum    -0.742384\n",
       "mean   -0.123731\n",
       "Name: A, dtype: float64"
      ]
     },
     "execution_count": 66,
     "metadata": {},
     "output_type": "execute_result"
    }
   ],
   "source": [
    "tsdf[\"A\"].agg([\"sum\", \"mean\"])"
   ]
  },
  {
   "cell_type": "markdown",
   "id": "a3d01a02-7b6d-445b-8c81-1d8772f93750",
   "metadata": {},
   "source": [
    "Passing a `lambda` function will yield a `<lambda>` named row:"
   ]
  },
  {
   "cell_type": "code",
   "execution_count": 67,
   "id": "d4493f8c-c214-40ae-9b9c-aabef4aee5d1",
   "metadata": {
    "tags": []
   },
   "outputs": [
    {
     "data": {
      "text/plain": [
       "sum        -0.742384\n",
       "<lambda>   -0.123731\n",
       "Name: A, dtype: float64"
      ]
     },
     "execution_count": 67,
     "metadata": {},
     "output_type": "execute_result"
    }
   ],
   "source": [
    "tsdf[\"A\"].agg([\"sum\", lambda x: x.mean()])"
   ]
  },
  {
   "cell_type": "markdown",
   "id": "dd9a8d89-0cfb-40e0-a1af-a339e3b6862e",
   "metadata": {},
   "source": [
    "Passing a named function will yield that name for the row:"
   ]
  },
  {
   "cell_type": "code",
   "execution_count": 68,
   "id": "55038fe3-0944-4e46-ad5e-7f191252804a",
   "metadata": {
    "tags": []
   },
   "outputs": [
    {
     "data": {
      "text/plain": [
       "sum      -0.742384\n",
       "mymean   -0.123731\n",
       "Name: A, dtype: float64"
      ]
     },
     "execution_count": 68,
     "metadata": {},
     "output_type": "execute_result"
    }
   ],
   "source": [
    "def mymean(x):\n",
    "    return x.mean()\n",
    "\n",
    "tsdf[\"A\"].agg([\"sum\", mymean])"
   ]
  },
  {
   "cell_type": "markdown",
   "id": "4b49eabb-655f-4ff2-afc3-2ab788010fe1",
   "metadata": {},
   "source": [
    "### Aggregating with a dict"
   ]
  },
  {
   "cell_type": "markdown",
   "id": "2bd95e2e-db9f-446b-853e-165ec2b07bfa",
   "metadata": {},
   "source": [
    "Passing a dictionary of column names to a scalar or a list of scalars, to `DataFrame.agg`\n",
    "allows you to customize which functions are applied to which columns. Note that the results\n",
    "are not in any particular order, you can use an `OrderedDict` instead to guarantee ordering."
   ]
  },
  {
   "cell_type": "code",
   "execution_count": 69,
   "id": "19cecd02-32ed-49ef-a8d8-886476921a76",
   "metadata": {
    "tags": []
   },
   "outputs": [
    {
     "data": {
      "text/html": [
       "<div>\n",
       "<style scoped>\n",
       "    .dataframe tbody tr th:only-of-type {\n",
       "        vertical-align: middle;\n",
       "    }\n",
       "\n",
       "    .dataframe tbody tr th {\n",
       "        vertical-align: top;\n",
       "    }\n",
       "\n",
       "    .dataframe thead th {\n",
       "        text-align: right;\n",
       "    }\n",
       "</style>\n",
       "<table border=\"1\" class=\"dataframe\">\n",
       "  <thead>\n",
       "    <tr style=\"text-align: right;\">\n",
       "      <th></th>\n",
       "      <th>A</th>\n",
       "      <th>B</th>\n",
       "    </tr>\n",
       "  </thead>\n",
       "  <tbody>\n",
       "    <tr>\n",
       "      <th>mean</th>\n",
       "      <td>-0.123731</td>\n",
       "      <td>NaN</td>\n",
       "    </tr>\n",
       "    <tr>\n",
       "      <th>min</th>\n",
       "      <td>-1.898662</td>\n",
       "      <td>NaN</td>\n",
       "    </tr>\n",
       "    <tr>\n",
       "      <th>sum</th>\n",
       "      <td>NaN</td>\n",
       "      <td>1.650312</td>\n",
       "    </tr>\n",
       "  </tbody>\n",
       "</table>\n",
       "</div>"
      ],
      "text/plain": [
       "             A         B\n",
       "mean -0.123731       NaN\n",
       "min  -1.898662       NaN\n",
       "sum        NaN  1.650312"
      ]
     },
     "execution_count": 69,
     "metadata": {},
     "output_type": "execute_result"
    }
   ],
   "source": [
    "tsdf.agg({\"A\": [\"mean\", \"min\"], \"B\": \"sum\"})"
   ]
  },
  {
   "cell_type": "markdown",
   "id": "1db9c13b-344f-460b-a88c-1f5c5ae28d93",
   "metadata": {},
   "source": [
    "### Mixed dtypes"
   ]
  },
  {
   "cell_type": "markdown",
   "id": "eb81f097-6872-4f56-ab49-45f2a3bbfe5a",
   "metadata": {},
   "source": [
    "Deprecated since version 1.4.0: Attempting to determine which columns cannot be aggregated and silently dropping them from the results is deprecated and will be removed in a future version. If any porition of the columns or operations provided fail, the call to `.agg` will raise."
   ]
  },
  {
   "cell_type": "markdown",
   "id": "47a57273-4838-432d-a7da-ab943753f041",
   "metadata": {},
   "source": [
    "When presented with mixed dtypes that cannot aggregate, `.agg` will only take the valid\n",
    "aggregations. This is similar to how `.groupby.agg` works."
   ]
  },
  {
   "cell_type": "code",
   "execution_count": 70,
   "id": "aea24b3e-01f9-4964-b987-ce02cafaf414",
   "metadata": {
    "tags": []
   },
   "outputs": [],
   "source": [
    "mdf = pd.DataFrame(\n",
    "    {\n",
    "        \"A\": [1, 2, 3],\n",
    "        \"B\": [1.0, 2.0, 3.0],\n",
    "        \"C\": [\"foo\", \"bar\", \"baz\"],\n",
    "        \"D\": pd.date_range(\"20130101\", periods=3),\n",
    "    }\n",
    ")"
   ]
  },
  {
   "cell_type": "code",
   "execution_count": 76,
   "id": "efe46cff-c62d-4b1a-9cca-23d8c52f0cb7",
   "metadata": {
    "tags": []
   },
   "outputs": [
    {
     "data": {
      "text/plain": [
       "A             int64\n",
       "B           float64\n",
       "C            object\n",
       "D    datetime64[ns]\n",
       "dtype: object"
      ]
     },
     "execution_count": 76,
     "metadata": {},
     "output_type": "execute_result"
    }
   ],
   "source": [
    "mdf.dtypes"
   ]
  },
  {
   "cell_type": "code",
   "execution_count": 77,
   "id": "f3207a66-9022-4706-a0d5-c6a68594b750",
   "metadata": {
    "tags": []
   },
   "outputs": [
    {
     "data": {
      "text/html": [
       "<div>\n",
       "<style scoped>\n",
       "    .dataframe tbody tr th:only-of-type {\n",
       "        vertical-align: middle;\n",
       "    }\n",
       "\n",
       "    .dataframe tbody tr th {\n",
       "        vertical-align: top;\n",
       "    }\n",
       "\n",
       "    .dataframe thead th {\n",
       "        text-align: right;\n",
       "    }\n",
       "</style>\n",
       "<table border=\"1\" class=\"dataframe\">\n",
       "  <thead>\n",
       "    <tr style=\"text-align: right;\">\n",
       "      <th></th>\n",
       "      <th>A</th>\n",
       "      <th>B</th>\n",
       "      <th>C</th>\n",
       "      <th>D</th>\n",
       "    </tr>\n",
       "  </thead>\n",
       "  <tbody>\n",
       "    <tr>\n",
       "      <th>0</th>\n",
       "      <td>1</td>\n",
       "      <td>1.0</td>\n",
       "      <td>foo</td>\n",
       "      <td>2013-01-01</td>\n",
       "    </tr>\n",
       "    <tr>\n",
       "      <th>1</th>\n",
       "      <td>2</td>\n",
       "      <td>2.0</td>\n",
       "      <td>bar</td>\n",
       "      <td>2013-01-02</td>\n",
       "    </tr>\n",
       "    <tr>\n",
       "      <th>2</th>\n",
       "      <td>3</td>\n",
       "      <td>3.0</td>\n",
       "      <td>baz</td>\n",
       "      <td>2013-01-03</td>\n",
       "    </tr>\n",
       "  </tbody>\n",
       "</table>\n",
       "</div>"
      ],
      "text/plain": [
       "   A    B    C          D\n",
       "0  1  1.0  foo 2013-01-01\n",
       "1  2  2.0  bar 2013-01-02\n",
       "2  3  3.0  baz 2013-01-03"
      ]
     },
     "execution_count": 77,
     "metadata": {},
     "output_type": "execute_result"
    }
   ],
   "source": [
    "mdf"
   ]
  },
  {
   "cell_type": "code",
   "execution_count": 75,
   "id": "1aa23af2-2182-4056-bcdd-4e2a70131fcb",
   "metadata": {
    "tags": []
   },
   "outputs": [
    {
     "data": {
      "text/html": [
       "<div>\n",
       "<style scoped>\n",
       "    .dataframe tbody tr th:only-of-type {\n",
       "        vertical-align: middle;\n",
       "    }\n",
       "\n",
       "    .dataframe tbody tr th {\n",
       "        vertical-align: top;\n",
       "    }\n",
       "\n",
       "    .dataframe thead th {\n",
       "        text-align: right;\n",
       "    }\n",
       "</style>\n",
       "<table border=\"1\" class=\"dataframe\">\n",
       "  <thead>\n",
       "    <tr style=\"text-align: right;\">\n",
       "      <th></th>\n",
       "      <th>A</th>\n",
       "      <th>B</th>\n",
       "      <th>C</th>\n",
       "    </tr>\n",
       "  </thead>\n",
       "  <tbody>\n",
       "    <tr>\n",
       "      <th>min</th>\n",
       "      <td>1</td>\n",
       "      <td>1.0</td>\n",
       "      <td>bar</td>\n",
       "    </tr>\n",
       "    <tr>\n",
       "      <th>sum</th>\n",
       "      <td>6</td>\n",
       "      <td>6.0</td>\n",
       "      <td>foobarbaz</td>\n",
       "    </tr>\n",
       "  </tbody>\n",
       "</table>\n",
       "</div>"
      ],
      "text/plain": [
       "     A    B          C\n",
       "min  1  1.0        bar\n",
       "sum  6  6.0  foobarbaz"
      ]
     },
     "execution_count": 75,
     "metadata": {},
     "output_type": "execute_result"
    }
   ],
   "source": [
    "mdf.drop('D', axis='columns').agg([\"min\", \"sum\"])"
   ]
  },
  {
   "cell_type": "markdown",
   "id": "1bff3133-c275-45c0-b353-2c4ed3e2b018",
   "metadata": {
    "tags": []
   },
   "source": [
    "### Custom describe"
   ]
  },
  {
   "cell_type": "markdown",
   "id": "5d77897f-8be6-430c-92ce-29da48b66927",
   "metadata": {},
   "source": [
    "With `.agg()` it is possible to easily create a custom describe function, similar\n",
    "to the built in describe function"
   ]
  },
  {
   "cell_type": "code",
   "execution_count": 79,
   "id": "5a768201-d2a3-46c4-8359-2d9d08456d27",
   "metadata": {
    "tags": []
   },
   "outputs": [],
   "source": [
    "from functools import partial\n",
    "q_25 = partial(pd.Series.quantile, q=0.25)\n",
    "q_25.__name__ = \"25%\"\n",
    "q_75 = partial(pd.Series.quantile, q=0.75)\n",
    "q_75.__name__ = \"75%\""
   ]
  },
  {
   "cell_type": "code",
   "execution_count": 80,
   "id": "f8145fdb-47f7-4ffd-9d9b-57651213652e",
   "metadata": {
    "tags": []
   },
   "outputs": [
    {
     "data": {
      "text/html": [
       "<div>\n",
       "<style scoped>\n",
       "    .dataframe tbody tr th:only-of-type {\n",
       "        vertical-align: middle;\n",
       "    }\n",
       "\n",
       "    .dataframe tbody tr th {\n",
       "        vertical-align: top;\n",
       "    }\n",
       "\n",
       "    .dataframe thead th {\n",
       "        text-align: right;\n",
       "    }\n",
       "</style>\n",
       "<table border=\"1\" class=\"dataframe\">\n",
       "  <thead>\n",
       "    <tr style=\"text-align: right;\">\n",
       "      <th></th>\n",
       "      <th>A</th>\n",
       "      <th>B</th>\n",
       "      <th>C</th>\n",
       "    </tr>\n",
       "  </thead>\n",
       "  <tbody>\n",
       "    <tr>\n",
       "      <th>count</th>\n",
       "      <td>6.000000</td>\n",
       "      <td>6.000000</td>\n",
       "      <td>6.000000</td>\n",
       "    </tr>\n",
       "    <tr>\n",
       "      <th>mean</th>\n",
       "      <td>-0.123731</td>\n",
       "      <td>0.275052</td>\n",
       "      <td>-0.288493</td>\n",
       "    </tr>\n",
       "    <tr>\n",
       "      <th>std</th>\n",
       "      <td>0.978977</td>\n",
       "      <td>0.981548</td>\n",
       "      <td>1.027291</td>\n",
       "    </tr>\n",
       "    <tr>\n",
       "      <th>min</th>\n",
       "      <td>-1.898662</td>\n",
       "      <td>-1.441069</td>\n",
       "      <td>-1.685952</td>\n",
       "    </tr>\n",
       "    <tr>\n",
       "      <th>25%</th>\n",
       "      <td>-0.348040</td>\n",
       "      <td>-0.014974</td>\n",
       "      <td>-0.729858</td>\n",
       "    </tr>\n",
       "    <tr>\n",
       "      <th>median</th>\n",
       "      <td>0.088544</td>\n",
       "      <td>0.460649</td>\n",
       "      <td>-0.476667</td>\n",
       "    </tr>\n",
       "    <tr>\n",
       "      <th>75%</th>\n",
       "      <td>0.540637</td>\n",
       "      <td>0.864927</td>\n",
       "      <td>0.196133</td>\n",
       "    </tr>\n",
       "    <tr>\n",
       "      <th>max</th>\n",
       "      <td>0.781424</td>\n",
       "      <td>1.343911</td>\n",
       "      <td>1.302184</td>\n",
       "    </tr>\n",
       "  </tbody>\n",
       "</table>\n",
       "</div>"
      ],
      "text/plain": [
       "               A         B         C\n",
       "count   6.000000  6.000000  6.000000\n",
       "mean   -0.123731  0.275052 -0.288493\n",
       "std     0.978977  0.981548  1.027291\n",
       "min    -1.898662 -1.441069 -1.685952\n",
       "25%    -0.348040 -0.014974 -0.729858\n",
       "median  0.088544  0.460649 -0.476667\n",
       "75%     0.540637  0.864927  0.196133\n",
       "max     0.781424  1.343911  1.302184"
      ]
     },
     "execution_count": 80,
     "metadata": {},
     "output_type": "execute_result"
    }
   ],
   "source": [
    "tsdf.agg([\"count\", \"mean\", \"std\", \"min\", q_25, \"median\", q_75, \"max\"])"
   ]
  },
  {
   "cell_type": "markdown",
   "id": "e11f0921-df82-4353-9372-1b6ba39f0552",
   "metadata": {},
   "source": [
    "## Transform API"
   ]
  },
  {
   "cell_type": "markdown",
   "id": "81a4c052-30cb-4a55-99ed-9eefa773f76f",
   "metadata": {},
   "source": [
    "The `transform()` method returns an object that is indexed the same (same size)\n",
    "as the original. This API allows you to provide *multiple* operations at the same\n",
    "time rather than one-by-one. Its API is quite similar to the `.agg` API."
   ]
  },
  {
   "cell_type": "markdown",
   "id": "c056ce19-a95d-424e-9767-9af9b8ce04c5",
   "metadata": {},
   "source": [
    "We create a frame similar to the one used in the above sections."
   ]
  },
  {
   "cell_type": "code",
   "execution_count": 81,
   "id": "b4f87f99-bf6b-4ce2-b69a-29855f20fa0d",
   "metadata": {
    "tags": []
   },
   "outputs": [
    {
     "data": {
      "text/html": [
       "<div>\n",
       "<style scoped>\n",
       "    .dataframe tbody tr th:only-of-type {\n",
       "        vertical-align: middle;\n",
       "    }\n",
       "\n",
       "    .dataframe tbody tr th {\n",
       "        vertical-align: top;\n",
       "    }\n",
       "\n",
       "    .dataframe thead th {\n",
       "        text-align: right;\n",
       "    }\n",
       "</style>\n",
       "<table border=\"1\" class=\"dataframe\">\n",
       "  <thead>\n",
       "    <tr style=\"text-align: right;\">\n",
       "      <th></th>\n",
       "      <th>A</th>\n",
       "      <th>B</th>\n",
       "      <th>C</th>\n",
       "    </tr>\n",
       "  </thead>\n",
       "  <tbody>\n",
       "    <tr>\n",
       "      <th>2000-01-01</th>\n",
       "      <td>-1.906021</td>\n",
       "      <td>0.553495</td>\n",
       "      <td>-0.001220</td>\n",
       "    </tr>\n",
       "    <tr>\n",
       "      <th>2000-01-02</th>\n",
       "      <td>-0.714361</td>\n",
       "      <td>-1.803843</td>\n",
       "      <td>-0.690069</td>\n",
       "    </tr>\n",
       "    <tr>\n",
       "      <th>2000-01-03</th>\n",
       "      <td>0.699666</td>\n",
       "      <td>1.148266</td>\n",
       "      <td>0.870129</td>\n",
       "    </tr>\n",
       "    <tr>\n",
       "      <th>2000-01-04</th>\n",
       "      <td>NaN</td>\n",
       "      <td>NaN</td>\n",
       "      <td>NaN</td>\n",
       "    </tr>\n",
       "    <tr>\n",
       "      <th>2000-01-05</th>\n",
       "      <td>NaN</td>\n",
       "      <td>NaN</td>\n",
       "      <td>NaN</td>\n",
       "    </tr>\n",
       "    <tr>\n",
       "      <th>2000-01-06</th>\n",
       "      <td>NaN</td>\n",
       "      <td>NaN</td>\n",
       "      <td>NaN</td>\n",
       "    </tr>\n",
       "    <tr>\n",
       "      <th>2000-01-07</th>\n",
       "      <td>NaN</td>\n",
       "      <td>NaN</td>\n",
       "      <td>NaN</td>\n",
       "    </tr>\n",
       "    <tr>\n",
       "      <th>2000-01-08</th>\n",
       "      <td>-0.774317</td>\n",
       "      <td>-0.433686</td>\n",
       "      <td>0.568519</td>\n",
       "    </tr>\n",
       "    <tr>\n",
       "      <th>2000-01-09</th>\n",
       "      <td>-1.130911</td>\n",
       "      <td>-0.491484</td>\n",
       "      <td>0.109050</td>\n",
       "    </tr>\n",
       "    <tr>\n",
       "      <th>2000-01-10</th>\n",
       "      <td>-0.009735</td>\n",
       "      <td>-1.341069</td>\n",
       "      <td>1.260359</td>\n",
       "    </tr>\n",
       "  </tbody>\n",
       "</table>\n",
       "</div>"
      ],
      "text/plain": [
       "                   A         B         C\n",
       "2000-01-01 -1.906021  0.553495 -0.001220\n",
       "2000-01-02 -0.714361 -1.803843 -0.690069\n",
       "2000-01-03  0.699666  1.148266  0.870129\n",
       "2000-01-04       NaN       NaN       NaN\n",
       "2000-01-05       NaN       NaN       NaN\n",
       "2000-01-06       NaN       NaN       NaN\n",
       "2000-01-07       NaN       NaN       NaN\n",
       "2000-01-08 -0.774317 -0.433686  0.568519\n",
       "2000-01-09 -1.130911 -0.491484  0.109050\n",
       "2000-01-10 -0.009735 -1.341069  1.260359"
      ]
     },
     "execution_count": 81,
     "metadata": {},
     "output_type": "execute_result"
    }
   ],
   "source": [
    "tsdf = pd.DataFrame(\n",
    "    np.random.randn(10, 3),\n",
    "    columns=[\"A\", \"B\", \"C\"],\n",
    "    index=pd.date_range(\"1/1/2000\", periods=10),\n",
    ")\n",
    "\n",
    "tsdf.iloc[3:7] = np.nan\n",
    "tsdf"
   ]
  },
  {
   "cell_type": "markdown",
   "id": "f8a19e38-9ec4-4380-ad48-b3edef66b984",
   "metadata": {
    "tags": []
   },
   "source": [
    "Transform the entire frame. `.transform()` allows input functions as: a NumPy function, a string\n",
    "function name or a user defined function."
   ]
  },
  {
   "cell_type": "code",
   "execution_count": 83,
   "id": "39198672-940f-49b6-a762-7498649917e8",
   "metadata": {
    "tags": []
   },
   "outputs": [
    {
     "data": {
      "text/html": [
       "<div>\n",
       "<style scoped>\n",
       "    .dataframe tbody tr th:only-of-type {\n",
       "        vertical-align: middle;\n",
       "    }\n",
       "\n",
       "    .dataframe tbody tr th {\n",
       "        vertical-align: top;\n",
       "    }\n",
       "\n",
       "    .dataframe thead th {\n",
       "        text-align: right;\n",
       "    }\n",
       "</style>\n",
       "<table border=\"1\" class=\"dataframe\">\n",
       "  <thead>\n",
       "    <tr style=\"text-align: right;\">\n",
       "      <th></th>\n",
       "      <th>A</th>\n",
       "      <th>B</th>\n",
       "      <th>C</th>\n",
       "    </tr>\n",
       "  </thead>\n",
       "  <tbody>\n",
       "    <tr>\n",
       "      <th>2000-01-01</th>\n",
       "      <td>1.906021</td>\n",
       "      <td>0.553495</td>\n",
       "      <td>0.001220</td>\n",
       "    </tr>\n",
       "    <tr>\n",
       "      <th>2000-01-02</th>\n",
       "      <td>0.714361</td>\n",
       "      <td>1.803843</td>\n",
       "      <td>0.690069</td>\n",
       "    </tr>\n",
       "    <tr>\n",
       "      <th>2000-01-03</th>\n",
       "      <td>0.699666</td>\n",
       "      <td>1.148266</td>\n",
       "      <td>0.870129</td>\n",
       "    </tr>\n",
       "    <tr>\n",
       "      <th>2000-01-04</th>\n",
       "      <td>NaN</td>\n",
       "      <td>NaN</td>\n",
       "      <td>NaN</td>\n",
       "    </tr>\n",
       "    <tr>\n",
       "      <th>2000-01-05</th>\n",
       "      <td>NaN</td>\n",
       "      <td>NaN</td>\n",
       "      <td>NaN</td>\n",
       "    </tr>\n",
       "    <tr>\n",
       "      <th>2000-01-06</th>\n",
       "      <td>NaN</td>\n",
       "      <td>NaN</td>\n",
       "      <td>NaN</td>\n",
       "    </tr>\n",
       "    <tr>\n",
       "      <th>2000-01-07</th>\n",
       "      <td>NaN</td>\n",
       "      <td>NaN</td>\n",
       "      <td>NaN</td>\n",
       "    </tr>\n",
       "    <tr>\n",
       "      <th>2000-01-08</th>\n",
       "      <td>0.774317</td>\n",
       "      <td>0.433686</td>\n",
       "      <td>0.568519</td>\n",
       "    </tr>\n",
       "    <tr>\n",
       "      <th>2000-01-09</th>\n",
       "      <td>1.130911</td>\n",
       "      <td>0.491484</td>\n",
       "      <td>0.109050</td>\n",
       "    </tr>\n",
       "    <tr>\n",
       "      <th>2000-01-10</th>\n",
       "      <td>0.009735</td>\n",
       "      <td>1.341069</td>\n",
       "      <td>1.260359</td>\n",
       "    </tr>\n",
       "  </tbody>\n",
       "</table>\n",
       "</div>"
      ],
      "text/plain": [
       "                   A         B         C\n",
       "2000-01-01  1.906021  0.553495  0.001220\n",
       "2000-01-02  0.714361  1.803843  0.690069\n",
       "2000-01-03  0.699666  1.148266  0.870129\n",
       "2000-01-04       NaN       NaN       NaN\n",
       "2000-01-05       NaN       NaN       NaN\n",
       "2000-01-06       NaN       NaN       NaN\n",
       "2000-01-07       NaN       NaN       NaN\n",
       "2000-01-08  0.774317  0.433686  0.568519\n",
       "2000-01-09  1.130911  0.491484  0.109050\n",
       "2000-01-10  0.009735  1.341069  1.260359"
      ]
     },
     "execution_count": 83,
     "metadata": {},
     "output_type": "execute_result"
    }
   ],
   "source": [
    "tsdf.transform(np.abs)"
   ]
  },
  {
   "cell_type": "code",
   "execution_count": 84,
   "id": "c68d2597-a142-4a71-b196-4ee0bcd6e6ac",
   "metadata": {
    "tags": []
   },
   "outputs": [
    {
     "data": {
      "text/html": [
       "<div>\n",
       "<style scoped>\n",
       "    .dataframe tbody tr th:only-of-type {\n",
       "        vertical-align: middle;\n",
       "    }\n",
       "\n",
       "    .dataframe tbody tr th {\n",
       "        vertical-align: top;\n",
       "    }\n",
       "\n",
       "    .dataframe thead th {\n",
       "        text-align: right;\n",
       "    }\n",
       "</style>\n",
       "<table border=\"1\" class=\"dataframe\">\n",
       "  <thead>\n",
       "    <tr style=\"text-align: right;\">\n",
       "      <th></th>\n",
       "      <th>A</th>\n",
       "      <th>B</th>\n",
       "      <th>C</th>\n",
       "    </tr>\n",
       "  </thead>\n",
       "  <tbody>\n",
       "    <tr>\n",
       "      <th>2000-01-01</th>\n",
       "      <td>1.906021</td>\n",
       "      <td>0.553495</td>\n",
       "      <td>0.001220</td>\n",
       "    </tr>\n",
       "    <tr>\n",
       "      <th>2000-01-02</th>\n",
       "      <td>0.714361</td>\n",
       "      <td>1.803843</td>\n",
       "      <td>0.690069</td>\n",
       "    </tr>\n",
       "    <tr>\n",
       "      <th>2000-01-03</th>\n",
       "      <td>0.699666</td>\n",
       "      <td>1.148266</td>\n",
       "      <td>0.870129</td>\n",
       "    </tr>\n",
       "    <tr>\n",
       "      <th>2000-01-04</th>\n",
       "      <td>NaN</td>\n",
       "      <td>NaN</td>\n",
       "      <td>NaN</td>\n",
       "    </tr>\n",
       "    <tr>\n",
       "      <th>2000-01-05</th>\n",
       "      <td>NaN</td>\n",
       "      <td>NaN</td>\n",
       "      <td>NaN</td>\n",
       "    </tr>\n",
       "    <tr>\n",
       "      <th>2000-01-06</th>\n",
       "      <td>NaN</td>\n",
       "      <td>NaN</td>\n",
       "      <td>NaN</td>\n",
       "    </tr>\n",
       "    <tr>\n",
       "      <th>2000-01-07</th>\n",
       "      <td>NaN</td>\n",
       "      <td>NaN</td>\n",
       "      <td>NaN</td>\n",
       "    </tr>\n",
       "    <tr>\n",
       "      <th>2000-01-08</th>\n",
       "      <td>0.774317</td>\n",
       "      <td>0.433686</td>\n",
       "      <td>0.568519</td>\n",
       "    </tr>\n",
       "    <tr>\n",
       "      <th>2000-01-09</th>\n",
       "      <td>1.130911</td>\n",
       "      <td>0.491484</td>\n",
       "      <td>0.109050</td>\n",
       "    </tr>\n",
       "    <tr>\n",
       "      <th>2000-01-10</th>\n",
       "      <td>0.009735</td>\n",
       "      <td>1.341069</td>\n",
       "      <td>1.260359</td>\n",
       "    </tr>\n",
       "  </tbody>\n",
       "</table>\n",
       "</div>"
      ],
      "text/plain": [
       "                   A         B         C\n",
       "2000-01-01  1.906021  0.553495  0.001220\n",
       "2000-01-02  0.714361  1.803843  0.690069\n",
       "2000-01-03  0.699666  1.148266  0.870129\n",
       "2000-01-04       NaN       NaN       NaN\n",
       "2000-01-05       NaN       NaN       NaN\n",
       "2000-01-06       NaN       NaN       NaN\n",
       "2000-01-07       NaN       NaN       NaN\n",
       "2000-01-08  0.774317  0.433686  0.568519\n",
       "2000-01-09  1.130911  0.491484  0.109050\n",
       "2000-01-10  0.009735  1.341069  1.260359"
      ]
     },
     "execution_count": 84,
     "metadata": {},
     "output_type": "execute_result"
    }
   ],
   "source": [
    "tsdf.transform(\"abs\")"
   ]
  },
  {
   "cell_type": "code",
   "execution_count": 85,
   "id": "9065f7e3-e9ab-4190-b549-04f9d154992c",
   "metadata": {
    "tags": []
   },
   "outputs": [
    {
     "data": {
      "text/html": [
       "<div>\n",
       "<style scoped>\n",
       "    .dataframe tbody tr th:only-of-type {\n",
       "        vertical-align: middle;\n",
       "    }\n",
       "\n",
       "    .dataframe tbody tr th {\n",
       "        vertical-align: top;\n",
       "    }\n",
       "\n",
       "    .dataframe thead th {\n",
       "        text-align: right;\n",
       "    }\n",
       "</style>\n",
       "<table border=\"1\" class=\"dataframe\">\n",
       "  <thead>\n",
       "    <tr style=\"text-align: right;\">\n",
       "      <th></th>\n",
       "      <th>A</th>\n",
       "      <th>B</th>\n",
       "      <th>C</th>\n",
       "    </tr>\n",
       "  </thead>\n",
       "  <tbody>\n",
       "    <tr>\n",
       "      <th>2000-01-01</th>\n",
       "      <td>1.906021</td>\n",
       "      <td>0.553495</td>\n",
       "      <td>0.001220</td>\n",
       "    </tr>\n",
       "    <tr>\n",
       "      <th>2000-01-02</th>\n",
       "      <td>0.714361</td>\n",
       "      <td>1.803843</td>\n",
       "      <td>0.690069</td>\n",
       "    </tr>\n",
       "    <tr>\n",
       "      <th>2000-01-03</th>\n",
       "      <td>0.699666</td>\n",
       "      <td>1.148266</td>\n",
       "      <td>0.870129</td>\n",
       "    </tr>\n",
       "    <tr>\n",
       "      <th>2000-01-04</th>\n",
       "      <td>NaN</td>\n",
       "      <td>NaN</td>\n",
       "      <td>NaN</td>\n",
       "    </tr>\n",
       "    <tr>\n",
       "      <th>2000-01-05</th>\n",
       "      <td>NaN</td>\n",
       "      <td>NaN</td>\n",
       "      <td>NaN</td>\n",
       "    </tr>\n",
       "    <tr>\n",
       "      <th>2000-01-06</th>\n",
       "      <td>NaN</td>\n",
       "      <td>NaN</td>\n",
       "      <td>NaN</td>\n",
       "    </tr>\n",
       "    <tr>\n",
       "      <th>2000-01-07</th>\n",
       "      <td>NaN</td>\n",
       "      <td>NaN</td>\n",
       "      <td>NaN</td>\n",
       "    </tr>\n",
       "    <tr>\n",
       "      <th>2000-01-08</th>\n",
       "      <td>0.774317</td>\n",
       "      <td>0.433686</td>\n",
       "      <td>0.568519</td>\n",
       "    </tr>\n",
       "    <tr>\n",
       "      <th>2000-01-09</th>\n",
       "      <td>1.130911</td>\n",
       "      <td>0.491484</td>\n",
       "      <td>0.109050</td>\n",
       "    </tr>\n",
       "    <tr>\n",
       "      <th>2000-01-10</th>\n",
       "      <td>0.009735</td>\n",
       "      <td>1.341069</td>\n",
       "      <td>1.260359</td>\n",
       "    </tr>\n",
       "  </tbody>\n",
       "</table>\n",
       "</div>"
      ],
      "text/plain": [
       "                   A         B         C\n",
       "2000-01-01  1.906021  0.553495  0.001220\n",
       "2000-01-02  0.714361  1.803843  0.690069\n",
       "2000-01-03  0.699666  1.148266  0.870129\n",
       "2000-01-04       NaN       NaN       NaN\n",
       "2000-01-05       NaN       NaN       NaN\n",
       "2000-01-06       NaN       NaN       NaN\n",
       "2000-01-07       NaN       NaN       NaN\n",
       "2000-01-08  0.774317  0.433686  0.568519\n",
       "2000-01-09  1.130911  0.491484  0.109050\n",
       "2000-01-10  0.009735  1.341069  1.260359"
      ]
     },
     "execution_count": 85,
     "metadata": {},
     "output_type": "execute_result"
    }
   ],
   "source": [
    "tsdf.transform(lambda x: x.abs())"
   ]
  },
  {
   "cell_type": "markdown",
   "id": "df66390b-05ac-456f-93e1-83b9286e8dfd",
   "metadata": {},
   "source": [
    "Here `transform()` received a single function; this is equivalent to a ufunc application."
   ]
  },
  {
   "cell_type": "code",
   "execution_count": 86,
   "id": "3d5ca687-059b-4e2a-9879-9da4c58d725f",
   "metadata": {
    "tags": []
   },
   "outputs": [
    {
     "data": {
      "text/html": [
       "<div>\n",
       "<style scoped>\n",
       "    .dataframe tbody tr th:only-of-type {\n",
       "        vertical-align: middle;\n",
       "    }\n",
       "\n",
       "    .dataframe tbody tr th {\n",
       "        vertical-align: top;\n",
       "    }\n",
       "\n",
       "    .dataframe thead th {\n",
       "        text-align: right;\n",
       "    }\n",
       "</style>\n",
       "<table border=\"1\" class=\"dataframe\">\n",
       "  <thead>\n",
       "    <tr style=\"text-align: right;\">\n",
       "      <th></th>\n",
       "      <th>A</th>\n",
       "      <th>B</th>\n",
       "      <th>C</th>\n",
       "    </tr>\n",
       "  </thead>\n",
       "  <tbody>\n",
       "    <tr>\n",
       "      <th>2000-01-01</th>\n",
       "      <td>1.906021</td>\n",
       "      <td>0.553495</td>\n",
       "      <td>0.001220</td>\n",
       "    </tr>\n",
       "    <tr>\n",
       "      <th>2000-01-02</th>\n",
       "      <td>0.714361</td>\n",
       "      <td>1.803843</td>\n",
       "      <td>0.690069</td>\n",
       "    </tr>\n",
       "    <tr>\n",
       "      <th>2000-01-03</th>\n",
       "      <td>0.699666</td>\n",
       "      <td>1.148266</td>\n",
       "      <td>0.870129</td>\n",
       "    </tr>\n",
       "    <tr>\n",
       "      <th>2000-01-04</th>\n",
       "      <td>NaN</td>\n",
       "      <td>NaN</td>\n",
       "      <td>NaN</td>\n",
       "    </tr>\n",
       "    <tr>\n",
       "      <th>2000-01-05</th>\n",
       "      <td>NaN</td>\n",
       "      <td>NaN</td>\n",
       "      <td>NaN</td>\n",
       "    </tr>\n",
       "    <tr>\n",
       "      <th>2000-01-06</th>\n",
       "      <td>NaN</td>\n",
       "      <td>NaN</td>\n",
       "      <td>NaN</td>\n",
       "    </tr>\n",
       "    <tr>\n",
       "      <th>2000-01-07</th>\n",
       "      <td>NaN</td>\n",
       "      <td>NaN</td>\n",
       "      <td>NaN</td>\n",
       "    </tr>\n",
       "    <tr>\n",
       "      <th>2000-01-08</th>\n",
       "      <td>0.774317</td>\n",
       "      <td>0.433686</td>\n",
       "      <td>0.568519</td>\n",
       "    </tr>\n",
       "    <tr>\n",
       "      <th>2000-01-09</th>\n",
       "      <td>1.130911</td>\n",
       "      <td>0.491484</td>\n",
       "      <td>0.109050</td>\n",
       "    </tr>\n",
       "    <tr>\n",
       "      <th>2000-01-10</th>\n",
       "      <td>0.009735</td>\n",
       "      <td>1.341069</td>\n",
       "      <td>1.260359</td>\n",
       "    </tr>\n",
       "  </tbody>\n",
       "</table>\n",
       "</div>"
      ],
      "text/plain": [
       "                   A         B         C\n",
       "2000-01-01  1.906021  0.553495  0.001220\n",
       "2000-01-02  0.714361  1.803843  0.690069\n",
       "2000-01-03  0.699666  1.148266  0.870129\n",
       "2000-01-04       NaN       NaN       NaN\n",
       "2000-01-05       NaN       NaN       NaN\n",
       "2000-01-06       NaN       NaN       NaN\n",
       "2000-01-07       NaN       NaN       NaN\n",
       "2000-01-08  0.774317  0.433686  0.568519\n",
       "2000-01-09  1.130911  0.491484  0.109050\n",
       "2000-01-10  0.009735  1.341069  1.260359"
      ]
     },
     "execution_count": 86,
     "metadata": {},
     "output_type": "execute_result"
    }
   ],
   "source": [
    "np.abs(tsdf)"
   ]
  },
  {
   "cell_type": "markdown",
   "id": "62c50fee-2893-4fb1-b351-f4b2bf1174d2",
   "metadata": {},
   "source": [
    "Passing a single function to `.transform()` with a `Series` will yield a single `Series` in return."
   ]
  },
  {
   "cell_type": "code",
   "execution_count": 87,
   "id": "8bd06067-9325-4380-8e37-239190010695",
   "metadata": {
    "tags": []
   },
   "outputs": [
    {
     "data": {
      "text/plain": [
       "2000-01-01    1.906021\n",
       "2000-01-02    0.714361\n",
       "2000-01-03    0.699666\n",
       "2000-01-04         NaN\n",
       "2000-01-05         NaN\n",
       "2000-01-06         NaN\n",
       "2000-01-07         NaN\n",
       "2000-01-08    0.774317\n",
       "2000-01-09    1.130911\n",
       "2000-01-10    0.009735\n",
       "Freq: D, Name: A, dtype: float64"
      ]
     },
     "execution_count": 87,
     "metadata": {},
     "output_type": "execute_result"
    }
   ],
   "source": [
    "tsdf[\"A\"].transform(np.abs)"
   ]
  },
  {
   "cell_type": "markdown",
   "id": "226d0ea9-4b9b-438f-9b0a-c6c6360bece6",
   "metadata": {},
   "source": [
    "### Transform with multiple functions"
   ]
  },
  {
   "cell_type": "markdown",
   "id": "6afa1255-1255-4438-96e4-e9768c3da60e",
   "metadata": {},
   "source": [
    "Passing multiple functions will yield a column MultiIndexed DataFrame.\n",
    "The first level will be the original frame column names; the second level\n",
    "will be the names of the transforming functions."
   ]
  },
  {
   "cell_type": "code",
   "execution_count": 88,
   "id": "9542af68-22b3-47eb-b12b-1aeea4f557c5",
   "metadata": {
    "tags": []
   },
   "outputs": [
    {
     "data": {
      "text/html": [
       "<div>\n",
       "<style scoped>\n",
       "    .dataframe tbody tr th:only-of-type {\n",
       "        vertical-align: middle;\n",
       "    }\n",
       "\n",
       "    .dataframe tbody tr th {\n",
       "        vertical-align: top;\n",
       "    }\n",
       "\n",
       "    .dataframe thead tr th {\n",
       "        text-align: left;\n",
       "    }\n",
       "</style>\n",
       "<table border=\"1\" class=\"dataframe\">\n",
       "  <thead>\n",
       "    <tr>\n",
       "      <th></th>\n",
       "      <th colspan=\"2\" halign=\"left\">A</th>\n",
       "      <th colspan=\"2\" halign=\"left\">B</th>\n",
       "      <th colspan=\"2\" halign=\"left\">C</th>\n",
       "    </tr>\n",
       "    <tr>\n",
       "      <th></th>\n",
       "      <th>absolute</th>\n",
       "      <th>&lt;lambda&gt;</th>\n",
       "      <th>absolute</th>\n",
       "      <th>&lt;lambda&gt;</th>\n",
       "      <th>absolute</th>\n",
       "      <th>&lt;lambda&gt;</th>\n",
       "    </tr>\n",
       "  </thead>\n",
       "  <tbody>\n",
       "    <tr>\n",
       "      <th>2000-01-01</th>\n",
       "      <td>1.906021</td>\n",
       "      <td>-0.906021</td>\n",
       "      <td>0.553495</td>\n",
       "      <td>1.553495</td>\n",
       "      <td>0.001220</td>\n",
       "      <td>0.998780</td>\n",
       "    </tr>\n",
       "    <tr>\n",
       "      <th>2000-01-02</th>\n",
       "      <td>0.714361</td>\n",
       "      <td>0.285639</td>\n",
       "      <td>1.803843</td>\n",
       "      <td>-0.803843</td>\n",
       "      <td>0.690069</td>\n",
       "      <td>0.309931</td>\n",
       "    </tr>\n",
       "    <tr>\n",
       "      <th>2000-01-03</th>\n",
       "      <td>0.699666</td>\n",
       "      <td>1.699666</td>\n",
       "      <td>1.148266</td>\n",
       "      <td>2.148266</td>\n",
       "      <td>0.870129</td>\n",
       "      <td>1.870129</td>\n",
       "    </tr>\n",
       "    <tr>\n",
       "      <th>2000-01-04</th>\n",
       "      <td>NaN</td>\n",
       "      <td>NaN</td>\n",
       "      <td>NaN</td>\n",
       "      <td>NaN</td>\n",
       "      <td>NaN</td>\n",
       "      <td>NaN</td>\n",
       "    </tr>\n",
       "    <tr>\n",
       "      <th>2000-01-05</th>\n",
       "      <td>NaN</td>\n",
       "      <td>NaN</td>\n",
       "      <td>NaN</td>\n",
       "      <td>NaN</td>\n",
       "      <td>NaN</td>\n",
       "      <td>NaN</td>\n",
       "    </tr>\n",
       "    <tr>\n",
       "      <th>2000-01-06</th>\n",
       "      <td>NaN</td>\n",
       "      <td>NaN</td>\n",
       "      <td>NaN</td>\n",
       "      <td>NaN</td>\n",
       "      <td>NaN</td>\n",
       "      <td>NaN</td>\n",
       "    </tr>\n",
       "    <tr>\n",
       "      <th>2000-01-07</th>\n",
       "      <td>NaN</td>\n",
       "      <td>NaN</td>\n",
       "      <td>NaN</td>\n",
       "      <td>NaN</td>\n",
       "      <td>NaN</td>\n",
       "      <td>NaN</td>\n",
       "    </tr>\n",
       "    <tr>\n",
       "      <th>2000-01-08</th>\n",
       "      <td>0.774317</td>\n",
       "      <td>0.225683</td>\n",
       "      <td>0.433686</td>\n",
       "      <td>0.566314</td>\n",
       "      <td>0.568519</td>\n",
       "      <td>1.568519</td>\n",
       "    </tr>\n",
       "    <tr>\n",
       "      <th>2000-01-09</th>\n",
       "      <td>1.130911</td>\n",
       "      <td>-0.130911</td>\n",
       "      <td>0.491484</td>\n",
       "      <td>0.508516</td>\n",
       "      <td>0.109050</td>\n",
       "      <td>1.109050</td>\n",
       "    </tr>\n",
       "    <tr>\n",
       "      <th>2000-01-10</th>\n",
       "      <td>0.009735</td>\n",
       "      <td>0.990265</td>\n",
       "      <td>1.341069</td>\n",
       "      <td>-0.341069</td>\n",
       "      <td>1.260359</td>\n",
       "      <td>2.260359</td>\n",
       "    </tr>\n",
       "  </tbody>\n",
       "</table>\n",
       "</div>"
      ],
      "text/plain": [
       "                   A                   B                   C          \n",
       "            absolute  <lambda>  absolute  <lambda>  absolute  <lambda>\n",
       "2000-01-01  1.906021 -0.906021  0.553495  1.553495  0.001220  0.998780\n",
       "2000-01-02  0.714361  0.285639  1.803843 -0.803843  0.690069  0.309931\n",
       "2000-01-03  0.699666  1.699666  1.148266  2.148266  0.870129  1.870129\n",
       "2000-01-04       NaN       NaN       NaN       NaN       NaN       NaN\n",
       "2000-01-05       NaN       NaN       NaN       NaN       NaN       NaN\n",
       "2000-01-06       NaN       NaN       NaN       NaN       NaN       NaN\n",
       "2000-01-07       NaN       NaN       NaN       NaN       NaN       NaN\n",
       "2000-01-08  0.774317  0.225683  0.433686  0.566314  0.568519  1.568519\n",
       "2000-01-09  1.130911 -0.130911  0.491484  0.508516  0.109050  1.109050\n",
       "2000-01-10  0.009735  0.990265  1.341069 -0.341069  1.260359  2.260359"
      ]
     },
     "execution_count": 88,
     "metadata": {},
     "output_type": "execute_result"
    }
   ],
   "source": [
    "tsdf.transform([np.abs, lambda x: x + 1])"
   ]
  },
  {
   "cell_type": "markdown",
   "id": "ab245778-b6fb-4f22-80bf-bfb3945726b4",
   "metadata": {},
   "source": [
    "Passing multiple functions to a Series will yield a DataFrame. The\n",
    "resulting column names will be the transforming functions."
   ]
  },
  {
   "cell_type": "code",
   "execution_count": 89,
   "id": "fd5684dd-5148-42fa-88de-9edcddea4351",
   "metadata": {
    "tags": []
   },
   "outputs": [
    {
     "data": {
      "text/html": [
       "<div>\n",
       "<style scoped>\n",
       "    .dataframe tbody tr th:only-of-type {\n",
       "        vertical-align: middle;\n",
       "    }\n",
       "\n",
       "    .dataframe tbody tr th {\n",
       "        vertical-align: top;\n",
       "    }\n",
       "\n",
       "    .dataframe thead th {\n",
       "        text-align: right;\n",
       "    }\n",
       "</style>\n",
       "<table border=\"1\" class=\"dataframe\">\n",
       "  <thead>\n",
       "    <tr style=\"text-align: right;\">\n",
       "      <th></th>\n",
       "      <th>absolute</th>\n",
       "      <th>&lt;lambda&gt;</th>\n",
       "    </tr>\n",
       "  </thead>\n",
       "  <tbody>\n",
       "    <tr>\n",
       "      <th>2000-01-01</th>\n",
       "      <td>1.906021</td>\n",
       "      <td>-0.906021</td>\n",
       "    </tr>\n",
       "    <tr>\n",
       "      <th>2000-01-02</th>\n",
       "      <td>0.714361</td>\n",
       "      <td>0.285639</td>\n",
       "    </tr>\n",
       "    <tr>\n",
       "      <th>2000-01-03</th>\n",
       "      <td>0.699666</td>\n",
       "      <td>1.699666</td>\n",
       "    </tr>\n",
       "    <tr>\n",
       "      <th>2000-01-04</th>\n",
       "      <td>NaN</td>\n",
       "      <td>NaN</td>\n",
       "    </tr>\n",
       "    <tr>\n",
       "      <th>2000-01-05</th>\n",
       "      <td>NaN</td>\n",
       "      <td>NaN</td>\n",
       "    </tr>\n",
       "    <tr>\n",
       "      <th>2000-01-06</th>\n",
       "      <td>NaN</td>\n",
       "      <td>NaN</td>\n",
       "    </tr>\n",
       "    <tr>\n",
       "      <th>2000-01-07</th>\n",
       "      <td>NaN</td>\n",
       "      <td>NaN</td>\n",
       "    </tr>\n",
       "    <tr>\n",
       "      <th>2000-01-08</th>\n",
       "      <td>0.774317</td>\n",
       "      <td>0.225683</td>\n",
       "    </tr>\n",
       "    <tr>\n",
       "      <th>2000-01-09</th>\n",
       "      <td>1.130911</td>\n",
       "      <td>-0.130911</td>\n",
       "    </tr>\n",
       "    <tr>\n",
       "      <th>2000-01-10</th>\n",
       "      <td>0.009735</td>\n",
       "      <td>0.990265</td>\n",
       "    </tr>\n",
       "  </tbody>\n",
       "</table>\n",
       "</div>"
      ],
      "text/plain": [
       "            absolute  <lambda>\n",
       "2000-01-01  1.906021 -0.906021\n",
       "2000-01-02  0.714361  0.285639\n",
       "2000-01-03  0.699666  1.699666\n",
       "2000-01-04       NaN       NaN\n",
       "2000-01-05       NaN       NaN\n",
       "2000-01-06       NaN       NaN\n",
       "2000-01-07       NaN       NaN\n",
       "2000-01-08  0.774317  0.225683\n",
       "2000-01-09  1.130911 -0.130911\n",
       "2000-01-10  0.009735  0.990265"
      ]
     },
     "execution_count": 89,
     "metadata": {},
     "output_type": "execute_result"
    }
   ],
   "source": [
    "tsdf[\"A\"].transform([np.abs, lambda x: x + 1])"
   ]
  },
  {
   "cell_type": "markdown",
   "id": "8edfff64-3005-4cd6-8519-4697558ea5b6",
   "metadata": {},
   "source": [
    "### Transforming with a dict"
   ]
  },
  {
   "cell_type": "markdown",
   "id": "8c5f80c2-95d5-48d6-b7f2-31f7d367c823",
   "metadata": {},
   "source": [
    "Passing a dict of functions will allow selective transforming per column."
   ]
  },
  {
   "cell_type": "code",
   "execution_count": 90,
   "id": "9b02f59c-f990-4e4b-b9f3-5151f0a27f63",
   "metadata": {
    "tags": []
   },
   "outputs": [
    {
     "data": {
      "text/html": [
       "<div>\n",
       "<style scoped>\n",
       "    .dataframe tbody tr th:only-of-type {\n",
       "        vertical-align: middle;\n",
       "    }\n",
       "\n",
       "    .dataframe tbody tr th {\n",
       "        vertical-align: top;\n",
       "    }\n",
       "\n",
       "    .dataframe thead th {\n",
       "        text-align: right;\n",
       "    }\n",
       "</style>\n",
       "<table border=\"1\" class=\"dataframe\">\n",
       "  <thead>\n",
       "    <tr style=\"text-align: right;\">\n",
       "      <th></th>\n",
       "      <th>A</th>\n",
       "      <th>B</th>\n",
       "    </tr>\n",
       "  </thead>\n",
       "  <tbody>\n",
       "    <tr>\n",
       "      <th>2000-01-01</th>\n",
       "      <td>1.906021</td>\n",
       "      <td>1.553495</td>\n",
       "    </tr>\n",
       "    <tr>\n",
       "      <th>2000-01-02</th>\n",
       "      <td>0.714361</td>\n",
       "      <td>-0.803843</td>\n",
       "    </tr>\n",
       "    <tr>\n",
       "      <th>2000-01-03</th>\n",
       "      <td>0.699666</td>\n",
       "      <td>2.148266</td>\n",
       "    </tr>\n",
       "    <tr>\n",
       "      <th>2000-01-04</th>\n",
       "      <td>NaN</td>\n",
       "      <td>NaN</td>\n",
       "    </tr>\n",
       "    <tr>\n",
       "      <th>2000-01-05</th>\n",
       "      <td>NaN</td>\n",
       "      <td>NaN</td>\n",
       "    </tr>\n",
       "    <tr>\n",
       "      <th>2000-01-06</th>\n",
       "      <td>NaN</td>\n",
       "      <td>NaN</td>\n",
       "    </tr>\n",
       "    <tr>\n",
       "      <th>2000-01-07</th>\n",
       "      <td>NaN</td>\n",
       "      <td>NaN</td>\n",
       "    </tr>\n",
       "    <tr>\n",
       "      <th>2000-01-08</th>\n",
       "      <td>0.774317</td>\n",
       "      <td>0.566314</td>\n",
       "    </tr>\n",
       "    <tr>\n",
       "      <th>2000-01-09</th>\n",
       "      <td>1.130911</td>\n",
       "      <td>0.508516</td>\n",
       "    </tr>\n",
       "    <tr>\n",
       "      <th>2000-01-10</th>\n",
       "      <td>0.009735</td>\n",
       "      <td>-0.341069</td>\n",
       "    </tr>\n",
       "  </tbody>\n",
       "</table>\n",
       "</div>"
      ],
      "text/plain": [
       "                   A         B\n",
       "2000-01-01  1.906021  1.553495\n",
       "2000-01-02  0.714361 -0.803843\n",
       "2000-01-03  0.699666  2.148266\n",
       "2000-01-04       NaN       NaN\n",
       "2000-01-05       NaN       NaN\n",
       "2000-01-06       NaN       NaN\n",
       "2000-01-07       NaN       NaN\n",
       "2000-01-08  0.774317  0.566314\n",
       "2000-01-09  1.130911  0.508516\n",
       "2000-01-10  0.009735 -0.341069"
      ]
     },
     "execution_count": 90,
     "metadata": {},
     "output_type": "execute_result"
    }
   ],
   "source": [
    "tsdf.transform({\"A\": np.abs, \"B\": lambda x: x + 1})"
   ]
  },
  {
   "cell_type": "markdown",
   "id": "d20c7c57-e60b-4481-bda2-92a45d1ff0d2",
   "metadata": {},
   "source": [
    "Passing a dict of lists will generate a MultiIndexed DataFrame with these\n",
    "selective transforms."
   ]
  },
  {
   "cell_type": "code",
   "execution_count": 91,
   "id": "a51550c9-62cf-4ae3-b5db-107e4a87ca04",
   "metadata": {
    "tags": []
   },
   "outputs": [
    {
     "name": "stderr",
     "output_type": "stream",
     "text": [
      "/home/ali/anaconda3/envs/my_learning/lib/python3.11/site-packages/pandas/core/arraylike.py:396: RuntimeWarning: invalid value encountered in sqrt\n",
      "  result = getattr(ufunc, method)(*inputs, **kwargs)\n"
     ]
    },
    {
     "data": {
      "text/html": [
       "<div>\n",
       "<style scoped>\n",
       "    .dataframe tbody tr th:only-of-type {\n",
       "        vertical-align: middle;\n",
       "    }\n",
       "\n",
       "    .dataframe tbody tr th {\n",
       "        vertical-align: top;\n",
       "    }\n",
       "\n",
       "    .dataframe thead tr th {\n",
       "        text-align: left;\n",
       "    }\n",
       "</style>\n",
       "<table border=\"1\" class=\"dataframe\">\n",
       "  <thead>\n",
       "    <tr>\n",
       "      <th></th>\n",
       "      <th>A</th>\n",
       "      <th colspan=\"2\" halign=\"left\">B</th>\n",
       "    </tr>\n",
       "    <tr>\n",
       "      <th></th>\n",
       "      <th>absolute</th>\n",
       "      <th>&lt;lambda&gt;</th>\n",
       "      <th>sqrt</th>\n",
       "    </tr>\n",
       "  </thead>\n",
       "  <tbody>\n",
       "    <tr>\n",
       "      <th>2000-01-01</th>\n",
       "      <td>1.906021</td>\n",
       "      <td>1.553495</td>\n",
       "      <td>0.743972</td>\n",
       "    </tr>\n",
       "    <tr>\n",
       "      <th>2000-01-02</th>\n",
       "      <td>0.714361</td>\n",
       "      <td>-0.803843</td>\n",
       "      <td>NaN</td>\n",
       "    </tr>\n",
       "    <tr>\n",
       "      <th>2000-01-03</th>\n",
       "      <td>0.699666</td>\n",
       "      <td>2.148266</td>\n",
       "      <td>1.071572</td>\n",
       "    </tr>\n",
       "    <tr>\n",
       "      <th>2000-01-04</th>\n",
       "      <td>NaN</td>\n",
       "      <td>NaN</td>\n",
       "      <td>NaN</td>\n",
       "    </tr>\n",
       "    <tr>\n",
       "      <th>2000-01-05</th>\n",
       "      <td>NaN</td>\n",
       "      <td>NaN</td>\n",
       "      <td>NaN</td>\n",
       "    </tr>\n",
       "    <tr>\n",
       "      <th>2000-01-06</th>\n",
       "      <td>NaN</td>\n",
       "      <td>NaN</td>\n",
       "      <td>NaN</td>\n",
       "    </tr>\n",
       "    <tr>\n",
       "      <th>2000-01-07</th>\n",
       "      <td>NaN</td>\n",
       "      <td>NaN</td>\n",
       "      <td>NaN</td>\n",
       "    </tr>\n",
       "    <tr>\n",
       "      <th>2000-01-08</th>\n",
       "      <td>0.774317</td>\n",
       "      <td>0.566314</td>\n",
       "      <td>NaN</td>\n",
       "    </tr>\n",
       "    <tr>\n",
       "      <th>2000-01-09</th>\n",
       "      <td>1.130911</td>\n",
       "      <td>0.508516</td>\n",
       "      <td>NaN</td>\n",
       "    </tr>\n",
       "    <tr>\n",
       "      <th>2000-01-10</th>\n",
       "      <td>0.009735</td>\n",
       "      <td>-0.341069</td>\n",
       "      <td>NaN</td>\n",
       "    </tr>\n",
       "  </tbody>\n",
       "</table>\n",
       "</div>"
      ],
      "text/plain": [
       "                   A         B          \n",
       "            absolute  <lambda>      sqrt\n",
       "2000-01-01  1.906021  1.553495  0.743972\n",
       "2000-01-02  0.714361 -0.803843       NaN\n",
       "2000-01-03  0.699666  2.148266  1.071572\n",
       "2000-01-04       NaN       NaN       NaN\n",
       "2000-01-05       NaN       NaN       NaN\n",
       "2000-01-06       NaN       NaN       NaN\n",
       "2000-01-07       NaN       NaN       NaN\n",
       "2000-01-08  0.774317  0.566314       NaN\n",
       "2000-01-09  1.130911  0.508516       NaN\n",
       "2000-01-10  0.009735 -0.341069       NaN"
      ]
     },
     "execution_count": 91,
     "metadata": {},
     "output_type": "execute_result"
    }
   ],
   "source": [
    "tsdf.transform({\"A\": np.abs, \"B\": [lambda x: x + 1, \"sqrt\"]})"
   ]
  },
  {
   "cell_type": "markdown",
   "id": "0cb64db0-db67-41a4-8232-719a61e0a550",
   "metadata": {},
   "source": [
    "**Note**:Two major differences between apply and transform\n",
    "\n",
    "There are two major differences between the `transform` and `apply` `groupby` methods.\n",
    "\n",
    "- **Input:**\n",
    "    - apply implicitly passes all the columns for each group as a DataFrame to the custom function.\n",
    "    - while transform passes each column for each group individually as a Series to the custom function.\n",
    "- **Output:**\n",
    "    - The custom function passed to apply can return a scalar, or a Series or DataFrame (or numpy array or even list).\n",
    "    - The custom function passed to transform must return a sequence (a one dimensional Series, array or list) the same length as the group.\n",
    "\n",
    "So, transform works on just one Series at a time and apply works on the entire DataFrame at once."
   ]
  },
  {
   "cell_type": "code",
   "execution_count": 92,
   "id": "f21e21bb-5cb2-4ef4-8de0-80ab7f1a325a",
   "metadata": {
    "tags": []
   },
   "outputs": [
    {
     "data": {
      "text/plain": [
       "one      3.581871\n",
       "two      2.652182\n",
       "three   -1.277312\n",
       "dtype: float64"
      ]
     },
     "execution_count": 92,
     "metadata": {},
     "output_type": "execute_result"
    }
   ],
   "source": [
    "# df.transform(np.sum) --> raises ValueError: Function did not transform\n",
    "df.apply(np.sum)"
   ]
  },
  {
   "cell_type": "code",
   "execution_count": 93,
   "id": "447f6eb6-2459-4e8b-aa60-e54dd6d5c597",
   "metadata": {
    "tags": []
   },
   "outputs": [],
   "source": [
    "def add_two_columns(df):\n",
    "    return df['one'] + df['two']"
   ]
  },
  {
   "cell_type": "code",
   "execution_count": 94,
   "id": "03003884-9f0a-4023-bbc7-d48bb9e61447",
   "metadata": {
    "tags": []
   },
   "outputs": [
    {
     "data": {
      "text/plain": [
       "a    2.560767\n",
       "b    1.039208\n",
       "c    2.144729\n",
       "d         NaN\n",
       "dtype: float64"
      ]
     },
     "execution_count": 94,
     "metadata": {},
     "output_type": "execute_result"
    }
   ],
   "source": [
    "# df.transform(add_two_columns, axis='columns') --> raises ValueError: Function did not transform\n",
    "df.apply(add_two_columns, axis='columns')"
   ]
  },
  {
   "cell_type": "code",
   "execution_count": 95,
   "id": "8ac34a39-2b5c-471c-b983-0d402c622a22",
   "metadata": {
    "tags": []
   },
   "outputs": [],
   "source": [
    "def add_1(s):\n",
    "    return s + 1"
   ]
  },
  {
   "cell_type": "code",
   "execution_count": 96,
   "id": "e3c25def-824d-4117-b42a-f1fc2a48d4a4",
   "metadata": {
    "tags": []
   },
   "outputs": [
    {
     "data": {
      "text/html": [
       "<div>\n",
       "<style scoped>\n",
       "    .dataframe tbody tr th:only-of-type {\n",
       "        vertical-align: middle;\n",
       "    }\n",
       "\n",
       "    .dataframe tbody tr th {\n",
       "        vertical-align: top;\n",
       "    }\n",
       "\n",
       "    .dataframe thead th {\n",
       "        text-align: right;\n",
       "    }\n",
       "</style>\n",
       "<table border=\"1\" class=\"dataframe\">\n",
       "  <thead>\n",
       "    <tr style=\"text-align: right;\">\n",
       "      <th></th>\n",
       "      <th>one</th>\n",
       "      <th>two</th>\n",
       "      <th>three</th>\n",
       "    </tr>\n",
       "  </thead>\n",
       "  <tbody>\n",
       "    <tr>\n",
       "      <th>a</th>\n",
       "      <td>3.362582</td>\n",
       "      <td>1.198185</td>\n",
       "      <td>NaN</td>\n",
       "    </tr>\n",
       "    <tr>\n",
       "      <th>b</th>\n",
       "      <td>1.396149</td>\n",
       "      <td>1.643059</td>\n",
       "      <td>-0.193403</td>\n",
       "    </tr>\n",
       "    <tr>\n",
       "      <th>c</th>\n",
       "      <td>1.823140</td>\n",
       "      <td>2.321589</td>\n",
       "      <td>0.377956</td>\n",
       "    </tr>\n",
       "    <tr>\n",
       "      <th>d</th>\n",
       "      <td>NaN</td>\n",
       "      <td>1.489348</td>\n",
       "      <td>1.538136</td>\n",
       "    </tr>\n",
       "  </tbody>\n",
       "</table>\n",
       "</div>"
      ],
      "text/plain": [
       "        one       two     three\n",
       "a  3.362582  1.198185       NaN\n",
       "b  1.396149  1.643059 -0.193403\n",
       "c  1.823140  2.321589  0.377956\n",
       "d       NaN  1.489348  1.538136"
      ]
     },
     "execution_count": 96,
     "metadata": {},
     "output_type": "execute_result"
    }
   ],
   "source": [
    "df.transform(add_1)"
   ]
  },
  {
   "cell_type": "code",
   "execution_count": 97,
   "id": "ce2b4635-7b60-4ac1-a94c-07e85c466b3e",
   "metadata": {
    "tags": []
   },
   "outputs": [
    {
     "data": {
      "text/html": [
       "<div>\n",
       "<style scoped>\n",
       "    .dataframe tbody tr th:only-of-type {\n",
       "        vertical-align: middle;\n",
       "    }\n",
       "\n",
       "    .dataframe tbody tr th {\n",
       "        vertical-align: top;\n",
       "    }\n",
       "\n",
       "    .dataframe thead th {\n",
       "        text-align: right;\n",
       "    }\n",
       "</style>\n",
       "<table border=\"1\" class=\"dataframe\">\n",
       "  <thead>\n",
       "    <tr style=\"text-align: right;\">\n",
       "      <th></th>\n",
       "      <th>one</th>\n",
       "      <th>two</th>\n",
       "      <th>three</th>\n",
       "    </tr>\n",
       "  </thead>\n",
       "  <tbody>\n",
       "    <tr>\n",
       "      <th>a</th>\n",
       "      <td>3.362582</td>\n",
       "      <td>1.198185</td>\n",
       "      <td>NaN</td>\n",
       "    </tr>\n",
       "    <tr>\n",
       "      <th>b</th>\n",
       "      <td>1.396149</td>\n",
       "      <td>1.643059</td>\n",
       "      <td>-0.193403</td>\n",
       "    </tr>\n",
       "    <tr>\n",
       "      <th>c</th>\n",
       "      <td>1.823140</td>\n",
       "      <td>2.321589</td>\n",
       "      <td>0.377956</td>\n",
       "    </tr>\n",
       "    <tr>\n",
       "      <th>d</th>\n",
       "      <td>NaN</td>\n",
       "      <td>1.489348</td>\n",
       "      <td>1.538136</td>\n",
       "    </tr>\n",
       "  </tbody>\n",
       "</table>\n",
       "</div>"
      ],
      "text/plain": [
       "        one       two     three\n",
       "a  3.362582  1.198185       NaN\n",
       "b  1.396149  1.643059 -0.193403\n",
       "c  1.823140  2.321589  0.377956\n",
       "d       NaN  1.489348  1.538136"
      ]
     },
     "execution_count": 97,
     "metadata": {},
     "output_type": "execute_result"
    }
   ],
   "source": [
    "df.apply(add_1)"
   ]
  },
  {
   "cell_type": "code",
   "execution_count": 98,
   "id": "cdad3135-1407-44fd-b154-2d17a8a61a56",
   "metadata": {
    "tags": []
   },
   "outputs": [],
   "source": [
    "def mysum(s):\n",
    "    return sum(s)"
   ]
  },
  {
   "cell_type": "code",
   "execution_count": 99,
   "id": "12f9b1db-6034-42d4-b484-e1527ae4b0bf",
   "metadata": {
    "tags": []
   },
   "outputs": [
    {
     "data": {
      "text/plain": [
       "one           NaN\n",
       "two      2.652182\n",
       "three         NaN\n",
       "dtype: float64"
      ]
     },
     "execution_count": 99,
     "metadata": {},
     "output_type": "execute_result"
    }
   ],
   "source": [
    "# df.transform(mysum) --> raises ValueError: Function did not transform\n",
    "df.apply(mysum)"
   ]
  },
  {
   "cell_type": "markdown",
   "id": "0e502ea2-2e8a-413c-aaed-79333dfc2506",
   "metadata": {},
   "source": [
    "## Applying elementwise functions"
   ]
  },
  {
   "cell_type": "markdown",
   "id": "a7a61213-6cf0-4d92-a101-c2a03eb6a091",
   "metadata": {},
   "source": [
    "Since not all functions can be vectorized (accept NumPy arrays and return\n",
    "another array or value), the methods `applymap()` on DataFrame\n",
    "and analogously `map()` on Series accept any Python function taking\n",
    "a single value and returning a single value. For example:"
   ]
  },
  {
   "cell_type": "code",
   "execution_count": 100,
   "id": "93ccb720-a489-4017-90ff-0a00c389e178",
   "metadata": {
    "tags": []
   },
   "outputs": [
    {
     "data": {
      "text/html": [
       "<div>\n",
       "<style scoped>\n",
       "    .dataframe tbody tr th:only-of-type {\n",
       "        vertical-align: middle;\n",
       "    }\n",
       "\n",
       "    .dataframe tbody tr th {\n",
       "        vertical-align: top;\n",
       "    }\n",
       "\n",
       "    .dataframe thead th {\n",
       "        text-align: right;\n",
       "    }\n",
       "</style>\n",
       "<table border=\"1\" class=\"dataframe\">\n",
       "  <thead>\n",
       "    <tr style=\"text-align: right;\">\n",
       "      <th></th>\n",
       "      <th>one</th>\n",
       "      <th>two</th>\n",
       "      <th>three</th>\n",
       "    </tr>\n",
       "  </thead>\n",
       "  <tbody>\n",
       "    <tr>\n",
       "      <th>a</th>\n",
       "      <td>2.362582</td>\n",
       "      <td>0.198185</td>\n",
       "      <td>NaN</td>\n",
       "    </tr>\n",
       "    <tr>\n",
       "      <th>b</th>\n",
       "      <td>0.396149</td>\n",
       "      <td>0.643059</td>\n",
       "      <td>-1.193403</td>\n",
       "    </tr>\n",
       "    <tr>\n",
       "      <th>c</th>\n",
       "      <td>0.823140</td>\n",
       "      <td>1.321589</td>\n",
       "      <td>-0.622044</td>\n",
       "    </tr>\n",
       "    <tr>\n",
       "      <th>d</th>\n",
       "      <td>NaN</td>\n",
       "      <td>0.489348</td>\n",
       "      <td>0.538136</td>\n",
       "    </tr>\n",
       "  </tbody>\n",
       "</table>\n",
       "</div>"
      ],
      "text/plain": [
       "        one       two     three\n",
       "a  2.362582  0.198185       NaN\n",
       "b  0.396149  0.643059 -1.193403\n",
       "c  0.823140  1.321589 -0.622044\n",
       "d       NaN  0.489348  0.538136"
      ]
     },
     "execution_count": 100,
     "metadata": {},
     "output_type": "execute_result"
    }
   ],
   "source": [
    "df"
   ]
  },
  {
   "cell_type": "code",
   "execution_count": 101,
   "id": "16d4b5de-83e3-4eff-89ab-064eda0a5759",
   "metadata": {
    "tags": []
   },
   "outputs": [],
   "source": [
    "def f(x):\n",
    "    return len(str(x))"
   ]
  },
  {
   "cell_type": "code",
   "execution_count": 102,
   "id": "152ae9ee-caea-4118-bfc2-dd0c5ab85bec",
   "metadata": {
    "tags": []
   },
   "outputs": [
    {
     "data": {
      "text/plain": [
       "a    17\n",
       "b    18\n",
       "c    18\n",
       "d     3\n",
       "Name: one, dtype: int64"
      ]
     },
     "execution_count": 102,
     "metadata": {},
     "output_type": "execute_result"
    }
   ],
   "source": [
    "df[\"one\"].map(f)"
   ]
  },
  {
   "cell_type": "code",
   "execution_count": 103,
   "id": "8ce95124-d35e-4ebd-a7c6-415ab0580be5",
   "metadata": {
    "tags": []
   },
   "outputs": [
    {
     "name": "stderr",
     "output_type": "stream",
     "text": [
      "/tmp/ipykernel_1456/2173204005.py:1: FutureWarning: DataFrame.applymap has been deprecated. Use DataFrame.map instead.\n",
      "  df.applymap(f)\n"
     ]
    },
    {
     "data": {
      "text/html": [
       "<div>\n",
       "<style scoped>\n",
       "    .dataframe tbody tr th:only-of-type {\n",
       "        vertical-align: middle;\n",
       "    }\n",
       "\n",
       "    .dataframe tbody tr th {\n",
       "        vertical-align: top;\n",
       "    }\n",
       "\n",
       "    .dataframe thead th {\n",
       "        text-align: right;\n",
       "    }\n",
       "</style>\n",
       "<table border=\"1\" class=\"dataframe\">\n",
       "  <thead>\n",
       "    <tr style=\"text-align: right;\">\n",
       "      <th></th>\n",
       "      <th>one</th>\n",
       "      <th>two</th>\n",
       "      <th>three</th>\n",
       "    </tr>\n",
       "  </thead>\n",
       "  <tbody>\n",
       "    <tr>\n",
       "      <th>a</th>\n",
       "      <td>17</td>\n",
       "      <td>19</td>\n",
       "      <td>3</td>\n",
       "    </tr>\n",
       "    <tr>\n",
       "      <th>b</th>\n",
       "      <td>18</td>\n",
       "      <td>18</td>\n",
       "      <td>18</td>\n",
       "    </tr>\n",
       "    <tr>\n",
       "      <th>c</th>\n",
       "      <td>18</td>\n",
       "      <td>18</td>\n",
       "      <td>19</td>\n",
       "    </tr>\n",
       "    <tr>\n",
       "      <th>d</th>\n",
       "      <td>3</td>\n",
       "      <td>19</td>\n",
       "      <td>18</td>\n",
       "    </tr>\n",
       "  </tbody>\n",
       "</table>\n",
       "</div>"
      ],
      "text/plain": [
       "   one  two  three\n",
       "a   17   19      3\n",
       "b   18   18     18\n",
       "c   18   18     19\n",
       "d    3   19     18"
      ]
     },
     "execution_count": 103,
     "metadata": {},
     "output_type": "execute_result"
    }
   ],
   "source": [
    "df.applymap(f)"
   ]
  },
  {
   "cell_type": "markdown",
   "id": "54e229ec-e103-4ee6-9d81-e57fccba43bd",
   "metadata": {},
   "source": [
    "`Series.map()` has an additional feature; it can be used to easily\n",
    "“link” or “map” values defined by a secondary series:"
   ]
  },
  {
   "cell_type": "code",
   "execution_count": 104,
   "id": "390fcdb9-4f79-405a-8cc7-c5d15709f981",
   "metadata": {
    "tags": []
   },
   "outputs": [],
   "source": [
    "s = pd.Series(\n",
    "    [\"six\", \"seven\", \"six\", \"seven\", \"six\"], index=[\"a\", \"b\", \"c\", \"d\", \"e\"]\n",
    ")"
   ]
  },
  {
   "cell_type": "code",
   "execution_count": 105,
   "id": "399ec541-ac24-47a5-baaf-a29dd077bc65",
   "metadata": {
    "tags": []
   },
   "outputs": [],
   "source": [
    "t = pd.Series({\"six\": 6.0, \"seven\": 7.0})"
   ]
  },
  {
   "cell_type": "code",
   "execution_count": 106,
   "id": "4d3c1716-67a1-4408-b484-139e432af860",
   "metadata": {
    "tags": []
   },
   "outputs": [
    {
     "data": {
      "text/plain": [
       "a      six\n",
       "b    seven\n",
       "c      six\n",
       "d    seven\n",
       "e      six\n",
       "dtype: object"
      ]
     },
     "execution_count": 106,
     "metadata": {},
     "output_type": "execute_result"
    }
   ],
   "source": [
    "s"
   ]
  },
  {
   "cell_type": "code",
   "execution_count": 107,
   "id": "387d62d3-bf49-403f-98dd-b034ac71e5c7",
   "metadata": {
    "tags": []
   },
   "outputs": [
    {
     "data": {
      "text/plain": [
       "a    6.0\n",
       "b    7.0\n",
       "c    6.0\n",
       "d    7.0\n",
       "e    6.0\n",
       "dtype: float64"
      ]
     },
     "execution_count": 107,
     "metadata": {},
     "output_type": "execute_result"
    }
   ],
   "source": [
    "s.map(t)"
   ]
  },
  {
   "cell_type": "code",
   "execution_count": null,
   "id": "e88a7063-9ecb-414d-9515-4e0e935113e5",
   "metadata": {},
   "outputs": [],
   "source": []
  }
 ],
 "metadata": {
  "kernelspec": {
   "display_name": "Python 3 (ipykernel)",
   "language": "python",
   "name": "python3"
  },
  "language_info": {
   "codemirror_mode": {
    "name": "ipython",
    "version": 3
   },
   "file_extension": ".py",
   "mimetype": "text/x-python",
   "name": "python",
   "nbconvert_exporter": "python",
   "pygments_lexer": "ipython3",
   "version": "3.11.4"
  }
 },
 "nbformat": 4,
 "nbformat_minor": 5
}
