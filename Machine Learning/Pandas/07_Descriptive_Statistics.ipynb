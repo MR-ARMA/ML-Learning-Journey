{
 "cells": [
  {
   "cell_type": "markdown",
   "id": "6c345688-8a23-4997-8a1e-2778d68373ef",
   "metadata": {},
   "source": [
    "# <center><div style=\"width: 370px;\"> ![Panel Data](pictures/Panel_Data.jpg)"
   ]
  },
  {
   "cell_type": "markdown",
   "id": "ed4f8885-cd2a-46ac-87c1-d0e30ff9865d",
   "metadata": {},
   "source": [
    " # <center> Descriptive Statistics"
   ]
  },
  {
   "cell_type": "code",
   "execution_count": 1,
   "id": "a263a5b0-4353-45ce-a623-cd9cfdf9cb14",
   "metadata": {
    "tags": []
   },
   "outputs": [],
   "source": [
    "import pandas as pd\n",
    "import numpy as np"
   ]
  },
  {
   "cell_type": "code",
   "execution_count": 2,
   "id": "fd62b7ad-e75f-4535-a9ce-0e2bdfe83248",
   "metadata": {
    "tags": []
   },
   "outputs": [],
   "source": [
    "df = pd.DataFrame(\n",
    "    {\n",
    "    \"one\": pd.Series(np.random.randn(3), index=list('abc')),\n",
    "    \"two\": pd.Series(np.random.randn(4), index=list('abcd')),\n",
    "    \"three\": pd.Series(np.random.randn(3), index=list('bcd'))\n",
    "    }\n",
    ")\n",
    "    "
   ]
  },
  {
   "cell_type": "code",
   "execution_count": 3,
   "id": "1d184705-ec05-430c-8fcf-e7170ed0c4a7",
   "metadata": {
    "tags": []
   },
   "outputs": [
    {
     "data": {
      "text/html": [
       "<div>\n",
       "<style scoped>\n",
       "    .dataframe tbody tr th:only-of-type {\n",
       "        vertical-align: middle;\n",
       "    }\n",
       "\n",
       "    .dataframe tbody tr th {\n",
       "        vertical-align: top;\n",
       "    }\n",
       "\n",
       "    .dataframe thead th {\n",
       "        text-align: right;\n",
       "    }\n",
       "</style>\n",
       "<table border=\"1\" class=\"dataframe\">\n",
       "  <thead>\n",
       "    <tr style=\"text-align: right;\">\n",
       "      <th></th>\n",
       "      <th>one</th>\n",
       "      <th>two</th>\n",
       "      <th>three</th>\n",
       "    </tr>\n",
       "  </thead>\n",
       "  <tbody>\n",
       "    <tr>\n",
       "      <th>a</th>\n",
       "      <td>0.417446</td>\n",
       "      <td>0.973601</td>\n",
       "      <td>NaN</td>\n",
       "    </tr>\n",
       "    <tr>\n",
       "      <th>b</th>\n",
       "      <td>0.475173</td>\n",
       "      <td>0.529538</td>\n",
       "      <td>-1.549041</td>\n",
       "    </tr>\n",
       "    <tr>\n",
       "      <th>c</th>\n",
       "      <td>0.718222</td>\n",
       "      <td>-1.061773</td>\n",
       "      <td>-0.987357</td>\n",
       "    </tr>\n",
       "    <tr>\n",
       "      <th>d</th>\n",
       "      <td>NaN</td>\n",
       "      <td>-0.126139</td>\n",
       "      <td>-0.417280</td>\n",
       "    </tr>\n",
       "  </tbody>\n",
       "</table>\n",
       "</div>"
      ],
      "text/plain": [
       "        one       two     three\n",
       "a  0.417446  0.973601       NaN\n",
       "b  0.475173  0.529538 -1.549041\n",
       "c  0.718222 -1.061773 -0.987357\n",
       "d       NaN -0.126139 -0.417280"
      ]
     },
     "execution_count": 3,
     "metadata": {},
     "output_type": "execute_result"
    }
   ],
   "source": [
    "df"
   ]
  },
  {
   "cell_type": "code",
   "execution_count": 4,
   "id": "9cf7675d-1c0d-4fad-a22f-d5e43aa2d965",
   "metadata": {
    "tags": []
   },
   "outputs": [
    {
     "data": {
      "text/html": [
       "<div>\n",
       "<style scoped>\n",
       "    .dataframe tbody tr th:only-of-type {\n",
       "        vertical-align: middle;\n",
       "    }\n",
       "\n",
       "    .dataframe tbody tr th {\n",
       "        vertical-align: top;\n",
       "    }\n",
       "\n",
       "    .dataframe thead th {\n",
       "        text-align: right;\n",
       "    }\n",
       "</style>\n",
       "<table border=\"1\" class=\"dataframe\">\n",
       "  <thead>\n",
       "    <tr style=\"text-align: right;\">\n",
       "      <th></th>\n",
       "      <th>one</th>\n",
       "      <th>two</th>\n",
       "      <th>three</th>\n",
       "    </tr>\n",
       "  </thead>\n",
       "  <tbody>\n",
       "    <tr>\n",
       "      <th>0</th>\n",
       "      <td>0.417446</td>\n",
       "      <td>-1.061773</td>\n",
       "      <td>-1.549041</td>\n",
       "    </tr>\n",
       "    <tr>\n",
       "      <th>1</th>\n",
       "      <td>0.475173</td>\n",
       "      <td>-0.126139</td>\n",
       "      <td>-0.987357</td>\n",
       "    </tr>\n",
       "    <tr>\n",
       "      <th>2</th>\n",
       "      <td>0.718222</td>\n",
       "      <td>0.529538</td>\n",
       "      <td>-0.417280</td>\n",
       "    </tr>\n",
       "    <tr>\n",
       "      <th>3</th>\n",
       "      <td>NaN</td>\n",
       "      <td>0.973601</td>\n",
       "      <td>NaN</td>\n",
       "    </tr>\n",
       "  </tbody>\n",
       "</table>\n",
       "</div>"
      ],
      "text/plain": [
       "        one       two     three\n",
       "0  0.417446 -1.061773 -1.549041\n",
       "1  0.475173 -0.126139 -0.987357\n",
       "2  0.718222  0.529538 -0.417280\n",
       "3       NaN  0.973601       NaN"
      ]
     },
     "execution_count": 4,
     "metadata": {},
     "output_type": "execute_result"
    }
   ],
   "source": [
    "df.mode()"
   ]
  },
  {
   "cell_type": "markdown",
   "id": "870372de-9842-4971-a14a-1e0115689a8e",
   "metadata": {},
   "source": [
    "There exists a large number of methods for computing descriptive statistics and other related operations on Series, DataFrame. Most of these are aggregations (hence producing a lower-dimensional result) like `sum()`, `mean()`, and `quantile()`, but some of them, like `cumsum()` and `cumprod()`, produce an object of the same size. Generally speaking, these methods take an axis argument, just like ndarray.{sum, std, . . . }, but the axis can be specified by name or integer:"
   ]
  },
  {
   "cell_type": "code",
   "execution_count": 5,
   "id": "9f4d0294-defe-4a1f-8503-aa77cb16830a",
   "metadata": {},
   "outputs": [
    {
     "data": {
      "text/plain": [
       "one      0.536947\n",
       "two      0.078807\n",
       "three   -0.984559\n",
       "dtype: float64"
      ]
     },
     "execution_count": 5,
     "metadata": {},
     "output_type": "execute_result"
    }
   ],
   "source": [
    "df.mean(axis=0)"
   ]
  },
  {
   "cell_type": "code",
   "execution_count": 6,
   "id": "316fc817-f37e-4172-8a28-073425ee38fc",
   "metadata": {
    "tags": []
   },
   "outputs": [
    {
     "data": {
      "text/plain": [
       "one      0.536947\n",
       "two      0.078807\n",
       "three   -0.984559\n",
       "dtype: float64"
      ]
     },
     "execution_count": 6,
     "metadata": {},
     "output_type": "execute_result"
    }
   ],
   "source": [
    "df.mean(0)"
   ]
  },
  {
   "cell_type": "code",
   "execution_count": 7,
   "id": "19309038-8507-4174-b0a7-a8ffedeb22b0",
   "metadata": {
    "tags": []
   },
   "outputs": [
    {
     "data": {
      "text/plain": [
       "one      0.536947\n",
       "two      0.078807\n",
       "three   -0.984559\n",
       "dtype: float64"
      ]
     },
     "execution_count": 7,
     "metadata": {},
     "output_type": "execute_result"
    }
   ],
   "source": [
    "# axis = 0 is equal to axis = 'rows'\n",
    "df.mean(axis='rows')"
   ]
  },
  {
   "cell_type": "code",
   "execution_count": 8,
   "id": "567484d2-07ac-459d-9d3f-9e9a5ed0da98",
   "metadata": {
    "tags": []
   },
   "outputs": [
    {
     "data": {
      "text/plain": [
       "one      0.536947\n",
       "two      0.078807\n",
       "three   -0.984559\n",
       "dtype: float64"
      ]
     },
     "execution_count": 8,
     "metadata": {},
     "output_type": "execute_result"
    }
   ],
   "source": [
    "# 'index' is the same as 'rows' or 0\n",
    "df.mean(axis='index')"
   ]
  },
  {
   "cell_type": "code",
   "execution_count": 9,
   "id": "630644e8-693a-4368-8f04-e3e9949d39c9",
   "metadata": {
    "tags": []
   },
   "outputs": [
    {
     "data": {
      "text/plain": [
       "a    0.695523\n",
       "b   -0.181444\n",
       "c   -0.443636\n",
       "d   -0.271709\n",
       "dtype: float64"
      ]
     },
     "execution_count": 9,
     "metadata": {},
     "output_type": "execute_result"
    }
   ],
   "source": [
    "df.mean(axis=1)"
   ]
  },
  {
   "cell_type": "code",
   "execution_count": 10,
   "id": "df574e35-9c66-441e-9388-e0c097532907",
   "metadata": {
    "tags": []
   },
   "outputs": [
    {
     "data": {
      "text/plain": [
       "a    1.391047\n",
       "b   -0.544331\n",
       "c   -1.330908\n",
       "d   -0.543419\n",
       "dtype: float64"
      ]
     },
     "execution_count": 10,
     "metadata": {},
     "output_type": "execute_result"
    }
   ],
   "source": [
    "df.sum(axis=1)"
   ]
  },
  {
   "cell_type": "code",
   "execution_count": 11,
   "id": "b21f3e58-90e3-4d08-a024-7fd18858406a",
   "metadata": {
    "tags": []
   },
   "outputs": [
    {
     "data": {
      "text/plain": [
       "a    1.391047\n",
       "b   -0.544331\n",
       "c   -1.330908\n",
       "d   -0.543419\n",
       "dtype: float64"
      ]
     },
     "execution_count": 11,
     "metadata": {},
     "output_type": "execute_result"
    }
   ],
   "source": [
    "df.sum(1)"
   ]
  },
  {
   "cell_type": "markdown",
   "id": "26203d29-2b95-4d9a-8aef-c16d82f12584",
   "metadata": {},
   "source": [
    "Combined with the broadcasting / arithmetic behavior, one can describe various statistical procedures, like standardization (rendering data zero mean and standard deviation of 1), very concisely:"
   ]
  },
  {
   "cell_type": "code",
   "execution_count": 12,
   "id": "de321dd0-d11c-42dc-9dc1-a7ddf80f5991",
   "metadata": {
    "tags": []
   },
   "outputs": [
    {
     "data": {
      "text/html": [
       "<div>\n",
       "<style scoped>\n",
       "    .dataframe tbody tr th:only-of-type {\n",
       "        vertical-align: middle;\n",
       "    }\n",
       "\n",
       "    .dataframe tbody tr th {\n",
       "        vertical-align: top;\n",
       "    }\n",
       "\n",
       "    .dataframe thead th {\n",
       "        text-align: right;\n",
       "    }\n",
       "</style>\n",
       "<table border=\"1\" class=\"dataframe\">\n",
       "  <thead>\n",
       "    <tr style=\"text-align: right;\">\n",
       "      <th></th>\n",
       "      <th>one</th>\n",
       "      <th>two</th>\n",
       "      <th>three</th>\n",
       "    </tr>\n",
       "  </thead>\n",
       "  <tbody>\n",
       "    <tr>\n",
       "      <th>a</th>\n",
       "      <td>0.417446</td>\n",
       "      <td>0.973601</td>\n",
       "      <td>NaN</td>\n",
       "    </tr>\n",
       "    <tr>\n",
       "      <th>b</th>\n",
       "      <td>0.475173</td>\n",
       "      <td>0.529538</td>\n",
       "      <td>-1.549041</td>\n",
       "    </tr>\n",
       "    <tr>\n",
       "      <th>c</th>\n",
       "      <td>0.718222</td>\n",
       "      <td>-1.061773</td>\n",
       "      <td>-0.987357</td>\n",
       "    </tr>\n",
       "    <tr>\n",
       "      <th>d</th>\n",
       "      <td>NaN</td>\n",
       "      <td>-0.126139</td>\n",
       "      <td>-0.417280</td>\n",
       "    </tr>\n",
       "  </tbody>\n",
       "</table>\n",
       "</div>"
      ],
      "text/plain": [
       "        one       two     three\n",
       "a  0.417446  0.973601       NaN\n",
       "b  0.475173  0.529538 -1.549041\n",
       "c  0.718222 -1.061773 -0.987357\n",
       "d       NaN -0.126139 -0.417280"
      ]
     },
     "execution_count": 12,
     "metadata": {},
     "output_type": "execute_result"
    }
   ],
   "source": [
    "df"
   ]
  },
  {
   "cell_type": "code",
   "execution_count": 13,
   "id": "b388333f-1629-4fc5-a6a2-9c61dedcbd3b",
   "metadata": {
    "tags": []
   },
   "outputs": [],
   "source": [
    "ts_stand = (df - df.mean()) / df.std()"
   ]
  },
  {
   "cell_type": "code",
   "execution_count": 14,
   "id": "343bc1ab-bc8e-4dad-8d80-93b2a5ab5796",
   "metadata": {
    "tags": []
   },
   "outputs": [
    {
     "data": {
      "text/plain": [
       "one      1.0\n",
       "two      1.0\n",
       "three    1.0\n",
       "dtype: float64"
      ]
     },
     "execution_count": 14,
     "metadata": {},
     "output_type": "execute_result"
    }
   ],
   "source": [
    "ts_stand.std()"
   ]
  },
  {
   "cell_type": "code",
   "execution_count": 15,
   "id": "82fe60ee-39d5-4005-9657-551d0d6df7f0",
   "metadata": {
    "tags": []
   },
   "outputs": [],
   "source": [
    "xs_stand = df.sub(df.mean(1), axis=0).div(df.std(1), axis=0)"
   ]
  },
  {
   "cell_type": "code",
   "execution_count": 16,
   "id": "289d9a22-ff49-4df7-a6d1-6d56bfd3a94b",
   "metadata": {
    "tags": []
   },
   "outputs": [
    {
     "data": {
      "text/plain": [
       "a    1.0\n",
       "b    1.0\n",
       "c    1.0\n",
       "d    1.0\n",
       "dtype: float64"
      ]
     },
     "execution_count": 16,
     "metadata": {},
     "output_type": "execute_result"
    }
   ],
   "source": [
    "xs_stand.std(1)"
   ]
  },
  {
   "cell_type": "markdown",
   "id": "1fce2e8d-0768-4e5b-a9f1-ead0241ecf3a",
   "metadata": {},
   "source": [
    "> Note that methods like `cumsum()` and `cumprod()` preserve the location of NaN values."
   ]
  },
  {
   "cell_type": "code",
   "execution_count": 18,
   "id": "9fa40c9c-5486-4da9-9c3d-0c8cd4110a30",
   "metadata": {
    "tags": []
   },
   "outputs": [
    {
     "data": {
      "text/html": [
       "<div>\n",
       "<style scoped>\n",
       "    .dataframe tbody tr th:only-of-type {\n",
       "        vertical-align: middle;\n",
       "    }\n",
       "\n",
       "    .dataframe tbody tr th {\n",
       "        vertical-align: top;\n",
       "    }\n",
       "\n",
       "    .dataframe thead th {\n",
       "        text-align: right;\n",
       "    }\n",
       "</style>\n",
       "<table border=\"1\" class=\"dataframe\">\n",
       "  <thead>\n",
       "    <tr style=\"text-align: right;\">\n",
       "      <th></th>\n",
       "      <th>one</th>\n",
       "      <th>two</th>\n",
       "      <th>three</th>\n",
       "    </tr>\n",
       "  </thead>\n",
       "  <tbody>\n",
       "    <tr>\n",
       "      <th>a</th>\n",
       "      <td>0.417446</td>\n",
       "      <td>1.391047</td>\n",
       "      <td>NaN</td>\n",
       "    </tr>\n",
       "    <tr>\n",
       "      <th>b</th>\n",
       "      <td>0.475173</td>\n",
       "      <td>1.004710</td>\n",
       "      <td>2.553752</td>\n",
       "    </tr>\n",
       "    <tr>\n",
       "      <th>c</th>\n",
       "      <td>0.718222</td>\n",
       "      <td>1.779994</td>\n",
       "      <td>2.767351</td>\n",
       "    </tr>\n",
       "    <tr>\n",
       "      <th>d</th>\n",
       "      <td>NaN</td>\n",
       "      <td>0.126139</td>\n",
       "      <td>0.543419</td>\n",
       "    </tr>\n",
       "  </tbody>\n",
       "</table>\n",
       "</div>"
      ],
      "text/plain": [
       "        one       two     three\n",
       "a  0.417446  1.391047       NaN\n",
       "b  0.475173  1.004710  2.553752\n",
       "c  0.718222  1.779994  2.767351\n",
       "d       NaN  0.126139  0.543419"
      ]
     },
     "execution_count": 18,
     "metadata": {},
     "output_type": "execute_result"
    }
   ],
   "source": [
    "abs(df).cumsum(axis=1)"
   ]
  },
  {
   "cell_type": "markdown",
   "id": "f0935c63-f56b-4b0e-8795-56dcc299fade",
   "metadata": {
    "tags": []
   },
   "source": [
    "Here is a quick reference summary table of common functions. Each also takes an\n",
    "optional `level` parameter which applies only if the object has a\n",
    "[hierarchical index](https://pandas.pydata.org/docs/user_guide/advanced.html#advanced-hierarchical).\n",
    "\n",
    "|Function|Description|\n",
    "|:--|:--|\n",
    "|`count`|Number of non-NA observations|\n",
    "|`sum`|Sum of values|\n",
    "|`mean`|Mean of values|\n",
    "|`mad`|Mean absolute deviation|\n",
    "|`median`|Arithmetic median of values|\n",
    "|`min`|Minimum|\n",
    "|`max`|Maximum|\n",
    "|`mode`|Mode|\n",
    "|`abs`|Absolute Value|\n",
    "|`prod`|Product of values|\n",
    "|`std`|Bessel-corrected sample standard deviation|\n",
    "|`var`|Unbiased variance|\n",
    "|`sem`|Standard error of the mean|\n",
    "|`skew`|Sample skewness (3rd moment)|\n",
    "|`kurt`|Sample kurtosis (4th moment)|\n",
    "|`quantile`|Sample quantile (value at %)|\n",
    "|`cumsum`|Cumulative sum|\n",
    "|`cumprod`|Cumulative product|\n",
    "|`cummax`|Cumulative maximum|\n",
    "|`cummin`|Cumulative minimum|"
   ]
  },
  {
   "cell_type": "markdown",
   "id": "7c82228e-9d08-42f2-8a46-6e563a4381e7",
   "metadata": {},
   "source": [
    "`Series.unique()` will return the number of unique non-NA values in a Series:"
   ]
  },
  {
   "cell_type": "code",
   "execution_count": 23,
   "id": "5ca8bad0-8fbb-4c05-a00d-8c987e4a3be1",
   "metadata": {
    "tags": []
   },
   "outputs": [],
   "source": [
    "series = pd.Series(np.random.randn(500))"
   ]
  },
  {
   "cell_type": "code",
   "execution_count": 24,
   "id": "80e325e9-9731-44f3-8175-d6afb49cf1aa",
   "metadata": {
    "tags": []
   },
   "outputs": [
    {
     "data": {
      "text/plain": [
       "500"
      ]
     },
     "execution_count": 24,
     "metadata": {},
     "output_type": "execute_result"
    }
   ],
   "source": [
    "series.nunique()"
   ]
  },
  {
   "cell_type": "code",
   "execution_count": 26,
   "id": "22a75c37-0c53-4cdc-9ba3-31909691f6c9",
   "metadata": {
    "tags": []
   },
   "outputs": [],
   "source": [
    "series[5: 100] = np.nan"
   ]
  },
  {
   "cell_type": "code",
   "execution_count": 27,
   "id": "6b8cc8ac-2da4-4389-832d-2d17243ed697",
   "metadata": {
    "tags": []
   },
   "outputs": [],
   "source": [
    "series[100: 500] = 100"
   ]
  },
  {
   "cell_type": "code",
   "execution_count": 28,
   "id": "85d63eb9-452a-45fb-ae14-281578eb1bad",
   "metadata": {
    "tags": []
   },
   "outputs": [
    {
     "data": {
      "text/plain": [
       "0        1.450745\n",
       "1       -0.686133\n",
       "2        0.423568\n",
       "3       -0.222795\n",
       "4       -1.897097\n",
       "          ...    \n",
       "495    100.000000\n",
       "496    100.000000\n",
       "497    100.000000\n",
       "498    100.000000\n",
       "499    100.000000\n",
       "Length: 500, dtype: float64"
      ]
     },
     "execution_count": 28,
     "metadata": {},
     "output_type": "execute_result"
    }
   ],
   "source": [
    "series"
   ]
  },
  {
   "cell_type": "code",
   "execution_count": 29,
   "id": "2190beef-d96a-4dd8-a451-b51c25c7a4c6",
   "metadata": {
    "tags": []
   },
   "outputs": [
    {
     "data": {
      "text/plain": [
       "6"
      ]
     },
     "execution_count": 29,
     "metadata": {},
     "output_type": "execute_result"
    }
   ],
   "source": [
    "series.nunique()"
   ]
  },
  {
   "cell_type": "code",
   "execution_count": 30,
   "id": "fd6d6ae3-2132-4751-b252-ce1f17ec7148",
   "metadata": {
    "tags": []
   },
   "outputs": [
    {
     "data": {
      "text/plain": [
       "one      3\n",
       "two      4\n",
       "three    3\n",
       "dtype: int64"
      ]
     },
     "execution_count": 30,
     "metadata": {},
     "output_type": "execute_result"
    }
   ],
   "source": [
    "# On a dataframe, nunique return number of unique values per column\n",
    "df.nunique()"
   ]
  },
  {
   "cell_type": "markdown",
   "id": "e6b6cdf0-4a77-4e7b-9246-47e6c1aec0c4",
   "metadata": {},
   "source": [
    "## Summarizing data: describe"
   ]
  },
  {
   "cell_type": "markdown",
   "id": "f9a3972f-18c5-4713-98fb-49ba7db9aa23",
   "metadata": {},
   "source": [
    "There is a convenient `describe()` function which computes a variety of summary statistics about a Series or the columns of a DataFrame (excluding NAs of course):"
   ]
  },
  {
   "cell_type": "code",
   "execution_count": 33,
   "id": "0b01eaf7-acfb-4ff0-bf4e-556aafb410c1",
   "metadata": {
    "tags": []
   },
   "outputs": [],
   "source": [
    "series = pd.Series(np.random.randn(1000))\n",
    "series[::2] = np.nan"
   ]
  },
  {
   "cell_type": "code",
   "execution_count": 34,
   "id": "6106a7b4-851d-4931-bed1-99c9496016f3",
   "metadata": {
    "tags": []
   },
   "outputs": [
    {
     "data": {
      "text/plain": [
       "0           NaN\n",
       "1     -0.887630\n",
       "2           NaN\n",
       "3      0.261227\n",
       "4           NaN\n",
       "         ...   \n",
       "995    1.020218\n",
       "996         NaN\n",
       "997    0.228941\n",
       "998         NaN\n",
       "999    1.661472\n",
       "Length: 1000, dtype: float64"
      ]
     },
     "execution_count": 34,
     "metadata": {},
     "output_type": "execute_result"
    }
   ],
   "source": [
    "series"
   ]
  },
  {
   "cell_type": "code",
   "execution_count": 35,
   "id": "0d622491-1baf-4135-96d4-857e78442fb3",
   "metadata": {
    "tags": []
   },
   "outputs": [
    {
     "data": {
      "text/plain": [
       "count    500.000000\n",
       "mean      -0.028347\n",
       "std        0.986361\n",
       "min       -2.672346\n",
       "25%       -0.703065\n",
       "50%       -0.074203\n",
       "75%        0.623564\n",
       "max        2.688249\n",
       "dtype: float64"
      ]
     },
     "execution_count": 35,
     "metadata": {},
     "output_type": "execute_result"
    }
   ],
   "source": [
    "series.describe()"
   ]
  },
  {
   "cell_type": "code",
   "execution_count": 36,
   "id": "be847bba-8930-4b07-aba3-32eaa0973061",
   "metadata": {
    "tags": []
   },
   "outputs": [],
   "source": [
    "frame = pd.DataFrame(np.random.randn(1000, 5), columns=list('abcde'))"
   ]
  },
  {
   "cell_type": "code",
   "execution_count": 38,
   "id": "c89bad8a-2f3c-453e-89e5-d159f764b124",
   "metadata": {
    "tags": []
   },
   "outputs": [],
   "source": [
    "frame[::2] = np.nan"
   ]
  },
  {
   "cell_type": "code",
   "execution_count": 39,
   "id": "b11f0d7f-8d99-4145-bb12-59d07683a164",
   "metadata": {
    "tags": []
   },
   "outputs": [
    {
     "data": {
      "text/html": [
       "<div>\n",
       "<style scoped>\n",
       "    .dataframe tbody tr th:only-of-type {\n",
       "        vertical-align: middle;\n",
       "    }\n",
       "\n",
       "    .dataframe tbody tr th {\n",
       "        vertical-align: top;\n",
       "    }\n",
       "\n",
       "    .dataframe thead th {\n",
       "        text-align: right;\n",
       "    }\n",
       "</style>\n",
       "<table border=\"1\" class=\"dataframe\">\n",
       "  <thead>\n",
       "    <tr style=\"text-align: right;\">\n",
       "      <th></th>\n",
       "      <th>a</th>\n",
       "      <th>b</th>\n",
       "      <th>c</th>\n",
       "      <th>d</th>\n",
       "      <th>e</th>\n",
       "    </tr>\n",
       "  </thead>\n",
       "  <tbody>\n",
       "    <tr>\n",
       "      <th>0</th>\n",
       "      <td>NaN</td>\n",
       "      <td>NaN</td>\n",
       "      <td>NaN</td>\n",
       "      <td>NaN</td>\n",
       "      <td>NaN</td>\n",
       "    </tr>\n",
       "    <tr>\n",
       "      <th>1</th>\n",
       "      <td>-1.017469</td>\n",
       "      <td>-0.359021</td>\n",
       "      <td>-0.545455</td>\n",
       "      <td>-1.228823</td>\n",
       "      <td>0.262228</td>\n",
       "    </tr>\n",
       "    <tr>\n",
       "      <th>2</th>\n",
       "      <td>NaN</td>\n",
       "      <td>NaN</td>\n",
       "      <td>NaN</td>\n",
       "      <td>NaN</td>\n",
       "      <td>NaN</td>\n",
       "    </tr>\n",
       "    <tr>\n",
       "      <th>3</th>\n",
       "      <td>-0.288404</td>\n",
       "      <td>-0.039554</td>\n",
       "      <td>-1.295165</td>\n",
       "      <td>-1.648444</td>\n",
       "      <td>0.386424</td>\n",
       "    </tr>\n",
       "    <tr>\n",
       "      <th>4</th>\n",
       "      <td>NaN</td>\n",
       "      <td>NaN</td>\n",
       "      <td>NaN</td>\n",
       "      <td>NaN</td>\n",
       "      <td>NaN</td>\n",
       "    </tr>\n",
       "    <tr>\n",
       "      <th>...</th>\n",
       "      <td>...</td>\n",
       "      <td>...</td>\n",
       "      <td>...</td>\n",
       "      <td>...</td>\n",
       "      <td>...</td>\n",
       "    </tr>\n",
       "    <tr>\n",
       "      <th>995</th>\n",
       "      <td>0.432696</td>\n",
       "      <td>-1.461108</td>\n",
       "      <td>0.012362</td>\n",
       "      <td>0.907570</td>\n",
       "      <td>0.999509</td>\n",
       "    </tr>\n",
       "    <tr>\n",
       "      <th>996</th>\n",
       "      <td>NaN</td>\n",
       "      <td>NaN</td>\n",
       "      <td>NaN</td>\n",
       "      <td>NaN</td>\n",
       "      <td>NaN</td>\n",
       "    </tr>\n",
       "    <tr>\n",
       "      <th>997</th>\n",
       "      <td>0.023167</td>\n",
       "      <td>-0.827143</td>\n",
       "      <td>-0.671728</td>\n",
       "      <td>-0.180859</td>\n",
       "      <td>1.676407</td>\n",
       "    </tr>\n",
       "    <tr>\n",
       "      <th>998</th>\n",
       "      <td>NaN</td>\n",
       "      <td>NaN</td>\n",
       "      <td>NaN</td>\n",
       "      <td>NaN</td>\n",
       "      <td>NaN</td>\n",
       "    </tr>\n",
       "    <tr>\n",
       "      <th>999</th>\n",
       "      <td>0.159510</td>\n",
       "      <td>1.061401</td>\n",
       "      <td>0.938039</td>\n",
       "      <td>0.946283</td>\n",
       "      <td>1.102525</td>\n",
       "    </tr>\n",
       "  </tbody>\n",
       "</table>\n",
       "<p>1000 rows × 5 columns</p>\n",
       "</div>"
      ],
      "text/plain": [
       "            a         b         c         d         e\n",
       "0         NaN       NaN       NaN       NaN       NaN\n",
       "1   -1.017469 -0.359021 -0.545455 -1.228823  0.262228\n",
       "2         NaN       NaN       NaN       NaN       NaN\n",
       "3   -0.288404 -0.039554 -1.295165 -1.648444  0.386424\n",
       "4         NaN       NaN       NaN       NaN       NaN\n",
       "..        ...       ...       ...       ...       ...\n",
       "995  0.432696 -1.461108  0.012362  0.907570  0.999509\n",
       "996       NaN       NaN       NaN       NaN       NaN\n",
       "997  0.023167 -0.827143 -0.671728 -0.180859  1.676407\n",
       "998       NaN       NaN       NaN       NaN       NaN\n",
       "999  0.159510  1.061401  0.938039  0.946283  1.102525\n",
       "\n",
       "[1000 rows x 5 columns]"
      ]
     },
     "execution_count": 39,
     "metadata": {},
     "output_type": "execute_result"
    }
   ],
   "source": [
    "frame"
   ]
  },
  {
   "cell_type": "code",
   "execution_count": 40,
   "id": "f14db0f9-6ab5-4855-ad29-fff8d24ee5a2",
   "metadata": {
    "tags": []
   },
   "outputs": [
    {
     "data": {
      "text/html": [
       "<div>\n",
       "<style scoped>\n",
       "    .dataframe tbody tr th:only-of-type {\n",
       "        vertical-align: middle;\n",
       "    }\n",
       "\n",
       "    .dataframe tbody tr th {\n",
       "        vertical-align: top;\n",
       "    }\n",
       "\n",
       "    .dataframe thead th {\n",
       "        text-align: right;\n",
       "    }\n",
       "</style>\n",
       "<table border=\"1\" class=\"dataframe\">\n",
       "  <thead>\n",
       "    <tr style=\"text-align: right;\">\n",
       "      <th></th>\n",
       "      <th>a</th>\n",
       "      <th>b</th>\n",
       "      <th>c</th>\n",
       "      <th>d</th>\n",
       "      <th>e</th>\n",
       "    </tr>\n",
       "  </thead>\n",
       "  <tbody>\n",
       "    <tr>\n",
       "      <th>count</th>\n",
       "      <td>500.000000</td>\n",
       "      <td>500.000000</td>\n",
       "      <td>500.000000</td>\n",
       "      <td>500.000000</td>\n",
       "      <td>500.000000</td>\n",
       "    </tr>\n",
       "    <tr>\n",
       "      <th>mean</th>\n",
       "      <td>-0.058044</td>\n",
       "      <td>-0.016835</td>\n",
       "      <td>-0.012688</td>\n",
       "      <td>-0.025576</td>\n",
       "      <td>0.029938</td>\n",
       "    </tr>\n",
       "    <tr>\n",
       "      <th>std</th>\n",
       "      <td>0.990470</td>\n",
       "      <td>1.020516</td>\n",
       "      <td>0.945029</td>\n",
       "      <td>1.022486</td>\n",
       "      <td>0.969703</td>\n",
       "    </tr>\n",
       "    <tr>\n",
       "      <th>min</th>\n",
       "      <td>-2.816336</td>\n",
       "      <td>-2.725427</td>\n",
       "      <td>-3.372055</td>\n",
       "      <td>-3.353105</td>\n",
       "      <td>-3.387212</td>\n",
       "    </tr>\n",
       "    <tr>\n",
       "      <th>25%</th>\n",
       "      <td>-0.750222</td>\n",
       "      <td>-0.657493</td>\n",
       "      <td>-0.655080</td>\n",
       "      <td>-0.654074</td>\n",
       "      <td>-0.625903</td>\n",
       "    </tr>\n",
       "    <tr>\n",
       "      <th>50%</th>\n",
       "      <td>0.001106</td>\n",
       "      <td>-0.023048</td>\n",
       "      <td>-0.024434</td>\n",
       "      <td>-0.047740</td>\n",
       "      <td>-0.026310</td>\n",
       "    </tr>\n",
       "    <tr>\n",
       "      <th>75%</th>\n",
       "      <td>0.613630</td>\n",
       "      <td>0.653058</td>\n",
       "      <td>0.628059</td>\n",
       "      <td>0.650953</td>\n",
       "      <td>0.715267</td>\n",
       "    </tr>\n",
       "    <tr>\n",
       "      <th>max</th>\n",
       "      <td>2.989116</td>\n",
       "      <td>2.692466</td>\n",
       "      <td>2.934214</td>\n",
       "      <td>2.940461</td>\n",
       "      <td>3.067362</td>\n",
       "    </tr>\n",
       "  </tbody>\n",
       "</table>\n",
       "</div>"
      ],
      "text/plain": [
       "                a           b           c           d           e\n",
       "count  500.000000  500.000000  500.000000  500.000000  500.000000\n",
       "mean    -0.058044   -0.016835   -0.012688   -0.025576    0.029938\n",
       "std      0.990470    1.020516    0.945029    1.022486    0.969703\n",
       "min     -2.816336   -2.725427   -3.372055   -3.353105   -3.387212\n",
       "25%     -0.750222   -0.657493   -0.655080   -0.654074   -0.625903\n",
       "50%      0.001106   -0.023048   -0.024434   -0.047740   -0.026310\n",
       "75%      0.613630    0.653058    0.628059    0.650953    0.715267\n",
       "max      2.989116    2.692466    2.934214    2.940461    3.067362"
      ]
     },
     "execution_count": 40,
     "metadata": {},
     "output_type": "execute_result"
    }
   ],
   "source": [
    "frame.describe()"
   ]
  },
  {
   "cell_type": "code",
   "execution_count": 48,
   "id": "55ec28b1-c6c3-48df-84ae-b929e22db715",
   "metadata": {
    "tags": []
   },
   "outputs": [
    {
     "data": {
      "text/plain": [
       "count    500.000000\n",
       "mean      -0.028347\n",
       "std        0.986361\n",
       "min       -2.672346\n",
       "5%        -1.599028\n",
       "50%       -0.074203\n",
       "75%        0.623564\n",
       "95%        1.554062\n",
       "max        2.688249\n",
       "dtype: float64"
      ]
     },
     "execution_count": 48,
     "metadata": {},
     "output_type": "execute_result"
    }
   ],
   "source": [
    "series.describe(percentiles=[0.05, 0.75, 0.95])"
   ]
  },
  {
   "cell_type": "markdown",
   "id": "0d1746c0-63de-4240-bd11-22b022c7b3a8",
   "metadata": {},
   "source": [
    "**By default, the median (50% percentile) is always included.**"
   ]
  },
  {
   "cell_type": "markdown",
   "id": "dc57c385-f366-4b17-a2e6-76b7c5a21a7c",
   "metadata": {},
   "source": [
    "For a non-numerical Series object, `describe()` will give a simple summary of the number of unique values and most frequently occurring values:"
   ]
  },
  {
   "cell_type": "code",
   "execution_count": 49,
   "id": "02d6a7a7-22ab-49dc-81f5-6bbbc85d8891",
   "metadata": {
    "tags": []
   },
   "outputs": [],
   "source": [
    "s = pd.Series([\"a\", \"a\", \"b\", \"b\", \"a\", \"a\", np.nan, \"c\", \"d\", \"a\"])"
   ]
  },
  {
   "cell_type": "code",
   "execution_count": 51,
   "id": "ba19c51e-a311-4442-af4e-cd192970b9c7",
   "metadata": {
    "tags": []
   },
   "outputs": [
    {
     "data": {
      "text/plain": [
       "count     9\n",
       "unique    4\n",
       "top       a\n",
       "freq      5\n",
       "dtype: object"
      ]
     },
     "execution_count": 51,
     "metadata": {},
     "output_type": "execute_result"
    }
   ],
   "source": [
    "s.describe()"
   ]
  },
  {
   "cell_type": "markdown",
   "id": "433e4f1b-b977-4d05-b3ab-0e89bb89d7f4",
   "metadata": {},
   "source": [
    "Note that on a mixed-type DataFrame object, `describe()` will restrict the summary to include only numerical columns or, if none are, only categorical columns:"
   ]
  },
  {
   "cell_type": "code",
   "execution_count": 52,
   "id": "bbef4184-a931-4b23-ada1-0fc614eef7c6",
   "metadata": {
    "tags": []
   },
   "outputs": [],
   "source": [
    "frame = pd.DataFrame(\n",
    "    {\"a\": [\"Yes\", \"Yes\", \"No\", \"No\"], \"b\": range(4)}\n",
    ")"
   ]
  },
  {
   "cell_type": "code",
   "execution_count": 53,
   "id": "26c9d3a8-6125-4ca5-ad8f-e9de3fc4cbca",
   "metadata": {
    "tags": []
   },
   "outputs": [
    {
     "data": {
      "text/html": [
       "<div>\n",
       "<style scoped>\n",
       "    .dataframe tbody tr th:only-of-type {\n",
       "        vertical-align: middle;\n",
       "    }\n",
       "\n",
       "    .dataframe tbody tr th {\n",
       "        vertical-align: top;\n",
       "    }\n",
       "\n",
       "    .dataframe thead th {\n",
       "        text-align: right;\n",
       "    }\n",
       "</style>\n",
       "<table border=\"1\" class=\"dataframe\">\n",
       "  <thead>\n",
       "    <tr style=\"text-align: right;\">\n",
       "      <th></th>\n",
       "      <th>b</th>\n",
       "    </tr>\n",
       "  </thead>\n",
       "  <tbody>\n",
       "    <tr>\n",
       "      <th>count</th>\n",
       "      <td>4.000000</td>\n",
       "    </tr>\n",
       "    <tr>\n",
       "      <th>mean</th>\n",
       "      <td>1.500000</td>\n",
       "    </tr>\n",
       "    <tr>\n",
       "      <th>std</th>\n",
       "      <td>1.290994</td>\n",
       "    </tr>\n",
       "    <tr>\n",
       "      <th>min</th>\n",
       "      <td>0.000000</td>\n",
       "    </tr>\n",
       "    <tr>\n",
       "      <th>25%</th>\n",
       "      <td>0.750000</td>\n",
       "    </tr>\n",
       "    <tr>\n",
       "      <th>50%</th>\n",
       "      <td>1.500000</td>\n",
       "    </tr>\n",
       "    <tr>\n",
       "      <th>75%</th>\n",
       "      <td>2.250000</td>\n",
       "    </tr>\n",
       "    <tr>\n",
       "      <th>max</th>\n",
       "      <td>3.000000</td>\n",
       "    </tr>\n",
       "  </tbody>\n",
       "</table>\n",
       "</div>"
      ],
      "text/plain": [
       "              b\n",
       "count  4.000000\n",
       "mean   1.500000\n",
       "std    1.290994\n",
       "min    0.000000\n",
       "25%    0.750000\n",
       "50%    1.500000\n",
       "75%    2.250000\n",
       "max    3.000000"
      ]
     },
     "execution_count": 53,
     "metadata": {},
     "output_type": "execute_result"
    }
   ],
   "source": [
    "frame.describe()"
   ]
  },
  {
   "cell_type": "markdown",
   "id": "583842d2-049c-466f-b3cb-e18893c45fd0",
   "metadata": {},
   "source": [
    "This behavior can be controlled by providing a list of types as `include`/`exclude` arguments. The special value `all` can also be used:"
   ]
  },
  {
   "cell_type": "code",
   "execution_count": 54,
   "id": "a2b829c2-b6c0-400c-8de9-7bf6ffb84fd4",
   "metadata": {
    "tags": []
   },
   "outputs": [
    {
     "data": {
      "text/html": [
       "<div>\n",
       "<style scoped>\n",
       "    .dataframe tbody tr th:only-of-type {\n",
       "        vertical-align: middle;\n",
       "    }\n",
       "\n",
       "    .dataframe tbody tr th {\n",
       "        vertical-align: top;\n",
       "    }\n",
       "\n",
       "    .dataframe thead th {\n",
       "        text-align: right;\n",
       "    }\n",
       "</style>\n",
       "<table border=\"1\" class=\"dataframe\">\n",
       "  <thead>\n",
       "    <tr style=\"text-align: right;\">\n",
       "      <th></th>\n",
       "      <th>a</th>\n",
       "    </tr>\n",
       "  </thead>\n",
       "  <tbody>\n",
       "    <tr>\n",
       "      <th>count</th>\n",
       "      <td>4</td>\n",
       "    </tr>\n",
       "    <tr>\n",
       "      <th>unique</th>\n",
       "      <td>2</td>\n",
       "    </tr>\n",
       "    <tr>\n",
       "      <th>top</th>\n",
       "      <td>Yes</td>\n",
       "    </tr>\n",
       "    <tr>\n",
       "      <th>freq</th>\n",
       "      <td>2</td>\n",
       "    </tr>\n",
       "  </tbody>\n",
       "</table>\n",
       "</div>"
      ],
      "text/plain": [
       "          a\n",
       "count     4\n",
       "unique    2\n",
       "top     Yes\n",
       "freq      2"
      ]
     },
     "execution_count": 54,
     "metadata": {},
     "output_type": "execute_result"
    }
   ],
   "source": [
    "frame.describe(include=[\"object\"])"
   ]
  },
  {
   "cell_type": "code",
   "execution_count": 55,
   "id": "23b956c7-112d-4c29-8a57-0fc526b90a6e",
   "metadata": {
    "tags": []
   },
   "outputs": [
    {
     "data": {
      "text/html": [
       "<div>\n",
       "<style scoped>\n",
       "    .dataframe tbody tr th:only-of-type {\n",
       "        vertical-align: middle;\n",
       "    }\n",
       "\n",
       "    .dataframe tbody tr th {\n",
       "        vertical-align: top;\n",
       "    }\n",
       "\n",
       "    .dataframe thead th {\n",
       "        text-align: right;\n",
       "    }\n",
       "</style>\n",
       "<table border=\"1\" class=\"dataframe\">\n",
       "  <thead>\n",
       "    <tr style=\"text-align: right;\">\n",
       "      <th></th>\n",
       "      <th>b</th>\n",
       "    </tr>\n",
       "  </thead>\n",
       "  <tbody>\n",
       "    <tr>\n",
       "      <th>count</th>\n",
       "      <td>4.000000</td>\n",
       "    </tr>\n",
       "    <tr>\n",
       "      <th>mean</th>\n",
       "      <td>1.500000</td>\n",
       "    </tr>\n",
       "    <tr>\n",
       "      <th>std</th>\n",
       "      <td>1.290994</td>\n",
       "    </tr>\n",
       "    <tr>\n",
       "      <th>min</th>\n",
       "      <td>0.000000</td>\n",
       "    </tr>\n",
       "    <tr>\n",
       "      <th>25%</th>\n",
       "      <td>0.750000</td>\n",
       "    </tr>\n",
       "    <tr>\n",
       "      <th>50%</th>\n",
       "      <td>1.500000</td>\n",
       "    </tr>\n",
       "    <tr>\n",
       "      <th>75%</th>\n",
       "      <td>2.250000</td>\n",
       "    </tr>\n",
       "    <tr>\n",
       "      <th>max</th>\n",
       "      <td>3.000000</td>\n",
       "    </tr>\n",
       "  </tbody>\n",
       "</table>\n",
       "</div>"
      ],
      "text/plain": [
       "              b\n",
       "count  4.000000\n",
       "mean   1.500000\n",
       "std    1.290994\n",
       "min    0.000000\n",
       "25%    0.750000\n",
       "50%    1.500000\n",
       "75%    2.250000\n",
       "max    3.000000"
      ]
     },
     "execution_count": 55,
     "metadata": {},
     "output_type": "execute_result"
    }
   ],
   "source": [
    "frame.describe(include=[\"number\"])"
   ]
  },
  {
   "cell_type": "code",
   "execution_count": 56,
   "id": "f28b2d0f-c188-477a-9575-1158233463f7",
   "metadata": {
    "tags": []
   },
   "outputs": [
    {
     "data": {
      "text/html": [
       "<div>\n",
       "<style scoped>\n",
       "    .dataframe tbody tr th:only-of-type {\n",
       "        vertical-align: middle;\n",
       "    }\n",
       "\n",
       "    .dataframe tbody tr th {\n",
       "        vertical-align: top;\n",
       "    }\n",
       "\n",
       "    .dataframe thead th {\n",
       "        text-align: right;\n",
       "    }\n",
       "</style>\n",
       "<table border=\"1\" class=\"dataframe\">\n",
       "  <thead>\n",
       "    <tr style=\"text-align: right;\">\n",
       "      <th></th>\n",
       "      <th>a</th>\n",
       "      <th>b</th>\n",
       "    </tr>\n",
       "  </thead>\n",
       "  <tbody>\n",
       "    <tr>\n",
       "      <th>count</th>\n",
       "      <td>4</td>\n",
       "      <td>4.000000</td>\n",
       "    </tr>\n",
       "    <tr>\n",
       "      <th>unique</th>\n",
       "      <td>2</td>\n",
       "      <td>NaN</td>\n",
       "    </tr>\n",
       "    <tr>\n",
       "      <th>top</th>\n",
       "      <td>Yes</td>\n",
       "      <td>NaN</td>\n",
       "    </tr>\n",
       "    <tr>\n",
       "      <th>freq</th>\n",
       "      <td>2</td>\n",
       "      <td>NaN</td>\n",
       "    </tr>\n",
       "    <tr>\n",
       "      <th>mean</th>\n",
       "      <td>NaN</td>\n",
       "      <td>1.500000</td>\n",
       "    </tr>\n",
       "    <tr>\n",
       "      <th>std</th>\n",
       "      <td>NaN</td>\n",
       "      <td>1.290994</td>\n",
       "    </tr>\n",
       "    <tr>\n",
       "      <th>min</th>\n",
       "      <td>NaN</td>\n",
       "      <td>0.000000</td>\n",
       "    </tr>\n",
       "    <tr>\n",
       "      <th>25%</th>\n",
       "      <td>NaN</td>\n",
       "      <td>0.750000</td>\n",
       "    </tr>\n",
       "    <tr>\n",
       "      <th>50%</th>\n",
       "      <td>NaN</td>\n",
       "      <td>1.500000</td>\n",
       "    </tr>\n",
       "    <tr>\n",
       "      <th>75%</th>\n",
       "      <td>NaN</td>\n",
       "      <td>2.250000</td>\n",
       "    </tr>\n",
       "    <tr>\n",
       "      <th>max</th>\n",
       "      <td>NaN</td>\n",
       "      <td>3.000000</td>\n",
       "    </tr>\n",
       "  </tbody>\n",
       "</table>\n",
       "</div>"
      ],
      "text/plain": [
       "          a         b\n",
       "count     4  4.000000\n",
       "unique    2       NaN\n",
       "top     Yes       NaN\n",
       "freq      2       NaN\n",
       "mean    NaN  1.500000\n",
       "std     NaN  1.290994\n",
       "min     NaN  0.000000\n",
       "25%     NaN  0.750000\n",
       "50%     NaN  1.500000\n",
       "75%     NaN  2.250000\n",
       "max     NaN  3.000000"
      ]
     },
     "execution_count": 56,
     "metadata": {},
     "output_type": "execute_result"
    }
   ],
   "source": [
    "frame.describe(include=\"all\")"
   ]
  },
  {
   "cell_type": "markdown",
   "id": "69e757ab-6266-4251-8976-46e81aad91b0",
   "metadata": {
    "tags": []
   },
   "source": [
    "That feature relies on `[select_dtypes]` which will be discussed later."
   ]
  },
  {
   "cell_type": "markdown",
   "id": "d0557125-dbfc-4759-93f8-9c9f0013f90f",
   "metadata": {
    "tags": []
   },
   "source": [
    "## Index of min/max values"
   ]
  },
  {
   "cell_type": "markdown",
   "id": "833a4a9f-297a-4834-a616-19d15bd48894",
   "metadata": {},
   "source": [
    "The `idxmin()` and `idxmax()` functions on Series and DataFrame compute the index labels with the minimum and maximum corresponding values:"
   ]
  },
  {
   "cell_type": "code",
   "execution_count": 59,
   "id": "6fc18e95-0fd4-4072-98a2-ff9de83d22aa",
   "metadata": {
    "tags": []
   },
   "outputs": [],
   "source": [
    "s1 = pd.Series(np.random.randn(5))"
   ]
  },
  {
   "cell_type": "code",
   "execution_count": 60,
   "id": "c34c1472-5566-4171-a648-fac289cffc40",
   "metadata": {
    "tags": []
   },
   "outputs": [
    {
     "data": {
      "text/plain": [
       "0   -0.105719\n",
       "1   -0.130703\n",
       "2   -1.002470\n",
       "3    0.095524\n",
       "4   -0.904585\n",
       "dtype: float64"
      ]
     },
     "execution_count": 60,
     "metadata": {},
     "output_type": "execute_result"
    }
   ],
   "source": [
    "s1"
   ]
  },
  {
   "cell_type": "code",
   "execution_count": 63,
   "id": "d570de42-f304-4d92-b02b-7f83bae4a688",
   "metadata": {
    "tags": []
   },
   "outputs": [
    {
     "data": {
      "text/plain": [
       "(3, 2)"
      ]
     },
     "execution_count": 63,
     "metadata": {},
     "output_type": "execute_result"
    }
   ],
   "source": [
    "s1.idxmax(), s1.idxmin()"
   ]
  },
  {
   "cell_type": "code",
   "execution_count": 64,
   "id": "b8360d98-3f9f-4857-8665-ecae6166ff67",
   "metadata": {
    "tags": []
   },
   "outputs": [],
   "source": [
    "df1 = pd.DataFrame(np.random.randn(5, 3), columns=[\"A\", \"B\", \"C\"])"
   ]
  },
  {
   "cell_type": "code",
   "execution_count": 65,
   "id": "94ba3a6b-a175-47cb-98ce-d61c0574fb5a",
   "metadata": {
    "tags": []
   },
   "outputs": [
    {
     "data": {
      "text/html": [
       "<div>\n",
       "<style scoped>\n",
       "    .dataframe tbody tr th:only-of-type {\n",
       "        vertical-align: middle;\n",
       "    }\n",
       "\n",
       "    .dataframe tbody tr th {\n",
       "        vertical-align: top;\n",
       "    }\n",
       "\n",
       "    .dataframe thead th {\n",
       "        text-align: right;\n",
       "    }\n",
       "</style>\n",
       "<table border=\"1\" class=\"dataframe\">\n",
       "  <thead>\n",
       "    <tr style=\"text-align: right;\">\n",
       "      <th></th>\n",
       "      <th>A</th>\n",
       "      <th>B</th>\n",
       "      <th>C</th>\n",
       "    </tr>\n",
       "  </thead>\n",
       "  <tbody>\n",
       "    <tr>\n",
       "      <th>0</th>\n",
       "      <td>-0.864826</td>\n",
       "      <td>-0.986356</td>\n",
       "      <td>-1.120342</td>\n",
       "    </tr>\n",
       "    <tr>\n",
       "      <th>1</th>\n",
       "      <td>-0.052806</td>\n",
       "      <td>0.108048</td>\n",
       "      <td>0.429228</td>\n",
       "    </tr>\n",
       "    <tr>\n",
       "      <th>2</th>\n",
       "      <td>-1.985612</td>\n",
       "      <td>0.017062</td>\n",
       "      <td>-0.976114</td>\n",
       "    </tr>\n",
       "    <tr>\n",
       "      <th>3</th>\n",
       "      <td>-0.756991</td>\n",
       "      <td>-0.781669</td>\n",
       "      <td>0.713236</td>\n",
       "    </tr>\n",
       "    <tr>\n",
       "      <th>4</th>\n",
       "      <td>0.371859</td>\n",
       "      <td>0.574532</td>\n",
       "      <td>1.866772</td>\n",
       "    </tr>\n",
       "  </tbody>\n",
       "</table>\n",
       "</div>"
      ],
      "text/plain": [
       "          A         B         C\n",
       "0 -0.864826 -0.986356 -1.120342\n",
       "1 -0.052806  0.108048  0.429228\n",
       "2 -1.985612  0.017062 -0.976114\n",
       "3 -0.756991 -0.781669  0.713236\n",
       "4  0.371859  0.574532  1.866772"
      ]
     },
     "execution_count": 65,
     "metadata": {},
     "output_type": "execute_result"
    }
   ],
   "source": [
    "df1"
   ]
  },
  {
   "cell_type": "code",
   "execution_count": 68,
   "id": "b500c072-d0ec-4ff0-bc06-b3480032494e",
   "metadata": {
    "tags": []
   },
   "outputs": [
    {
     "data": {
      "text/plain": [
       "A    2\n",
       "B    0\n",
       "C    0\n",
       "dtype: int64"
      ]
     },
     "execution_count": 68,
     "metadata": {},
     "output_type": "execute_result"
    }
   ],
   "source": [
    "df1.idxmin(axis=0)"
   ]
  },
  {
   "cell_type": "code",
   "execution_count": 69,
   "id": "d3398c78-8812-4514-9acb-d4daebe35684",
   "metadata": {
    "tags": []
   },
   "outputs": [
    {
     "data": {
      "text/plain": [
       "A    4\n",
       "B    4\n",
       "C    4\n",
       "dtype: int64"
      ]
     },
     "execution_count": 69,
     "metadata": {},
     "output_type": "execute_result"
    }
   ],
   "source": [
    "df1.idxmax(axis=0)"
   ]
  },
  {
   "cell_type": "markdown",
   "id": "2025a8a0-e176-4fd1-9d33-fb27d22d8373",
   "metadata": {},
   "source": [
    "When there are multiple rows (or columns) matching the minimum or maximum value, `idxmin()` and `idxmax()` return the first matching index:"
   ]
  },
  {
   "cell_type": "code",
   "execution_count": 70,
   "id": "e32b2419-3346-457b-8900-871fb8f98e22",
   "metadata": {
    "tags": []
   },
   "outputs": [],
   "source": [
    "df2 = pd.DataFrame(\n",
    "    [2, 1, 1, 3, np.nan], columns=[\"A\"], index=list(\"edcba\"))"
   ]
  },
  {
   "cell_type": "code",
   "execution_count": 71,
   "id": "41ba1576-cad5-44ab-872a-f69ea6fe9cc1",
   "metadata": {
    "tags": []
   },
   "outputs": [
    {
     "data": {
      "text/html": [
       "<div>\n",
       "<style scoped>\n",
       "    .dataframe tbody tr th:only-of-type {\n",
       "        vertical-align: middle;\n",
       "    }\n",
       "\n",
       "    .dataframe tbody tr th {\n",
       "        vertical-align: top;\n",
       "    }\n",
       "\n",
       "    .dataframe thead th {\n",
       "        text-align: right;\n",
       "    }\n",
       "</style>\n",
       "<table border=\"1\" class=\"dataframe\">\n",
       "  <thead>\n",
       "    <tr style=\"text-align: right;\">\n",
       "      <th></th>\n",
       "      <th>A</th>\n",
       "    </tr>\n",
       "  </thead>\n",
       "  <tbody>\n",
       "    <tr>\n",
       "      <th>e</th>\n",
       "      <td>2.0</td>\n",
       "    </tr>\n",
       "    <tr>\n",
       "      <th>d</th>\n",
       "      <td>1.0</td>\n",
       "    </tr>\n",
       "    <tr>\n",
       "      <th>c</th>\n",
       "      <td>1.0</td>\n",
       "    </tr>\n",
       "    <tr>\n",
       "      <th>b</th>\n",
       "      <td>3.0</td>\n",
       "    </tr>\n",
       "    <tr>\n",
       "      <th>a</th>\n",
       "      <td>NaN</td>\n",
       "    </tr>\n",
       "  </tbody>\n",
       "</table>\n",
       "</div>"
      ],
      "text/plain": [
       "     A\n",
       "e  2.0\n",
       "d  1.0\n",
       "c  1.0\n",
       "b  3.0\n",
       "a  NaN"
      ]
     },
     "execution_count": 71,
     "metadata": {},
     "output_type": "execute_result"
    }
   ],
   "source": [
    "df2"
   ]
  },
  {
   "cell_type": "code",
   "execution_count": 72,
   "id": "e11012af-cd9a-4f0b-8dfa-04b86249e424",
   "metadata": {
    "tags": []
   },
   "outputs": [
    {
     "data": {
      "text/plain": [
       "'d'"
      ]
     },
     "execution_count": 72,
     "metadata": {},
     "output_type": "execute_result"
    }
   ],
   "source": [
    "df2[\"A\"].idxmin()"
   ]
  },
  {
   "cell_type": "markdown",
   "id": "5f57f123-ca8c-44a2-b674-5d7ff08de596",
   "metadata": {},
   "source": [
    "> **Note:** `idxmin` and `idxmax` are called `argmin` and `argmax` in NumPy."
   ]
  },
  {
   "cell_type": "markdown",
   "id": "ad345106-9162-402a-ad2d-92033cc16756",
   "metadata": {},
   "source": [
    "## Value counts (histogramming) / mode"
   ]
  },
  {
   "cell_type": "markdown",
   "id": "3fcfbf07-c2b8-497b-8f72-0fe84246e1f3",
   "metadata": {},
   "source": [
    "The `value_counts()` Series method and top-level function computes a histogram of a 1D array of values. It can also be used as a function on regular arrays:"
   ]
  },
  {
   "cell_type": "code",
   "execution_count": 76,
   "id": "f8780e69-6cd1-4d92-8dd8-524e7dbd62f5",
   "metadata": {
    "tags": []
   },
   "outputs": [],
   "source": [
    "data = np.random.randint(1, 7, size=50)"
   ]
  },
  {
   "cell_type": "code",
   "execution_count": 77,
   "id": "f2a61e25-6451-49d8-831e-a5608c597450",
   "metadata": {
    "tags": []
   },
   "outputs": [
    {
     "data": {
      "text/plain": [
       "array([1, 4, 1, 2, 2, 4, 5, 2, 5, 6, 1, 4, 3, 3, 2, 5, 3, 2, 6, 1, 3, 6,\n",
       "       2, 3, 2, 6, 2, 2, 4, 4, 6, 4, 6, 2, 2, 4, 6, 3, 5, 4, 2, 3, 2, 2,\n",
       "       4, 5, 5, 3, 1, 4])"
      ]
     },
     "execution_count": 77,
     "metadata": {},
     "output_type": "execute_result"
    }
   ],
   "source": [
    "data"
   ]
  },
  {
   "cell_type": "code",
   "execution_count": 78,
   "id": "95be5a3a-471a-440f-9d09-24cb57e3fecd",
   "metadata": {
    "tags": []
   },
   "outputs": [],
   "source": [
    "s = pd.Series(data)"
   ]
  },
  {
   "cell_type": "code",
   "execution_count": 80,
   "id": "733092c1-9d07-4348-856a-05d49e40c592",
   "metadata": {
    "tags": []
   },
   "outputs": [
    {
     "data": {
      "text/plain": [
       "2    14\n",
       "4    10\n",
       "3     8\n",
       "6     7\n",
       "5     6\n",
       "1     5\n",
       "Name: count, dtype: int64"
      ]
     },
     "execution_count": 80,
     "metadata": {},
     "output_type": "execute_result"
    }
   ],
   "source": [
    "s.value_counts()"
   ]
  },
  {
   "cell_type": "code",
   "execution_count": 81,
   "id": "d78056d0-253a-4cf7-8df5-d6518e63b730",
   "metadata": {
    "tags": []
   },
   "outputs": [
    {
     "name": "stderr",
     "output_type": "stream",
     "text": [
      "/tmp/ipykernel_897/3657943749.py:1: FutureWarning: pandas.value_counts is deprecated and will be removed in a future version. Use pd.Series(obj).value_counts() instead.\n",
      "  pd.value_counts(data)\n"
     ]
    },
    {
     "data": {
      "text/plain": [
       "2    14\n",
       "4    10\n",
       "3     8\n",
       "6     7\n",
       "5     6\n",
       "1     5\n",
       "Name: count, dtype: int64"
      ]
     },
     "execution_count": 81,
     "metadata": {},
     "output_type": "execute_result"
    }
   ],
   "source": [
    "pd.value_counts(data)"
   ]
  },
  {
   "cell_type": "markdown",
   "id": "48fe6455-1199-40fa-b138-3b667bf4ea17",
   "metadata": {},
   "source": [
    "The `value_counts()` method can be used to count combinations across multiple columns. By default all columns are used but a subset can be selected using the `subset` argument."
   ]
  },
  {
   "cell_type": "code",
   "execution_count": 82,
   "id": "68fb7ca4-b051-447f-baf6-ac12dff36913",
   "metadata": {
    "tags": []
   },
   "outputs": [],
   "source": [
    "data = {\"a\": [1, 2, 3, 4], \"b\": ['x', 'x', 'y', 'y']}"
   ]
  },
  {
   "cell_type": "code",
   "execution_count": 83,
   "id": "64f6dc51-4053-4020-a8cf-937373818e7e",
   "metadata": {
    "tags": []
   },
   "outputs": [],
   "source": [
    "frame = pd.DataFrame(data)"
   ]
  },
  {
   "cell_type": "code",
   "execution_count": 84,
   "id": "9225a427-567f-4a6c-8675-751c72eaae61",
   "metadata": {
    "tags": []
   },
   "outputs": [
    {
     "data": {
      "text/html": [
       "<div>\n",
       "<style scoped>\n",
       "    .dataframe tbody tr th:only-of-type {\n",
       "        vertical-align: middle;\n",
       "    }\n",
       "\n",
       "    .dataframe tbody tr th {\n",
       "        vertical-align: top;\n",
       "    }\n",
       "\n",
       "    .dataframe thead th {\n",
       "        text-align: right;\n",
       "    }\n",
       "</style>\n",
       "<table border=\"1\" class=\"dataframe\">\n",
       "  <thead>\n",
       "    <tr style=\"text-align: right;\">\n",
       "      <th></th>\n",
       "      <th>a</th>\n",
       "      <th>b</th>\n",
       "    </tr>\n",
       "  </thead>\n",
       "  <tbody>\n",
       "    <tr>\n",
       "      <th>0</th>\n",
       "      <td>1</td>\n",
       "      <td>x</td>\n",
       "    </tr>\n",
       "    <tr>\n",
       "      <th>1</th>\n",
       "      <td>2</td>\n",
       "      <td>x</td>\n",
       "    </tr>\n",
       "    <tr>\n",
       "      <th>2</th>\n",
       "      <td>3</td>\n",
       "      <td>y</td>\n",
       "    </tr>\n",
       "    <tr>\n",
       "      <th>3</th>\n",
       "      <td>4</td>\n",
       "      <td>y</td>\n",
       "    </tr>\n",
       "  </tbody>\n",
       "</table>\n",
       "</div>"
      ],
      "text/plain": [
       "   a  b\n",
       "0  1  x\n",
       "1  2  x\n",
       "2  3  y\n",
       "3  4  y"
      ]
     },
     "execution_count": 84,
     "metadata": {},
     "output_type": "execute_result"
    }
   ],
   "source": [
    "frame"
   ]
  },
  {
   "cell_type": "code",
   "execution_count": 85,
   "id": "3e3d1e9c-c548-4aa0-a04e-f7450d7b2853",
   "metadata": {
    "tags": []
   },
   "outputs": [
    {
     "data": {
      "text/plain": [
       "a  b\n",
       "1  x    1\n",
       "2  x    1\n",
       "3  y    1\n",
       "4  y    1\n",
       "Name: count, dtype: int64"
      ]
     },
     "execution_count": 85,
     "metadata": {},
     "output_type": "execute_result"
    }
   ],
   "source": [
    "frame.value_counts()"
   ]
  },
  {
   "cell_type": "markdown",
   "id": "502707af-287f-49c0-aae6-12bef8126de2",
   "metadata": {},
   "source": [
    "Similarly, you can get the most frequently occurring value(s), i.e. the mode, of the values in a Series or DataFrame:"
   ]
  },
  {
   "cell_type": "code",
   "execution_count": 86,
   "id": "9c940c57-99e9-4de3-80ed-0ba931b3568d",
   "metadata": {
    "tags": []
   },
   "outputs": [],
   "source": [
    "s3 = pd.Series([1, 1, 3, 3, 3, 5, 5, 7, 7, 7])"
   ]
  },
  {
   "cell_type": "code",
   "execution_count": 87,
   "id": "4b6804d0-069a-476d-aeca-2591c1a242cf",
   "metadata": {
    "tags": []
   },
   "outputs": [
    {
     "data": {
      "text/plain": [
       "0    1\n",
       "1    1\n",
       "2    3\n",
       "3    3\n",
       "4    3\n",
       "5    5\n",
       "6    5\n",
       "7    7\n",
       "8    7\n",
       "9    7\n",
       "dtype: int64"
      ]
     },
     "execution_count": 87,
     "metadata": {},
     "output_type": "execute_result"
    }
   ],
   "source": [
    "s3"
   ]
  },
  {
   "cell_type": "code",
   "execution_count": 88,
   "id": "2e619958-d088-404f-a244-2aed248a2018",
   "metadata": {
    "tags": []
   },
   "outputs": [
    {
     "data": {
      "text/plain": [
       "0    3\n",
       "1    7\n",
       "dtype: int64"
      ]
     },
     "execution_count": 88,
     "metadata": {},
     "output_type": "execute_result"
    }
   ],
   "source": [
    "s3.mode()"
   ]
  },
  {
   "cell_type": "code",
   "execution_count": 89,
   "id": "3e9e7e05-4f2f-445d-acfe-2dfb4946b4aa",
   "metadata": {
    "tags": []
   },
   "outputs": [],
   "source": [
    "df3 = pd.DataFrame(\n",
    "    {\n",
    "        \"A\": np.random.randint(0, 7, size=50),\n",
    "        \"B\": np.random.randint(-10, 15, size=50),\n",
    "    }\n",
    ")"
   ]
  },
  {
   "cell_type": "code",
   "execution_count": 90,
   "id": "9ebb83fa-1075-4e77-a61f-420baf257d53",
   "metadata": {
    "tags": []
   },
   "outputs": [
    {
     "data": {
      "text/html": [
       "<div>\n",
       "<style scoped>\n",
       "    .dataframe tbody tr th:only-of-type {\n",
       "        vertical-align: middle;\n",
       "    }\n",
       "\n",
       "    .dataframe tbody tr th {\n",
       "        vertical-align: top;\n",
       "    }\n",
       "\n",
       "    .dataframe thead th {\n",
       "        text-align: right;\n",
       "    }\n",
       "</style>\n",
       "<table border=\"1\" class=\"dataframe\">\n",
       "  <thead>\n",
       "    <tr style=\"text-align: right;\">\n",
       "      <th></th>\n",
       "      <th>A</th>\n",
       "      <th>B</th>\n",
       "    </tr>\n",
       "  </thead>\n",
       "  <tbody>\n",
       "    <tr>\n",
       "      <th>0</th>\n",
       "      <td>0</td>\n",
       "      <td>6.0</td>\n",
       "    </tr>\n",
       "    <tr>\n",
       "      <th>1</th>\n",
       "      <td>2</td>\n",
       "      <td>NaN</td>\n",
       "    </tr>\n",
       "  </tbody>\n",
       "</table>\n",
       "</div>"
      ],
      "text/plain": [
       "   A    B\n",
       "0  0  6.0\n",
       "1  2  NaN"
      ]
     },
     "execution_count": 90,
     "metadata": {},
     "output_type": "execute_result"
    }
   ],
   "source": [
    "df3.mode()"
   ]
  },
  {
   "cell_type": "markdown",
   "id": "69968c88-98db-4341-b6ca-b47d11cb3910",
   "metadata": {},
   "source": [
    "## Discretization and quantiling"
   ]
  },
  {
   "cell_type": "markdown",
   "id": "820ba715-be39-45fb-b2be-9a9f16a7e190",
   "metadata": {},
   "source": [
    "Continuous values can be discretized using the `cut()` (bins based on values) and `qcut()` (bins based on sample quantiles) functions:"
   ]
  },
  {
   "cell_type": "markdown",
   "id": "c7489a05-f195-47b4-8baa-a9d402dff462",
   "metadata": {},
   "source": [
    "`pd.cut` has equal cuts by default:"
   ]
  },
  {
   "cell_type": "code",
   "execution_count": 91,
   "id": "24ab96f6-bab2-4dc4-85f8-1079af6d31ab",
   "metadata": {
    "tags": []
   },
   "outputs": [
    {
     "data": {
      "text/plain": [
       "[(0.997, 2.0], (0.997, 2.0], (2.0, 3.0], (3.0, 4.0]]\n",
       "Categories (3, interval[float64, right]): [(0.997, 2.0] < (2.0, 3.0] < (3.0, 4.0]]"
      ]
     },
     "execution_count": 91,
     "metadata": {},
     "output_type": "execute_result"
    }
   ],
   "source": [
    "pd.cut([1, 2, 3, 4], 3)"
   ]
  },
  {
   "cell_type": "markdown",
   "id": "06a1dff2-5231-4311-9dbd-80b4f0f6d5d9",
   "metadata": {},
   "source": [
    "and you can provide `labels` to replace the ranges:"
   ]
  },
  {
   "cell_type": "code",
   "execution_count": 92,
   "id": "5abad69e-c314-45a5-bcff-080cda2a7897",
   "metadata": {
    "tags": []
   },
   "outputs": [
    {
     "data": {
      "text/plain": [
       "[1, 1, 2, 3]\n",
       "Categories (3, int64): [1 < 2 < 3]"
      ]
     },
     "execution_count": 92,
     "metadata": {},
     "output_type": "execute_result"
    }
   ],
   "source": [
    "pd.cut([1, 2, 3, 4], 3, labels=[1, 2, 3])"
   ]
  },
  {
   "cell_type": "markdown",
   "id": "dee63931-001a-40c5-b889-0847b3e60e64",
   "metadata": {},
   "source": [
    "You can also customize the cut edges by proving an array of edges. Here we cut the array at -5, -1, 0, 1, 5 values:"
   ]
  },
  {
   "cell_type": "code",
   "execution_count": 94,
   "id": "c635e47b-a906-48f2-803e-78baa9e61794",
   "metadata": {
    "tags": []
   },
   "outputs": [],
   "source": [
    "arr = np.random.randn(20)\n",
    "factor = pd.cut(arr, [-5, -1, 0, 1, 5])"
   ]
  },
  {
   "cell_type": "code",
   "execution_count": 95,
   "id": "40da1d52-6892-4f13-948b-a85abe979f94",
   "metadata": {
    "tags": []
   },
   "outputs": [
    {
     "data": {
      "text/plain": [
       "[(-5, -1], (0, 1], (-5, -1], (-1, 0], (0, 1], ..., (-1, 0], (1, 5], (-1, 0], (-1, 0], (1, 5]]\n",
       "Length: 20\n",
       "Categories (4, interval[int64, right]): [(-5, -1] < (-1, 0] < (0, 1] < (1, 5]]"
      ]
     },
     "execution_count": 95,
     "metadata": {},
     "output_type": "execute_result"
    }
   ],
   "source": [
    "factor"
   ]
  },
  {
   "cell_type": "markdown",
   "id": "880bb33c-a9b3-4add-939c-9681ea780aef",
   "metadata": {},
   "source": [
    "`qcut()` computes sample quantiles. For example, we could slice up some normally distributed data into equal-size quartiles like so:"
   ]
  },
  {
   "cell_type": "code",
   "execution_count": 96,
   "id": "6125ee9c-d1bd-4815-b578-522d042bb966",
   "metadata": {
    "tags": []
   },
   "outputs": [
    {
     "data": {
      "text/plain": [
       "array([ 0.3053849 , -0.17041624, -1.59854311, -0.80816019,  2.531207  ,\n",
       "       -0.07192321,  1.45694419, -1.48153015,  0.07719385, -0.17257442,\n",
       "        0.19308549,  0.43044014,  0.05617508,  0.59775132,  0.15982602,\n",
       "       -0.51228673, -0.52630464, -2.37605461, -1.47459582, -0.65992471,\n",
       "       -0.20398006, -0.23136418,  0.32820632,  0.40084065,  0.68742381,\n",
       "        0.60198351, -1.13249804,  1.05776786, -0.32400431,  1.56361047])"
      ]
     },
     "execution_count": 96,
     "metadata": {},
     "output_type": "execute_result"
    }
   ],
   "source": [
    "arr = np.random.randn(30)\n",
    "arr"
   ]
  },
  {
   "cell_type": "code",
   "execution_count": 97,
   "id": "39ce41ac-d858-4cc4-af07-ce906cbc046b",
   "metadata": {
    "tags": []
   },
   "outputs": [],
   "source": [
    "factor = pd.qcut(arr, [0, 0.25, 0.5, 0.75, 1], labels=range(4))"
   ]
  },
  {
   "cell_type": "code",
   "execution_count": 98,
   "id": "6b03c762-e97d-4e77-a2fa-a6509471dc74",
   "metadata": {
    "tags": []
   },
   "outputs": [
    {
     "data": {
      "text/plain": [
       "[2, 1, 0, 0, 3, ..., 3, 0, 3, 1, 3]\n",
       "Length: 30\n",
       "Categories (4, int64): [0 < 1 < 2 < 3]"
      ]
     },
     "execution_count": 98,
     "metadata": {},
     "output_type": "execute_result"
    }
   ],
   "source": [
    "factor"
   ]
  },
  {
   "cell_type": "code",
   "execution_count": 99,
   "id": "e6dc8162-b2cd-48aa-9c63-938cc2bd5620",
   "metadata": {
    "tags": []
   },
   "outputs": [
    {
     "name": "stderr",
     "output_type": "stream",
     "text": [
      "/tmp/ipykernel_897/524676245.py:1: FutureWarning: pandas.value_counts is deprecated and will be removed in a future version. Use pd.Series(obj).value_counts() instead.\n",
      "  pd.value_counts(factor)\n"
     ]
    },
    {
     "data": {
      "text/plain": [
       "0    8\n",
       "3    8\n",
       "1    7\n",
       "2    7\n",
       "Name: count, dtype: int64"
      ]
     },
     "execution_count": 99,
     "metadata": {},
     "output_type": "execute_result"
    }
   ],
   "source": [
    "pd.value_counts(factor)"
   ]
  },
  {
   "cell_type": "markdown",
   "id": "7e6a1e10-230c-4e54-a68c-74efdb6f4dd3",
   "metadata": {},
   "source": [
    "We can also pass infinite values to define the bins:"
   ]
  },
  {
   "cell_type": "code",
   "execution_count": 100,
   "id": "61ff2d88-442e-455f-9589-8a1d8ebff87d",
   "metadata": {
    "tags": []
   },
   "outputs": [],
   "source": [
    "arr = np.random.randn(20)"
   ]
  },
  {
   "cell_type": "code",
   "execution_count": 101,
   "id": "d09d49de-f671-43aa-838c-f0368db256b9",
   "metadata": {
    "tags": []
   },
   "outputs": [],
   "source": [
    "factor = pd.cut(arr, [-np.inf, 0, np.inf], labels=[\"-\", \"+\"])"
   ]
  },
  {
   "cell_type": "code",
   "execution_count": 102,
   "id": "53e750c7-c008-41c7-ba7a-e649ed92bbec",
   "metadata": {
    "tags": []
   },
   "outputs": [
    {
     "data": {
      "text/plain": [
       "['+', '-', '-', '+', '+', ..., '+', '-', '-', '+', '-']\n",
       "Length: 20\n",
       "Categories (2, object): ['-' < '+']"
      ]
     },
     "execution_count": 102,
     "metadata": {},
     "output_type": "execute_result"
    }
   ],
   "source": [
    "factor"
   ]
  },
  {
   "cell_type": "code",
   "execution_count": 103,
   "id": "d1bd3e3a-3a41-42b1-bf2e-a78f2f700710",
   "metadata": {
    "tags": []
   },
   "outputs": [
    {
     "data": {
      "text/plain": [
       "array([ 0.05721335, -1.24636953, -0.73800218,  0.97778536,  0.45207106,\n",
       "        0.12335759,  0.22184179,  0.26141949, -1.15353544,  0.03892081,\n",
       "        0.18841391,  0.01708136, -0.48556434,  2.04403918, -0.17776896,\n",
       "        0.87301977, -1.95191938, -0.54038328,  0.55796825, -0.51399947])"
      ]
     },
     "execution_count": 103,
     "metadata": {},
     "output_type": "execute_result"
    }
   ],
   "source": [
    "arr"
   ]
  },
  {
   "cell_type": "markdown",
   "id": "5179fbf2-a969-4e09-a775-01a0132d38d2",
   "metadata": {},
   "source": [
    "You can also have repetitive labels, but you have to set the `order` keyword argument to `False` as it doesn't make sense to define order with repitative values. Otherwise, you will get `ValueError`."
   ]
  },
  {
   "cell_type": "code",
   "execution_count": 104,
   "id": "e701cad2-2353-496b-9df1-4f51bde836b8",
   "metadata": {
    "tags": []
   },
   "outputs": [
    {
     "data": {
      "text/plain": [
       "[NaN, NaN, 'B', 'B', 'B', 'A', 'A', 'A', 'B']\n",
       "Categories (2, object): ['A', 'B']"
      ]
     },
     "execution_count": 104,
     "metadata": {},
     "output_type": "execute_result"
    }
   ],
   "source": [
    "pd.cut(\n",
    "    [-2, 0, 1, 2, 3, 4, 5, 6, 7],\n",
    "    [0, 3, 6, 9],\n",
    "    labels=[\"B\", \"A\", \"B\"],\n",
    "    ordered=False\n",
    ")"
   ]
  },
  {
   "cell_type": "markdown",
   "id": "81175787-04cf-4e67-8d5d-c8c5e171b0d9",
   "metadata": {},
   "source": [
    "> Note that when you have values out of bins, `NaN` is returned."
   ]
  },
  {
   "cell_type": "code",
   "execution_count": null,
   "id": "3c990002-941f-4091-bcbd-7dec8a659971",
   "metadata": {},
   "outputs": [],
   "source": []
  }
 ],
 "metadata": {
  "kernelspec": {
   "display_name": "Python 3 (ipykernel)",
   "language": "python",
   "name": "python3"
  },
  "language_info": {
   "codemirror_mode": {
    "name": "ipython",
    "version": 3
   },
   "file_extension": ".py",
   "mimetype": "text/x-python",
   "name": "python",
   "nbconvert_exporter": "python",
   "pygments_lexer": "ipython3",
   "version": "3.11.4"
  }
 },
 "nbformat": 4,
 "nbformat_minor": 5
}
