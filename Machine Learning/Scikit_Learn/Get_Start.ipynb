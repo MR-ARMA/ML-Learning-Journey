{
 "cells": [
  {
   "cell_type": "markdown",
   "metadata": {},
   "source": [
    "# Get Start scikit-learn"
   ]
  },
  {
   "cell_type": "markdown",
   "metadata": {},
   "source": [
    "## Installing scikit-learn\n",
    "\n",
    "with `pip`:\n",
    "```bash\n",
    "pip install -U scikit-learn\n",
    "```\n",
    "\n",
    "with `conda`:\n",
    "```bach\n",
    "$ conda create -n sklearn-env -c conda-forge scikit-learn\n",
    "$ conda activate sklearn-env\n",
    "```"
   ]
  },
  {
   "cell_type": "markdown",
   "metadata": {},
   "source": [
    "**Training set and testing set**\n",
    "\n",
    "Machine learning involves uncovering patterns and relationships within data. These patterns are then used to make predictions about new, unseen data. A core practice is splitting the data into two sets for training and testing. The **training set** is used to \"teach\" the model by identifying patterns. The **testing set** then challenges the model with new data to see how well it can apply what it learned. This separation helps ensure the model isn't just memorizing the training data, but can truly generalize to unseen examples."
   ]
  },
  {
   "cell_type": "markdown",
   "metadata": {},
   "source": [
    "![train_test](./pictures/train_test.png)"
   ]
  },
  {
   "cell_type": "markdown",
   "metadata": {},
   "source": [
    "## Model Fitting\n",
    "\n",
    " **What Does `.fit()` Do?**\n",
    "- The `.fit()` method trains a machine learning model on a given dataset.\n",
    "    \n",
    "- Specifically, it takes in:\n",
    "\n",
    "    - A **feature matrix** (usually represented as a 2D array or matrix) containing input data points.\n",
    "\n",
    "    - A corresponding **target vector** (or label vector) representing the output values associated with each data point.\n",
    "        \n",
    "- The goal is to adjust the model's parameters (such as coefficients or weights) to best fit the training data.\n",
    "\n",
    "**Note**\n",
    "- When building a machine learning model, we follow these steps:\n",
    "\n",
    "    1. **Initialization**: Create an instance of a specific model (e.g., `LinearRegression`, `RandomForestRegressor`, etc.).\n",
    "\n",
    "    2. **Training Data**: Feed the training data (features and corresponding labels) into the model.\n",
    "    \n",
    "    3. **Model Learning**: The `.fit()` method uses the training data to adjust the model's internal parameters.\n",
    "\n",
    "    4. **Model Ready**: Once trained, the model can be used for various tasks, such as making predictions.\n",
    "\n",
    "\n",
    "**Remember**:\n",
    "\n",
    "- **Underfitting**: Too simple model; poor performance.\n",
    "\n",
    "- **Overfitting**: Too complex model; fails to generalize.\n",
    "\n",
    "- **Bias-Variance Tradeoff**: Balance between simplicity and flexibility.\n",
    "\n",
    "**note that:** fitting is equal to training. Then, after it is trained, the model can be used to make predictions, usually with a .`predict()` method call.\n",
    "\n",
    "**To elaborate:** Fitting your model to (i.e. using the `.fit()` method on) the training data is essentially the training part of the modeling process. It finds the coefficients for the equation specified via the algorithm being used (take for example umutto's linear regression example, above)."
   ]
  },
  {
   "cell_type": "markdown",
   "metadata": {},
   "source": [
    "![fitting](./pictures/fitting.webp)"
   ]
  },
  {
   "cell_type": "markdown",
   "metadata": {},
   "source": [
    "## Cross-Validation: Evaluating Model Performance\n",
    "\n",
    "In machine learning, we face a critical challenge: **how well does our model generalize to unseen data?** We can't simply fit the model on the training data and assume it will perform accurately on real-world data. To address this, we use **cross-validation** techniques.\n",
    "\n",
    "### What is Cross-Validation?\n",
    "\n",
    "- **Cross-validation** is a technique used to **evaluate the performance of a model on unseen data**.\n",
    "- Here's how it works:\n",
    "    1. **Data Splitting**: We divide the available data into multiple **folds** or subsets.\n",
    "    2. **Training and Validation**: We train the model on some folds (training set) and validate it on the remaining fold (validation set).\n",
    "    3. **Repeat and Average**: We repeat this process multiple times, each time using a different fold as the validation set.\n",
    "    4. **Robust Estimate**: Finally, we average the results from each validation step to get a more robust estimate of the model's performance.\n"
   ]
  },
  {
   "cell_type": "code",
   "execution_count": 71,
   "metadata": {},
   "outputs": [],
   "source": [
    "import numpy as np \n",
    "import sklearn.datasets"
   ]
  },
  {
   "cell_type": "code",
   "execution_count": 72,
   "metadata": {},
   "outputs": [
    {
     "name": "stdout",
     "output_type": "stream",
     "text": [
      ".. _wine_dataset:\n",
      "\n",
      "Wine recognition dataset\n",
      "------------------------\n",
      "\n",
      "**Data Set Characteristics:**\n",
      "\n",
      ":Number of Instances: 178\n",
      ":Number of Attributes: 13 numeric, predictive attributes and the class\n",
      ":Attribute Information:\n",
      "    - Alcohol\n",
      "    - Malic acid\n",
      "    - Ash\n",
      "    - Alcalinity of ash\n",
      "    - Magnesium\n",
      "    - Total phenols\n",
      "    - Flavanoids\n",
      "    - Nonflavanoid phenols\n",
      "    - Proanthocyanins\n",
      "    - Color intensity\n",
      "    - Hue\n",
      "    - OD280/OD315 of diluted wines\n",
      "    - Proline\n",
      "    - class:\n",
      "        - class_0\n",
      "        - class_1\n",
      "        - class_2\n",
      "\n",
      ":Summary Statistics:\n",
      "\n",
      "============================= ==== ===== ======= =====\n",
      "                                Min   Max   Mean     SD\n",
      "============================= ==== ===== ======= =====\n",
      "Alcohol:                      11.0  14.8    13.0   0.8\n",
      "Malic Acid:                   0.74  5.80    2.34  1.12\n",
      "Ash:                          1.36  3.23    2.36  0.27\n",
      "Alcalinity of Ash:            10.6  30.0    19.5   3.3\n",
      "Magnesium:                    70.0 162.0    99.7  14.3\n",
      "Total Phenols:                0.98  3.88    2.29  0.63\n",
      "Flavanoids:                   0.34  5.08    2.03  1.00\n",
      "Nonflavanoid Phenols:         0.13  0.66    0.36  0.12\n",
      "Proanthocyanins:              0.41  3.58    1.59  0.57\n",
      "Colour Intensity:              1.3  13.0     5.1   2.3\n",
      "Hue:                          0.48  1.71    0.96  0.23\n",
      "OD280/OD315 of diluted wines: 1.27  4.00    2.61  0.71\n",
      "Proline:                       278  1680     746   315\n",
      "============================= ==== ===== ======= =====\n",
      "\n",
      ":Missing Attribute Values: None\n",
      ":Class Distribution: class_0 (59), class_1 (71), class_2 (48)\n",
      ":Creator: R.A. Fisher\n",
      ":Donor: Michael Marshall (MARSHALL%PLU@io.arc.nasa.gov)\n",
      ":Date: July, 1988\n",
      "\n",
      "This is a copy of UCI ML Wine recognition datasets.\n",
      "https://archive.ics.uci.edu/ml/machine-learning-databases/wine/wine.data\n",
      "\n",
      "The data is the results of a chemical analysis of wines grown in the same\n",
      "region in Italy by three different cultivators. There are thirteen different\n",
      "measurements taken for different constituents found in the three types of\n",
      "wine.\n",
      "\n",
      "Original Owners:\n",
      "\n",
      "Forina, M. et al, PARVUS -\n",
      "An Extendible Package for Data Exploration, Classification and Correlation.\n",
      "Institute of Pharmaceutical and Food Analysis and Technologies,\n",
      "Via Brigata Salerno, 16147 Genoa, Italy.\n",
      "\n",
      "Citation:\n",
      "\n",
      "Lichman, M. (2013). UCI Machine Learning Repository\n",
      "[https://archive.ics.uci.edu/ml]. Irvine, CA: University of California,\n",
      "School of Information and Computer Science.\n",
      "\n",
      "|details-start|\n",
      "**References**\n",
      "|details-split|\n",
      "\n",
      "(1) S. Aeberhard, D. Coomans and O. de Vel,\n",
      "Comparison of Classifiers in High Dimensional Settings,\n",
      "Tech. Rep. no. 92-02, (1992), Dept. of Computer Science and Dept. of\n",
      "Mathematics and Statistics, James Cook University of North Queensland.\n",
      "(Also submitted to Technometrics).\n",
      "\n",
      "The data was used with many others for comparing various\n",
      "classifiers. The classes are separable, though only RDA\n",
      "has achieved 100% correct classification.\n",
      "(RDA : 100%, QDA 99.4%, LDA 98.9%, 1NN 96.1% (z-transformed data))\n",
      "(All results using the leave-one-out technique)\n",
      "\n",
      "(2) S. Aeberhard, D. Coomans and O. de Vel,\n",
      "\"THE CLASSIFICATION PERFORMANCE OF RDA\"\n",
      "Tech. Rep. no. 92-01, (1992), Dept. of Computer Science and Dept. of\n",
      "Mathematics and Statistics, James Cook University of North Queensland.\n",
      "(Also submitted to Journal of Chemometrics).\n",
      "\n",
      "|details-end|\n",
      "\n"
     ]
    }
   ],
   "source": [
    "data = sklearn.datasets.load_wine()\n",
    "print(data.DESCR)"
   ]
  },
  {
   "cell_type": "code",
   "execution_count": 73,
   "metadata": {},
   "outputs": [],
   "source": [
    "feature = data.feature_names\n",
    "X = data.data\n",
    "y = data.target"
   ]
  },
  {
   "cell_type": "markdown",
   "metadata": {},
   "source": [
    "## Learning & Prediction"
   ]
  },
  {
   "cell_type": "code",
   "execution_count": 74,
   "metadata": {},
   "outputs": [
    {
     "data": {
      "text/plain": [
       "array([0.9279392 , 2.03705136, 0.02565819, 2.22722888, 0.76727556])"
      ]
     },
     "execution_count": 74,
     "metadata": {},
     "output_type": "execute_result"
    }
   ],
   "source": [
    "from sklearn.linear_model import LinearRegression\n",
    "\n",
    "reg = LinearRegression().fit(X[:-5], y[:-5]) # .fit() is train data (So here train in X[:-5] datas)\n",
    "reg.score(X[:-5], y[:-5])\n",
    "\n",
    "reg.coef_ # Get the model coefficients (weights for each feature)\n",
    "          # These represent the magnitude and direction of the linear relationship between features and target\n",
    "\n",
    "reg.intercept_  # Get the model intercept (the y-axis value where the fitted line crosses)\n",
    "\n",
    "\n",
    "rand_choice = np.random.choice(X.shape[0], size=5, replace=True)\n",
    "reg.predict(X[rand_choice])  # Make predictions on the selected data points (using the trained model)"
   ]
  },
  {
   "cell_type": "code",
   "execution_count": 75,
   "metadata": {},
   "outputs": [
    {
     "name": "stdout",
     "output_type": "stream",
     "text": [
      "coefficent: [-0.11430629  0.02814656 -0.14248095  0.04000511 -0.00059665  0.1464011\n",
      " -0.37175129 -0.31360262  0.03955611  0.07513326 -0.14781083 -0.27135876\n",
      " -0.00071033]\n",
      "\n",
      "intercept: 3.443632994085607\n"
     ]
    }
   ],
   "source": [
    "print(f\"coefficent: {reg.coef_}\", end='\\n\\n')\n",
    "\n",
    "print(f\"intercept: {reg.intercept_}\")\n"
   ]
  },
  {
   "cell_type": "code",
   "execution_count": 76,
   "metadata": {},
   "outputs": [
    {
     "name": "stdout",
     "output_type": "stream",
     "text": [
      "real target: [1 2 0 2 1]\n",
      "pred target: [0.9279392  2.03705136 0.02565819 2.22722888 0.76727556]\n"
     ]
    }
   ],
   "source": [
    "print(f\"real target: {y[rand_choice]}\")\n",
    "print(f\"pred target: {reg.predict(X[rand_choice])}\")\n"
   ]
  },
  {
   "cell_type": "code",
   "execution_count": 77,
   "metadata": {},
   "outputs": [
    {
     "name": "stdout",
     "output_type": "stream",
     "text": [
      "last 5 target: [2 2 2 2 2]\n",
      "predict last 5 data: [1.83402316 1.92245597 2.01127544 1.85602672 2.14080926]\n"
     ]
    }
   ],
   "source": [
    "print(f\"last 5 target: {y[-5:]}\")\n",
    "print(f\"predict last 5 data: {reg.predict(X[-5:])}\")"
   ]
  },
  {
   "cell_type": "code",
   "execution_count": 78,
   "metadata": {},
   "outputs": [],
   "source": [
    "import seaborn as sns\n",
    "import matplotlib.pyplot as plt\n",
    "\n",
    "%matplotlib inline"
   ]
  },
  {
   "cell_type": "code",
   "execution_count": 79,
   "metadata": {},
   "outputs": [
    {
     "data": {
      "text/plain": [
       "<Axes: >"
      ]
     },
     "execution_count": 79,
     "metadata": {},
     "output_type": "execute_result"
    },
    {
     "data": {
      "image/png": "[encoded data removed]",
      "text/plain": [
       "<Figure size 640x480 with 1 Axes>"
      ]
     },
     "metadata": {},
     "output_type": "display_data"
    }
   ],
   "source": [
    "sns.scatterplot(x=np.arange(178), y=reg.predict(X), label=\"Predicted Values\")  # Plot predictions\n",
    "sns.scatterplot(x=np.arange(178), y=y, label=\"Actual Values\")   "
   ]
  },
  {
   "cell_type": "code",
   "execution_count": 80,
   "metadata": {},
   "outputs": [
    {
     "data": {
      "text/plain": [
       "<Axes: >"
      ]
     },
     "execution_count": 80,
     "metadata": {},
     "output_type": "execute_result"
    },
    {
     "data": {
      "image/png": "[encoded data removed]",
      "text/plain": [
       "<Figure size 640x480 with 1 Axes>"
      ]
     },
     "metadata": {},
     "output_type": "display_data"
    }
   ],
   "source": [
    "sns.scatterplot(x=np.arange(178), y=np.round(reg.predict(X)), label=\"Predicted Values\")  # Plot predictions\n",
    "sns.scatterplot(x=np.arange(178), y=y-0.02, label=\"Actual Values\") # Because the data can be found "
   ]
  },
  {
   "cell_type": "code",
   "execution_count": null,
   "metadata": {},
   "outputs": [],
   "source": []
  }
 ],
 "metadata": {
  "kernelspec": {
   "display_name": "base",
   "language": "python",
   "name": "python3"
  },
  "language_info": {
   "codemirror_mode": {
    "name": "ipython",
    "version": 3
   },
   "file_extension": ".py",
   "mimetype": "text/x-python",
   "name": "python",
   "nbconvert_exporter": "python",
   "pygments_lexer": "ipython3",
   "version": "3.11.5"
  }
 },
 "nbformat": 4,
 "nbformat_minor": 2
}
