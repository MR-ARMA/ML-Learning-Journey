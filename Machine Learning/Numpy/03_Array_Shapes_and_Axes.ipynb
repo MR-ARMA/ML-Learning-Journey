{
 "cells": [
  {
   "cell_type": "markdown",
   "id": "c5b82711-e4ba-408d-be2f-7124f53b8074",
   "metadata": {},
   "source": [
    "# <center> <div style=\"width: 370px;\"> ![numpy title](pictures/numpy_tytle.jpg)"
   ]
  },
  {
   "cell_type": "markdown",
   "id": "e3cc675e-3ddc-4c83-9a65-a946f1c2fc3d",
   "metadata": {},
   "source": [
    "<h1 align=\"center\">Array shapes and axis</h1>"
   ]
  },
  {
   "cell_type": "markdown",
   "id": "9c705789-add0-4575-9e78-79b2fc712b06",
   "metadata": {},
   "source": [
    "Understanding the theory behind NumPy's multi-dimensional arrays is key to using them effectively. While one-dimensional vectors are straightforward, visualizing arrays in higher dimensions can be challenging. \n",
    "As you move from two-dimensional matrices to three or more dimensions, keeping track of the array structure requires some mental gymnastics. It's easy to get lost in the abstraction of hyperspace. \n",
    "Mastering NumPy is like learning a new language. It opens up expressive possibilities you didn't have before. The effort to wrap your head around arrays with three, four, or more dimensions will expand your programming skills in the long run."
   ]
  },
  {
   "cell_type": "markdown",
   "id": "a64f028b-4ec2-4de0-b314-8d8aeadf3229",
   "metadata": {},
   "source": [
    "## Mastering Shape"
   ]
  },
  {
   "cell_type": "markdown",
   "id": "5d4ce556-897c-4058-9c42-1d91eecf8855",
   "metadata": {},
   "source": [
    "Understanding the concept of shape is fundamental when working with multidimensional arrays. As you delve into the world of data manipulation, it becomes more practical to rely on mental heuristics and trust NumPy to report the accurate shape of your data, rather than constantly visualizing it.\n",
    "\n",
    "All arrays possess a property known as `.shape`, which yields a tuple indicating the size along each dimension. While it may be less crucial to memorize the specific dimensions, it is of paramount importance to ensure that the arrays provided to functions align with the expected shape. A common practice is to print both the data and its shape iteratively until you gain confidence that everything is behaving as anticipated.\n",
    "\n",
    "To illustrate this process, consider the following example. You will create an array with a complex shape, validate its shape, and subsequently restructure it to match the intended configuration:"
   ]
  },
  {
   "cell_type": "code",
   "execution_count": 1,
   "id": "9517ba6b-f543-4bf4-921d-60eaabdcec57",
   "metadata": {
    "tags": []
   },
   "outputs": [],
   "source": [
    "import numpy as np"
   ]
  },
  {
   "cell_type": "code",
   "execution_count": 2,
   "id": "c326fc88-97a2-434e-914b-9234050bfacc",
   "metadata": {
    "tags": []
   },
   "outputs": [],
   "source": [
    "temperatures = (np.random.randint(100, size=24))"
   ]
  },
  {
   "cell_type": "code",
   "execution_count": 3,
   "id": "319315bc-9ae2-4035-9697-f60625df36d8",
   "metadata": {
    "tags": []
   },
   "outputs": [
    {
     "data": {
      "text/plain": [
       "array([30, 42, 21, 36, 51, 17, 43, 35, 70, 24, 35, 77, 42, 21, 83, 48, 18,\n",
       "       74, 30, 61,  0, 78, 13, 71])"
      ]
     },
     "execution_count": 3,
     "metadata": {},
     "output_type": "execute_result"
    }
   ],
   "source": [
    "temperatures"
   ]
  },
  {
   "cell_type": "code",
   "execution_count": 4,
   "id": "6fa685e8-7c5a-4f53-aeed-41c9cd311b6f",
   "metadata": {
    "tags": []
   },
   "outputs": [],
   "source": [
    "temperatures = temperatures.reshape(2, 3, 4)"
   ]
  },
  {
   "cell_type": "code",
   "execution_count": 5,
   "id": "5217259d-358d-4e9d-9217-6020fc89b9a2",
   "metadata": {
    "tags": []
   },
   "outputs": [
    {
     "data": {
      "text/plain": [
       "(2, 3, 4)"
      ]
     },
     "execution_count": 5,
     "metadata": {},
     "output_type": "execute_result"
    }
   ],
   "source": [
    "temperatures.shape"
   ]
  },
  {
   "cell_type": "code",
   "execution_count": 6,
   "id": "807fb8a5-0bc5-4f18-9ef8-448bfd7fb5a4",
   "metadata": {
    "tags": []
   },
   "outputs": [
    {
     "data": {
      "text/plain": [
       "array([[[30, 42, 21, 36],\n",
       "        [51, 17, 43, 35],\n",
       "        [70, 24, 35, 77]],\n",
       "\n",
       "       [[42, 21, 83, 48],\n",
       "        [18, 74, 30, 61],\n",
       "        [ 0, 78, 13, 71]]])"
      ]
     },
     "execution_count": 6,
     "metadata": {},
     "output_type": "execute_result"
    }
   ],
   "source": [
    "temperatures"
   ]
  },
  {
   "cell_type": "code",
   "execution_count": 7,
   "id": "e2c72da2-b111-4ab5-9b40-32cadf484193",
   "metadata": {
    "tags": []
   },
   "outputs": [
    {
     "data": {
      "text/plain": [
       "array([[[30, 42, 21],\n",
       "        [36, 51, 17],\n",
       "        [43, 35, 70],\n",
       "        [24, 35, 77]],\n",
       "\n",
       "       [[42, 21, 83],\n",
       "        [48, 18, 74],\n",
       "        [30, 61,  0],\n",
       "        [78, 13, 71]]])"
      ]
     },
     "execution_count": 7,
     "metadata": {},
     "output_type": "execute_result"
    }
   ],
   "source": [
    "temperatures.reshape(2, 4, 3)"
   ]
  },
  {
   "cell_type": "code",
   "execution_count": 8,
   "id": "60428402-ae34-4559-b0a8-7f0712a23260",
   "metadata": {
    "tags": []
   },
   "outputs": [
    {
     "data": {
      "text/plain": [
       "(2, 3, 4)"
      ]
     },
     "execution_count": 8,
     "metadata": {},
     "output_type": "execute_result"
    }
   ],
   "source": [
    "temperatures.shape"
   ]
  },
  {
   "cell_type": "code",
   "execution_count": 9,
   "id": "fa852aa2-33cd-44c6-ae81-e54fa7a7c1a3",
   "metadata": {
    "tags": []
   },
   "outputs": [
    {
     "data": {
      "text/plain": [
       "array([[[30, 51, 70],\n",
       "        [42, 17, 24],\n",
       "        [21, 43, 35],\n",
       "        [36, 35, 77]],\n",
       "\n",
       "       [[42, 18,  0],\n",
       "        [21, 74, 78],\n",
       "        [83, 30, 13],\n",
       "        [48, 61, 71]]])"
      ]
     },
     "execution_count": 9,
     "metadata": {},
     "output_type": "execute_result"
    }
   ],
   "source": [
    "np.swapaxes(temperatures, 1, 2)"
   ]
  },
  {
   "cell_type": "code",
   "execution_count": 10,
   "id": "a890cbf4-ae00-47db-8609-29f13ae2e80c",
   "metadata": {
    "tags": []
   },
   "outputs": [
    {
     "data": {
      "text/plain": [
       "array([[[30, 42, 21, 36],\n",
       "        [51, 17, 43, 35],\n",
       "        [70, 24, 35, 77]],\n",
       "\n",
       "       [[42, 21, 83, 48],\n",
       "        [18, 74, 30, 61],\n",
       "        [ 0, 78, 13, 71]]])"
      ]
     },
     "execution_count": 10,
     "metadata": {},
     "output_type": "execute_result"
    }
   ],
   "source": [
    "temperatures"
   ]
  },
  {
   "cell_type": "markdown",
   "id": "51c22c49-a3c5-488f-bd68-4a8ecae44dc4",
   "metadata": {},
   "source": [
    "Here, you utilize a `numpy.ndarray` and employ the `.reshape()` method to construct a 2 × 3 × 4 and 2 × 3 × 4 block of data. In the third input, when you inspect the shape of your array, it precisely matches your specification. However, it becomes apparent that visualizing arrays in three or more dimensions can quickly become challenging.\n",
    "\n",
    "By applying `.swapaxes()`, you enhance the clarity of your array, making it easier to discern the various dimensions. This concept will be further explored in the upcoming section on axes.\n",
    "\n",
    "It's worth noting that these shape-related checks come at minimal computational cost. You can always remove these cells or eliminate the code once your operations are running smoothly."
   ]
  },
  {
   "cell_type": "markdown",
   "id": "02932a09-b5b5-45e4-b564-0b3d899d4fa4",
   "metadata": {},
   "source": [
    "## Understanding Axis"
   ]
  },
  {
   "cell_type": "markdown",
   "id": "86f2d765-0f6d-4692-a4d4-af3d6fa40c19",
   "metadata": {},
   "source": [
    "In NumPy, axes are the dimensions of an array. They are zero-indexed, so the first axis is axis 0, the second axis is axis 1, and so on.\n",
    "\n",
    "The axis argument to a function tells the function which axis to operate on. For example, the `.max()` function returns the maximum value in an array. By default, `.max()` operates on the entire array, but you can also specify a specific axis.\n",
    "\n",
    "The following example shows how `.max()` behaves with and without an axis argument:"
   ]
  },
  {
   "cell_type": "code",
   "execution_count": 11,
   "id": "4f6a56f3-4e63-431f-8439-d83aa3dc0552",
   "metadata": {
    "tags": []
   },
   "outputs": [],
   "source": [
    "import numpy as np\n",
    "\n",
    "grades = np.array([\n",
    "    [85, 90, 78, 88, 92],\n",
    "    [76, 82, 89, 91, 78],\n",
    "    [92, 88, 85, 89, 94],\n",
    "    [80, 78, 92, 87, 85],\n",
    "])"
   ]
  },
  {
   "cell_type": "code",
   "execution_count": 12,
   "id": "ea7c4cc0-3daf-4699-b2a7-ba8f4707c855",
   "metadata": {
    "tags": []
   },
   "outputs": [
    {
     "data": {
      "text/plain": [
       "array([[85, 90, 78, 88, 92],\n",
       "       [76, 82, 89, 91, 78],\n",
       "       [92, 88, 85, 89, 94],\n",
       "       [80, 78, 92, 87, 85]])"
      ]
     },
     "execution_count": 12,
     "metadata": {},
     "output_type": "execute_result"
    }
   ],
   "source": [
    "grades"
   ]
  },
  {
   "cell_type": "code",
   "execution_count": 13,
   "id": "8ea7dafe-293e-4df3-8c77-06d98f58b698",
   "metadata": {
    "tags": []
   },
   "outputs": [
    {
     "data": {
      "text/plain": [
       "array([83.25, 84.5 , 86.  , 88.75, 87.25])"
      ]
     },
     "execution_count": 13,
     "metadata": {},
     "output_type": "execute_result"
    }
   ],
   "source": [
    "grades.mean(axis=0)"
   ]
  },
  {
   "cell_type": "code",
   "execution_count": 14,
   "id": "6874f772-a17d-4837-9d68-5be452306b7a",
   "metadata": {
    "tags": []
   },
   "outputs": [
    {
     "data": {
      "text/plain": [
       "array([92, 91, 94, 92])"
      ]
     },
     "execution_count": 14,
     "metadata": {},
     "output_type": "execute_result"
    }
   ],
   "source": [
    "grades.max(axis=1)"
   ]
  },
  {
   "cell_type": "code",
   "execution_count": 15,
   "id": "794e6d01-9ee1-4dee-9196-8141dd017564",
   "metadata": {
    "tags": []
   },
   "outputs": [
    {
     "data": {
      "text/plain": [
       "array([85, 90, 78, 88, 92, 76, 82, 89, 91, 78, 92, 88, 85, 89, 94, 80, 78,\n",
       "       92, 87, 85])"
      ]
     },
     "execution_count": 15,
     "metadata": {},
     "output_type": "execute_result"
    }
   ],
   "source": [
    "grades.flatten()"
   ]
  },
  {
   "cell_type": "code",
   "execution_count": 16,
   "id": "3832ac5c-964e-4f62-96fa-9986dc9f0db4",
   "metadata": {
    "tags": []
   },
   "outputs": [
    {
     "data": {
      "text/plain": [
       "(4, 5)"
      ]
     },
     "execution_count": 16,
     "metadata": {},
     "output_type": "execute_result"
    }
   ],
   "source": [
    "grades.shape"
   ]
  },
  {
   "cell_type": "code",
   "execution_count": 17,
   "id": "b4e69879-b447-4140-a2ea-47450c6690d9",
   "metadata": {
    "tags": []
   },
   "outputs": [
    {
     "data": {
      "text/plain": [
       "94"
      ]
     },
     "execution_count": 17,
     "metadata": {},
     "output_type": "execute_result"
    }
   ],
   "source": [
    "grades.max()"
   ]
  },
  {
   "cell_type": "code",
   "execution_count": 18,
   "id": "734d84a6-9336-42f4-870b-da503cb1b7f6",
   "metadata": {
    "tags": []
   },
   "outputs": [
    {
     "data": {
      "text/plain": [
       "array([92, 90, 92, 91, 94])"
      ]
     },
     "execution_count": 18,
     "metadata": {},
     "output_type": "execute_result"
    }
   ],
   "source": [
    "grades.max(axis=0)"
   ]
  },
  {
   "cell_type": "code",
   "execution_count": 19,
   "id": "ff6fb49a-5557-4af9-b4d4-a3cce074fc35",
   "metadata": {
    "tags": []
   },
   "outputs": [
    {
     "data": {
      "text/plain": [
       "array([92, 91, 94, 92])"
      ]
     },
     "execution_count": 19,
     "metadata": {},
     "output_type": "execute_result"
    }
   ],
   "source": [
    "grades.max(axis=1)"
   ]
  },
  {
   "cell_type": "markdown",
   "id": "4e9474e1-7628-4381-b399-3f1ff2974d76",
   "metadata": {},
   "source": [
    "By default, `.max()` returns the largest value in the entire array, no matter how many dimensions there are. However, once you specify an axis, it performs that calculation for each set of values along that particular axis. For example, with an argument of `axis=0`, `.max()`selects the maximum value in each of the four vertical sets of values in table and returns an array that has been ***flattened***, or aggregated into a one-dimensional array.\n",
    "\n",
    "In fact, many of NumPy’s functions behave this way: If no axis is specified, then they perform an operation on the entire dataset. Otherwise, they perform the operation in an ***axis-wise*** fashion."
   ]
  },
  {
   "attachments": {
    "ae83670a-bfd7-476c-a1e6-756f3877c470.png": {
     "image/png": "[encoded data removed]"
    }
   },
   "cell_type": "markdown",
   "id": "5301646c-33a7-466e-9a25-354052ae7f51",
   "metadata": {},
   "source": [
    "# <center> <div style=\"width: 700px;\">  ![axis.png](attachment:ae83670a-bfd7-476c-a1e6-756f3877c470.png)"
   ]
  },
  {
   "cell_type": "markdown",
   "id": "67091784-ec69-48ba-bbec-3ed898f99052",
   "metadata": {},
   "source": [
    "You may wondering how to know which dimension is which. By definition, the axis number of the dimension is the index of that dimension within the array's shape. It is also the position used to access that dimension during indexing.\n",
    "\n",
    "For example, if a 2D array a has shape `(5,6)`, then you can access `a[0,0]` up to `a[4,5]`. Axis 0 is thus the first dimension (the \"rows\"), and axis `1` is the second dimension (the \"columns\"). In higher dimensions, where \"row\" and \"column\" stop really making sense, try to think of the axis in terms of the shapes and indices involved.\n",
    "\n",
    "If you do `.sum(axis=n)`, for example, then dimension `n` is collapsed and deleted, with each value in the new matrix equal to the sum of the corresponding collapsed values. For example, if b has shape `(5,6,7,8)`, and you do `c = b.sum(axis=2)`, then axis 2 (dimension with size 7) is collapsed, and the result has shape (5,6,8). Furthermore, `c[x,y,z]` is equal to the sum of all elements `b[x,y,:,z]`."
   ]
  },
  {
   "cell_type": "code",
   "execution_count": 20,
   "id": "0bb7cf46-f795-41d0-b352-690c0b1e674c",
   "metadata": {},
   "outputs": [],
   "source": [
    "import numpy as np"
   ]
  },
  {
   "cell_type": "code",
   "execution_count": 21,
   "id": "319d294e-9688-48bf-86d1-387afd3a6c80",
   "metadata": {},
   "outputs": [],
   "source": [
    "x = np.random.randint(120, size=(2, 4, 2, 5))"
   ]
  },
  {
   "cell_type": "code",
   "execution_count": 22,
   "id": "f58ab76a-9294-46a0-a488-dee93ecfcfc7",
   "metadata": {},
   "outputs": [
    {
     "data": {
      "text/plain": [
       "array([[[[ 27,  51,  71,  78,  96],\n",
       "         [ 55, 111,  86,  35,   4]],\n",
       "\n",
       "        [[ 14,  41,  56, 112,  24],\n",
       "         [ 57, 119,   9,  52,  38]],\n",
       "\n",
       "        [[ 59,  92,   5,  40,  99],\n",
       "         [ 40, 117,   7,  23, 107]],\n",
       "\n",
       "        [[ 68, 117,  30, 109,  78],\n",
       "         [ 67,  12,  19,  15,   6]]],\n",
       "\n",
       "\n",
       "       [[[ 56,  57,  10, 118,  79],\n",
       "         [ 26, 106,  98,  24,  96]],\n",
       "\n",
       "        [[ 85,   0,  78,  39,  61],\n",
       "         [ 60,  55,  14, 112,  84]],\n",
       "\n",
       "        [[116,  65, 105,  58,  41],\n",
       "         [107,  93,  95, 118,  66]],\n",
       "\n",
       "        [[ 86, 104,  69,  27,  98],\n",
       "         [ 35, 100,  61,  35,   1]]]])"
      ]
     },
     "execution_count": 22,
     "metadata": {},
     "output_type": "execute_result"
    }
   ],
   "source": [
    "x"
   ]
  },
  {
   "cell_type": "code",
   "execution_count": 23,
   "id": "f1c8a28c-39af-42a4-87c0-8944c0238baa",
   "metadata": {},
   "outputs": [],
   "source": [
    "y = x.sum(axis=1)"
   ]
  },
  {
   "cell_type": "code",
   "execution_count": 24,
   "id": "e7d0e21c-2ea0-4050-92ba-2ad2a514b60c",
   "metadata": {},
   "outputs": [
    {
     "data": {
      "text/plain": [
       "array([[[168, 301, 162, 339, 297],\n",
       "        [219, 359, 121, 125, 155]],\n",
       "\n",
       "       [[343, 226, 262, 242, 279],\n",
       "        [228, 354, 268, 289, 247]]])"
      ]
     },
     "execution_count": 24,
     "metadata": {},
     "output_type": "execute_result"
    }
   ],
   "source": [
    "y"
   ]
  },
  {
   "cell_type": "markdown",
   "id": "d4e54b82-879b-4b07-a231-8d4312d1b8eb",
   "metadata": {},
   "source": [
    "## Reshaping Arrays"
   ]
  },
  {
   "cell_type": "markdown",
   "id": "2cfc48f2-3766-4e7a-b168-167cf0d2fa49",
   "metadata": {},
   "source": [
    "Reshaping arrays is a fundamental operation when working with NumPy, especially when dealing with multidimensional arrays. You might create a NumPy array in one dimension and then reshape it into a multidimensional structure, or you may need to flatten a multidimensional array into a one-dimensional form. The key principle to remember is that you can change the shape of your arrays, but the total number of elements should remain the same. In other words, you can't reshape a 3x3 array into a 10x1 array, as the total number of elements in the array must remain consistent before and after reshaping. If you need to change the number of elements, that's a different operation called resizing. Now, let's explore some common array shape manipulation techniques:"
   ]
  },
  {
   "cell_type": "code",
   "execution_count": 25,
   "id": "b5b2691f-6aa9-4642-bb83-ca8adec2f259",
   "metadata": {},
   "outputs": [],
   "source": [
    "x = np.random.randint(100, size=60)"
   ]
  },
  {
   "cell_type": "code",
   "execution_count": 26,
   "id": "2c39729e-e506-4254-8d86-403651e9289c",
   "metadata": {},
   "outputs": [
    {
     "data": {
      "text/plain": [
       "array([54,  2, 21, 19, 52, 49, 61, 23, 51, 22, 59, 26, 50,  2, 83, 68, 91,\n",
       "        6, 30, 62, 75, 26, 60, 39, 79, 71, 95, 44,  2,  7, 67, 37, 70, 12,\n",
       "       38, 61, 38, 10, 87, 34, 22, 30, 50, 58, 91, 75, 69, 42, 55, 19, 28,\n",
       "       18, 73, 23, 50, 58,  2,  9, 73, 82])"
      ]
     },
     "execution_count": 26,
     "metadata": {},
     "output_type": "execute_result"
    }
   ],
   "source": [
    "x"
   ]
  },
  {
   "cell_type": "code",
   "execution_count": 27,
   "id": "0bd78b3e-d828-4d72-81a6-38f705083301",
   "metadata": {},
   "outputs": [
    {
     "data": {
      "text/plain": [
       "(8,)"
      ]
     },
     "execution_count": 27,
     "metadata": {},
     "output_type": "execute_result"
    }
   ],
   "source": [
    "x.strides"
   ]
  },
  {
   "cell_type": "code",
   "execution_count": 28,
   "id": "982b4242-95c6-43d4-8b8a-ac674b8b2dc4",
   "metadata": {},
   "outputs": [],
   "source": [
    "x.shape = 3, 4, -1"
   ]
  },
  {
   "cell_type": "code",
   "execution_count": 29,
   "id": "73011e5d-defa-44ed-91b8-797ac440e885",
   "metadata": {},
   "outputs": [
    {
     "data": {
      "text/plain": [
       "array([[[54,  2, 21, 19, 52],\n",
       "        [49, 61, 23, 51, 22],\n",
       "        [59, 26, 50,  2, 83],\n",
       "        [68, 91,  6, 30, 62]],\n",
       "\n",
       "       [[75, 26, 60, 39, 79],\n",
       "        [71, 95, 44,  2,  7],\n",
       "        [67, 37, 70, 12, 38],\n",
       "        [61, 38, 10, 87, 34]],\n",
       "\n",
       "       [[22, 30, 50, 58, 91],\n",
       "        [75, 69, 42, 55, 19],\n",
       "        [28, 18, 73, 23, 50],\n",
       "        [58,  2,  9, 73, 82]]])"
      ]
     },
     "execution_count": 29,
     "metadata": {},
     "output_type": "execute_result"
    }
   ],
   "source": [
    "x"
   ]
  },
  {
   "cell_type": "code",
   "execution_count": 30,
   "id": "d2ea4c3f-9f15-476e-a5b8-220b93fad8c2",
   "metadata": {},
   "outputs": [
    {
     "data": {
      "text/plain": [
       "(160, 40, 8)"
      ]
     },
     "execution_count": 30,
     "metadata": {},
     "output_type": "execute_result"
    }
   ],
   "source": [
    "x.strides"
   ]
  },
  {
   "cell_type": "markdown",
   "id": "6a42818c-6607-4c3f-a12f-25aeeb902fec",
   "metadata": {},
   "source": [
    "The basic reshaping technique changes the `numpy.shape` attribute. In the preceding example, we have an array whose shape is `(60, 1)`, and after altering the shape attribute, we obtain an array of the same size but the shape has been changed to `3x4x5`. Note that `-1` in a shape means the remaining shape size of the transferred array.\n",
    "\n",
    "The following example is to reshape a `100x100x100` array back to just one dimension; here, we apply two functions, `numpy.flatten()` and `numpy.ravel()`, to collapse the array, and at the same time, we also compare the execution time. We notice that the speed difference between `numpy.flatten()` and `numpy.ravel()` is huge, but both of them are much faster than three layers of Python looping. The difference in performance between the two functions is that `np.flatten()` creates a copy from the original array, while `np.ravel()` just changes the view (if you don't remember the difference between copies and views, go back a bit to previous sections on how numpy manages memory section)."
   ]
  },
  {
   "cell_type": "code",
   "execution_count": 31,
   "id": "4687d16c-e774-43ac-b412-f2b6eaedbf58",
   "metadata": {},
   "outputs": [],
   "source": [
    "x = np.arange(1000000)"
   ]
  },
  {
   "cell_type": "code",
   "execution_count": 32,
   "id": "dc95e5d0-06d1-48f7-9bda-455d0fb4b359",
   "metadata": {},
   "outputs": [],
   "source": [
    "x.shape = 100, 100, 100"
   ]
  },
  {
   "cell_type": "code",
   "execution_count": 33,
   "id": "85b77ffd-633c-422f-b374-3d3269386abc",
   "metadata": {},
   "outputs": [
    {
     "name": "stdout",
     "output_type": "stream",
     "text": [
      "513 µs ± 37.8 µs per loop (mean ± std. dev. of 7 runs, 1000 loops each)\n"
     ]
    }
   ],
   "source": [
    "%timeit x.flatten() "
   ]
  },
  {
   "cell_type": "code",
   "execution_count": 34,
   "id": "9017fdc0-dcac-4e4c-885b-f544b71e56cb",
   "metadata": {},
   "outputs": [
    {
     "name": "stdout",
     "output_type": "stream",
     "text": [
      "96.2 ns ± 1.95 ns per loop (mean ± std. dev. of 7 runs, 10000000 loops each)\n"
     ]
    }
   ],
   "source": [
    "%timeit x.ravel()"
   ]
  },
  {
   "cell_type": "markdown",
   "id": "0942872e-fdf7-4e60-9137-0d0abe5c6cac",
   "metadata": {},
   "source": [
    "This example simply shows you that NumPy offers many functions and some of them can produce same results; pick up the function that satisfies your purpose and, at the same time, provides you with optimized performance."
   ]
  },
  {
   "cell_type": "markdown",
   "id": "b5bc88b3-1bb3-4cf6-be34-23aef047aa91",
   "metadata": {},
   "source": [
    "> **Note:** It is not always possible to change the shape of an array without copying the data. If you want an error to be raised when the data is copied, you should assign the new shape to the shape attribute of the array."
   ]
  },
  {
   "cell_type": "markdown",
   "id": "3bde3eaa-f046-4ced-963e-375ae8e99c84",
   "metadata": {},
   "source": [
    "## Broadcasting"
   ]
  },
  {
   "cell_type": "markdown",
   "id": "bf1bf03e-c9f7-4c32-b963-9f25117f10e4",
   "metadata": {},
   "source": [
    " NumPy offers a unique feature called broadcasting, which allows you to perform operations on arrays with different shapes, greatly enhancing flexibility and convenience in data manipulation."
   ]
  },
  {
   "cell_type": "markdown",
   "id": "d940c99b-a961-497e-913b-45ad7244c986",
   "metadata": {},
   "source": [
    "Broadcasting is the process by which NumPy treats arrays of varying shapes during arithmetic operations. Within certain constraints, a smaller array is \"broadcast\" across a larger one, effectively altering its shape to become compatible with the larger array. This technique allows you to perform operations without explicitly matching array shapes. Broadcasting is particularly powerful as it enables you to vectorize array operations, reducing the need for explicit Python loops."
   ]
  },
  {
   "cell_type": "markdown",
   "id": "eaecd988-0f50-4d96-8a58-bd9452893963",
   "metadata": {},
   "source": [
    "### Key takeaways:"
   ]
  },
  {
   "cell_type": "markdown",
   "id": "6ffe81c0-d86d-4449-a566-d762e805e6dd",
   "metadata": {},
   "source": [
    "\n",
    "- Broadcasting follows specific rules and constraints, ensuring that operations between differently shaped arrays remain meaningful.\n",
    "\n",
    "- While broad.casting enhances code flexibility, improper usage can lead to inefficient memory utilization and slower computations. It's crucial to grasp these rules to make optimal use of this feature.\n",
    "\n",
    "- In the simplest case, NumPy operations require both arrays to have exactly the same shape, as demonstrated in the following example."
   ]
  },
  {
   "cell_type": "markdown",
   "id": "2a615725-e140-43f0-85ae-8aaca2c82d94",
   "metadata": {},
   "source": [
    "**Example:**"
   ]
  },
  {
   "cell_type": "code",
   "execution_count": 35,
   "id": "108c57de-5c9e-46c4-92bd-933d56ef26e7",
   "metadata": {},
   "outputs": [],
   "source": [
    "import numpy as np"
   ]
  },
  {
   "cell_type": "code",
   "execution_count": 36,
   "id": "329f3f46-b43e-4745-9ed4-250f72a7c535",
   "metadata": {},
   "outputs": [],
   "source": [
    "array_1 = np.array([1, 2, 3])\n",
    "array_2 = np.array([4, 5, 6])"
   ]
  },
  {
   "cell_type": "code",
   "execution_count": 37,
   "id": "f85c8962-24eb-43ee-b80c-9de18c3bdb9b",
   "metadata": {},
   "outputs": [
    {
     "data": {
      "text/plain": [
       "array([5, 7, 9])"
      ]
     },
     "execution_count": 37,
     "metadata": {},
     "output_type": "execute_result"
    }
   ],
   "source": [
    "array_1 + array_2"
   ]
  },
  {
   "cell_type": "markdown",
   "id": "f43384c4-eafc-4e7c-8f15-c7b1965f8404",
   "metadata": {},
   "source": [
    "NumPy's broadcasting rule revolutionizes the way arrays can be combined, relaxing the traditional constraint of having identical shapes. This flexibility becomes evident when arrays and scalar values interact in operations."
   ]
  },
  {
   "cell_type": "markdown",
   "id": "f4ab1ca9-a43e-46bc-85f7-c262e06fb442",
   "metadata": {},
   "source": [
    "Consider the following example:"
   ]
  },
  {
   "cell_type": "code",
   "execution_count": 38,
   "id": "48079b34-61ec-4193-9186-4e3f29c9d9bb",
   "metadata": {},
   "outputs": [],
   "source": [
    "a = np.array([1.0, 2.0, 3.0])\n",
    "b = 2.0\n",
    "result = a * b"
   ]
  },
  {
   "cell_type": "code",
   "execution_count": 39,
   "id": "6d569f86-8a37-41cd-8f50-3dd580316c8e",
   "metadata": {},
   "outputs": [
    {
     "data": {
      "text/plain": [
       "array([2., 4., 6.])"
      ]
     },
     "execution_count": 39,
     "metadata": {},
     "output_type": "execute_result"
    }
   ],
   "source": [
    "result"
   ]
  },
  {
   "cell_type": "markdown",
   "id": "d20d22d1-ea26-42c2-94a2-efba03735e4a",
   "metadata": {},
   "source": [
    "In this case, we multiply array `a` by a scalar value `b`. The result is `[2.0, 4.0, 6.0]`, which is equivalent to the outcome when `b` is also an array. \n",
    "\n",
    "To understand broadcasting, visualize the scalar `b` as being stretched during the arithmetic operation to match the shape of array `a`. However, it's important to note that this stretching is a conceptual idea; NumPy optimizes operations for memory and computational efficiency. It doesn't create actual copies of the scalar but uses the original value intelligently.\n",
    "\n",
    "This broadcasting capability in NumPy allows for more flexible and memory-efficient operations, enabling you to work with arrays of varying shapes seamlessly."
   ]
  },
  {
   "attachments": {
    "f65a8df3-2fd0-4ed3-9a0a-1e0b39d4d36b.png": {
     "image/png": "[encoded data removed]"
    }
   },
   "cell_type": "markdown",
   "id": "37cf408d-3035-4f11-b1f2-48531bd67832",
   "metadata": {},
   "source": [
    "# <center> <div style=\"width: 370px;\"> ![broadcasting_1.png](attachment:f65a8df3-2fd0-4ed3-9a0a-1e0b39d4d36b.png)\n",
    "<center> Figure 1"
   ]
  },
  {
   "cell_type": "markdown",
   "id": "3e0fb3f4-6351-407c-b47b-4ac00375cf89",
   "metadata": {},
   "source": [
    "## General Broadcasting Rules"
   ]
  },
  {
   "cell_type": "markdown",
   "id": "eab6cb2e-10ae-4d2a-a976-213d3b432344",
   "metadata": {},
   "source": [
    "NumPy's broadcasting mechanism empowers you to work with arrays of varying shapes, making it a powerful tool for array operations. To fully grasp how broadcasting works, let's explore the general rules governing this process.\n",
    "\n",
    "1. **Shape Comparison**: When you perform operations on two arrays, NumPy compares their shapes element-wise. It begins with the trailing (rightmost) dimension and progresses to the left. Two dimensions are deemed compatible under the following conditions:\n",
    "\n",
    "   - They are equal.\n",
    "   - One of them is 1.\n",
    "\n",
    "   If these conditions are not met, NumPy raises a `ValueError`, signaling that the arrays possess incompatible shapes.\n",
    "\n",
    "2. **Differing Dimension Counts**: Input arrays do not need to have the same number of dimensions. The resulting array will have the same number of dimensions as the input array with the highest dimension count. In this resulting array, the size of each dimension corresponds to the largest size among the input arrays in that dimension. It's worth noting that absent dimensions are implicitly assigned a size of one.\n",
    "\n",
    "   For instance, consider a scenario where you have a 256x256x3 array representing RGB values in an image, and you wish to apply different scaling factors to each color channel. You can achieve this by multiplying the image by a one-dimensional array with 3 values. Aligning the dimensions of these arrays using broadcast rules demonstrates compatibility:\n",
    "   \n",
    "```\n",
    "Image (3D array):  256 x 256 x 3\n",
    "Scale (1D array):              3\n",
    "Result (3D array): 256 x 256 x 3\n",
    "```\n",
    "\n",
    "3. **Stretching Dimensions**: When one of the dimensions being compared is one, it effectively \"borrows\" the size from the other. In simpler terms, dimensions with a size of 1 are stretched or \"copied\" to match the size of the corresponding dimension in the other array.\n",
    "\n",
    "   For instance, consider arrays A and B, where both contain dimensions of length one. During the broadcast operation, these dimensions are expanded to a larger size, leading to the following result:\n",
    "\n",
    "```\n",
    "A (4D array):       8 x 1 x 6 x 1\n",
    "B (3D array):           7 x 1 x 5\n",
    "Result (4D array):  8 x 7 x 6 x 5\n",
    "```\n",
    "\n",
    "Understanding these general broadcasting rules is fundamental to harnessing the full potential of NumPy, enabling you to perform efficient and versatile array operations with ease."
   ]
  },
  {
   "cell_type": "markdown",
   "id": "35b5c0a5-cda6-4da1-99ed-3b97e55e3995",
   "metadata": {},
   "source": [
    "## Broadcastable arrays"
   ]
  },
  {
   "cell_type": "markdown",
   "id": "dd1b8776-3d77-4ef5-ad33-1a8f54a89dd2",
   "metadata": {},
   "source": [
    "A set of arrays is called “broadcastable” to the same shape if the above rules produce a valid result.\n",
    "\n",
    "For example, if `a.shape` is (5,1), `b.shape` is (1,6), `c.shape` is (6,) and `d.shape` is () so that d is a scalar, then a, b, c, and d are all broadcastable to dimension (5,6); and\n",
    "\n",
    "- a acts like a (5,6) array where `a[:,0]` is broadcast to the other columns,\n",
    "- b acts like a (5,6) array where `b[0,:]` is broadcast to the other rows,\n",
    "- c acts like a (1,6) array and therefore like a (5,6) array where `c[:]` is broadcast to every row, and finally,\n",
    "- d acts like a (5,6) array where the single value is repeated.\n",
    "\n",
    "Here are some more examples:"
   ]
  },
  {
   "cell_type": "markdown",
   "id": "6f4c7716-b01a-4d99-8d39-3512faccacc8",
   "metadata": {},
   "source": [
    "```\n",
    "A      (2d array):  5 x 4\n",
    "B      (1d array):      1\n",
    "Result (2d array):  5 x 4\n",
    "\n",
    "A      (2d array):  5 x 4\n",
    "B      (1d array):      4\n",
    "Result (2d array):  5 x 4\n",
    "\n",
    "A      (3d array):  15 x 3 x 5\n",
    "B      (3d array):  15 x 1 x 5\n",
    "Result (3d array):  15 x 3 x 5\n",
    "\n",
    "A      (3d array):  15 x 3 x 5\n",
    "B      (2d array):       3 x 5\n",
    "Result (3d array):  15 x 3 x 5\n",
    "\n",
    "A      (3d array):  15 x 3 x 5\n",
    "B      (2d array):       3 x 1\n",
    "Result (3d array):  15 x 3 x 5\n",
    "```"
   ]
  },
  {
   "cell_type": "markdown",
   "id": "cdf060e5-4e7a-4adb-9ea4-ea97d7275b49",
   "metadata": {},
   "source": [
    "Here are examples of shapes that do not broadcast:\n"
   ]
  },
  {
   "cell_type": "markdown",
   "id": "fd3d39c1-7666-4c88-9b6f-556c950028ba",
   "metadata": {},
   "source": [
    "```\n",
    "A      (1d array):  3\n",
    "B      (1d array):  4 # trailing dimensions do not match\n",
    "\n",
    "A      (2d array):      2 x 1\n",
    "B      (3d array):  8 x 4 x 3 # second from last dimensions mismatched\n",
    "\n",
    "```"
   ]
  },
  {
   "cell_type": "markdown",
   "id": "9a535f9e-de1e-4ebc-919f-315176ac3774",
   "metadata": {},
   "source": [
    "An example of broadcasting when a 1-d array is added to a 2-d array:"
   ]
  },
  {
   "cell_type": "code",
   "execution_count": 40,
   "id": "dd2529ac-322b-4d4f-8000-84501e273916",
   "metadata": {},
   "outputs": [
    {
     "data": {
      "text/plain": [
       "array([[ 1.,  2.,  3.],\n",
       "       [11., 12., 13.],\n",
       "       [21., 22., 23.],\n",
       "       [31., 32., 33.]])"
      ]
     },
     "execution_count": 40,
     "metadata": {},
     "output_type": "execute_result"
    }
   ],
   "source": [
    "a = np.array([[ 0.0,  0.0,  0.0],\n",
    "              [10.0, 10.0, 10.0],\n",
    "              [20.0, 20.0, 20.0],\n",
    "              [30.0, 30.0, 30.0]])\n",
    "b = np.array([1.0, 2.0, 3.0])\n",
    "a + b"
   ]
  },
  {
   "cell_type": "code",
   "execution_count": 41,
   "id": "b081f457-1c57-480e-8b75-9b9547ecda47",
   "metadata": {},
   "outputs": [
    {
     "ename": "ValueError",
     "evalue": "operands could not be broadcast together with shapes (4,3) (4,) ",
     "output_type": "error",
     "traceback": [
      "\u001b[0;31m---------------------------------------------------------------------------\u001b[0m",
      "\u001b[0;31mValueError\u001b[0m                                Traceback (most recent call last)",
      "\u001b[0;32m/tmp/ipykernel_815/2214000768.py\u001b[0m in \u001b[0;36m<module>\u001b[0;34m\u001b[0m\n\u001b[1;32m      1\u001b[0m \u001b[0mb\u001b[0m \u001b[0;34m=\u001b[0m \u001b[0mnp\u001b[0m\u001b[0;34m.\u001b[0m\u001b[0marray\u001b[0m\u001b[0;34m(\u001b[0m\u001b[0;34m[\u001b[0m\u001b[0;36m1.0\u001b[0m\u001b[0;34m,\u001b[0m \u001b[0;36m2.0\u001b[0m\u001b[0;34m,\u001b[0m \u001b[0;36m3.0\u001b[0m\u001b[0;34m,\u001b[0m \u001b[0;36m4.0\u001b[0m\u001b[0;34m]\u001b[0m\u001b[0;34m)\u001b[0m\u001b[0;34m\u001b[0m\u001b[0;34m\u001b[0m\u001b[0m\n\u001b[0;32m----> 2\u001b[0;31m \u001b[0ma\u001b[0m \u001b[0;34m+\u001b[0m \u001b[0mb\u001b[0m\u001b[0;34m\u001b[0m\u001b[0;34m\u001b[0m\u001b[0m\n\u001b[0m",
      "\u001b[0;31mValueError\u001b[0m: operands could not be broadcast together with shapes (4,3) (4,) "
     ]
    }
   ],
   "source": [
    "b = np.array([1.0, 2.0, 3.0, 4.0])\n",
    "a + b"
   ]
  },
  {
   "cell_type": "markdown",
   "id": "535cddc0-54cf-48d2-a129-3cbe025ad7b7",
   "metadata": {},
   "source": [
    "As shown in Figure 2, `b` is added to each row of `a`. In Figure 3, an exception is raised because of the incompatible shapes."
   ]
  },
  {
   "attachments": {
    "a5392de1-d9b5-4630-ab2a-8527365d9217.png": {
     "image/png": "[encoded data removed]"
    }
   },
   "cell_type": "markdown",
   "id": "98c576cd-b51d-4352-8755-cc5626c2c5cf",
   "metadata": {},
   "source": [
    "# <center> <div style=\"width: 370px;\"> ![broadcasting_1.png](attachment:a5392de1-d9b5-4630-ab2a-8527365d9217.png)\n",
    "<center> Figure 1"
   ]
  },
  {
   "attachments": {
    "bc2873ef-eff6-45a4-9e89-2789f5e200c5.png": {
     "image/png": "[encoded data removed]"
    }
   },
   "cell_type": "markdown",
   "id": "b425ea58-a749-41e2-8aa1-85573f87ddeb",
   "metadata": {},
   "source": [
    "# <center> <div style=\"width: 370px;\"> ![broadcasting_3.png](attachment:bc2873ef-eff6-45a4-9e89-2789f5e200c5.png)\n",
    "<center> Figure 3"
   ]
  },
  {
   "cell_type": "markdown",
   "id": "97ff7d0e-7dfe-4942-96d0-70d067a227de",
   "metadata": {},
   "source": [
    "Broadcasting provides a convenient way of taking the outer product (or any other outer operation) of two arrays. The following example shows an outer addition operation of two 1-d arrays:"
   ]
  },
  {
   "cell_type": "code",
   "execution_count": null,
   "id": "aab12e4a-d32b-4a97-8c5b-f3d629cc7a63",
   "metadata": {},
   "outputs": [],
   "source": [
    "a = np.array([0.0, 10.0, 20.0, 30.0])\n",
    "b = np.array([1.0, 2.0, 3.0])\n",
    "a[:, np.newaxis] + b"
   ]
  },
  {
   "attachments": {
    "20f4755f-20ba-4cc8-8863-41f0956de59e.png": {
     "image/png": "[encoded data removed]"
    }
   },
   "cell_type": "markdown",
   "id": "63cc7b92-5955-49ab-893a-615c698c22fa",
   "metadata": {},
   "source": [
    "# <center> <div style=\"width: 700px;\"> ![broadcasting_4.png](attachment:20f4755f-20ba-4cc8-8863-41f0956de59e.png)\n",
    "<center> Figure 4"
   ]
  },
  {
   "cell_type": "markdown",
   "id": "89f36ffe-4ac3-4a85-a295-fe65f4419f63",
   "metadata": {},
   "source": [
    "Here the `newaxis` index operator inserts a new axis into `a`, making it a two-dimensional `4x1` array. Combining the` 4x1` array with `b`, which has shape `(3,)`, yields a `4x3` array."
   ]
  },
  {
   "cell_type": "code",
   "execution_count": null,
   "id": "6bc4d6c7-adf1-4186-9973-890647faf435",
   "metadata": {},
   "outputs": [],
   "source": [
    "x = np.array([[0, 0, 0], [10, 10, 10], [20, 20, 20]])"
   ]
  },
  {
   "cell_type": "code",
   "execution_count": null,
   "id": "268ee348-55c7-4479-bb89-912d46d34f23",
   "metadata": {},
   "outputs": [],
   "source": [
    "y = np.arange(1, 5) "
   ]
  },
  {
   "cell_type": "code",
   "execution_count": null,
   "id": "ffd87c74-c5bc-4f05-a2f2-dfc7906a1bda",
   "metadata": {},
   "outputs": [],
   "source": [
    "x + y"
   ]
  },
  {
   "cell_type": "markdown",
   "id": "e4cca6d2-bf60-4b15-8e98-42a133384a2f",
   "metadata": {},
   "source": [
    "## Summarize"
   ]
  },
  {
   "cell_type": "markdown",
   "id": "4a9ad84f-298e-49fe-9f7a-0e02721c1325",
   "metadata": {},
   "source": [
    "The rules of broadcasting are:\n",
    "\n",
    "- Arrays must have the same number of dimensions or one array can have one less dimension. Missing dimensions are treated as size 1.\n",
    "- Dimensions are matched from the end moving left. Equal sized dimensions match. One-sized dimensions are stretched to match the other shape.\n",
    "- If dimensions do not match, a ValueError is raised indicating incompatible shapes.\n",
    "\n",
    "The result array ends up with the maximum size for each dimension from the input arrays based on these rules.\n",
    "\n",
    "Broadcasting avoids slow Python loops and unnecessary copying of data. It leads to efficient vectorized array operations in NumPy. However, large intermediate arrays can also be created, which can slow down computations.\n",
    "\n",
    "In summary, broadcasting is NumPy's method of flexibly performing fast element-wise operations on arrays of different shapes by expanding one or more input arrays to match the shape of the largest input without unnecessary copying. It enables vectorized array computations but care must be taken to avoid large intermediate results."
   ]
  }
 ],
 "metadata": {
  "kernelspec": {
   "display_name": "Python 3 (ipykernel)",
   "language": "python",
   "name": "python3"
  },
  "language_info": {
   "codemirror_mode": {
    "name": "ipython",
    "version": 3
   },
   "file_extension": ".py",
   "mimetype": "text/x-python",
   "name": "python",
   "nbconvert_exporter": "python",
   "pygments_lexer": "ipython3",
   "version": "3.11.4"
  }
 },
 "nbformat": 4,
 "nbformat_minor": 5
}
