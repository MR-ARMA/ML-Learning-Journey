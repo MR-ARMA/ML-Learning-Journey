{
 "cells": [
  {
   "cell_type": "markdown",
   "id": "39de848d-abad-4740-9ecf-1ada5035da42",
   "metadata": {},
   "source": [
    "# <center> <div style=\"width: 370px;\"> ![numpy title](pictures/numpy_tytle.jpg)"
   ]
  },
  {
   "cell_type": "markdown",
   "id": "f281b2d1-434a-42ed-a4ca-60e7a7de1a3e",
   "metadata": {},
   "source": [
    "# <center>Available Data Types in NumPy"
   ]
  },
  {
   "cell_type": "markdown",
   "id": "c8f2e05d-3ef6-4ee3-bbdf-474baabb5895",
   "metadata": {},
   "source": [
    "## Numerical Types: int, bool, float, and complex"
   ]
  },
  {
   "cell_type": "markdown",
   "id": "d335a045-ef7a-429f-a6d2-f952f4d48a85",
   "metadata": {},
   "source": [
    "When diving into data science and numerical computations, it's crucial to start with a solid understanding of numeric data types. In NumPy, you'll encounter four primary numeric types, each offering a range of sizes to accommodate various data needs.\n"
   ]
  },
  {
   "cell_type": "markdown",
   "id": "4d2ad6db-f1eb-4dac-8433-f25e7b0b4493",
   "metadata": {},
   "source": [
    "Here's a breakdown of these numeric types:\n"
   ]
  },
  {
   "cell_type": "markdown",
   "id": "1adc986a-6af8-491b-a52c-839b085a51bc",
   "metadata": {},
   "source": [
    "\n",
    "\n",
    "| Name     | # of Bits | Python Type | NumPy Type    |\n",
    "| -------- | --------- | ----------- | ------------- |\n",
    "| Integer  | 64        | int         | np.int_       |\n",
    "| Booleans | 8         | bool        | np.bool_      |\n",
    "| Float    | 64        | float       | np.float_     |\n",
    "| Complex  | 128       | complex     | np.complex_   |\n",
    "\n"
   ]
  },
  {
   "cell_type": "markdown",
   "id": "5bf892c7-3ab6-493a-bc42-50d6195c2e9c",
   "metadata": {},
   "source": [
    "These types align with their counterparts in Python, ensuring a smooth transition when working with NumPy. However, NumPy offers even more flexibility by providing smaller-sized versions of these types, including 8-bit, 16-bit, and 32-bit integers, as well as 32-bit single-precision floating-point numbers, and 64-bit single-precision complex numbers. You can find a comprehensive list of these types in the NumPy documentation.\n",
    "\n",
    "Starting your journey with a strong grasp of these numeric data types will pave the way for effective data manipulation and analysis in NumPy."
   ]
  },
  {
   "cell_type": "markdown",
   "id": "3ea0a91d-c210-4080-a0f8-4521c822ce65",
   "metadata": {},
   "source": [
    "To specify the type when creating an array, you can provide a `dtype` argument:"
   ]
  },
  {
   "cell_type": "code",
   "execution_count": 1,
   "id": "737559fa-3d3a-4d67-b731-863783635252",
   "metadata": {
    "tags": []
   },
   "outputs": [],
   "source": [
    "import numpy as np"
   ]
  },
  {
   "cell_type": "code",
   "execution_count": 2,
   "id": "d805da96-8031-425c-81a9-36265856c124",
   "metadata": {
    "tags": []
   },
   "outputs": [
    {
     "data": {
      "text/plain": [
       "array([1. , 3. , 5.5, 7.7, 9.2], dtype=float32)"
      ]
     },
     "execution_count": 2,
     "metadata": {},
     "output_type": "execute_result"
    }
   ],
   "source": [
    "np.array([1, 3, 5.5, 7.7, 9.2], dtype=np.single)"
   ]
  },
  {
   "cell_type": "code",
   "execution_count": 3,
   "id": "ac82a4ca-98bb-42e6-b3b8-bb7125ecbb68",
   "metadata": {
    "tags": []
   },
   "outputs": [
    {
     "data": {
      "text/plain": [
       "array([1, 3, 5, 7, 9], dtype=uint8)"
      ]
     },
     "execution_count": 3,
     "metadata": {},
     "output_type": "execute_result"
    }
   ],
   "source": [
    "np.array([1, 3, 5.5, 7.7, 9.2], dtype=np.uint8)"
   ]
  },
  {
   "cell_type": "markdown",
   "id": "05c0a212-5989-442d-9e5b-46c70feafdd0",
   "metadata": {},
   "source": [
    "NumPy exhibits a handy feature by automatically converting the platform-independent data type `np.single` to the specific fixed-size type that aligns with your platform's capabilities. For instance, it seamlessly translates `np.single` to `np.float32` when suitable. However, it's important to note that if the values you provide don't align with the shape of the specified data type, NumPy will take one of two actions: it will either adjust the data to fit the specified dtype, or if that's not feasible, it will raise an error to alert you to the discrepancy."
   ]
  },
  {
   "cell_type": "markdown",
   "id": "be9bc03d-684a-45df-b238-b73517d474d3",
   "metadata": {},
   "source": [
    "## String Types: Sized Unicode"
   ]
  },
  {
   "cell_type": "markdown",
   "id": "93e031fc-9fe9-4a4e-8a71-1ed633c8dee9",
   "metadata": {},
   "source": [
    "Strings behave a little strangely in NumPy code because NumPy needs to know how many bytes to expect, which isn’t usually a factor in Python programming. Luckily, NumPy does a pretty good job at taking care of less complex cases for you."
   ]
  },
  {
   "cell_type": "code",
   "execution_count": 4,
   "id": "c484c556-1428-42c8-9be1-423e327348cb",
   "metadata": {
    "tags": []
   },
   "outputs": [],
   "source": [
    "import numpy as np"
   ]
  },
  {
   "cell_type": "code",
   "execution_count": 5,
   "id": "8ce0215c-488f-4344-85ee-fd88ef5d19d1",
   "metadata": {
    "tags": []
   },
   "outputs": [
    {
     "data": {
      "text/plain": [
       "array(['bob', 'amy', 'han'], dtype='<U3')"
      ]
     },
     "execution_count": 5,
     "metadata": {},
     "output_type": "execute_result"
    }
   ],
   "source": [
    "names = np.array([\"bob\", \"amy\", \"han\"], dtype=str)\n",
    "names"
   ]
  },
  {
   "cell_type": "code",
   "execution_count": 6,
   "id": "bdcaa60c-311d-4e42-b8b0-fb34bfd14149",
   "metadata": {
    "tags": []
   },
   "outputs": [
    {
     "data": {
      "text/plain": [
       "12"
      ]
     },
     "execution_count": 6,
     "metadata": {},
     "output_type": "execute_result"
    }
   ],
   "source": [
    "names.itemsize"
   ]
  },
  {
   "cell_type": "code",
   "execution_count": 7,
   "id": "650fc935-17d6-4288-8b79-fb8e11c3e764",
   "metadata": {
    "tags": []
   },
   "outputs": [
    {
     "data": {
      "text/plain": [
       "array(['bob', 'amy', 'han'], dtype='<U3')"
      ]
     },
     "execution_count": 7,
     "metadata": {},
     "output_type": "execute_result"
    }
   ],
   "source": [
    "names = np.array([\"bob\", \"amy\", \"han\"])\n",
    "names"
   ]
  },
  {
   "cell_type": "code",
   "execution_count": 8,
   "id": "8a08886d-a07a-44cf-a50d-b6e5b3e42b44",
   "metadata": {
    "tags": []
   },
   "outputs": [],
   "source": [
    "more_names = np.array([\"bobo\", \"jehosephat\"])"
   ]
  },
  {
   "cell_type": "code",
   "execution_count": 9,
   "id": "3aaea5b0-65ef-435d-a991-1311dee2d867",
   "metadata": {
    "tags": []
   },
   "outputs": [
    {
     "data": {
      "text/plain": [
       "(dtype('<U10'), 40)"
      ]
     },
     "execution_count": 9,
     "metadata": {},
     "output_type": "execute_result"
    }
   ],
   "source": [
    "more_names.dtype, more_names.itemsize"
   ]
  },
  {
   "cell_type": "code",
   "execution_count": 10,
   "id": "31012fef-011b-4b2e-bc24-1f64bfb87963",
   "metadata": {
    "tags": []
   },
   "outputs": [
    {
     "data": {
      "text/plain": [
       "array(['bob', 'amy', 'han', 'bobo', 'jehosephat'], dtype='<U10')"
      ]
     },
     "execution_count": 10,
     "metadata": {},
     "output_type": "execute_result"
    }
   ],
   "source": [
    "np.concatenate((names, more_names))"
   ]
  },
  {
   "cell_type": "markdown",
   "id": "8078503b-9e7f-4e6a-a264-2b9d5f81702e",
   "metadata": {},
   "source": [
    "In `names`, you provide a `dtype` of Python’s built-in `str` type, but in its output, it’s been converted into a little-endian Unicode string of size 3. When you check the size of a given item in input 4, you see that they’re each 12 bytes: three 4-byte Unicode characters."
   ]
  },
  {
   "cell_type": "markdown",
   "id": "d0c0553d-25ed-4031-81e3-64184f519cde",
   "metadata": {},
   "source": [
    "> **Note:** Delving into NumPy data types requires considering factors such as the endianness of your data values. In this context, the dtype `'<U3'` signifies that each value is equivalent to the size of three Unicode characters. It also indicates that the least-significant byte is stored first in memory, while the most-significant byte is stored last. Conversely, a `dtype` of `'>U3'` would convey the reverse order.\n",
    "> \n",
    "> To illustrate this concept, consider the Unicode character \"🐍.\" With a dtype of `'<U1'`, it is represented by the bytes `0xF4 0x01 0x00`, while with a `dtype` of `'>U1'`, it is represented as `0x00 0x01 0xF4`. You can experiment with this by creating an array filled with emojis, specifying one of these dtypes, and then using `.tobytes()` on your array to observe the results.\n",
    "> \n",
    "> If you're interested in delving deeper into how Python handles the binary representation of your typical Python data types, you might find the official documentation for the [struct library](https://docs.python.org/3/library/struct.html#struct-alignment) valuable. The struct library is a standard Python module that specializes in working with raw bytes, providing further insights into data representation and alignment."
   ]
  },
  {
   "cell_type": "markdown",
   "id": "825d6130-3007-473a-a24c-7a1b42ff7e14",
   "metadata": {},
   "source": [
    "When you amalgamate an array with larger items to generate a new array (as exemplified in input 8), NumPy exhibits a helpful behavior by automatically determining the required size for each item in the new array. It uniformly expands all items to a size of `<U10`.\n",
    "\n",
    "However, things take a different turn when you attempt to modify one of the slots by assigning a value that exceeds the capacity of the specified dtype:"
   ]
  },
  {
   "cell_type": "code",
   "execution_count": 11,
   "id": "cc909585-1b41-4722-9c22-7f82633fbb7f",
   "metadata": {
    "tags": []
   },
   "outputs": [
    {
     "data": {
      "text/plain": [
       "array(['bob', 'amy', 'jam'], dtype='<U3')"
      ]
     },
     "execution_count": 11,
     "metadata": {},
     "output_type": "execute_result"
    }
   ],
   "source": [
    "names[2] = \"jamima\"\n",
    "\n",
    "names"
   ]
  },
  {
   "cell_type": "markdown",
   "id": "2682aa0e-8e8d-4134-b163-7a8f3a2427a4",
   "metadata": {},
   "source": [
    "Unfortunately, the expected behavior doesn't materialize in this scenario; instead, your value gets truncated. If you're dealing with an existing array, NumPy's automatic size detection won't come to your rescue. You're limited to three characters, and any excess content is essentially lost in the void.\n",
    "\n",
    "In essence, NumPy is a reliable companion when handling strings. However, it's imperative to maintain vigilance regarding the size of your elements. Always ensure that you have ample space when making modifications or altering arrays in place to prevent unintended truncation."
   ]
  },
  {
   "cell_type": "markdown",
   "id": "4078c5c8-288e-41a0-8858-dcf3ee409fd3",
   "metadata": {},
   "source": [
    "## Structured Arrays"
   ]
  },
  {
   "cell_type": "markdown",
   "id": "d7edef2d-7b9c-437e-8093-7bdbd0c2478e",
   "metadata": {},
   "source": [
    "Originally, you learned that array items all have to be the same data type, but that wasn’t entirely correct. NumPy has a special kind of array, called a ***record array*** or ***structured array***, with which you can specify a type and, optionally, a name on a per-column basis. This makes sorting and filtering even more powerful, and it can feel similar to working with data in Excel, CSVs, or relational databases.\n",
    "\n",
    "Structured arrays or record arrays are useful when you perform computations, and at the same time you could keep closely related data together. For example, when you process incident data and each incident contains geographic coordinates and the occurrence time, while you calculate the final result, you can easily find the associated geographic locations and timepoint for further visualization. NumPy also provides powerful capabilities to create arrays of records, as multiple data types live in one NumPy array. However, one principle in NumPy that still needs to be honored is that the data type in each field (you can think of this as a column in the records) needs to be homogeneous. Here are some simple examples that show you how it works:"
   ]
  },
  {
   "cell_type": "code",
   "execution_count": 12,
   "id": "04c0022e-54de-4c87-bb2c-547082a91de1",
   "metadata": {
    "tags": []
   },
   "outputs": [],
   "source": [
    "import numpy as np"
   ]
  },
  {
   "cell_type": "code",
   "execution_count": 13,
   "id": "68c3349c-6e1c-49b1-ad9c-f17f6ae596a4",
   "metadata": {
    "tags": []
   },
   "outputs": [],
   "source": [
    "x = np.empty((2,), dtype = ('i4, f4, U10'))"
   ]
  },
  {
   "cell_type": "code",
   "execution_count": 14,
   "id": "00eedf00-65a2-4b56-bbbe-7d675311ce84",
   "metadata": {
    "tags": []
   },
   "outputs": [],
   "source": [
    "x[:] = [(1, 0.5, 'NumPy'), (10, -0.5, 'Essential')]"
   ]
  },
  {
   "cell_type": "markdown",
   "id": "9dc80cbc-761f-4349-bf27-1e978ef2aa56",
   "metadata": {},
   "source": [
    "In the preceding example, we crafted a one-dimensional record array by employing `numpy.empty()`. We meticulously specified data types for its elements, with the first element denoted as `i4` (representing a 32-bit signed integer, where 'i' signifies an integer and '4' signifies 4 bytes, akin to `np.int32`). The second element assumes the form of a 32-bit float (`f` indicating a float and also taking up 4 bytes), while the third element is a string constrained to a length of 10 characters or less. Subsequently, we assigned values to this array, meticulously adhering to the order of data types we had defined.\n",
    "\n",
    "Upon examining the print-out of `x`, we observe the presence of three distinct types of records, accompanied by default field names within the dtype: `f0`, `f1`, and `f2`. It's essential to recognize that you have the liberty to specify your field names, as we shall demonstrate in forthcoming examples.\n",
    "\n",
    "A noteworthy detail in this context is the employment of the `<` symbol preceding `i4` and `f4` in the print-out. This `<` symbol signifies the byte order as **big-endian**, denoting the order in which memory addresses increase."
   ]
  },
  {
   "cell_type": "code",
   "execution_count": 15,
   "id": "8df4cb4d-7175-455e-8a25-b860a2e4a687",
   "metadata": {
    "tags": []
   },
   "outputs": [
    {
     "data": {
      "text/plain": [
       "(1, 0.5, 'NumPy')"
      ]
     },
     "execution_count": 15,
     "metadata": {},
     "output_type": "execute_result"
    }
   ],
   "source": [
    "x[0]"
   ]
  },
  {
   "cell_type": "code",
   "execution_count": 16,
   "id": "db075d84-3112-4791-8ceb-9915ab9477d6",
   "metadata": {
    "tags": []
   },
   "outputs": [
    {
     "data": {
      "text/plain": [
       "array(['NumPy', 'Essential'], dtype='<U10')"
      ]
     },
     "execution_count": 16,
     "metadata": {},
     "output_type": "execute_result"
    }
   ],
   "source": [
    "x['f2']"
   ]
  },
  {
   "cell_type": "markdown",
   "id": "a4e031ad-6d31-49b4-a8c1-209a559299ed",
   "metadata": {},
   "source": [
    "The way we retrieve data remains the same, we use the index to obtain the record, but moreover, we can use the field name to obtain the value of certain fields, so in the previous example, we used `f2` to obtain the string field. In the following example, we are going to create a view of `x`, named `y`, and see how it interacts with the original record array:"
   ]
  },
  {
   "cell_type": "code",
   "execution_count": 17,
   "id": "790ada3a-fdf0-406a-9a96-da6fda9b2db8",
   "metadata": {
    "tags": []
   },
   "outputs": [],
   "source": [
    "y = x['f0']"
   ]
  },
  {
   "cell_type": "code",
   "execution_count": 18,
   "id": "f51cab37-f4cd-479b-b268-554d4da82f40",
   "metadata": {
    "tags": []
   },
   "outputs": [
    {
     "data": {
      "text/plain": [
       "array([ 1, 10], dtype=int32)"
      ]
     },
     "execution_count": 18,
     "metadata": {},
     "output_type": "execute_result"
    }
   ],
   "source": [
    "y"
   ]
  },
  {
   "cell_type": "code",
   "execution_count": 19,
   "id": "04aa35dc-cd9f-407f-b375-54bab85d7c83",
   "metadata": {
    "tags": []
   },
   "outputs": [
    {
     "data": {
      "text/plain": [
       "(48,)"
      ]
     },
     "execution_count": 19,
     "metadata": {},
     "output_type": "execute_result"
    }
   ],
   "source": [
    "y.strides"
   ]
  },
  {
   "cell_type": "code",
   "execution_count": 20,
   "id": "917dbd7c-06e0-4f3c-b2a0-fa30a8733257",
   "metadata": {
    "tags": []
   },
   "outputs": [],
   "source": [
    "y[:] = y + 0.5"
   ]
  },
  {
   "cell_type": "code",
   "execution_count": 21,
   "id": "573aefd5-d56a-4a15-9d16-c0ac16bb4943",
   "metadata": {
    "tags": []
   },
   "outputs": [
    {
     "data": {
      "text/plain": [
       "array([ 1, 10], dtype=int32)"
      ]
     },
     "execution_count": 21,
     "metadata": {},
     "output_type": "execute_result"
    }
   ],
   "source": [
    "y"
   ]
  },
  {
   "cell_type": "code",
   "execution_count": 22,
   "id": "dde0482e-77a7-4f1e-9774-01c3551ee97f",
   "metadata": {
    "tags": []
   },
   "outputs": [
    {
     "data": {
      "text/plain": [
       "array([( 1,  0.5, 'NumPy'), (10, -0.5, 'Essential')],\n",
       "      dtype=[('f0', '<i4'), ('f1', '<f4'), ('f2', '<U10')])"
      ]
     },
     "execution_count": 22,
     "metadata": {},
     "output_type": "execute_result"
    }
   ],
   "source": [
    "x"
   ]
  },
  {
   "cell_type": "markdown",
   "id": "da1828b4-cbda-45d9-b3b3-3d0d9e6ec54a",
   "metadata": {},
   "source": [
    "In this context, `y` represents the view of field `f0` within the record array `x`. It's important to note that record arrays retain the fundamental characteristics of NumPy arrays. Consequently, when you perform scalar multiplication with the value 10, it applies to the entire `y` array, adhering to the broadcasting rule. Moreover, it always respects the data type defined. For instance, even after adding `0.5` to `y`, the data type of field `f0` being a 32-bit integer ensures that the result remains `[10, 100]`.\n",
    "\n",
    "Additionally, it's worth highlighting that `y` acts as a view of `f0` within `x`, signifying that they share the same underlying memory block. Consequently, any alterations made to `y` directly affect the values in `x`. This becomes evident when we examine `x` after performing calculations on `y`.\n",
    "\n",
    "Before delving further into record arrays, let's clarify how to define one. The simplest approach is demonstrated in the previous example, where we initialize a NumPy array and employ a string argument to specify the data type of its fields. NumPy provides several acceptable forms of string arguments, and you can choose the most suitable one for your needs. For detailed information, you can refer to the [official documentation](https://numpy.org/doc/stable/user/basics.rec.html). Here are some commonly used representations:\n",
    "\n",
    "| Data Types | Representation            |\n",
    "| ---------- | -------------------------- |\n",
    "| `b1`       | Bytes                      |\n",
    "| `i1, i2, i4, i8` | Signed integers with 1, 2, 4, and 8 bytes |\n",
    "| `u1, u2, u4, u8` | Unsigned integers with 1, 2, 4, and 8 bytes |\n",
    "| `f2, f4, f8` | Floats with 2, 4, and 8 bytes |\n",
    "| `c8, c16`   | Complex with 8 and 16 bytes |\n",
    "| `a<n>`     | Fixed-length strings of length `n` |"
   ]
  },
  {
   "cell_type": "markdown",
   "id": "961c3fbd-57cf-4657-9051-349a27c2a722",
   "metadata": {},
   "source": [
    "You may also prefix the string arguments with a repeated number or a shape to define the dimension of the field, but it's still considered as just one field in the record arrays. Let's try using the shape as prefix to the string arguments in the following example:"
   ]
  },
  {
   "cell_type": "code",
   "execution_count": 23,
   "id": "319acc9b-934d-4c2f-baa7-f46a754da404",
   "metadata": {
    "tags": []
   },
   "outputs": [],
   "source": [
    "z = np.ones((2,), dtype = ('3i4, (2,3)f4'))"
   ]
  },
  {
   "cell_type": "code",
   "execution_count": 24,
   "id": "8a626cb4-f9df-4ce9-83c3-50d89c4ea2ed",
   "metadata": {
    "tags": []
   },
   "outputs": [
    {
     "data": {
      "text/plain": [
       "array([([1, 1, 1], [[1., 1., 1.], [1., 1., 1.]]),\n",
       "       ([1, 1, 1], [[1., 1., 1.], [1., 1., 1.]])],\n",
       "      dtype=[('f0', '<i4', (3,)), ('f1', '<f4', (2, 3))])"
      ]
     },
     "execution_count": 24,
     "metadata": {},
     "output_type": "execute_result"
    }
   ],
   "source": [
    "z"
   ]
  },
  {
   "cell_type": "markdown",
   "id": "c2deed29-ef77-49e5-8179-6ba928a48d7f",
   "metadata": {},
   "source": [
    "In the previous example, field `f0` is a one-dimensional array with size `3` and `f1` is a two-dimensional array with shape `(2, 3)`. Now, we are clear about the structure of a record array and how to define it. You might be wondering whether the default field name can be changed to something meaningful in your analysis? Of course it can! This is how:"
   ]
  },
  {
   "cell_type": "code",
   "execution_count": 25,
   "id": "c855942a-3797-4483-9d75-b15ae4f14ff9",
   "metadata": {
    "tags": []
   },
   "outputs": [
    {
     "data": {
      "text/plain": [
       "('f0', 'f1', 'f2')"
      ]
     },
     "execution_count": 25,
     "metadata": {},
     "output_type": "execute_result"
    }
   ],
   "source": [
    "x.dtype.names "
   ]
  },
  {
   "cell_type": "code",
   "execution_count": 26,
   "id": "40500756-7783-44fd-addd-bed7cff4fc2c",
   "metadata": {
    "tags": []
   },
   "outputs": [],
   "source": [
    "x.dtype.names = ('id', 'value', 'note') "
   ]
  },
  {
   "cell_type": "code",
   "execution_count": 27,
   "id": "48779391-3f48-4f45-b07f-49e52b5e25a0",
   "metadata": {
    "tags": []
   },
   "outputs": [
    {
     "data": {
      "text/plain": [
       "array([( 1,  0.5, 'NumPy'), (10, -0.5, 'Essential')],\n",
       "      dtype=[('id', '<i4'), ('value', '<f4'), ('note', '<U10')])"
      ]
     },
     "execution_count": 27,
     "metadata": {},
     "output_type": "execute_result"
    }
   ],
   "source": [
    "x"
   ]
  },
  {
   "cell_type": "markdown",
   "id": "b6cb456a-8ba2-4ee1-bca8-e99706e10e2e",
   "metadata": {},
   "source": [
    "By assigning the new field names back to the names attribute in the `dtype` object, we can have our customized field names. Or you can do this when you initialize the record arrays by using a list with a tuple, or a dictionary. In the following examples, we are going to create two identical record arrays with customized field names using a list, and a dictionary:"
   ]
  },
  {
   "cell_type": "code",
   "execution_count": 28,
   "id": "451551de-2833-4747-b39b-2ae1f541fa10",
   "metadata": {
    "tags": []
   },
   "outputs": [],
   "source": [
    "list_x = np.zeros((2,), dtype = [('id', 'i4'), ('value', 'f4', (2,))]) "
   ]
  },
  {
   "cell_type": "code",
   "execution_count": 29,
   "id": "b78d08b4-93e0-4cc7-81f7-6fe32b2f1462",
   "metadata": {
    "tags": []
   },
   "outputs": [
    {
     "data": {
      "text/plain": [
       "array([(0, [0., 0.]), (0, [0., 0.])],\n",
       "      dtype=[('id', '<i4'), ('value', '<f4', (2,))])"
      ]
     },
     "execution_count": 29,
     "metadata": {},
     "output_type": "execute_result"
    }
   ],
   "source": [
    "list_x"
   ]
  },
  {
   "cell_type": "code",
   "execution_count": 30,
   "id": "dc5dd376-0d59-419b-8671-1a8db63161e5",
   "metadata": {
    "tags": []
   },
   "outputs": [],
   "source": [
    "dict_x = np.zeros((2,), dtype = {'names':['id', 'value'], 'formats':['i4', '2f4']}) "
   ]
  },
  {
   "cell_type": "code",
   "execution_count": 31,
   "id": "20c84a06-20df-4c33-afa1-b0d635a0e810",
   "metadata": {
    "tags": []
   },
   "outputs": [
    {
     "data": {
      "text/plain": [
       "array([(0, [0., 0.]), (0, [0., 0.])],\n",
       "      dtype=[('id', '<i4'), ('value', '<f4', (2,))])"
      ]
     },
     "execution_count": 31,
     "metadata": {},
     "output_type": "execute_result"
    }
   ],
   "source": [
    "dict_x"
   ]
  },
  {
   "cell_type": "markdown",
   "id": "ec616ed4-39df-4379-923a-ba8ea9546c58",
   "metadata": {},
   "source": [
    "In the list example, we make a tuple of (field name, data type, and shape) for each field. The shape argument is optional; you may also specify the shape with the data type argument. While using a dictionary to define the field, there are two required keys (`names` and `formats`) and each key has an equally sized list of values."
   ]
  },
  {
   "cell_type": "markdown",
   "id": "d051cf08-086f-4db7-8454-248f1bcc1ad5",
   "metadata": {},
   "source": [
    "Before we go on to the next section, we are going to show you how to access multiple fields in your record array all at once. The following example still uses the array `x` that we created at beginning with a customized field: `id`, `value`, and `note`:"
   ]
  },
  {
   "cell_type": "code",
   "execution_count": 32,
   "id": "3aef1324-afa0-42b4-8849-01e7b91a8f5d",
   "metadata": {
    "tags": []
   },
   "outputs": [
    {
     "data": {
      "text/plain": [
       "array([( 1, 'NumPy'), (10, 'Essential')],\n",
       "      dtype={'names': ['id', 'note'], 'formats': ['<i4', '<U10'], 'offsets': [0, 8], 'itemsize': 48})"
      ]
     },
     "execution_count": 32,
     "metadata": {},
     "output_type": "execute_result"
    }
   ],
   "source": [
    "x[['id', 'note']]"
   ]
  },
  {
   "cell_type": "markdown",
   "id": "f3cbf886-91cb-4900-9bf5-8c6268dbe5de",
   "metadata": {},
   "source": [
    "For more learn about [SQL Like Query on Structured Data](https://github.com/pytopia/ML/blob/main/Machine%20Learning/02.%20Data%20Processing/02.%20Numpy/08%20More%20on%20Data%20Types.ipynb) and [Dates and time in NumPy](https://github.com/pytopia/ML/blob/main/Machine%20Learning/02.%20Data%20Processing/02.%20Numpy/08%20More%20on%20Data%20Types.ipynb)"
   ]
  },
  {
   "cell_type": "code",
   "execution_count": null,
   "id": "62453bb1-6b53-48ed-a8e7-29f98de417e7",
   "metadata": {},
   "outputs": [],
   "source": []
  }
 ],
 "metadata": {
  "kernelspec": {
   "display_name": "Python 3 (ipykernel)",
   "language": "python",
   "name": "python3"
  },
  "language_info": {
   "codemirror_mode": {
    "name": "ipython",
    "version": 3
   },
   "file_extension": ".py",
   "mimetype": "text/x-python",
   "name": "python",
   "nbconvert_exporter": "python",
   "pygments_lexer": "ipython3",
   "version": "3.11.4"
  }
 },
 "nbformat": 4,
 "nbformat_minor": 5
}
