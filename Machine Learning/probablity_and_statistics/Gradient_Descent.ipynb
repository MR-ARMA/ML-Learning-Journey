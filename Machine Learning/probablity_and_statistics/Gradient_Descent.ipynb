{
 "cells": [
  {
   "cell_type": "code",
   "execution_count": 10,
   "metadata": {
    "metadata": {}
   },
   "outputs": [],
   "source": [
    "import numpy as np\n",
    "import pandas as pd\n",
    "import matplotlib as mpl\n",
    "import matplotlib.pyplot as plt\n",
    "import seaborn as sns"
   ]
  },
  {
   "cell_type": "markdown",
   "metadata": {},
   "source": [
    "# Introduction to Optimization Problems"
   ]
  },
  {
   "cell_type": "markdown",
   "metadata": {},
   "source": [
    "# Reaching Stationary Points with Gradient Descent\n",
    "\n",
    "\n",
    "Example for learning gradient descent"
   ]
  },
  {
   "cell_type": "code",
   "execution_count": 11,
   "metadata": {
    "metadata": {}
   },
   "outputs": [],
   "source": [
    "np.random.seed(101)"
   ]
  },
  {
   "cell_type": "code",
   "execution_count": 12,
   "metadata": {
    "metadata": {}
   },
   "outputs": [],
   "source": [
    "n, d = 100, 3   # 100 Sample, 3 Feature\n",
    "X = np.random.rand(n, d) # Generate random number for samples\n",
    "X = np.column_stack((np.ones((100, 1)), X)) # Add Factor of one for w_0 feature\n",
    "w = np.array([3, 2, 6, 1]) # Determination weights of each feature \n",
    "\n",
    "y = np.dot(X, w.reshape(-1, 1)) + np.random.randn(100, 1)\n"
   ]
  },
  {
   "cell_type": "markdown",
   "metadata": {},
   "source": [
    "## What is the Cost Function?"
   ]
  },
  {
   "cell_type": "markdown",
   "metadata": {},
   "source": [
    "The primary set-up for learning neural networks is to define a cost function (also known as a loss function) that measures how well the network predicts outputs on the test set. The goal is to then find a set of weights and biases that minimizes the cost. One common function that is often used is the mean squared error, which measures the difference between the actual value of $ y $ and the estimated value of y (the prediction). The equation of the below regression line is $ h_θ(x) = θ + θ_1 x $ , which has only two parameters: weight $ (θ_1) $ and bias $ (θ_0) $.\n",
    "\n",
    "\n",
    "![cost_piucture](./pictures/cost.png)"
   ]
  },
  {
   "cell_type": "markdown",
   "metadata": {},
   "source": [
    "The goal is to select a set of parameters w ∈ W to minimize a given\n",
    "objective function\n",
    "$$\n",
    "\\arg\\min_{w \\in W} c(w)\n",
    "$$\n",
    "\n",
    "For example, to obtain the parameters $w \\in \\mathbb{R}^d$ for linear regression that minimizes the squared differences, We use $c(w) = \\sum_{i=1}^n (\\langle x_i, w \\rangle - y_i)^2$, for dot product.\n",
    "\n",
    "$$\n",
    "\\langle x_i, w \\rangle = \\sum_{j=1}^{d} x_{ij} w_j\n",
    "$$\n",
    "\n",
    "\n",
    "The derivative tells us the rate of change of the function surface at a point\n",
    "w. When the derivative of the objective is zero at w ∈ R, i.e., d\n",
    "dw c(w) = 0, this means that\n",
    "locally the function surface is flat.\n",
    "\n",
    "> note: the second derivative tells us the local curvature of the function. It tells us how the derivative is changing. If the slope of the derivative $c′(w_0)$ is positive at $w_0$, namely $c′′(w_0) > 0$, then we know that the derivative is increasing; if it is negative, then it is decreasing.\n"
   ]
  },
  {
   "cell_type": "code",
   "execution_count": 13,
   "metadata": {
    "metadata": {}
   },
   "outputs": [],
   "source": [
    "def cost_function(X, y, w):\n",
    "    n, d = X.shape\n",
    "    y_predict = X @ w \n",
    "    # Where y_predict is the vector of predicted target values with shape (n, 1).\n",
    "    # The cost function used in linear regression is typically the Mean Squared Error (MSE):\n",
    "    # J(w) = (1/n) * Σ(y_pred - y)^2 OR J(w) = (1/2 * n) * Σ(y_pred - y)^2\n",
    "    return np.sum((y - y_predict) ** 2) / (2 * n)"
   ]
  },
  {
   "cell_type": "markdown",
   "metadata": {},
   "source": [
    "## Minimising Cost function\n"
   ]
  },
  {
   "cell_type": "markdown",
   "metadata": {},
   "source": [
    "> The goal of any Machine Learning model is to minimize the Cost Function."
   ]
  },
  {
   "cell_type": "markdown",
   "metadata": {},
   "source": [
    "![minimize_cost](./pictures/minimize_cost.png)"
   ]
  },
  {
   "cell_type": "markdown",
   "metadata": {},
   "source": [
    "## How to Minimise the Cost Function"
   ]
  },
  {
   "cell_type": "markdown",
   "metadata": {},
   "source": [
    "Our goal is to move from the mountain in the top right corner (high cost) to the dark blue sea in the bottom left (low cost). In order to get the lowest error value, we need to adjust the weights ‘θ0’ and ‘θ1’ to reach the smallest possible error. This is because the result of a lower error between the actual and the predicted values means the algorithm has done a good job in learning. Gradient descent is an efficient optimization algorithm that attempts to find a local or global minimum of a function."
   ]
  },
  {
   "cell_type": "markdown",
   "metadata": {},
   "source": [
    "### Calculating gradient descent\n"
   ]
  },
  {
   "cell_type": "markdown",
   "metadata": {},
   "source": [
    "Gradient Descent runs iteratively to find the optimal values of the parameters corresponding to the minimum value of the given cost function, using calculus. Mathematically, the technique of the ‘derivative’ is extremely important to minimise the cost function because it helps get the minimum point. The derivative is a concept from calculus and refers to the slope of the function at a given point. We need to know the slope so that we know the direction (sign) to move the coefficient values in order to get a lower cost on the next iteration."
   ]
  },
  {
   "cell_type": "markdown",
   "metadata": {},
   "source": [
    "![gradient_descent](./pictures/gd.png)"
   ]
  },
  {
   "cell_type": "markdown",
   "metadata": {},
   "source": [
    "To find the optimal weight vector $w$, we need to minimize the cost function $J(w)$ using an optimization algorithm like gradient descent. This requires computing the gradient of $J(w)$ with respect to $w$.\n",
    "The gradient of $J(w)$ with respect to $w$ is given by:\n",
    "\n",
    "```math\n",
    "∇J(w) = (2/n) * X^T * (X @ w - y)\n",
    "```\n",
    "\n",
    "---\n",
    "\n",
    "in another words:\n",
    "The objective of linear regression is to find the weight vector w that minimizes the mean squared error (MSE) cost function:\n",
    "\n",
    "$$\n",
    "cost_{(w)} = \\frac{1}{n} \\sum_i{( \\langle x_i, w \\rangle - y_i )}^2\n",
    "$$ \n",
    "\n",
    "To minimize the MSE cost function using gradient descent, we need to compute the gradient of the cost function with respect to the weight vector w:\n",
    "\n",
    "$$\n",
    "\\frac{d}{dw}cost_{(w)} = \\frac{d}{dw} \\sum_{i=1}^{n}{(\\langle x_i, w \\rangle - y_i )}^2\n",
    "$$\n",
    "$$\n",
    "=  \\sum_{i=1}^{n}{ \\frac{2}{n} {(\\langle x_i, w \\rangle - y_i )}^{2-1} (x_i)}\n",
    "$$\n",
    "\n",
    "**Using matrix notation, we can rewrite the gradient as:**\n",
    "$$\n",
    "∇_w MSE \\ \\ OR \\ \\ \\frac{d}{dw}cost_{(w)} = \\frac{2}{n} {(\\langle x, w \\rangle - y_i )}^{2} (x.T)\n",
    "$$\n",
    "\n",
    "x.T is the transpose of the input data matrix x."
   ]
  },
  {
   "cell_type": "code",
   "execution_count": 14,
   "metadata": {
    "metadata": {}
   },
   "outputs": [],
   "source": [
    "def gradient(X, y, w):\n",
    "    n, d = X.shape\n",
    "    grad = (X.T @ ((X @ w) - y)) / n\n",
    "    return grad"
   ]
  },
  {
   "cell_type": "code",
   "execution_count": 15,
   "metadata": {},
   "outputs": [],
   "source": [
    "def line_search(X, y, w, alpha=0.001, beta=0.7):\n",
    "    cost = cost_function(X, y, w)\n",
    "    grad = gradient(X, y, w)\n",
    "    step_size = 5\n",
    "\n",
    "    while cost_function(X, y, w - step_size * grad) > cost + alpha:\n",
    "        step_size = beta * step_size\n",
    "\n",
    "    return step_size"
   ]
  },
  {
   "cell_type": "code",
   "execution_count": 16,
   "metadata": {},
   "outputs": [],
   "source": [
    "def gradient_descent(X, y, alpha=0.001, beta=0.7, num_iterate=100):\n",
    "    n, d = X.shape\n",
    "    w = np.zeros((d, 1))\n",
    "\n",
    "    costs = []\n",
    "    for i in range(num_iterate):\n",
    "        step_size = line_search(X, y, w, alpha, beta)\n",
    "        w = w - step_size * gradient(X, y, w)\n",
    "        costs.append(cost_function(X, y, w))\n",
    "        \n",
    "    return w, costs"
   ]
  },
  {
   "cell_type": "code",
   "execution_count": 17,
   "metadata": {},
   "outputs": [],
   "source": [
    "w_pred, gd_costs = gradient_descent(X, y, num_iterate=50)\n"
   ]
  },
  {
   "cell_type": "code",
   "execution_count": 18,
   "metadata": {},
   "outputs": [
    {
     "data": {
      "text/plain": [
       "array([[2.84741304],\n",
       "       [2.31830008],\n",
       "       [6.02281899],\n",
       "       [0.92461418]])"
      ]
     },
     "execution_count": 18,
     "metadata": {},
     "output_type": "execute_result"
    }
   ],
   "source": [
    "w_pred"
   ]
  },
  {
   "cell_type": "code",
   "execution_count": 19,
   "metadata": {},
   "outputs": [
    {
     "data": {
      "text/plain": [
       "(100, 1)"
      ]
     },
     "execution_count": 19,
     "metadata": {},
     "output_type": "execute_result"
    }
   ],
   "source": [
    "(X @ w_pred).shape"
   ]
  },
  {
   "cell_type": "code",
   "execution_count": 20,
   "metadata": {},
   "outputs": [
    {
     "data": {
      "text/plain": [
       "[<matplotlib.lines.Line2D at 0x12e17750d10>]"
      ]
     },
     "execution_count": 20,
     "metadata": {},
     "output_type": "execute_result"
    },
    {
     "data": {
      "image/png": "[encoded data removed]",
      "text/plain": [
       "<Figure size 640x480 with 1 Axes>"
      ]
     },
     "metadata": {},
     "output_type": "display_data"
    }
   ],
   "source": [
    "plt.scatter(x = np.arange(len(sorted(X @ w_pred))), y =sorted((X @ w_pred)))\n",
    "plt.plot(np.arange(len(sorted(X @ w))), sorted(X @ w), color='red')\n"
   ]
  },
  {
   "cell_type": "code",
   "execution_count": 21,
   "metadata": {},
   "outputs": [
    {
     "data": {
      "text/plain": [
       "[<matplotlib.lines.Line2D at 0x12e1790c0d0>]"
      ]
     },
     "execution_count": 21,
     "metadata": {},
     "output_type": "execute_result"
    },
    {
     "data": {
      "image/png": "[encoded data removed]",
      "text/plain": [
       "<Figure size 640x480 with 1 Axes>"
      ]
     },
     "metadata": {},
     "output_type": "display_data"
    }
   ],
   "source": [
    "plt.plot(\n",
    "    range(len(gd_costs)),\n",
    "    gd_costs\n",
    ")"
   ]
  },
  {
   "cell_type": "code",
   "execution_count": null,
   "metadata": {},
   "outputs": [],
   "source": []
  }
 ],
 "metadata": {
  "kernelspec": {
   "display_name": "base",
   "language": "python",
   "name": "python3"
  },
  "language_info": {
   "codemirror_mode": {
    "name": "ipython",
    "version": 3
   },
   "file_extension": ".py",
   "mimetype": "text/x-python",
   "name": "python",
   "nbconvert_exporter": "python",
   "pygments_lexer": "ipython3",
   "version": "3.11.5"
  },
  "orig_nbformat": 4
 },
 "nbformat": 4,
 "nbformat_minor": 2
}
