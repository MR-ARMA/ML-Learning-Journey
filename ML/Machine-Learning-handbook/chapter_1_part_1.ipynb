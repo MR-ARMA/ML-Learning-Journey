{
 "cells": [
  {
   "cell_type": "markdown",
   "id": "f0ea8ac3-d743-4f7f-b759-8679c70afe1c",
   "metadata": {},
   "source": [
    "# Chapter 1: Introduction to Probabilistic Modeling"
   ]
  },
  {
   "cell_type": "markdown",
   "id": "db6a8151-4528-47c7-a28b-10506e5d8c2b",
   "metadata": {
    "tags": []
   },
   "source": [
    "# <center> ![picture](pictures/title.jpg)"
   ]
  },
  {
   "cell_type": "markdown",
   "id": "3a46d9f5-0bef-4e90-bbf5-834cf566f0ea",
   "metadata": {},
   "source": [
    "Probabilistic modeling is a multidisciplinary endeavor that leverages the foundations of probability theory, statistics, and computer science to model the world around us and make predictions about event occurrences."
   ]
  },
  {
   "cell_type": "markdown",
   "id": "8e814f90-c2b9-49a0-8d6e-014ec501b2f9",
   "metadata": {},
   "source": [
    "## Probability Theory and Statistics"
   ]
  },
  {
   "cell_type": "markdown",
   "id": "35c01ea1-ed6f-4b46-8bad-94ed6aa3b78a",
   "metadata": {},
   "source": [
    "Probability theory provides the mathematical infrastructure for manipulating probabilities and equips us with a broad range of models with well-understood theoretical properties. On the other hand, statistics contributes frameworks to formulate inference and the process of narrowing down the model space based on observed data and our experience."
   ]
  },
  {
   "cell_type": "markdown",
   "id": "c2401938-c286-4ece-a979-14a81d6baa69",
   "metadata": {},
   "source": [
    "## Computer Science"
   ]
  },
  {
   "cell_type": "markdown",
   "id": "59f47fc1-1aef-4ddf-9ad7-1e31f7ae5d93",
   "metadata": {},
   "source": [
    "Computer science provides us with theories, algorithms, and software to manage data, compute solutions, and study the relationship between solutions and available resources."
   ]
  },
  {
   "cell_type": "markdown",
   "id": "d2cb7f2d-493d-48de-9677-3e6f4eb89f2d",
   "metadata": {},
   "source": [
    "## History of Probability Theory and Statistics"
   ]
  },
  {
   "cell_type": "markdown",
   "id": "3d2e0a63-a71a-45d0-b630-cf57649d9a69",
   "metadata": {},
   "source": [
    "The formal origins of probability theory and statistics can be traced back to the 17th century. Probability theory was developed out of efforts to understand games of chance and gambling, while statistics originated from data collection initiatives and attempts to understand trends in society and political affairs."
   ]
  },
  {
   "cell_type": "markdown",
   "id": "d7d3c570-eb62-4c38-96a8-d72ffa1475c2",
   "metadata": {},
   "source": [
    "## Convergence of Disciplines"
   ]
  },
  {
   "cell_type": "markdown",
   "id": "63b16bce-4721-4490-971a-79fc536f7d32",
   "metadata": {},
   "source": [
    "The convergence of these three disciplines has now reached the status of a principled theory of probabilistic inference with widespread applications in science, business, medicine, military, political campaigns, etc."
   ]
  },
  {
   "cell_type": "markdown",
   "id": "28ca17dc-f73b-4e2e-8260-a4c87990a877",
   "metadata": {},
   "source": [
    "## Probabilistic Reasoning"
   ]
  },
  {
   "cell_type": "markdown",
   "id": "122ba066-9d8d-4d8e-a977-046249c02bd5",
   "metadata": {},
   "source": [
    "We refer to the process of modeling, inference, and decision making based on probabilistic models as probabilistic reasoning or reasoning under uncertainty. This form of reasoning is a necessary component of everyday life. For instance, when driving, we often make decisions based on our expectations about which way would be best to take."
   ]
  },
  {
   "cell_type": "markdown",
   "id": "72a5ec22-ef51-451e-8b8b-922eb5b5b77f",
   "metadata": {},
   "source": [
    "## Basic Level of Probabilities"
   ]
  },
  {
   "cell_type": "markdown",
   "id": "1d3bfd3b-799f-41fb-b9bd-2acaa3b8c1fc",
   "metadata": {},
   "source": [
    "At a basic level, probabilities are used to quantify the chance of the occurrence of events. The techniques of probabilistic modeling formalize many intuitive concepts. They provide toolkits for rigorous mathematical analysis and inference, often in the presence of evidence, about events influenced by factors that we either do not fully understand or have no control of."
   ]
  },
  {
   "cell_type": "markdown",
   "id": "9fed988e-d6ac-4ecd-8e95-d9950e494c2c",
   "metadata": {},
   "source": [
    "## Example: Uncertainty and Modeling"
   ]
  },
  {
   "cell_type": "markdown",
   "id": "fd52b03d-f7cc-40b4-8b4c-6c07142a659c",
   "metadata": {},
   "source": [
    "Consider rolling a fair six-sided die. We could accurately predict, or so we think, the outcome of a roll if we carefully incorporated the initial position, force, friction, shape defects, and other physical factors and then executed the experiment. However, the physical laws may not be known, they can be difficult to incorporate or such actions may not even be allowed by the rules of the experiment. Thus, it is practically useful to simply assume that each outcome is equally likely."
   ]
  },
  {
   "cell_type": "markdown",
   "id": "1c820818-8811-47a0-82e8-9a1bdbf089d5",
   "metadata": {},
   "source": [
    "## Defining Distributions"
   ]
  },
  {
   "cell_type": "markdown",
   "id": "378f92fb-a5cb-4c3f-bb8a-eeee32f451bd",
   "metadata": {},
   "source": [
    "To model the probability of a random variable $X$ taking values in an event $A$, denoted as $P(X ∈ A)$ with outcome space $Ω$, we need to specify a distribution. This task may seem daunting as it seems we need to define the likelihood for every possible event—set of outcomes—and, in such a way that satisfies the axioms of probability.\n",
    "\n",
    "Fortunately, we can define the distribution using a function defined directly on instances $x ∈ Ω$. We will separately consider discrete (countable) and continuous (uncountable) sample spaces. For the discrete case, we will define probability mass functions and for the continuous case, we will define probability density functions."
   ]
  },
  {
   "cell_type": "markdown",
   "id": "e3bb9d44-3cc4-4d0d-acd5-d075878ba130",
   "metadata": {},
   "source": [
    "## Probability Mass Functions"
   ]
  },
  {
   "cell_type": "markdown",
   "id": "64782adf-4bfa-4d5c-9aae-ce45c1ab929c",
   "metadata": {},
   "source": [
    "Let $Ω$ be a discrete sample space and $\\varepsilon = P (Ω)$, the power set of Ω. A function $p : Ω → [0, 1]$ is called a probability mass function (pmf) if for all $ω ∈ Ω, p(ω) = 1$.\n",
    "\n",
    "The probability of any event $A ∈ \\varepsilon$ is defined as\n",
    "\n",
    "$$P(A) = Σ ω ∈ A p(ω)$$\n",
    "\n",
    "It is straightforward to verify that $P$ satisfies the axioms of probability and, thus, is a probability distribution. For discrete random variables, therefore, we will often write $P(X = x)$, which means that $P(X = x) = p(x)$ for each outcome $x ∈ Ω$."
   ]
  },
  {
   "cell_type": "markdown",
   "id": "dc0b72d3-ab9e-40db-b2f1-4d59d4e5dd5c",
   "metadata": {},
   "source": [
    "## Example: Probability of a Roll of a Die"
   ]
  },
  {
   "cell_type": "markdown",
   "id": "ed58ef49-b5c8-436e-9fa9-94ffa84f51df",
   "metadata": {},
   "source": [
    "Consider a roll of a fair six-sided die; i.e., $Ω = {1, 2, 3, 4, 5, 6}$, and the event space $E = P(Ω)$. What is the probability that the outcome is a number greater than 4?\n",
    "\n",
    "Because the die is fair, we know that $p(ω) = 1/6$ for all $ω ∈ Ω$. Now, let A be an event in E that the outcome is greater than $4$; i.e., $A = {5, 6}$. Thus,\n",
    "\n",
    "$$P(A) = Σ ω ∈ A p(ω) = 1/3$$\n",
    "\n",
    "Notice that the distribution P is defined on the elements of $E$, whereas p is defined on the elements of $Ω$. That is, $P({1}) = p(1), P({2}) = p(2), P({1, 2}) = p(1) + p(2)$, etc."
   ]
  },
  {
   "cell_type": "markdown",
   "id": "de40a2b5-537a-41a5-b376-a0c135052c40",
   "metadata": {},
   "source": [
    "## Probability Mass Functions Table"
   ]
  },
  {
   "cell_type": "markdown",
   "id": "f5d73a10-32ed-4842-94c5-e559e01abbda",
   "metadata": {},
   "source": [
    "To specify $P$, therefore, we need to determine how to specify the pmf, i.e., the probability of each discrete outcome. The pmf is often specified as a table of probability values. For example, to model the probability of a birthday for each day in the year, one could have a table of `365` values between zero and one, as long as the probabilities sum to `1`."
   ]
  },
  {
   "cell_type": "markdown",
   "id": "6cd10029-ba31-45c4-8366-1661a6455bc4",
   "metadata": {},
   "source": [
    "## Bernoulli Distribution"
   ]
  },
  {
   "cell_type": "markdown",
   "id": "fd8cb3a4-a548-439a-a278-24a97fcbd292",
   "metadata": {},
   "source": [
    "The Bernoulli distribution derives from the concept of a Bernoulli trial, an experiment that has two possible outcomes: success and failure. In a Bernoulli trial, a success occurs with probability $α ∈ [0, 1]$ and, thus, failure occurs with probability $1 − α$.\n",
    "\n",
    "We model this distribution by setting the sample space to two elements and defining the probability of one of them as α. More specifically, $Ω = {success, failure}$ and\n",
    "\n",
    "$$p(ω) = { α ω = success 1 − α ω = failure }$$\n",
    "\n",
    "where $α ∈ (0, 1)$ is a parameter."
   ]
  },
  {
   "cell_type": "markdown",
   "id": "641a8599-ed96-41f4-9c4c-5839b6ebdf47",
   "metadata": {},
   "source": [
    "## Uniform Distribution"
   ]
  },
  {
   "cell_type": "markdown",
   "id": "d52a6239-b4ed-4b98-89b8-7617d78819f6",
   "metadata": {},
   "source": [
    "The uniform distribution for discrete sample spaces is defined over a finite set of outcomes, each of which is equally likely to occur. Let $Ω = {1, . . . , n}$; then for all $ω ∈ Ω$, $p(ω) = 1/n$.\n",
    "\n",
    "The uniform distribution does not contain parameters; it is defined by the size of the sample space."
   ]
  },
  {
   "cell_type": "markdown",
   "id": "44a18741-dfc1-4822-90df-e01794088918",
   "metadata": {},
   "source": [
    "## Poisson Distribution"
   ]
  },
  {
   "cell_type": "markdown",
   "id": "d7a50554-9f6d-4e2d-ad4c-d7b57931677d",
   "metadata": {},
   "source": [
    "The Poisson distribution reflects the probability of how many incidences occur (implicitly within a fixed time interval). For example, a call center is likely to receive $50$ calls per hour, with a much smaller probability on only receiving $5$ calls or receiving as many as $1000$ calls.\n",
    "\n",
    "This can be modeled with a $Poisson(λ)$, where $λ$ represents the expected number of calls. More formally, $Ω = {0, 1, . . .}$ and for all $ω ∈ Ω$\n",
    "\n",
    "$$p(ω) = λ^ω * e^-λ / ω!$$\n",
    "\n",
    "The Poisson distribution is defined over an infinite sample space, but still countable."
   ]
  },
  {
   "cell_type": "markdown",
   "id": "b63dfb2d-c440-47ee-9785-cc2333140235",
   "metadata": {},
   "source": [
    "## Graphical Representation"
   ]
  },
  {
   "cell_type": "markdown",
   "id": "0630ea6b-e394-45be-8d8f-6dba5e59f44e",
   "metadata": {},
   "source": [
    "To better understand these distributions, we can visualize them using graphs. For example, we can plot a Poisson distribution using the following Python code:"
   ]
  },
  {
   "cell_type": "code",
   "execution_count": 1,
   "id": "81fe33b9-cc5a-4cc0-86e4-5c6a12f8be4f",
   "metadata": {
    "tags": []
   },
   "outputs": [],
   "source": [
    "import numpy as np\n",
    "import matplotlib.pyplot as plt\n",
    "from scipy.stats import poisson"
   ]
  },
  {
   "cell_type": "code",
   "execution_count": 2,
   "id": "170dc806-21e0-48bc-bb96-a8c808169c8d",
   "metadata": {
    "tags": []
   },
   "outputs": [
    {
     "data": {
      "image/png": "[encoded data removed]",
      "text/plain": [
       "<Figure size 640x480 with 1 Axes>"
      ]
     },
     "metadata": {},
     "output_type": "display_data"
    }
   ],
   "source": [
    "# Define the lambda parameter\n",
    "lambda_ = 5\n",
    "\n",
    "# Generate a range of values\n",
    "x = np.arange(poisson.ppf(0.01, lambda_), poisson.ppf(0.99, lambda_))\n",
    "\n",
    "# Calculate the probabilities for these values\n",
    "plt.plot(x, poisson.pmf(x, lambda_), 'bo', ms=8, label='poisson pmf')\n",
    "\n",
    "plt.show()"
   ]
  },
  {
   "cell_type": "markdown",
   "id": "27e6900e-4a03-408c-9ef0-f7418f79fcab",
   "metadata": {},
   "source": [
    "## Bernoulli Distribution"
   ]
  },
  {
   "cell_type": "markdown",
   "id": "9d9d90d2-9b49-4069-b1de-19995e901bf1",
   "metadata": {},
   "source": [
    "The Bernoulli distribution is a discrete probability distribution of a random variable which takes the value 1 with probability p and the value 0 with probability q=1-p"
   ]
  },
  {
   "cell_type": "markdown",
   "id": "5cd57f0c-6ac6-4645-bee3-efb381e35d7f",
   "metadata": {},
   "source": [
    "Here is a Python code snippet to plot a Bernoulli distribution that not good disribution for visualis=zation:"
   ]
  },
  {
   "cell_type": "code",
   "execution_count": 3,
   "id": "fbed7bdf-c593-41bf-ba01-7e37592458d0",
   "metadata": {
    "tags": []
   },
   "outputs": [],
   "source": [
    "from scipy.stats import bernoulli"
   ]
  },
  {
   "cell_type": "code",
   "execution_count": 4,
   "id": "2d6a4ecf-4ce2-48ec-b15a-02bbefc14960",
   "metadata": {
    "tags": []
   },
   "outputs": [
    {
     "data": {
      "image/png": "[encoded data removed]",
      "text/plain": [
       "<Figure size 640x480 with 1 Axes>"
      ]
     },
     "metadata": {},
     "output_type": "display_data"
    }
   ],
   "source": [
    "# Define the probability parameter\n",
    "p = 0.5\n",
    "\n",
    "# Generate a range of values\n",
    "x = np.arange(bernoulli.ppf(0.01, p), bernoulli.ppf(0.99, p))\n",
    "\n",
    "# Calculate the probabilities for these values\n",
    "plt.plot(x, bernoulli.pmf(x, p), 'bo', ms=8, label='bernoulli pmf')\n",
    "\n",
    "plt.show()"
   ]
  },
  {
   "cell_type": "markdown",
   "id": "c535101c-a135-4d9c-950b-ee0bbbcdf661",
   "metadata": {},
   "source": [
    "## Binomial Distribution"
   ]
  },
  {
   "cell_type": "markdown",
   "id": "2c77c484-7aaa-460a-90c0-fedb6c03834b",
   "metadata": {},
   "source": [
    "The Binomial distribution is a discrete probability distribution of the number of successes in a sequence of n independent experiments.\n",
    "\n",
    "Here is a Python code snippet to plot a Binomial distribution:"
   ]
  },
  {
   "cell_type": "code",
   "execution_count": 5,
   "id": "3a820162-4fd9-4d05-b4b2-1cbff036f24a",
   "metadata": {
    "tags": []
   },
   "outputs": [],
   "source": [
    "from scipy.stats import binom"
   ]
  },
  {
   "cell_type": "code",
   "execution_count": 6,
   "id": "a71b44c9-f3b0-47fa-9ba0-6323b53c36b7",
   "metadata": {
    "tags": []
   },
   "outputs": [
    {
     "data": {
      "image/png": "[encoded data removed]",
      "text/plain": [
       "<Figure size 640x480 with 1 Axes>"
      ]
     },
     "metadata": {},
     "output_type": "display_data"
    }
   ],
   "source": [
    "# Define the parameters\n",
    "n = 10  # number of trials\n",
    "p = 0.5  # probability of success\n",
    "\n",
    "# Generate a range of values\n",
    "x = np.arange(binom.ppf(0.01, n, p), binom.ppf(0.99, n, p))\n",
    "\n",
    "# Calculate the probabilities for these values\n",
    "plt.plot(x, binom.pmf(x, n, p), 'bo', ms=8, label='binomial pmf')\n",
    "\n",
    "plt.show()"
   ]
  },
  {
   "cell_type": "markdown",
   "id": "7bcb8f28-baec-4b6a-88cf-b784a0150709",
   "metadata": {},
   "source": [
    "## Geometric Distribution"
   ]
  },
  {
   "cell_type": "markdown",
   "id": "2eab29a5-822f-4ab2-ab25-127c56ce5e61",
   "metadata": {},
   "source": [
    "The Geometric distribution models the number of independent and identical Bernoulli trials needed to get one success.\n",
    "\n",
    "Here is a Python code snippet to plot a Geometric distribution:"
   ]
  },
  {
   "cell_type": "code",
   "execution_count": 7,
   "id": "0cb7e4fb-e23f-493d-a2ac-cc8be599dd5c",
   "metadata": {
    "tags": []
   },
   "outputs": [],
   "source": [
    "from scipy.stats import geom"
   ]
  },
  {
   "cell_type": "code",
   "execution_count": 8,
   "id": "a5fcd18a-25dc-42c6-a6ac-f144c700d766",
   "metadata": {
    "tags": []
   },
   "outputs": [
    {
     "data": {
      "image/png": "[encoded data removed]",
      "text/plain": [
       "<Figure size 640x480 with 1 Axes>"
      ]
     },
     "metadata": {},
     "output_type": "display_data"
    }
   ],
   "source": [
    "# Define the probability parameter\n",
    "p = 0.5\n",
    "\n",
    "# Generate a range of values\n",
    "x = np.arange(geom.ppf(0.01, p), geom.ppf(0.99, p))\n",
    "\n",
    "# Calculate the probabilities for these values\n",
    "plt.plot(x, geom.pmf(x, p), 'bo', ms=8, label='geometric pmf')\n",
    "\n",
    "plt.show()"
   ]
  },
  {
   "cell_type": "markdown",
   "id": "ef07b41e-ef8e-4359-a7af-e07f901b938f",
   "metadata": {},
   "source": [
    "## Uniform Distribution"
   ]
  },
  {
   "cell_type": "markdown",
   "id": "cc7a778f-25bc-4d69-bf0b-c3391b0e380f",
   "metadata": {},
   "source": [
    "The Uniform distribution for discrete sample spaces is defined over a finite set of outcomes, each of which is equally likely to occur.\n",
    "\n",
    "Here is a Python code snippet to plot a Uniform distribution:"
   ]
  },
  {
   "cell_type": "code",
   "execution_count": 9,
   "id": "ca825a33-97d0-4e4a-89b0-c2e93dbdcf71",
   "metadata": {
    "tags": []
   },
   "outputs": [],
   "source": [
    "from scipy.stats import randint"
   ]
  },
  {
   "cell_type": "code",
   "execution_count": 10,
   "id": "07af2538-1c0c-4a1b-830b-7272b1acd16c",
   "metadata": {
    "tags": []
   },
   "outputs": [
    {
     "data": {
      "image/png": "[encoded data removed]",
      "text/plain": [
       "<Figure size 640x480 with 1 Axes>"
      ]
     },
     "metadata": {},
     "output_type": "display_data"
    }
   ],
   "source": [
    "\n",
    "# Define the parameters\n",
    "a = 1  # lower bound\n",
    "b = 10  # upper bound\n",
    "\n",
    "# Generate a range of values\n",
    "x = np.arange(a, b+1)\n",
    "\n",
    "# Calculate the probabilities for these values\n",
    "plt.plot(x, randint.pmf(x, a, b), 'bo', ms=8, label='uniform pmf')\n",
    "\n",
    "plt.show()"
   ]
  },
  {
   "cell_type": "markdown",
   "id": "d7d023f2-4914-4e1a-9c5b-d0d3bcbc016a",
   "metadata": {},
   "source": [
    "In all these examples, the `scipy.stats` module provides the necessary functions to generate these distributions and plot them. The `ppf` function is used to generate a range of values, and the `pmf` function is used to calculate the probabilities for these values. The resulting plots provide a graphical representation of these distributions.\n",
    "\n"
   ]
  },
  {
   "cell_type": "markdown",
   "id": "2fcf2b1c-a7c0-45f4-93b3-fb775c84f774",
   "metadata": {},
   "source": [
    "# Probability Density Functions"
   ]
  },
  {
   "cell_type": "markdown",
   "id": "bfd7af6a-e201-4def-a54d-aff7c9796a54",
   "metadata": {},
   "source": [
    "In the treatment of continuous probability spaces, we use probability density functions (pdfs) instead of probability mass functions (pmfs) for discrete spaces. The main difference between these two types of functions is that for pmfs, we can define the likelihood for every possible event—set of outcomes—and for pdfs, we are restricted to functional forms."
   ]
  },
  {
   "cell_type": "markdown",
   "id": "b2ced3f1-1a19-4d89-8cd3-bf8c537300d0",
   "metadata": {},
   "source": [
    "Let $Ω$ be a continuous sample space and $E = B (Ω). A$ function $p : Ω → [0, ∞)$ is called a probability density function (pdf) if the integral of p(ω) over the entire space Ω equals $1$.\n",
    "\n",
    "The probability of an event $A ∈ B(Ω)$ is defined as the integral of $p(ω)$ over the event $A$.\n",
    "$$∫_A p(ω) dω$$\n",
    "The value of a pdf at a point is not a probability; it can actually be greater than $1$. The probability at any single point is $0$ because a countable subset of $Ω$ is a set of measure zero."
   ]
  },
  {
   "cell_type": "markdown",
   "id": "5f4158d2-9b36-4100-a87a-a3123b042238",
   "metadata": {},
   "source": [
    "## Uniform Distribution"
   ]
  },
  {
   "cell_type": "markdown",
   "id": "340443f3-3123-4a2c-a6d8-3a46a93c942f",
   "metadata": {},
   "source": [
    "The uniform distribution is defined by an equal value of a probability density function over a finite interval in R. Thus, for Ω = [a, b] the uniform probability density function is defined as\n",
    "$$p(ω) = 1 / (b - a) for ω ∈ [a, b]$$\n",
    "One can also define $Uniform(a, b)$ by taking $Ω = R$ and setting $p(ω) = 0$ whenever $ω$ is outside of $[a, b]$."
   ]
  },
  {
   "cell_type": "markdown",
   "id": "f10e39b0-0245-4b24-a4cc-b553163f45c2",
   "metadata": {},
   "source": [
    "## Exponential Distribution"
   ]
  },
  {
   "cell_type": "markdown",
   "id": "40c75ebd-860f-4bb3-8e64-b29f0fa7e13a",
   "metadata": {},
   "source": [
    "The exponential distribution is defined over a set of non-negative numbers; i.e., $Ω = [0, ∞)$. For parameter $λ > 0$, its pdf is\n",
    "$$p(ω) = λe^(-λω) for ω ∈ [0, ∞)$$\n",
    "As the name suggests, this pdf has an exponential form, with sharply decreasing probability for values $x$ as they increase in magnitude."
   ]
  },
  {
   "cell_type": "markdown",
   "id": "1252598c-5f4c-42bd-9a9d-e52a802e2e30",
   "metadata": {},
   "source": [
    "## Graphical Representation"
   ]
  },
  {
   "cell_type": "markdown",
   "id": "4cf93695-f8bd-4326-a175-6b956fab24e4",
   "metadata": {},
   "source": [
    "To better understand these distributions, we can visualize them using graphs. For example, we can plot a Uniform and Exponential distribution using the following Python codek:"
   ]
  },
  {
   "cell_type": "code",
   "execution_count": 11,
   "id": "7c6009f5-f353-4d9f-9e40-10c3e0e75c45",
   "metadata": {
    "tags": []
   },
   "outputs": [],
   "source": [
    "from scipy.stats import uniform, expon"
   ]
  },
  {
   "cell_type": "code",
   "execution_count": 12,
   "id": "05896e01-c6b1-426c-a99f-d1acfe2f497b",
   "metadata": {
    "tags": []
   },
   "outputs": [
    {
     "data": {
      "image/png": "[encoded data removed]",
      "text/plain": [
       "<Figure size 640x480 with 1 Axes>"
      ]
     },
     "metadata": {},
     "output_type": "display_data"
    }
   ],
   "source": [
    "\n",
    "# Define the parameters\n",
    "a = 0  # lower bound\n",
    "b = 1  # upper bound\n",
    "\n",
    "# Generate a range of values\n",
    "x = np.linspace(a, b, 100)\n",
    "\n",
    "# Calculate the pdf for these values\n",
    "plt.plot(x, uniform.pdf(x, a, b-a), 'bo', ms=8, label='uniform pdf')\n",
    "plt.plot(x, expon.pdf(x), 'ro', ms=8, label='exponential pdf')\n",
    "\n",
    "plt.legend()\n",
    "plt.show()"
   ]
  },
  {
   "cell_type": "markdown",
   "id": "78223beb-bda5-4458-bc6e-1243f6f7ad8f",
   "metadata": {},
   "source": [
    "![Probability Density Function](pictures/probability_density_functions.JPG)"
   ]
  },
  {
   "cell_type": "markdown",
   "id": "b5518759-784f-4cd3-8ca8-a6e62cb71d62",
   "metadata": {},
   "source": [
    "this figure Four probability density functions, for continuous random variables. Images taken from Wikipedia."
   ]
  },
  {
   "cell_type": "markdown",
   "id": "9cab4cad-ab48-4568-9909-ee7594df9b6f",
   "metadata": {},
   "source": [
    "# Gaussian Distribution\n",
    "\n",
    "The Gaussian distribution, also known as the normal distribution, is one of the most frequently used probability distributions. It is defined over $Ω = R$, with two parameters, $µ ∈ R$ and $σ > 0$. The probability density function `(pdf)` is given by:\n",
    "\n",
    "$$p(ω) = \\frac{1}{√2πσ²} * e^{\\frac{-1}{2σ²(ω-µ)²)}}$$\n",
    "\n",
    "For a random variable that is Gaussian distributed, the parameter µ is the mean or expected value and σ² is the variance. We will refer to this distribution as $Gaussian(µ, σ²)$ or $N(µ, σ²)$. When the mean is zero, and the variance is $1$ (unit variance), this Gaussian is called the standard normal. This specific Gaussian has a name because it is so frequently used.\n"
   ]
  },
  {
   "cell_type": "code",
   "execution_count": 13,
   "id": "f3e9ad80-91a4-4c5e-9370-63a8ea98a414",
   "metadata": {
    "tags": []
   },
   "outputs": [],
   "source": [
    "from scipy.stats import norm"
   ]
  },
  {
   "cell_type": "code",
   "execution_count": 14,
   "id": "a3b2a246-5bfd-4c1a-9748-f221fd8d09f7",
   "metadata": {
    "tags": []
   },
   "outputs": [
    {
     "data": {
      "image/png": "[encoded data removed]",
      "text/plain": [
       "<Figure size 640x480 with 1 Axes>"
      ]
     },
     "metadata": {},
     "output_type": "display_data"
    }
   ],
   "source": [
    "# Define the parameters for the Gaussian distribution\n",
    "mu = 0\n",
    "sigma = 1\n",
    "\n",
    "# Generate some data points from the Gaussian distribution\n",
    "data = np.random.normal(mu, sigma, 1000)\n",
    "\n",
    "# Plot the histogram of the data\n",
    "plt.hist(data, bins=30, density=True)\n",
    "\n",
    "# Overlay the Gaussian pdf\n",
    "xmin, xmax = plt.xlim()\n",
    "x = np.linspace(xmin, xmax, 100)\n",
    "p = norm.pdf(x, mu, sigma)\n",
    "plt.plot(x, p, 'k', linewidth=2)\n",
    "\n",
    "plt.title(\"Fitting a Normal distribution to data\")\n",
    "plt.show()"
   ]
  },
  {
   "cell_type": "markdown",
   "id": "d83f294f-13eb-40bc-8744-c11ae462908f",
   "metadata": {},
   "source": [
    "This code generates $1000$ data points from a Gaussian distribution with mean $0$ and standard deviation $1$, then plots a histogram of the data and overlays the `Gaussian pdf`."
   ]
  },
  {
   "cell_type": "markdown",
   "id": "23c0b7fe-f62f-4af3-9d3c-b88335da6abe",
   "metadata": {},
   "source": [
    "## Laplace Distribution"
   ]
  },
  {
   "cell_type": "markdown",
   "id": "7476531b-600f-47fa-bde7-e1865de4ab3d",
   "metadata": {},
   "source": [
    "The Laplace distribution is similar to the Gaussian, but is more peaked around the mean. It is defined over $Ω = R$, with two parameters, $µ ∈ R$ and $b > 0$ and `pdf`\n",
    "$$p(ω) = \\frac{1}{2b} * e^(\\frac{-|ω-µ|}{b}$$\n",
    "The Laplace distribution is useful in applications where we want to model the absolute value of a random variable"
   ]
  },
  {
   "cell_type": "markdown",
   "id": "00191857-a313-4f3b-b068-677716dbfda6",
   "metadata": {},
   "source": [
    "## Gamma Distribution"
   ]
  },
  {
   "cell_type": "markdown",
   "id": "ac6ddbff-f072-489d-b638-08e41779a17c",
   "metadata": {},
   "source": [
    "The gamma distribution is used to model waiting times, and is similar to the Poisson distribution but for continuous variables. It is defined over $Ω = (0, ∞)$, with shape parameter $α > 0$ and rate parameter $β > 0$ and pdf\n",
    "$$p(ω) = \\frac{β^α}{Γ(α)} * ω^(α-1) * e^{-βω}$$\n",
    "where Γ(α) is called the gamma function.\n",
    "\n",
    "A random variable that is gamma-distributed is denoted $X ∼ Gamma(α, β)$"
   ]
  },
  {
   "cell_type": "markdown",
   "id": "bac26167-278d-4d7a-9afc-972acc3e5ddf",
   "metadata": {},
   "source": [
    "## Graphical Representation"
   ]
  },
  {
   "cell_type": "markdown",
   "id": "32049a96-92d0-4948-904d-a330d4654c5d",
   "metadata": {},
   "source": [
    "To better understand these distributions, we can visualize them using graphs. For example, we can plot a Laplace and Gamma distribution using the following Python code:"
   ]
  },
  {
   "cell_type": "code",
   "execution_count": 15,
   "id": "3f0cdeac-4ea5-41bc-8e0d-60d344d19fe3",
   "metadata": {
    "tags": []
   },
   "outputs": [],
   "source": [
    "from scipy.stats import laplace, gamma"
   ]
  },
  {
   "cell_type": "code",
   "execution_count": 16,
   "id": "305a9f03-781a-4978-9f84-8effda0b98b6",
   "metadata": {
    "tags": []
   },
   "outputs": [
    {
     "data": {
      "image/png": "[encoded data removed]",
      "text/plain": [
       "<Figure size 640x480 with 1 Axes>"
      ]
     },
     "metadata": {},
     "output_type": "display_data"
    }
   ],
   "source": [
    "# Define the parameters\n",
    "mu = 0  # location parameter\n",
    "b = 1  # scale parameter\n",
    "alpha = 2  # shape parameter\n",
    "beta = 1  # rate parameter\n",
    "\n",
    "# Generate a range of values\n",
    "x = np.linspace(0, 5, 100)\n",
    "\n",
    "# Calculate the pdf for these values\n",
    "plt.plot(x, laplace.pdf(x, loc=mu, scale=b), 'bo', ms=8, label='laplace pdf')\n",
    "plt.plot(x, gamma.pdf(x, a=alpha, scale=1/beta), 'ro', ms=8, label='gamma pdf')\n",
    "\n",
    "plt.legend()\n",
    "plt.show()"
   ]
  },
  {
   "cell_type": "markdown",
   "id": "7a2cc43d-6093-42bc-bfee-7fba143a724d",
   "metadata": {},
   "source": [
    "This code will generate a plot of the Laplace and Gamma distributions. You can adjust the parameters to see how they affect the shape of the distributions."
   ]
  },
  {
   "cell_type": "code",
   "execution_count": null,
   "id": "8a0c754d-b0d7-43bb-9b21-3d0a277636b4",
   "metadata": {},
   "outputs": [],
   "source": []
  }
 ],
 "metadata": {
  "kernelspec": {
   "display_name": "Python 3 (ipykernel)",
   "language": "python",
   "name": "python3"
  },
  "language_info": {
   "codemirror_mode": {
    "name": "ipython",
    "version": 3
   },
   "file_extension": ".py",
   "mimetype": "text/x-python",
   "name": "python",
   "nbconvert_exporter": "python",
   "pygments_lexer": "ipython3",
   "version": "3.11.4"
  }
 },
 "nbformat": 4,
 "nbformat_minor": 5
}
