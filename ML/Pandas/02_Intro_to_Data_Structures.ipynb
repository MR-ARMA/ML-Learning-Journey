{
 "cells": [
  {
   "cell_type": "markdown",
   "id": "c0a7c644-cd6a-440d-8f2c-092f28907fe3",
   "metadata": {},
   "source": [
    "# <center><div style=\"width: 370px;\"> ![Panel Data](pictures/Panel_Data.jpg)"
   ]
  },
  {
   "cell_type": "markdown",
   "id": "27914b58-bf24-4f14-bb7a-c86cc9814a72",
   "metadata": {},
   "source": [
    "# Introduction to Data Structures"
   ]
  },
  {
   "cell_type": "markdown",
   "id": "5d365b81-433b-4e56-b7d1-19cb17da786c",
   "metadata": {},
   "source": [
    "Let's kick things off with a concise yet informative glimpse into the core data structures that Pandas offers. This overview, while not exhaustive, will serve as a solid foundation for your journey. It's worth noting that the foundational principles related to data types, indexing, and axis labeling/alignment are applicable to all Pandas objects. \n",
    "\n",
    "To embark on this journey, we recommend starting by importing NumPy and bringing Pandas into your programming environment. This dynamic duo will empower you to wield the full potential of Pandas for data manipulation and analysis."
   ]
  },
  {
   "cell_type": "code",
   "execution_count": 2,
   "id": "8745d31b-3104-44e0-83b7-42dea2c33f43",
   "metadata": {
    "tags": []
   },
   "outputs": [],
   "source": [
    "import numpy as np\n",
    "import pandas as pd"
   ]
  },
  {
   "cell_type": "markdown",
   "id": "9d010d2e-35e1-414c-a315-cacd79339bd5",
   "metadata": {},
   "source": [
    "Let's embark on a journey into the versatile world of Pandas, a powerful library for data manipulation and analysis in Python. To ensure a thorough understanding, we'll start with a concise introduction to its fundamental data structures. Following that, we'll delve into various categories of functionality and methods in dedicated sections.\n",
    "\n",
    "At the heart of Pandas lie three main data structures, each tailored to specific data dimensions:\n",
    "\n",
    "1. **Series** - A One-Dimensional Marvel:\n",
    "   - The Series is your trusty companion for handling one-dimensional data. Think of it as a versatile 1D array with added capabilities. Whether you're dealing with stock prices over time or a simple list of names, Series has your back.\n",
    "\n",
    "2. **DataFrame** - The Two-Dimensional Workhorse:\n",
    "   - Enter the DataFrame, the unsung hero of structured data. This 2D powerhouse is akin to a spreadsheet, where rows and columns come together to form a cohesive data structure. It's your go-to choice for tabular data, and it plays a starring role in countless data analysis tasks.\n",
    "\n",
    "3. **Panel** - The Tri-Dimensional Contender:\n",
    "   - Now, if you ever find yourself in the realm of three-dimensional data, the Panel steps onto the stage. While it offers a compelling solution for such scenarios, it's used less frequently compared to Series and DataFrames. In these tutorials, we'll primarily focus on the more commonly used Series and DataFrames.\n",
    "\n",
    "With this solid foundation in place, you'll be well-equipped to explore Pandas' vast array of functionalities, from data cleaning and manipulation to powerful data analysis techniques. So, let's roll up our sleeves and embark on this Pandas-powered journey together."
   ]
  }
 ],
 "metadata": {
  "kernelspec": {
   "display_name": "Python 3 (ipykernel)",
   "language": "python",
   "name": "python3"
  },
  "language_info": {
   "codemirror_mode": {
    "name": "ipython",
    "version": 3
   },
   "file_extension": ".py",
   "mimetype": "text/x-python",
   "name": "python",
   "nbconvert_exporter": "python",
   "pygments_lexer": "ipython3",
   "version": "3.11.4"
  }
 },
 "nbformat": 4,
 "nbformat_minor": 5
}
