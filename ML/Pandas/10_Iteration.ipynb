{
 "cells": [
  {
   "cell_type": "markdown",
   "id": "3484b856-90ab-4301-8c86-a7ba4b0da292",
   "metadata": {},
   "source": [
    "# <center><div style=\"width: 370px;\"> ![Panel Data](pictures/Panel_Data.jpg)"
   ]
  },
  {
   "cell_type": "markdown",
   "id": "f88af8eb-84d9-45ba-aea9-130c18c3e168",
   "metadata": {},
   "source": [
    "# <center> Iteration"
   ]
  },
  {
   "cell_type": "code",
   "execution_count": 2,
   "id": "dab742a9-ea4a-4214-afe9-c8e1037c3c4d",
   "metadata": {
    "tags": []
   },
   "outputs": [],
   "source": [
    "import numpy as np\n",
    "import pandas as pd"
   ]
  },
  {
   "cell_type": "markdown",
   "id": "eed31451-327f-472d-979e-5ef4ac371014",
   "metadata": {},
   "source": [
    "The behavior of basic iteration over pandas objects depends on the type.\n",
    "When iterating over a Series, it is regarded as array-like, and basic iteration\n",
    "produces the values. DataFrames follow the dict-like convention of iterating\n",
    "over the “keys” of the objects."
   ]
  },
  {
   "cell_type": "markdown",
   "id": "5c6867c1-2951-4e54-91bc-09db370144b2",
   "metadata": {
    "tags": []
   },
   "source": [
    "In short, basic iteration (`for i in object`) produces:\n",
    "\n",
    "- **Series**: values\n",
    "- **DataFrame**: column labels"
   ]
  },
  {
   "cell_type": "markdown",
   "id": "499d5da2-d615-422a-addf-302f9f11ac25",
   "metadata": {},
   "source": [
    "Thus, for example, iterating over a DataFrame gives you the column names:"
   ]
  },
  {
   "cell_type": "code",
   "execution_count": 4,
   "id": "f0778d50-8c1e-42f5-985b-a8a58b1ba0d5",
   "metadata": {
    "tags": []
   },
   "outputs": [],
   "source": [
    "df = pd.DataFrame(\n",
    "    {\"col1\": np.random.randn(3), \"col2\": np.random.randn(3)}, index=[\"a\", \"b\", \"c\"]\n",
    ")"
   ]
  },
  {
   "cell_type": "code",
   "execution_count": 5,
   "id": "6b93d16f-a940-4a28-b1e7-6adb5c9a418f",
   "metadata": {
    "tags": []
   },
   "outputs": [
    {
     "data": {
      "text/html": [
       "<div>\n",
       "<style scoped>\n",
       "    .dataframe tbody tr th:only-of-type {\n",
       "        vertical-align: middle;\n",
       "    }\n",
       "\n",
       "    .dataframe tbody tr th {\n",
       "        vertical-align: top;\n",
       "    }\n",
       "\n",
       "    .dataframe thead th {\n",
       "        text-align: right;\n",
       "    }\n",
       "</style>\n",
       "<table border=\"1\" class=\"dataframe\">\n",
       "  <thead>\n",
       "    <tr style=\"text-align: right;\">\n",
       "      <th></th>\n",
       "      <th>col1</th>\n",
       "      <th>col2</th>\n",
       "    </tr>\n",
       "  </thead>\n",
       "  <tbody>\n",
       "    <tr>\n",
       "      <th>a</th>\n",
       "      <td>1.308614</td>\n",
       "      <td>-0.591168</td>\n",
       "    </tr>\n",
       "    <tr>\n",
       "      <th>b</th>\n",
       "      <td>0.128871</td>\n",
       "      <td>1.508056</td>\n",
       "    </tr>\n",
       "    <tr>\n",
       "      <th>c</th>\n",
       "      <td>-0.787223</td>\n",
       "      <td>0.267885</td>\n",
       "    </tr>\n",
       "  </tbody>\n",
       "</table>\n",
       "</div>"
      ],
      "text/plain": [
       "       col1      col2\n",
       "a  1.308614 -0.591168\n",
       "b  0.128871  1.508056\n",
       "c -0.787223  0.267885"
      ]
     },
     "execution_count": 5,
     "metadata": {},
     "output_type": "execute_result"
    }
   ],
   "source": [
    "df"
   ]
  },
  {
   "cell_type": "code",
   "execution_count": 6,
   "id": "82e415ab-172a-46f6-954e-fda1e2435fea",
   "metadata": {
    "tags": []
   },
   "outputs": [
    {
     "name": "stdout",
     "output_type": "stream",
     "text": [
      "col1\n",
      "col2\n"
     ]
    }
   ],
   "source": [
    "for col in df:\n",
    "    print(col)"
   ]
  },
  {
   "cell_type": "markdown",
   "id": "685b55c2-6594-456d-8b20-e61b1a32105f",
   "metadata": {},
   "source": [
    "pandas objects also have the dict-like `items()` method to\n",
    "iterate over the (key, value) pairs."
   ]
  },
  {
   "cell_type": "markdown",
   "id": "03521f85-9a3d-4b8e-ae90-141f29b0bf37",
   "metadata": {},
   "source": [
    "To iterate over the rows of a DataFrame, you can use the following methods:"
   ]
  },
  {
   "cell_type": "markdown",
   "id": "86d76317-16e0-4319-9a8b-60a31ffff269",
   "metadata": {},
   "source": [
    "> **Warning**\n",
    "> \n",
    "> Iterating through pandas objects is generally **slow**. In many cases,\n",
    "iterating manually over the rows is not needed and can be avoided with\n",
    "one of the following approaches:\n",
    "> - Look for a vectorized solution: many operations can be performed using built-in methods or NumPy functions, (boolean) indexing, …\n",
    "> \n",
    "> - When you have a function that cannot work on the full DataFrame/Series at once, it is better to use `apply()` instead of iterating over the values.\n",
    "> \n",
    "> - If you need to do iterative manipulations on the values but performance is important, consider writing the inner loop with cython or numba. See the [enhancing performance](https://pandas.pydata.org/docs/user_guide/enhancingperf.html#enhancingperf) section of pandas docs for some examples of this approach."
   ]
  },
  {
   "cell_type": "markdown",
   "id": "619f8e06-437d-4fbe-81f9-138485f83bc7",
   "metadata": {},
   "source": [
    "> **Warning**\n",
    ">\n",
    "> You should **never modify** something you are iterating over.\n",
    "This is not guaranteed to work in all cases. Depending on the\n",
    "data types, the iterator returns a copy and not a view, and writing\n",
    "to it will have no effect!\n",
    "> \n",
    "> For example, in the following case setting the value has no effect: "
   ]
  },
  {
   "cell_type": "code",
   "execution_count": 7,
   "id": "c02a5313-917e-4b79-a124-57d641492f11",
   "metadata": {
    "tags": []
   },
   "outputs": [],
   "source": [
    "df = pd.DataFrame({\"a\": [1, 2, 3], \"b\": [\"a\", \"b\", \"c\"]})\n",
    "for index, row in df.iterrows():\n",
    "    row[\"a\"] = 10"
   ]
  },
  {
   "cell_type": "code",
   "execution_count": 8,
   "id": "d56a6af2-e6cc-43bb-ab0c-40fdf1b68f4f",
   "metadata": {
    "tags": []
   },
   "outputs": [
    {
     "data": {
      "text/html": [
       "<div>\n",
       "<style scoped>\n",
       "    .dataframe tbody tr th:only-of-type {\n",
       "        vertical-align: middle;\n",
       "    }\n",
       "\n",
       "    .dataframe tbody tr th {\n",
       "        vertical-align: top;\n",
       "    }\n",
       "\n",
       "    .dataframe thead th {\n",
       "        text-align: right;\n",
       "    }\n",
       "</style>\n",
       "<table border=\"1\" class=\"dataframe\">\n",
       "  <thead>\n",
       "    <tr style=\"text-align: right;\">\n",
       "      <th></th>\n",
       "      <th>a</th>\n",
       "      <th>b</th>\n",
       "    </tr>\n",
       "  </thead>\n",
       "  <tbody>\n",
       "    <tr>\n",
       "      <th>0</th>\n",
       "      <td>1</td>\n",
       "      <td>a</td>\n",
       "    </tr>\n",
       "    <tr>\n",
       "      <th>1</th>\n",
       "      <td>2</td>\n",
       "      <td>b</td>\n",
       "    </tr>\n",
       "    <tr>\n",
       "      <th>2</th>\n",
       "      <td>3</td>\n",
       "      <td>c</td>\n",
       "    </tr>\n",
       "  </tbody>\n",
       "</table>\n",
       "</div>"
      ],
      "text/plain": [
       "   a  b\n",
       "0  1  a\n",
       "1  2  b\n",
       "2  3  c"
      ]
     },
     "execution_count": 8,
     "metadata": {},
     "output_type": "execute_result"
    }
   ],
   "source": [
    "df"
   ]
  },
  {
   "cell_type": "markdown",
   "id": "2461c135-7496-493d-a2ff-bc8d0a2577a0",
   "metadata": {},
   "source": [
    "> **Note:**\n",
    "> To update a dataframe in pandas while iterating row by row, you can use `df.at`:"
   ]
  },
  {
   "cell_type": "code",
   "execution_count": 9,
   "id": "73d4a8af-3a3a-481e-a6c2-df4fba994776",
   "metadata": {
    "tags": []
   },
   "outputs": [],
   "source": [
    "for index, row in df.iterrows():\n",
    "    df.at[index, 'a'] = 10"
   ]
  },
  {
   "cell_type": "code",
   "execution_count": 10,
   "id": "8d0b650f-4d21-4b40-82e8-23c4a5b73ac2",
   "metadata": {
    "tags": []
   },
   "outputs": [
    {
     "data": {
      "text/html": [
       "<div>\n",
       "<style scoped>\n",
       "    .dataframe tbody tr th:only-of-type {\n",
       "        vertical-align: middle;\n",
       "    }\n",
       "\n",
       "    .dataframe tbody tr th {\n",
       "        vertical-align: top;\n",
       "    }\n",
       "\n",
       "    .dataframe thead th {\n",
       "        text-align: right;\n",
       "    }\n",
       "</style>\n",
       "<table border=\"1\" class=\"dataframe\">\n",
       "  <thead>\n",
       "    <tr style=\"text-align: right;\">\n",
       "      <th></th>\n",
       "      <th>a</th>\n",
       "      <th>b</th>\n",
       "    </tr>\n",
       "  </thead>\n",
       "  <tbody>\n",
       "    <tr>\n",
       "      <th>0</th>\n",
       "      <td>10</td>\n",
       "      <td>a</td>\n",
       "    </tr>\n",
       "    <tr>\n",
       "      <th>1</th>\n",
       "      <td>10</td>\n",
       "      <td>b</td>\n",
       "    </tr>\n",
       "    <tr>\n",
       "      <th>2</th>\n",
       "      <td>10</td>\n",
       "      <td>c</td>\n",
       "    </tr>\n",
       "  </tbody>\n",
       "</table>\n",
       "</div>"
      ],
      "text/plain": [
       "    a  b\n",
       "0  10  a\n",
       "1  10  b\n",
       "2  10  c"
      ]
     },
     "execution_count": 10,
     "metadata": {},
     "output_type": "execute_result"
    }
   ],
   "source": [
    "df"
   ]
  },
  {
   "cell_type": "markdown",
   "id": "8eac6b55-4919-4e2c-8aa8-31187cf27eac",
   "metadata": {},
   "source": [
    "## items"
   ]
  },
  {
   "cell_type": "markdown",
   "id": "e4c0dfe7-94dd-4ea8-958c-bbe99b3cc9cc",
   "metadata": {},
   "source": [
    "Consistent with the dict-like interface, `items()` iterates\n",
    "through key-value pairs:"
   ]
  },
  {
   "cell_type": "markdown",
   "id": "a80826e4-282b-44c5-bab9-d9ae5d91b2c3",
   "metadata": {},
   "source": [
    "For example:"
   ]
  },
  {
   "cell_type": "code",
   "execution_count": 11,
   "id": "02cafe27-a19d-4aee-b732-2124f7ce75e5",
   "metadata": {
    "tags": []
   },
   "outputs": [
    {
     "name": "stdout",
     "output_type": "stream",
     "text": [
      "a\n",
      "0    10\n",
      "1    10\n",
      "2    10\n",
      "Name: a, dtype: int64\n",
      "b\n",
      "0    a\n",
      "1    b\n",
      "2    c\n",
      "Name: b, dtype: object\n"
     ]
    }
   ],
   "source": [
    "for label, ser in df.items():\n",
    "    print(label)\n",
    "    print(ser)"
   ]
  },
  {
   "cell_type": "markdown",
   "id": "a72228b0-cd25-4563-ac08-a651db28400c",
   "metadata": {},
   "source": [
    "## iterrows"
   ]
  },
  {
   "cell_type": "markdown",
   "id": "e4bbbb38-e15f-46b7-b6b4-da8b0944853d",
   "metadata": {},
   "source": [
    "`iterrows()` allows you to iterate through the rows of a\n",
    "DataFrame as Series objects. It returns an iterator yielding each\n",
    "index value along with a Series containing the data in each row:"
   ]
  },
  {
   "cell_type": "code",
   "execution_count": 12,
   "id": "b6556c1d-cba4-4484-b596-4390892746eb",
   "metadata": {
    "tags": []
   },
   "outputs": [
    {
     "name": "stdout",
     "output_type": "stream",
     "text": [
      "0\n",
      "a    10\n",
      "b     a\n",
      "Name: 0, dtype: object\n",
      "1\n",
      "a    10\n",
      "b     b\n",
      "Name: 1, dtype: object\n",
      "2\n",
      "a    10\n",
      "b     c\n",
      "Name: 2, dtype: object\n"
     ]
    }
   ],
   "source": [
    "for row_index, row in df.iterrows():\n",
    "    print(row_index, row, sep=\"\\n\")"
   ]
  },
  {
   "cell_type": "markdown",
   "id": "0fdffe1b-9c97-4d0f-af83-ae7dd7e5110c",
   "metadata": {},
   "source": [
    "> **Note:**\n",
    ">‌\n",
    ">‌ Because `iterrows()` returns a Series for each row, it does **not** preserve dtypes across the rows (dtypes are preserved across columns for DataFrames). For example:"
   ]
  },
  {
   "cell_type": "code",
   "execution_count": 13,
   "id": "ab0b9fde-57df-4e2f-af8c-efcfadf74c8b",
   "metadata": {
    "tags": []
   },
   "outputs": [],
   "source": [
    "df_orig = pd.DataFrame([[1, 1.5]], columns=[\"int\", \"float\"])"
   ]
  },
  {
   "cell_type": "code",
   "execution_count": 14,
   "id": "f3070fc4-d508-45dc-878b-fa0087043979",
   "metadata": {
    "tags": []
   },
   "outputs": [
    {
     "data": {
      "text/plain": [
       "int        int64\n",
       "float    float64\n",
       "dtype: object"
      ]
     },
     "execution_count": 14,
     "metadata": {},
     "output_type": "execute_result"
    }
   ],
   "source": [
    "df_orig.dtypes"
   ]
  },
  {
   "cell_type": "code",
   "execution_count": 15,
   "id": "8b4b002d-9459-462b-a4bb-3223a0a52f4d",
   "metadata": {
    "tags": []
   },
   "outputs": [],
   "source": [
    "row = next(df_orig.iterrows())[1]"
   ]
  },
  {
   "cell_type": "code",
   "execution_count": 16,
   "id": "10577c95-0810-4fd6-82da-495bd2adc251",
   "metadata": {
    "tags": []
   },
   "outputs": [
    {
     "data": {
      "text/plain": [
       "int      1.0\n",
       "float    1.5\n",
       "Name: 0, dtype: float64"
      ]
     },
     "execution_count": 16,
     "metadata": {},
     "output_type": "execute_result"
    }
   ],
   "source": [
    "row"
   ]
  },
  {
   "cell_type": "markdown",
   "id": "0de5e5f6-2164-41de-8161-483158fc6dd3",
   "metadata": {},
   "source": [
    ">‌All values in `row`, returned as a Series, are now upcasted\n",
    "to floats, also the original integer value in column `x`:"
   ]
  },
  {
   "cell_type": "code",
   "execution_count": 17,
   "id": "7e808ff4-e2ba-4c30-b218-f61cbf0d0bd7",
   "metadata": {
    "tags": []
   },
   "outputs": [
    {
     "data": {
      "text/plain": [
       "dtype('float64')"
      ]
     },
     "execution_count": 17,
     "metadata": {},
     "output_type": "execute_result"
    }
   ],
   "source": [
    "row[\"int\"].dtype"
   ]
  },
  {
   "cell_type": "code",
   "execution_count": 18,
   "id": "da9ffc5c-a511-4ba1-ac3c-bb20da355e20",
   "metadata": {
    "tags": []
   },
   "outputs": [
    {
     "data": {
      "text/plain": [
       "dtype('int64')"
      ]
     },
     "execution_count": 18,
     "metadata": {},
     "output_type": "execute_result"
    }
   ],
   "source": [
    "df_orig[\"int\"].dtype"
   ]
  },
  {
   "cell_type": "markdown",
   "id": "4f61eed6-0e1b-4712-9c6d-b7cd7eac1ac8",
   "metadata": {},
   "source": [
    ">‌ To preserve dtypes while iterating over the rows, it is better to use `itertuples()` which returns namedtuples of the values and which is generally much faster than `iterrows()`.\n",
    ">‌ For instance, a contrived way to transpose the DataFrame would be:"
   ]
  },
  {
   "cell_type": "code",
   "execution_count": 19,
   "id": "67972afd-ca7c-4091-bc00-8c4ab919df23",
   "metadata": {
    "tags": []
   },
   "outputs": [],
   "source": [
    "df2 = pd.DataFrame({\"x\": [1, 2, 3], \"y\": [4, 5, 6]})"
   ]
  },
  {
   "cell_type": "code",
   "execution_count": 20,
   "id": "0bad18e7-bcf9-469d-b8bc-84e7528acae0",
   "metadata": {
    "tags": []
   },
   "outputs": [
    {
     "data": {
      "text/html": [
       "<div>\n",
       "<style scoped>\n",
       "    .dataframe tbody tr th:only-of-type {\n",
       "        vertical-align: middle;\n",
       "    }\n",
       "\n",
       "    .dataframe tbody tr th {\n",
       "        vertical-align: top;\n",
       "    }\n",
       "\n",
       "    .dataframe thead th {\n",
       "        text-align: right;\n",
       "    }\n",
       "</style>\n",
       "<table border=\"1\" class=\"dataframe\">\n",
       "  <thead>\n",
       "    <tr style=\"text-align: right;\">\n",
       "      <th></th>\n",
       "      <th>x</th>\n",
       "      <th>y</th>\n",
       "    </tr>\n",
       "  </thead>\n",
       "  <tbody>\n",
       "    <tr>\n",
       "      <th>0</th>\n",
       "      <td>1</td>\n",
       "      <td>4</td>\n",
       "    </tr>\n",
       "    <tr>\n",
       "      <th>1</th>\n",
       "      <td>2</td>\n",
       "      <td>5</td>\n",
       "    </tr>\n",
       "    <tr>\n",
       "      <th>2</th>\n",
       "      <td>3</td>\n",
       "      <td>6</td>\n",
       "    </tr>\n",
       "  </tbody>\n",
       "</table>\n",
       "</div>"
      ],
      "text/plain": [
       "   x  y\n",
       "0  1  4\n",
       "1  2  5\n",
       "2  3  6"
      ]
     },
     "execution_count": 20,
     "metadata": {},
     "output_type": "execute_result"
    }
   ],
   "source": [
    "df2"
   ]
  },
  {
   "cell_type": "code",
   "execution_count": 21,
   "id": "8418d29a-888a-4dcd-9bfa-10bb5a3755dd",
   "metadata": {
    "tags": []
   },
   "outputs": [
    {
     "data": {
      "text/html": [
       "<div>\n",
       "<style scoped>\n",
       "    .dataframe tbody tr th:only-of-type {\n",
       "        vertical-align: middle;\n",
       "    }\n",
       "\n",
       "    .dataframe tbody tr th {\n",
       "        vertical-align: top;\n",
       "    }\n",
       "\n",
       "    .dataframe thead th {\n",
       "        text-align: right;\n",
       "    }\n",
       "</style>\n",
       "<table border=\"1\" class=\"dataframe\">\n",
       "  <thead>\n",
       "    <tr style=\"text-align: right;\">\n",
       "      <th></th>\n",
       "      <th>0</th>\n",
       "      <th>1</th>\n",
       "      <th>2</th>\n",
       "    </tr>\n",
       "  </thead>\n",
       "  <tbody>\n",
       "    <tr>\n",
       "      <th>x</th>\n",
       "      <td>1</td>\n",
       "      <td>2</td>\n",
       "      <td>3</td>\n",
       "    </tr>\n",
       "    <tr>\n",
       "      <th>y</th>\n",
       "      <td>4</td>\n",
       "      <td>5</td>\n",
       "      <td>6</td>\n",
       "    </tr>\n",
       "  </tbody>\n",
       "</table>\n",
       "</div>"
      ],
      "text/plain": [
       "   0  1  2\n",
       "x  1  2  3\n",
       "y  4  5  6"
      ]
     },
     "execution_count": 21,
     "metadata": {},
     "output_type": "execute_result"
    }
   ],
   "source": [
    "df2.T"
   ]
  },
  {
   "cell_type": "code",
   "execution_count": 22,
   "id": "bb5507e1-cb50-4e0c-b6c1-3b0d5ecd4b61",
   "metadata": {
    "tags": []
   },
   "outputs": [],
   "source": [
    "df2_t = pd.DataFrame({idx: values for idx, values in df2.iterrows()})"
   ]
  },
  {
   "cell_type": "code",
   "execution_count": 23,
   "id": "b2dbe4e5-a9ab-4563-b0ae-39675c75311d",
   "metadata": {
    "tags": []
   },
   "outputs": [
    {
     "data": {
      "text/html": [
       "<div>\n",
       "<style scoped>\n",
       "    .dataframe tbody tr th:only-of-type {\n",
       "        vertical-align: middle;\n",
       "    }\n",
       "\n",
       "    .dataframe tbody tr th {\n",
       "        vertical-align: top;\n",
       "    }\n",
       "\n",
       "    .dataframe thead th {\n",
       "        text-align: right;\n",
       "    }\n",
       "</style>\n",
       "<table border=\"1\" class=\"dataframe\">\n",
       "  <thead>\n",
       "    <tr style=\"text-align: right;\">\n",
       "      <th></th>\n",
       "      <th>0</th>\n",
       "      <th>1</th>\n",
       "      <th>2</th>\n",
       "    </tr>\n",
       "  </thead>\n",
       "  <tbody>\n",
       "    <tr>\n",
       "      <th>x</th>\n",
       "      <td>1</td>\n",
       "      <td>2</td>\n",
       "      <td>3</td>\n",
       "    </tr>\n",
       "    <tr>\n",
       "      <th>y</th>\n",
       "      <td>4</td>\n",
       "      <td>5</td>\n",
       "      <td>6</td>\n",
       "    </tr>\n",
       "  </tbody>\n",
       "</table>\n",
       "</div>"
      ],
      "text/plain": [
       "   0  1  2\n",
       "x  1  2  3\n",
       "y  4  5  6"
      ]
     },
     "execution_count": 23,
     "metadata": {},
     "output_type": "execute_result"
    }
   ],
   "source": [
    "df2_t"
   ]
  },
  {
   "cell_type": "markdown",
   "id": "13f8a6ec-9e92-4c43-83cc-46fe9d7d2426",
   "metadata": {},
   "source": [
    "## itertuples"
   ]
  },
  {
   "cell_type": "markdown",
   "id": "0b54a387-7119-4215-b3d8-9eaf446cedca",
   "metadata": {},
   "source": [
    "The `itertuples()` method will return an iterator\n",
    "yielding a namedtuple for each row in the DataFrame. The first element\n",
    "of the tuple will be the row’s corresponding index value, while the\n",
    "remaining values are the row values."
   ]
  },
  {
   "cell_type": "markdown",
   "id": "f054f656-f55e-4d8f-874b-f80363b92282",
   "metadata": {},
   "source": [
    "For instance:"
   ]
  },
  {
   "cell_type": "code",
   "execution_count": 24,
   "id": "0e474b16-bea9-48f2-af29-72753e259794",
   "metadata": {
    "tags": []
   },
   "outputs": [
    {
     "name": "stdout",
     "output_type": "stream",
     "text": [
      "Pandas(Index=0, a=10, b='a') 10 a\n",
      "Pandas(Index=1, a=10, b='b') 10 b\n",
      "Pandas(Index=2, a=10, b='c') 10 c\n"
     ]
    }
   ],
   "source": [
    "for row in df.itertuples():\n",
    "    print(row, row.a, row.b)"
   ]
  },
  {
   "cell_type": "markdown",
   "id": "4e951e91-8c2d-4294-a99b-3cefb901d7d2",
   "metadata": {},
   "source": [
    "This method does not convert the row to a Series object; it merely\n",
    "returns the values inside a namedtuple. Therefore,\n",
    "`itertuples()` preserves the data type of the values\n",
    "and is generally faster as `iterrows()`."
   ]
  },
  {
   "cell_type": "markdown",
   "id": "925cd401-1611-417f-b6b4-7a6f1e58b593",
   "metadata": {},
   "source": [
    "> **Note:**\n",
    "> \n",
    "> The column names will be renamed to positional names if they are invalid Python identifiers, repeated, or start with an underscore. With a large number of columns (>255), regular tuples are returned."
   ]
  },
  {
   "cell_type": "code",
   "execution_count": 25,
   "id": "3d26828a-dc4b-41a2-87c2-38cc1a5395ed",
   "metadata": {
    "tags": []
   },
   "outputs": [],
   "source": [
    "df = pd.DataFrame([[1, 1.5]], columns=[\"int number\", \"float number\"])"
   ]
  },
  {
   "cell_type": "code",
   "execution_count": 26,
   "id": "e7bb8d1e-1774-41e6-a9d1-c0dafac3ddf7",
   "metadata": {
    "tags": []
   },
   "outputs": [
    {
     "data": {
      "text/html": [
       "<div>\n",
       "<style scoped>\n",
       "    .dataframe tbody tr th:only-of-type {\n",
       "        vertical-align: middle;\n",
       "    }\n",
       "\n",
       "    .dataframe tbody tr th {\n",
       "        vertical-align: top;\n",
       "    }\n",
       "\n",
       "    .dataframe thead th {\n",
       "        text-align: right;\n",
       "    }\n",
       "</style>\n",
       "<table border=\"1\" class=\"dataframe\">\n",
       "  <thead>\n",
       "    <tr style=\"text-align: right;\">\n",
       "      <th></th>\n",
       "      <th>int number</th>\n",
       "      <th>float number</th>\n",
       "    </tr>\n",
       "  </thead>\n",
       "  <tbody>\n",
       "    <tr>\n",
       "      <th>0</th>\n",
       "      <td>1</td>\n",
       "      <td>1.5</td>\n",
       "    </tr>\n",
       "  </tbody>\n",
       "</table>\n",
       "</div>"
      ],
      "text/plain": [
       "   int number  float number\n",
       "0           1           1.5"
      ]
     },
     "execution_count": 26,
     "metadata": {},
     "output_type": "execute_result"
    }
   ],
   "source": [
    "df"
   ]
  },
  {
   "cell_type": "code",
   "execution_count": 27,
   "id": "6ae694a0-8377-494d-aa91-15d9c96a6d86",
   "metadata": {
    "tags": []
   },
   "outputs": [
    {
     "name": "stdout",
     "output_type": "stream",
     "text": [
      "Pandas(Index=0, _1=1, _2=1.5) 1 1.5\n"
     ]
    }
   ],
   "source": [
    "for row in df.itertuples():\n",
    "    print(row, row._1, row._2)"
   ]
  },
  {
   "cell_type": "code",
   "execution_count": null,
   "id": "ee2e4bf9-587b-4edf-b4b8-059d064fb39b",
   "metadata": {},
   "outputs": [],
   "source": []
  }
 ],
 "metadata": {
  "kernelspec": {
   "display_name": "Python 3 (ipykernel)",
   "language": "python",
   "name": "python3"
  },
  "language_info": {
   "codemirror_mode": {
    "name": "ipython",
    "version": 3
   },
   "file_extension": ".py",
   "mimetype": "text/x-python",
   "name": "python",
   "nbconvert_exporter": "python",
   "pygments_lexer": "ipython3",
   "version": "3.11.4"
  }
 },
 "nbformat": 4,
 "nbformat_minor": 5
}
