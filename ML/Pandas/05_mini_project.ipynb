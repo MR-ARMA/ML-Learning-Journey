{
 "cells": [
  {
   "cell_type": "markdown",
   "id": "6dd226ae-ed83-4309-9b1b-4e2ad30dbf1b",
   "metadata": {},
   "source": [
    "# <center> <div style=\"width: 370px;\"> ![Exercise](./../Pandas/pictures/Exercise.jpg)"
   ]
  },
  {
   "cell_type": "markdown",
   "id": "0fefad6a-259e-4acf-9523-29e4c85086c6",
   "metadata": {},
   "source": [
    "# <center> DataFrame Mini Project: Predict Gender from Name"
   ]
  },
  {
   "cell_type": "markdown",
   "id": "a81e1015-2342-4727-a80a-82cfce75ab61",
   "metadata": {},
   "source": [
    "In this project we want to generate a fake dataset and predict gender from their names. For example a name like 'Alireza' looks like Male."
   ]
  },
  {
   "cell_type": "markdown",
   "id": "7e949f33-26df-4a77-ba5e-2698297ea608",
   "metadata": {},
   "source": [
    "## Required Libraries"
   ]
  },
  {
   "cell_type": "markdown",
   "id": "92a18b3b-1cf5-4590-bc64-edc1f1680dd6",
   "metadata": {},
   "source": [
    "To do so, we use the following libraries:\n",
    "\n",
    "- `Faker`: To generate fake names\n",
    "- `names-dataset`: To get gender and country info\n",
    "\n",
    "So Let's first install the libraries by running:"
   ]
  },
  {
   "cell_type": "code",
   "execution_count": 1,
   "id": "1183ddf5-d30c-438e-9b7f-d3130fd50362",
   "metadata": {
    "tags": []
   },
   "outputs": [
    {
     "name": "stdout",
     "output_type": "stream",
     "text": [
      "Collecting Faker\n",
      "  Obtaining dependency information for Faker from https://files.pythonhosted.org/packages/73/51/cbc859707aa0fc0ad3819ffb3bdaeee28d10d5ef30150ed9d16691ac3795/Faker-19.6.1-py3-none-any.whl.metadata\n",
      "  Using cached Faker-19.6.1-py3-none-any.whl.metadata (15 kB)\n",
      "Requirement already satisfied: python-dateutil>=2.4 in /home/ali/anaconda3/envs/my_learning/lib/python3.11/site-packages (from Faker) (2.8.2)\n",
      "Requirement already satisfied: six>=1.5 in /home/ali/anaconda3/envs/my_learning/lib/python3.11/site-packages (from python-dateutil>=2.4->Faker) (1.16.0)\n",
      "Using cached Faker-19.6.1-py3-none-any.whl (1.7 MB)\n",
      "Installing collected packages: Faker\n",
      "Successfully installed Faker-19.6.1\n",
      "Collecting names-dataset\n",
      "  Using cached names-dataset-3.1.0.tar.gz (58.4 MB)\n",
      "  Preparing metadata (setup.py) ... \u001b[?25ldone\n",
      "\u001b[?25hCollecting pycountry (from names-dataset)\n",
      "  Using cached pycountry-22.3.5.tar.gz (10.1 MB)\n",
      "  Installing build dependencies ... \u001b[?25ldone\n",
      "\u001b[?25h  Getting requirements to build wheel ... \u001b[?25ldone\n",
      "\u001b[?25h  Preparing metadata (pyproject.toml) ... \u001b[?25ldone\n",
      "\u001b[?25hRequirement already satisfied: setuptools in /home/ali/anaconda3/envs/my_learning/lib/python3.11/site-packages (from pycountry->names-dataset) (68.0.0)\n",
      "Building wheels for collected packages: names-dataset, pycountry\n",
      "  Building wheel for names-dataset (setup.py) ... \u001b[?25ldone\n",
      "\u001b[?25h  Created wheel for names-dataset: filename=names_dataset-3.1.0-py3-none-any.whl size=116832757 sha256=0ca5870ce24c71e0fef2b8c5226fc0b39611bc415c0d10d2437c47bc1e3f14b4\n",
      "  Stored in directory: /home/ali/.cache/pip/wheels/c2/e9/aa/2306c390640835aea9ead91c2deddd1a87a739ab3ee41f5ac4\n",
      "  Building wheel for pycountry (pyproject.toml) ... \u001b[?25ldone\n",
      "\u001b[?25h  Created wheel for pycountry: filename=pycountry-22.3.5-py2.py3-none-any.whl size=10681833 sha256=291b2c8580dce30320e182a3ba30c869df671d94e323cf3521591b4727df76a5\n",
      "  Stored in directory: /home/ali/.cache/pip/wheels/cd/29/8b/617685ed7942656b36efb06ff9247dbe832e3f4f7724fffc09\n",
      "Successfully built names-dataset pycountry\n",
      "Installing collected packages: pycountry, names-dataset\n",
      "Successfully installed names-dataset-3.1.0 pycountry-22.3.5\n"
     ]
    }
   ],
   "source": [
    "!pip install Faker\n",
    "!pip install names-dataset"
   ]
  },
  {
   "cell_type": "code",
   "execution_count": 3,
   "id": "68107450-944d-489d-a577-8d60ff880433",
   "metadata": {
    "tags": []
   },
   "outputs": [],
   "source": [
    "from names_dataset import NameDataset\n",
    "from faker import Faker\n",
    "import numpy as np\n",
    "import pandas as pd"
   ]
  },
  {
   "cell_type": "code",
   "execution_count": 4,
   "id": "0e6456e4-cad7-412a-975a-fad8702ae74a",
   "metadata": {
    "tags": []
   },
   "outputs": [],
   "source": [
    "en_name = Faker()\n",
    "fa_name = Faker('Fa')"
   ]
  },
  {
   "cell_type": "markdown",
   "id": "2fa75403-4549-4c5b-b804-8e8ca40b519b",
   "metadata": {},
   "source": [
    "## Make Fake Name Dataset"
   ]
  },
  {
   "cell_type": "code",
   "execution_count": 5,
   "id": "c3847418-6a29-447d-9291-342555dcc563",
   "metadata": {
    "tags": []
   },
   "outputs": [],
   "source": [
    "def get_name():\n",
    "    rand = np.random.randint(0, 2)\n",
    "    if rand == 0:\n",
    "        return fa_name.name()\n",
    "    return en_name.name()"
   ]
  },
  {
   "cell_type": "code",
   "execution_count": 6,
   "id": "0d5eadcb-376d-4641-be6e-fd15617dcd61",
   "metadata": {
    "tags": []
   },
   "outputs": [],
   "source": [
    "df = pd.DataFrame({'Name': [get_name() for _ in range(10)]})"
   ]
  },
  {
   "cell_type": "code",
   "execution_count": 7,
   "id": "5a208f59-2161-412f-b1ee-175a9e35cf61",
   "metadata": {
    "tags": []
   },
   "outputs": [
    {
     "data": {
      "text/html": [
       "<div>\n",
       "<style scoped>\n",
       "    .dataframe tbody tr th:only-of-type {\n",
       "        vertical-align: middle;\n",
       "    }\n",
       "\n",
       "    .dataframe tbody tr th {\n",
       "        vertical-align: top;\n",
       "    }\n",
       "\n",
       "    .dataframe thead th {\n",
       "        text-align: right;\n",
       "    }\n",
       "</style>\n",
       "<table border=\"1\" class=\"dataframe\">\n",
       "  <thead>\n",
       "    <tr style=\"text-align: right;\">\n",
       "      <th></th>\n",
       "      <th>Name</th>\n",
       "    </tr>\n",
       "  </thead>\n",
       "  <tbody>\n",
       "    <tr>\n",
       "      <th>0</th>\n",
       "      <td>Elizabeth Walsh</td>\n",
       "    </tr>\n",
       "    <tr>\n",
       "      <th>1</th>\n",
       "      <td>الناز پویان</td>\n",
       "    </tr>\n",
       "    <tr>\n",
       "      <th>2</th>\n",
       "      <td>Christine Mercado</td>\n",
       "    </tr>\n",
       "    <tr>\n",
       "      <th>3</th>\n",
       "      <td>Timothy Garcia</td>\n",
       "    </tr>\n",
       "    <tr>\n",
       "      <th>4</th>\n",
       "      <td>Rebecca Davis</td>\n",
       "    </tr>\n",
       "    <tr>\n",
       "      <th>5</th>\n",
       "      <td>معصومه عبدالعلی</td>\n",
       "    </tr>\n",
       "    <tr>\n",
       "      <th>6</th>\n",
       "      <td>جناب آقای علي هاشمی</td>\n",
       "    </tr>\n",
       "    <tr>\n",
       "      <th>7</th>\n",
       "      <td>Leslie Moore</td>\n",
       "    </tr>\n",
       "    <tr>\n",
       "      <th>8</th>\n",
       "      <td>محمدحسین رستمی</td>\n",
       "    </tr>\n",
       "    <tr>\n",
       "      <th>9</th>\n",
       "      <td>Karen Pham</td>\n",
       "    </tr>\n",
       "  </tbody>\n",
       "</table>\n",
       "</div>"
      ],
      "text/plain": [
       "                  Name\n",
       "0      Elizabeth Walsh\n",
       "1          الناز پویان\n",
       "2    Christine Mercado\n",
       "3       Timothy Garcia\n",
       "4        Rebecca Davis\n",
       "5      معصومه عبدالعلی\n",
       "6  جناب آقای علي هاشمی\n",
       "7         Leslie Moore\n",
       "8       محمدحسین رستمی\n",
       "9           Karen Pham"
      ]
     },
     "execution_count": 7,
     "metadata": {},
     "output_type": "execute_result"
    }
   ],
   "source": [
    "df"
   ]
  },
  {
   "cell_type": "code",
   "execution_count": 8,
   "id": "dd57eecd-2399-47ff-b8c9-10fb29aa0542",
   "metadata": {
    "tags": []
   },
   "outputs": [],
   "source": [
    "def real_name(name):\n",
    "    list_name = name.split()\n",
    "    forbidden = ['جناب', 'آقای', 'دکتر', 'سرکار', 'خانم', 'مهندس', 'Dr.']\n",
    "    list_name = [word for word in list_name if word not in forbidden]\n",
    "    return \" \".join(list_name)\n"
   ]
  },
  {
   "cell_type": "code",
   "execution_count": 9,
   "id": "75fce561-d04f-4d12-b638-b935a0a2f2ff",
   "metadata": {
    "tags": []
   },
   "outputs": [],
   "source": [
    "df['first_name'] = df['Name'].apply(lambda full_name: real_name(full_name).split()[0])\n",
    "df['last_name']  = df['Name'].apply(lambda full_name: full_name.split()[-1])"
   ]
  },
  {
   "cell_type": "code",
   "execution_count": 10,
   "id": "391df99c-5724-4646-9733-20ae3d1df779",
   "metadata": {
    "tags": []
   },
   "outputs": [
    {
     "data": {
      "text/html": [
       "<div>\n",
       "<style scoped>\n",
       "    .dataframe tbody tr th:only-of-type {\n",
       "        vertical-align: middle;\n",
       "    }\n",
       "\n",
       "    .dataframe tbody tr th {\n",
       "        vertical-align: top;\n",
       "    }\n",
       "\n",
       "    .dataframe thead th {\n",
       "        text-align: right;\n",
       "    }\n",
       "</style>\n",
       "<table border=\"1\" class=\"dataframe\">\n",
       "  <thead>\n",
       "    <tr style=\"text-align: right;\">\n",
       "      <th></th>\n",
       "      <th>Name</th>\n",
       "      <th>first_name</th>\n",
       "      <th>last_name</th>\n",
       "    </tr>\n",
       "  </thead>\n",
       "  <tbody>\n",
       "    <tr>\n",
       "      <th>0</th>\n",
       "      <td>Elizabeth Walsh</td>\n",
       "      <td>Elizabeth</td>\n",
       "      <td>Walsh</td>\n",
       "    </tr>\n",
       "    <tr>\n",
       "      <th>1</th>\n",
       "      <td>الناز پویان</td>\n",
       "      <td>الناز</td>\n",
       "      <td>پویان</td>\n",
       "    </tr>\n",
       "    <tr>\n",
       "      <th>2</th>\n",
       "      <td>Christine Mercado</td>\n",
       "      <td>Christine</td>\n",
       "      <td>Mercado</td>\n",
       "    </tr>\n",
       "    <tr>\n",
       "      <th>3</th>\n",
       "      <td>Timothy Garcia</td>\n",
       "      <td>Timothy</td>\n",
       "      <td>Garcia</td>\n",
       "    </tr>\n",
       "    <tr>\n",
       "      <th>4</th>\n",
       "      <td>Rebecca Davis</td>\n",
       "      <td>Rebecca</td>\n",
       "      <td>Davis</td>\n",
       "    </tr>\n",
       "    <tr>\n",
       "      <th>5</th>\n",
       "      <td>معصومه عبدالعلی</td>\n",
       "      <td>معصومه</td>\n",
       "      <td>عبدالعلی</td>\n",
       "    </tr>\n",
       "    <tr>\n",
       "      <th>6</th>\n",
       "      <td>جناب آقای علي هاشمی</td>\n",
       "      <td>علي</td>\n",
       "      <td>هاشمی</td>\n",
       "    </tr>\n",
       "    <tr>\n",
       "      <th>7</th>\n",
       "      <td>Leslie Moore</td>\n",
       "      <td>Leslie</td>\n",
       "      <td>Moore</td>\n",
       "    </tr>\n",
       "    <tr>\n",
       "      <th>8</th>\n",
       "      <td>محمدحسین رستمی</td>\n",
       "      <td>محمدحسین</td>\n",
       "      <td>رستمی</td>\n",
       "    </tr>\n",
       "    <tr>\n",
       "      <th>9</th>\n",
       "      <td>Karen Pham</td>\n",
       "      <td>Karen</td>\n",
       "      <td>Pham</td>\n",
       "    </tr>\n",
       "  </tbody>\n",
       "</table>\n",
       "</div>"
      ],
      "text/plain": [
       "                  Name first_name last_name\n",
       "0      Elizabeth Walsh  Elizabeth     Walsh\n",
       "1          الناز پویان      الناز     پویان\n",
       "2    Christine Mercado  Christine   Mercado\n",
       "3       Timothy Garcia    Timothy    Garcia\n",
       "4        Rebecca Davis    Rebecca     Davis\n",
       "5      معصومه عبدالعلی     معصومه  عبدالعلی\n",
       "6  جناب آقای علي هاشمی        علي     هاشمی\n",
       "7         Leslie Moore     Leslie     Moore\n",
       "8       محمدحسین رستمی   محمدحسین     رستمی\n",
       "9           Karen Pham      Karen      Pham"
      ]
     },
     "execution_count": 10,
     "metadata": {},
     "output_type": "execute_result"
    }
   ],
   "source": [
    "df"
   ]
  },
  {
   "cell_type": "markdown",
   "id": "423ebf03-9536-4b00-bbc3-4c8503051b08",
   "metadata": {},
   "source": [
    "## Extract First name and Last name"
   ]
  },
  {
   "cell_type": "markdown",
   "id": "5d14b7b5-6560-490a-8084-9f7319f1db2d",
   "metadata": {},
   "source": [
    "In this section, using the `pandas` library, we check `gender`, `gender probability`, `country` and `country probability`"
   ]
  },
  {
   "cell_type": "markdown",
   "id": "1ac5a538-3400-4c8e-a3d4-70246765b91a",
   "metadata": {},
   "source": [
    "---"
   ]
  },
  {
   "cell_type": "markdown",
   "id": "fd0be5b5-3354-4e73-83c3-2ba45e1752f2",
   "metadata": {},
   "source": [
    "using names dataset you can get gender and country info from a name:"
   ]
  },
  {
   "cell_type": "code",
   "execution_count": 16,
   "id": "1e890faf-25a5-45bf-a47b-c7c38306896b",
   "metadata": {
    "tags": []
   },
   "outputs": [],
   "source": [
    "nd = NameDataset()"
   ]
  },
  {
   "cell_type": "code",
   "execution_count": 22,
   "id": "06fa82ff-64d2-426f-b1dd-6c70d7c8c71b",
   "metadata": {
    "tags": []
   },
   "outputs": [
    {
     "data": {
      "text/plain": [
       "{'first_name': {'country': {'United Arab Emirates': 0.007,\n",
       "   'Afghanistan': 0.008,\n",
       "   'Canada': 0.021,\n",
       "   'Germany': 0.016,\n",
       "   'United Kingdom': 0.01,\n",
       "   'Iran, Islamic Republic of': 0.887,\n",
       "   'Italy': 0.006,\n",
       "   'Netherlands': 0.009,\n",
       "   'Sweden': 0.01,\n",
       "   'United States': 0.026},\n",
       "  'gender': {'Female': 0.02, 'Male': 0.98},\n",
       "  'rank': {'United Arab Emirates': 3654,\n",
       "   'Afghanistan': 259,\n",
       "   'Canada': 653,\n",
       "   'Germany': 1256,\n",
       "   'United Kingdom': 2583,\n",
       "   'Iran, Islamic Republic of': 13,\n",
       "   'Italy': 6458,\n",
       "   'Netherlands': 2024,\n",
       "   'Sweden': 283,\n",
       "   'United States': 4266}},\n",
       " 'last_name': {'country': {'United Arab Emirates': 0.013,\n",
       "   'Belgium': 0.006,\n",
       "   'Bahrain': 0.021,\n",
       "   'Canada': 0.016,\n",
       "   'Germany': 0.018,\n",
       "   'United Kingdom': 0.013,\n",
       "   'Iraq': 0.008,\n",
       "   'Iran, Islamic Republic of': 0.744,\n",
       "   'Saudi Arabia': 0.143,\n",
       "   'United States': 0.018},\n",
       "  'gender': {},\n",
       "  'rank': {'Bahrain': 5587,\n",
       "   'Iran, Islamic Republic of': 547,\n",
       "   'United Arab Emirates': None,\n",
       "   'Belgium': None,\n",
       "   'Canada': None,\n",
       "   'Germany': None,\n",
       "   'United Kingdom': None,\n",
       "   'Iraq': None,\n",
       "   'Saudi Arabia': None,\n",
       "   'United States': None}}}"
      ]
     },
     "execution_count": 22,
     "metadata": {},
     "output_type": "execute_result"
    }
   ],
   "source": [
    "nd.search('Alireza')"
   ]
  },
  {
   "cell_type": "markdown",
   "id": "d39ecb93-fce9-4e10-8e3a-ca0723ce25c8",
   "metadata": {},
   "source": [
    "---"
   ]
  },
  {
   "cell_type": "code",
   "execution_count": 11,
   "id": "54e60ab3-fbfb-49ce-aaf1-9c78a9ee37c8",
   "metadata": {
    "tags": []
   },
   "outputs": [],
   "source": [
    "def get_gender(first_name):\n",
    "    info = nd.search(first_name)['first_name']\n",
    "    if info is None:\n",
    "        return\n",
    "        \n",
    "    return max(info['gender'], key=info['gender'].get)"
   ]
  },
  {
   "cell_type": "code",
   "execution_count": 12,
   "id": "a8ff1ad3-b037-427c-bc74-05c929b0aea1",
   "metadata": {
    "tags": []
   },
   "outputs": [],
   "source": [
    "def get_gender_p(first_name):\n",
    "    info = nd.search(first_name)['first_name']\n",
    "    if info is None:\n",
    "        return\n",
    "\n",
    "    return max(info['gender'].values())"
   ]
  },
  {
   "cell_type": "code",
   "execution_count": 13,
   "id": "6988d2c8-f316-4dec-8317-450542ab4d8d",
   "metadata": {
    "tags": []
   },
   "outputs": [],
   "source": [
    "def get_country(first_name):\n",
    "    info = nd.search(first_name)['first_name']\n",
    "    if info is None:\n",
    "        return\n",
    "\n",
    "    return max(info['country'], key=info['country'].get)"
   ]
  },
  {
   "cell_type": "code",
   "execution_count": 14,
   "id": "4510c3af-591d-438e-b691-57ebc23d50ae",
   "metadata": {
    "tags": []
   },
   "outputs": [],
   "source": [
    "def get_country_p(first_name):\n",
    "    info = nd.search(first_name)['first_name']\n",
    "    if info is None:\n",
    "        return\n",
    "\n",
    "    return max(info['country'].values())"
   ]
  },
  {
   "cell_type": "code",
   "execution_count": 17,
   "id": "ea5928e3-7c74-4a86-8726-525a64da4f53",
   "metadata": {
    "tags": []
   },
   "outputs": [],
   "source": [
    "df['gender'] = df['first_name'].apply(lambda first_name: get_gender(first_name))"
   ]
  },
  {
   "cell_type": "code",
   "execution_count": 18,
   "id": "6d2e5a7b-0e49-414f-99e5-874f43b80c63",
   "metadata": {
    "tags": []
   },
   "outputs": [],
   "source": [
    "df['gender probability'] = df['first_name'].apply(lambda first_name: get_gender_p(first_name))"
   ]
  },
  {
   "cell_type": "code",
   "execution_count": 19,
   "id": "ada7fd7f-f51d-4678-bcc5-dad1e789bf8c",
   "metadata": {
    "tags": []
   },
   "outputs": [],
   "source": [
    "df['country'] = df['first_name'].apply(lambda first_name: get_country(first_name))"
   ]
  },
  {
   "cell_type": "code",
   "execution_count": 20,
   "id": "75ad0de0-4db3-4244-b644-65ff7a8bb15f",
   "metadata": {
    "tags": []
   },
   "outputs": [],
   "source": [
    "df['country probability'] = df['first_name'].apply(lambda first_name: get_country_p(first_name))"
   ]
  },
  {
   "cell_type": "code",
   "execution_count": 21,
   "id": "6878dfed-420f-4245-8612-6bb18a2c3c8f",
   "metadata": {
    "tags": []
   },
   "outputs": [
    {
     "data": {
      "text/html": [
       "<div>\n",
       "<style scoped>\n",
       "    .dataframe tbody tr th:only-of-type {\n",
       "        vertical-align: middle;\n",
       "    }\n",
       "\n",
       "    .dataframe tbody tr th {\n",
       "        vertical-align: top;\n",
       "    }\n",
       "\n",
       "    .dataframe thead th {\n",
       "        text-align: right;\n",
       "    }\n",
       "</style>\n",
       "<table border=\"1\" class=\"dataframe\">\n",
       "  <thead>\n",
       "    <tr style=\"text-align: right;\">\n",
       "      <th></th>\n",
       "      <th>Name</th>\n",
       "      <th>first_name</th>\n",
       "      <th>last_name</th>\n",
       "      <th>gender</th>\n",
       "      <th>gender probability</th>\n",
       "      <th>country</th>\n",
       "      <th>country probability</th>\n",
       "    </tr>\n",
       "  </thead>\n",
       "  <tbody>\n",
       "    <tr>\n",
       "      <th>0</th>\n",
       "      <td>Elizabeth Walsh</td>\n",
       "      <td>Elizabeth</td>\n",
       "      <td>Walsh</td>\n",
       "      <td>Female</td>\n",
       "      <td>0.991</td>\n",
       "      <td>United States</td>\n",
       "      <td>0.324</td>\n",
       "    </tr>\n",
       "    <tr>\n",
       "      <th>1</th>\n",
       "      <td>الناز پویان</td>\n",
       "      <td>الناز</td>\n",
       "      <td>پویان</td>\n",
       "      <td>Female</td>\n",
       "      <td>0.922</td>\n",
       "      <td>Iran, Islamic Republic of</td>\n",
       "      <td>0.753</td>\n",
       "    </tr>\n",
       "    <tr>\n",
       "      <th>2</th>\n",
       "      <td>Christine Mercado</td>\n",
       "      <td>Christine</td>\n",
       "      <td>Mercado</td>\n",
       "      <td>Female</td>\n",
       "      <td>0.994</td>\n",
       "      <td>France</td>\n",
       "      <td>0.383</td>\n",
       "    </tr>\n",
       "    <tr>\n",
       "      <th>3</th>\n",
       "      <td>Timothy Garcia</td>\n",
       "      <td>Timothy</td>\n",
       "      <td>Garcia</td>\n",
       "      <td>Male</td>\n",
       "      <td>0.988</td>\n",
       "      <td>United States</td>\n",
       "      <td>0.530</td>\n",
       "    </tr>\n",
       "    <tr>\n",
       "      <th>4</th>\n",
       "      <td>Rebecca Davis</td>\n",
       "      <td>Rebecca</td>\n",
       "      <td>Davis</td>\n",
       "      <td>Female</td>\n",
       "      <td>0.993</td>\n",
       "      <td>United States</td>\n",
       "      <td>0.327</td>\n",
       "    </tr>\n",
       "    <tr>\n",
       "      <th>5</th>\n",
       "      <td>معصومه عبدالعلی</td>\n",
       "      <td>معصومه</td>\n",
       "      <td>عبدالعلی</td>\n",
       "      <td>Female</td>\n",
       "      <td>0.912</td>\n",
       "      <td>Iraq</td>\n",
       "      <td>0.413</td>\n",
       "    </tr>\n",
       "    <tr>\n",
       "      <th>6</th>\n",
       "      <td>جناب آقای علي هاشمی</td>\n",
       "      <td>علي</td>\n",
       "      <td>هاشمی</td>\n",
       "      <td>Male</td>\n",
       "      <td>0.964</td>\n",
       "      <td>Iraq</td>\n",
       "      <td>0.467</td>\n",
       "    </tr>\n",
       "    <tr>\n",
       "      <th>7</th>\n",
       "      <td>Leslie Moore</td>\n",
       "      <td>Leslie</td>\n",
       "      <td>Moore</td>\n",
       "      <td>Female</td>\n",
       "      <td>0.820</td>\n",
       "      <td>United States</td>\n",
       "      <td>0.519</td>\n",
       "    </tr>\n",
       "    <tr>\n",
       "      <th>8</th>\n",
       "      <td>محمدحسین رستمی</td>\n",
       "      <td>محمدحسین</td>\n",
       "      <td>رستمی</td>\n",
       "      <td>Male</td>\n",
       "      <td>0.969</td>\n",
       "      <td>Iran, Islamic Republic of</td>\n",
       "      <td>0.546</td>\n",
       "    </tr>\n",
       "    <tr>\n",
       "      <th>9</th>\n",
       "      <td>Karen Pham</td>\n",
       "      <td>Karen</td>\n",
       "      <td>Pham</td>\n",
       "      <td>Female</td>\n",
       "      <td>0.981</td>\n",
       "      <td>United States</td>\n",
       "      <td>0.286</td>\n",
       "    </tr>\n",
       "  </tbody>\n",
       "</table>\n",
       "</div>"
      ],
      "text/plain": [
       "                  Name first_name last_name  gender  gender probability  \\\n",
       "0      Elizabeth Walsh  Elizabeth     Walsh  Female               0.991   \n",
       "1          الناز پویان      الناز     پویان  Female               0.922   \n",
       "2    Christine Mercado  Christine   Mercado  Female               0.994   \n",
       "3       Timothy Garcia    Timothy    Garcia    Male               0.988   \n",
       "4        Rebecca Davis    Rebecca     Davis  Female               0.993   \n",
       "5      معصومه عبدالعلی     معصومه  عبدالعلی  Female               0.912   \n",
       "6  جناب آقای علي هاشمی        علي     هاشمی    Male               0.964   \n",
       "7         Leslie Moore     Leslie     Moore  Female               0.820   \n",
       "8       محمدحسین رستمی   محمدحسین     رستمی    Male               0.969   \n",
       "9           Karen Pham      Karen      Pham  Female               0.981   \n",
       "\n",
       "                     country  country probability  \n",
       "0              United States                0.324  \n",
       "1  Iran, Islamic Republic of                0.753  \n",
       "2                     France                0.383  \n",
       "3              United States                0.530  \n",
       "4              United States                0.327  \n",
       "5                       Iraq                0.413  \n",
       "6                       Iraq                0.467  \n",
       "7              United States                0.519  \n",
       "8  Iran, Islamic Republic of                0.546  \n",
       "9              United States                0.286  "
      ]
     },
     "execution_count": 21,
     "metadata": {},
     "output_type": "execute_result"
    }
   ],
   "source": [
    "df"
   ]
  },
  {
   "cell_type": "code",
   "execution_count": null,
   "id": "f62dbae5-19f3-4491-894f-3f6609f204ae",
   "metadata": {},
   "outputs": [],
   "source": []
  }
 ],
 "metadata": {
  "kernelspec": {
   "display_name": "Python 3 (ipykernel)",
   "language": "python",
   "name": "python3"
  },
  "language_info": {
   "codemirror_mode": {
    "name": "ipython",
    "version": 3
   },
   "file_extension": ".py",
   "mimetype": "text/x-python",
   "name": "python",
   "nbconvert_exporter": "python",
   "pygments_lexer": "ipython3",
   "version": "3.11.4"
  }
 },
 "nbformat": 4,
 "nbformat_minor": 5
}
