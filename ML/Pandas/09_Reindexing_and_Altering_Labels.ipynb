{
 "cells": [
  {
   "cell_type": "markdown",
   "id": "8e900c3a-4fd3-4e40-96af-17024822e1c7",
   "metadata": {},
   "source": [
    "# <center><div style=\"width: 370px;\"> ![Panel Data](pictures/Panel_Data.jpg)"
   ]
  },
  {
   "cell_type": "markdown",
   "id": "b18fdce3-8402-4f15-9d8e-86898762cfe8",
   "metadata": {},
   "source": [
    "# <center> Reindexing and Altering Labels"
   ]
  },
  {
   "cell_type": "code",
   "execution_count": 1,
   "id": "025fbc0c-04de-4f41-bdb2-060f2d1280b7",
   "metadata": {
    "tags": []
   },
   "outputs": [],
   "source": [
    "import pandas as pd\n",
    "import numpy as np"
   ]
  },
  {
   "cell_type": "markdown",
   "id": "1a7cd2f0-2563-4308-bf6f-e82ecd5d1cf8",
   "metadata": {},
   "source": [
    "`reindex()` is the fundamental data alignment method in pandas. It is used to implement nearly all other features relying on label-alignment functionality. To reindex means to conform the data to match a given set of labels along a particular axis. This accomplishes several things:"
   ]
  },
  {
   "cell_type": "markdown",
   "id": "8420f1d0-79a2-45b8-9c78-12ce5307986f",
   "metadata": {},
   "source": [
    "Here is a simple example:"
   ]
  },
  {
   "cell_type": "code",
   "execution_count": 3,
   "id": "bc534b79-b95b-4fc2-97a9-4c01ae57e2c6",
   "metadata": {
    "tags": []
   },
   "outputs": [
    {
     "data": {
      "text/plain": [
       "a    0.602508\n",
       "b   -2.022697\n",
       "c   -0.965342\n",
       "d   -0.875651\n",
       "e   -1.415863\n",
       "dtype: float64"
      ]
     },
     "execution_count": 3,
     "metadata": {},
     "output_type": "execute_result"
    }
   ],
   "source": [
    "s = pd.Series(np.random.randn(5), index=list('abcde'))\n",
    "s"
   ]
  },
  {
   "cell_type": "code",
   "execution_count": 6,
   "id": "b5730fd3-969e-44c7-9c87-4c71c3e5a029",
   "metadata": {
    "tags": []
   },
   "outputs": [
    {
     "data": {
      "text/plain": [
       "e   -1.415863\n",
       "b   -2.022697\n",
       "f         NaN\n",
       "d   -0.875651\n",
       "dtype: float64"
      ]
     },
     "execution_count": 6,
     "metadata": {},
     "output_type": "execute_result"
    }
   ],
   "source": [
    "s.reindex(list('ebfd'))"
   ]
  },
  {
   "cell_type": "markdown",
   "id": "3dcdd148-c1be-452c-b5fd-4ed4053c4d41",
   "metadata": {},
   "source": [
    "Here, the `f` label was not contained in the Series and hence appears as `NaN` in the result."
   ]
  },
  {
   "cell_type": "markdown",
   "id": "33c95faf-7f61-482c-a014-d9ac9c308575",
   "metadata": {},
   "source": [
    "With a DataFrame, you can simultaneously reindex the index and columns:"
   ]
  },
  {
   "cell_type": "code",
   "execution_count": 8,
   "id": "d6b8e902-e003-4e22-9f4d-c211b01c9d1f",
   "metadata": {
    "tags": []
   },
   "outputs": [
    {
     "data": {
      "text/html": [
       "<div>\n",
       "<style scoped>\n",
       "    .dataframe tbody tr th:only-of-type {\n",
       "        vertical-align: middle;\n",
       "    }\n",
       "\n",
       "    .dataframe tbody tr th {\n",
       "        vertical-align: top;\n",
       "    }\n",
       "\n",
       "    .dataframe thead th {\n",
       "        text-align: right;\n",
       "    }\n",
       "</style>\n",
       "<table border=\"1\" class=\"dataframe\">\n",
       "  <thead>\n",
       "    <tr style=\"text-align: right;\">\n",
       "      <th></th>\n",
       "      <th>one</th>\n",
       "      <th>two</th>\n",
       "      <th>three</th>\n",
       "    </tr>\n",
       "  </thead>\n",
       "  <tbody>\n",
       "    <tr>\n",
       "      <th>a</th>\n",
       "      <td>-1.121518</td>\n",
       "      <td>-0.295393</td>\n",
       "      <td>NaN</td>\n",
       "    </tr>\n",
       "    <tr>\n",
       "      <th>b</th>\n",
       "      <td>-2.490563</td>\n",
       "      <td>1.647826</td>\n",
       "      <td>-0.002534</td>\n",
       "    </tr>\n",
       "    <tr>\n",
       "      <th>c</th>\n",
       "      <td>0.229646</td>\n",
       "      <td>-0.924086</td>\n",
       "      <td>-1.545136</td>\n",
       "    </tr>\n",
       "    <tr>\n",
       "      <th>d</th>\n",
       "      <td>NaN</td>\n",
       "      <td>-1.158674</td>\n",
       "      <td>-0.105505</td>\n",
       "    </tr>\n",
       "  </tbody>\n",
       "</table>\n",
       "</div>"
      ],
      "text/plain": [
       "        one       two     three\n",
       "a -1.121518 -0.295393       NaN\n",
       "b -2.490563  1.647826 -0.002534\n",
       "c  0.229646 -0.924086 -1.545136\n",
       "d       NaN -1.158674 -0.105505"
      ]
     },
     "execution_count": 8,
     "metadata": {},
     "output_type": "execute_result"
    }
   ],
   "source": [
    "df = pd.DataFrame(\n",
    "    {\n",
    "        \"one\": pd.Series(np.random.randn(3), index=[\"a\", \"b\", \"c\"]),\n",
    "        \"two\": pd.Series(np.random.randn(4), index=[\"a\", \"b\", \"c\", \"d\"]),\n",
    "        \"three\": pd.Series(np.random.randn(3), index=[\"b\", \"c\", \"d\"]),\n",
    "    }\n",
    ")\n",
    "\n",
    "df"
   ]
  },
  {
   "cell_type": "code",
   "execution_count": 9,
   "id": "09360782-43e3-499d-b68e-f33593872cda",
   "metadata": {
    "tags": []
   },
   "outputs": [
    {
     "data": {
      "text/html": [
       "<div>\n",
       "<style scoped>\n",
       "    .dataframe tbody tr th:only-of-type {\n",
       "        vertical-align: middle;\n",
       "    }\n",
       "\n",
       "    .dataframe tbody tr th {\n",
       "        vertical-align: top;\n",
       "    }\n",
       "\n",
       "    .dataframe thead th {\n",
       "        text-align: right;\n",
       "    }\n",
       "</style>\n",
       "<table border=\"1\" class=\"dataframe\">\n",
       "  <thead>\n",
       "    <tr style=\"text-align: right;\">\n",
       "      <th></th>\n",
       "      <th>three</th>\n",
       "      <th>two</th>\n",
       "      <th>one</th>\n",
       "    </tr>\n",
       "  </thead>\n",
       "  <tbody>\n",
       "    <tr>\n",
       "      <th>c</th>\n",
       "      <td>-1.545136</td>\n",
       "      <td>-0.924086</td>\n",
       "      <td>0.229646</td>\n",
       "    </tr>\n",
       "    <tr>\n",
       "      <th>f</th>\n",
       "      <td>NaN</td>\n",
       "      <td>NaN</td>\n",
       "      <td>NaN</td>\n",
       "    </tr>\n",
       "    <tr>\n",
       "      <th>b</th>\n",
       "      <td>-0.002534</td>\n",
       "      <td>1.647826</td>\n",
       "      <td>-2.490563</td>\n",
       "    </tr>\n",
       "  </tbody>\n",
       "</table>\n",
       "</div>"
      ],
      "text/plain": [
       "      three       two       one\n",
       "c -1.545136 -0.924086  0.229646\n",
       "f       NaN       NaN       NaN\n",
       "b -0.002534  1.647826 -2.490563"
      ]
     },
     "execution_count": 9,
     "metadata": {},
     "output_type": "execute_result"
    }
   ],
   "source": [
    "df.reindex(index=[\"c\", \"f\", \"b\"], columns=[\"three\", \"two\", \"one\"])"
   ]
  },
  {
   "cell_type": "markdown",
   "id": "2ca61653-980d-4da4-a6f8-5e49414c7f69",
   "metadata": {},
   "source": [
    "You may also use `reindex` with an `axis` keyword:"
   ]
  },
  {
   "cell_type": "code",
   "execution_count": 10,
   "id": "f1864b64-e72d-4d40-b96e-f2e303400eaf",
   "metadata": {
    "tags": []
   },
   "outputs": [
    {
     "data": {
      "text/html": [
       "<div>\n",
       "<style scoped>\n",
       "    .dataframe tbody tr th:only-of-type {\n",
       "        vertical-align: middle;\n",
       "    }\n",
       "\n",
       "    .dataframe tbody tr th {\n",
       "        vertical-align: top;\n",
       "    }\n",
       "\n",
       "    .dataframe thead th {\n",
       "        text-align: right;\n",
       "    }\n",
       "</style>\n",
       "<table border=\"1\" class=\"dataframe\">\n",
       "  <thead>\n",
       "    <tr style=\"text-align: right;\">\n",
       "      <th></th>\n",
       "      <th>one</th>\n",
       "      <th>two</th>\n",
       "      <th>three</th>\n",
       "    </tr>\n",
       "  </thead>\n",
       "  <tbody>\n",
       "    <tr>\n",
       "      <th>c</th>\n",
       "      <td>0.229646</td>\n",
       "      <td>-0.924086</td>\n",
       "      <td>-1.545136</td>\n",
       "    </tr>\n",
       "    <tr>\n",
       "      <th>f</th>\n",
       "      <td>NaN</td>\n",
       "      <td>NaN</td>\n",
       "      <td>NaN</td>\n",
       "    </tr>\n",
       "    <tr>\n",
       "      <th>b</th>\n",
       "      <td>-2.490563</td>\n",
       "      <td>1.647826</td>\n",
       "      <td>-0.002534</td>\n",
       "    </tr>\n",
       "  </tbody>\n",
       "</table>\n",
       "</div>"
      ],
      "text/plain": [
       "        one       two     three\n",
       "c  0.229646 -0.924086 -1.545136\n",
       "f       NaN       NaN       NaN\n",
       "b -2.490563  1.647826 -0.002534"
      ]
     },
     "execution_count": 10,
     "metadata": {},
     "output_type": "execute_result"
    }
   ],
   "source": [
    "df.reindex([\"c\", \"f\", \"b\"], axis=\"index\")"
   ]
  },
  {
   "cell_type": "markdown",
   "id": "1df9ba57-0160-4a57-8db2-47e9101cd5fd",
   "metadata": {},
   "source": [
    "> Note that the `Index` objects containing the actual axis labels can be ***shared*** between objects. So if we have a Series and a DataFrame, the following can be done:"
   ]
  },
  {
   "cell_type": "code",
   "execution_count": 11,
   "id": "6b69061f-fa96-4261-b4cd-71b8429a1aab",
   "metadata": {
    "tags": []
   },
   "outputs": [],
   "source": [
    "rs = s.reindex(df.index)"
   ]
  },
  {
   "cell_type": "code",
   "execution_count": 12,
   "id": "668518f5-6c19-41b1-bf42-a0aed506630e",
   "metadata": {
    "tags": []
   },
   "outputs": [
    {
     "data": {
      "text/plain": [
       "a    0.602508\n",
       "b   -2.022697\n",
       "c   -0.965342\n",
       "d   -0.875651\n",
       "dtype: float64"
      ]
     },
     "execution_count": 12,
     "metadata": {},
     "output_type": "execute_result"
    }
   ],
   "source": [
    "rs"
   ]
  },
  {
   "cell_type": "code",
   "execution_count": 13,
   "id": "90d4f6f0-0e5e-4720-9d3a-946201e1c589",
   "metadata": {
    "tags": []
   },
   "outputs": [
    {
     "data": {
      "text/plain": [
       "True"
      ]
     },
     "execution_count": 13,
     "metadata": {},
     "output_type": "execute_result"
    }
   ],
   "source": [
    "rs.index is df.index"
   ]
  },
  {
   "cell_type": "markdown",
   "id": "bdfa734c-f141-41c0-87b0-1b89df554dcc",
   "metadata": {},
   "source": [
    "This means that the reindexed Series’s index is the same Python object as the DataFrame’s index."
   ]
  },
  {
   "cell_type": "markdown",
   "id": "e3561011-13e1-499c-a298-20277bf780f4",
   "metadata": {},
   "source": [
    "`DataFrame.reindex()` also supports an “axis-style” calling convention, where you specify a single `labels` argument and the `axis` it applies to."
   ]
  },
  {
   "cell_type": "code",
   "execution_count": 14,
   "id": "b06f64eb-2d7e-487d-a6d0-34dd5c1dd173",
   "metadata": {
    "tags": []
   },
   "outputs": [
    {
     "data": {
      "text/html": [
       "<div>\n",
       "<style scoped>\n",
       "    .dataframe tbody tr th:only-of-type {\n",
       "        vertical-align: middle;\n",
       "    }\n",
       "\n",
       "    .dataframe tbody tr th {\n",
       "        vertical-align: top;\n",
       "    }\n",
       "\n",
       "    .dataframe thead th {\n",
       "        text-align: right;\n",
       "    }\n",
       "</style>\n",
       "<table border=\"1\" class=\"dataframe\">\n",
       "  <thead>\n",
       "    <tr style=\"text-align: right;\">\n",
       "      <th></th>\n",
       "      <th>one</th>\n",
       "      <th>two</th>\n",
       "      <th>three</th>\n",
       "    </tr>\n",
       "  </thead>\n",
       "  <tbody>\n",
       "    <tr>\n",
       "      <th>c</th>\n",
       "      <td>0.229646</td>\n",
       "      <td>-0.924086</td>\n",
       "      <td>-1.545136</td>\n",
       "    </tr>\n",
       "    <tr>\n",
       "      <th>f</th>\n",
       "      <td>NaN</td>\n",
       "      <td>NaN</td>\n",
       "      <td>NaN</td>\n",
       "    </tr>\n",
       "    <tr>\n",
       "      <th>b</th>\n",
       "      <td>-2.490563</td>\n",
       "      <td>1.647826</td>\n",
       "      <td>-0.002534</td>\n",
       "    </tr>\n",
       "  </tbody>\n",
       "</table>\n",
       "</div>"
      ],
      "text/plain": [
       "        one       two     three\n",
       "c  0.229646 -0.924086 -1.545136\n",
       "f       NaN       NaN       NaN\n",
       "b -2.490563  1.647826 -0.002534"
      ]
     },
     "execution_count": 14,
     "metadata": {},
     "output_type": "execute_result"
    }
   ],
   "source": [
    "df.reindex([\"c\", \"f\", \"b\"], axis=\"index\")"
   ]
  },
  {
   "cell_type": "code",
   "execution_count": 15,
   "id": "0cf6701a-727c-462d-a85f-ad84ed0f7668",
   "metadata": {
    "tags": []
   },
   "outputs": [
    {
     "data": {
      "text/html": [
       "<div>\n",
       "<style scoped>\n",
       "    .dataframe tbody tr th:only-of-type {\n",
       "        vertical-align: middle;\n",
       "    }\n",
       "\n",
       "    .dataframe tbody tr th {\n",
       "        vertical-align: top;\n",
       "    }\n",
       "\n",
       "    .dataframe thead th {\n",
       "        text-align: right;\n",
       "    }\n",
       "</style>\n",
       "<table border=\"1\" class=\"dataframe\">\n",
       "  <thead>\n",
       "    <tr style=\"text-align: right;\">\n",
       "      <th></th>\n",
       "      <th>three</th>\n",
       "      <th>two</th>\n",
       "      <th>one</th>\n",
       "    </tr>\n",
       "  </thead>\n",
       "  <tbody>\n",
       "    <tr>\n",
       "      <th>a</th>\n",
       "      <td>NaN</td>\n",
       "      <td>-0.295393</td>\n",
       "      <td>-1.121518</td>\n",
       "    </tr>\n",
       "    <tr>\n",
       "      <th>b</th>\n",
       "      <td>-0.002534</td>\n",
       "      <td>1.647826</td>\n",
       "      <td>-2.490563</td>\n",
       "    </tr>\n",
       "    <tr>\n",
       "      <th>c</th>\n",
       "      <td>-1.545136</td>\n",
       "      <td>-0.924086</td>\n",
       "      <td>0.229646</td>\n",
       "    </tr>\n",
       "    <tr>\n",
       "      <th>d</th>\n",
       "      <td>-0.105505</td>\n",
       "      <td>-1.158674</td>\n",
       "      <td>NaN</td>\n",
       "    </tr>\n",
       "  </tbody>\n",
       "</table>\n",
       "</div>"
      ],
      "text/plain": [
       "      three       two       one\n",
       "a       NaN -0.295393 -1.121518\n",
       "b -0.002534  1.647826 -2.490563\n",
       "c -1.545136 -0.924086  0.229646\n",
       "d -0.105505 -1.158674       NaN"
      ]
     },
     "execution_count": 15,
     "metadata": {},
     "output_type": "execute_result"
    }
   ],
   "source": [
    "df.reindex([\"three\", \"two\", \"one\"], axis=\"columns\")"
   ]
  },
  {
   "cell_type": "markdown",
   "id": "4aa94e0b-7e04-4c61-a5dd-ad1af68fe52c",
   "metadata": {},
   "source": [
    "> See also:\n",
    "> \n",
    "> [MultiIndex / Advanced Indexing](https://pandas.pydata.org/docs/user_guide/advanced.html#advanced) is an even more concise way of\n",
    "doing reindexing."
   ]
  },
  {
   "cell_type": "markdown",
   "id": "3a2322ff-e3d1-4b0b-8643-bb1f70aa9c99",
   "metadata": {},
   "source": [
    "> Note\n",
    ">\n",
    "> When writing performance-sensitive code, there is a good reason to spend\n",
    "some time becoming a reindexing ninja: **many operations are faster on\n",
    "pre-aligned data**. Adding two unaligned DataFrames internally triggers a\n",
    "reindexing step. For exploratory analysis you will hardly notice the\n",
    "difference (because `reindex` has been heavily optimized), but when CPU\n",
    "cycles matter sprinkling a few explicit `reindex` calls here and there can\n",
    "have an impact."
   ]
  },
  {
   "cell_type": "markdown",
   "id": "49e91aa7-9617-436b-afb6-35e78d42b682",
   "metadata": {},
   "source": [
    "## Reindexing to align with another object"
   ]
  },
  {
   "cell_type": "markdown",
   "id": "29a7b697-8c77-4c6e-a13e-9a0acaa60e34",
   "metadata": {},
   "source": [
    "You may wish to take an object and reindex its axes to be labeled the same as\n",
    "another object. While the syntax for this is straightforward albeit verbose, it\n",
    "is a common enough operation that the `reindex_like` method is\n",
    "available to make this simpler:"
   ]
  },
  {
   "cell_type": "code",
   "execution_count": 16,
   "id": "81ca2105-88e7-40a7-9458-7bb11dba6bfe",
   "metadata": {
    "tags": []
   },
   "outputs": [
    {
     "data": {
      "text/html": [
       "<div>\n",
       "<style scoped>\n",
       "    .dataframe tbody tr th:only-of-type {\n",
       "        vertical-align: middle;\n",
       "    }\n",
       "\n",
       "    .dataframe tbody tr th {\n",
       "        vertical-align: top;\n",
       "    }\n",
       "\n",
       "    .dataframe thead th {\n",
       "        text-align: right;\n",
       "    }\n",
       "</style>\n",
       "<table border=\"1\" class=\"dataframe\">\n",
       "  <thead>\n",
       "    <tr style=\"text-align: right;\">\n",
       "      <th></th>\n",
       "      <th>one</th>\n",
       "      <th>two</th>\n",
       "      <th>three</th>\n",
       "    </tr>\n",
       "  </thead>\n",
       "  <tbody>\n",
       "    <tr>\n",
       "      <th>a</th>\n",
       "      <td>-1.121518</td>\n",
       "      <td>-0.295393</td>\n",
       "      <td>NaN</td>\n",
       "    </tr>\n",
       "    <tr>\n",
       "      <th>b</th>\n",
       "      <td>-2.490563</td>\n",
       "      <td>1.647826</td>\n",
       "      <td>-0.002534</td>\n",
       "    </tr>\n",
       "    <tr>\n",
       "      <th>c</th>\n",
       "      <td>0.229646</td>\n",
       "      <td>-0.924086</td>\n",
       "      <td>-1.545136</td>\n",
       "    </tr>\n",
       "    <tr>\n",
       "      <th>d</th>\n",
       "      <td>NaN</td>\n",
       "      <td>-1.158674</td>\n",
       "      <td>-0.105505</td>\n",
       "    </tr>\n",
       "  </tbody>\n",
       "</table>\n",
       "</div>"
      ],
      "text/plain": [
       "        one       two     three\n",
       "a -1.121518 -0.295393       NaN\n",
       "b -2.490563  1.647826 -0.002534\n",
       "c  0.229646 -0.924086 -1.545136\n",
       "d       NaN -1.158674 -0.105505"
      ]
     },
     "execution_count": 16,
     "metadata": {},
     "output_type": "execute_result"
    }
   ],
   "source": [
    "df"
   ]
  },
  {
   "cell_type": "code",
   "execution_count": 17,
   "id": "c0505d05-2b8a-444f-86ae-595c72f1b019",
   "metadata": {
    "tags": []
   },
   "outputs": [],
   "source": [
    "df2 = df.reindex(index=['c', 'b', 'e', 'f'], columns=['one'])"
   ]
  },
  {
   "cell_type": "code",
   "execution_count": 18,
   "id": "9d3df239-b6af-443e-8595-04500bc29533",
   "metadata": {
    "tags": []
   },
   "outputs": [
    {
     "data": {
      "text/html": [
       "<div>\n",
       "<style scoped>\n",
       "    .dataframe tbody tr th:only-of-type {\n",
       "        vertical-align: middle;\n",
       "    }\n",
       "\n",
       "    .dataframe tbody tr th {\n",
       "        vertical-align: top;\n",
       "    }\n",
       "\n",
       "    .dataframe thead th {\n",
       "        text-align: right;\n",
       "    }\n",
       "</style>\n",
       "<table border=\"1\" class=\"dataframe\">\n",
       "  <thead>\n",
       "    <tr style=\"text-align: right;\">\n",
       "      <th></th>\n",
       "      <th>one</th>\n",
       "    </tr>\n",
       "  </thead>\n",
       "  <tbody>\n",
       "    <tr>\n",
       "      <th>c</th>\n",
       "      <td>0.229646</td>\n",
       "    </tr>\n",
       "    <tr>\n",
       "      <th>b</th>\n",
       "      <td>-2.490563</td>\n",
       "    </tr>\n",
       "    <tr>\n",
       "      <th>e</th>\n",
       "      <td>NaN</td>\n",
       "    </tr>\n",
       "    <tr>\n",
       "      <th>f</th>\n",
       "      <td>NaN</td>\n",
       "    </tr>\n",
       "  </tbody>\n",
       "</table>\n",
       "</div>"
      ],
      "text/plain": [
       "        one\n",
       "c  0.229646\n",
       "b -2.490563\n",
       "e       NaN\n",
       "f       NaN"
      ]
     },
     "execution_count": 18,
     "metadata": {},
     "output_type": "execute_result"
    }
   ],
   "source": [
    "df2"
   ]
  },
  {
   "cell_type": "code",
   "execution_count": 19,
   "id": "99502ac7-47b0-4605-a6c5-5031873d3579",
   "metadata": {
    "tags": []
   },
   "outputs": [
    {
     "data": {
      "text/html": [
       "<div>\n",
       "<style scoped>\n",
       "    .dataframe tbody tr th:only-of-type {\n",
       "        vertical-align: middle;\n",
       "    }\n",
       "\n",
       "    .dataframe tbody tr th {\n",
       "        vertical-align: top;\n",
       "    }\n",
       "\n",
       "    .dataframe thead th {\n",
       "        text-align: right;\n",
       "    }\n",
       "</style>\n",
       "<table border=\"1\" class=\"dataframe\">\n",
       "  <thead>\n",
       "    <tr style=\"text-align: right;\">\n",
       "      <th></th>\n",
       "      <th>one</th>\n",
       "    </tr>\n",
       "  </thead>\n",
       "  <tbody>\n",
       "    <tr>\n",
       "      <th>c</th>\n",
       "      <td>0.229646</td>\n",
       "    </tr>\n",
       "    <tr>\n",
       "      <th>b</th>\n",
       "      <td>-2.490563</td>\n",
       "    </tr>\n",
       "    <tr>\n",
       "      <th>e</th>\n",
       "      <td>NaN</td>\n",
       "    </tr>\n",
       "    <tr>\n",
       "      <th>f</th>\n",
       "      <td>NaN</td>\n",
       "    </tr>\n",
       "  </tbody>\n",
       "</table>\n",
       "</div>"
      ],
      "text/plain": [
       "        one\n",
       "c  0.229646\n",
       "b -2.490563\n",
       "e       NaN\n",
       "f       NaN"
      ]
     },
     "execution_count": 19,
     "metadata": {},
     "output_type": "execute_result"
    }
   ],
   "source": [
    "df.reindex_like(df2)"
   ]
  },
  {
   "cell_type": "markdown",
   "id": "11c89d7f-fa8d-448f-86b6-b088d9e8d782",
   "metadata": {},
   "source": [
    "## Aligning objects with each other with "
   ]
  },
  {
   "cell_type": "markdown",
   "id": "cc4fb242-2a1c-4711-be9d-c1694d59a7d6",
   "metadata": {},
   "source": [
    "The `align()` method is the fastest way to simultaneously align two objects. It supports a `join` argument (related to joining and merging which will be covered later):"
   ]
  },
  {
   "cell_type": "markdown",
   "id": "b43558cd-986e-4e45-9fec-9e9e5c668049",
   "metadata": {},
   "source": [
    "# <center><div style=\"width: 370px;\"> ![Panel Data](pictures/types-of-joins.png)"
   ]
  },
  {
   "cell_type": "markdown",
   "id": "d7c32921-7f92-490c-a28f-6fb205587763",
   "metadata": {},
   "source": [
    "> \n",
    "> * `join='outer'`: take the union of the indexes (default)\n",
    "> * `join='left'`: use the calling object’s index\n",
    "> * `join='right'`: use the passed object’s index\n",
    "> * `join='inner'`: intersect the indexes\n",
    "> \n",
    "> \n",
    ">"
   ]
  },
  {
   "cell_type": "markdown",
   "id": "fd44812c-8c7f-43cd-be59-e5504156659a",
   "metadata": {},
   "source": [
    "It returns a tuple with both of the reindexed Series:"
   ]
  },
  {
   "cell_type": "markdown",
   "id": "95cdd3ba-a9d0-434a-a556-08c81674ec83",
   "metadata": {},
   "source": [
    "s = pd.Series(np.random.randn(5), index=[\"a\", \"b\", \"c\", \"d\", \"e\"])"
   ]
  },
  {
   "cell_type": "code",
   "execution_count": 20,
   "id": "25b8d248-3d3b-4dad-9262-2472d090398f",
   "metadata": {
    "tags": []
   },
   "outputs": [
    {
     "data": {
      "text/plain": [
       "a    0.602508\n",
       "b   -2.022697\n",
       "c   -0.965342\n",
       "d   -0.875651\n",
       "dtype: float64"
      ]
     },
     "execution_count": 20,
     "metadata": {},
     "output_type": "execute_result"
    }
   ],
   "source": [
    "s1 = s[:4]\n",
    "s1"
   ]
  },
  {
   "cell_type": "code",
   "execution_count": 21,
   "id": "10299896-6a0c-49b1-8f98-f02542cecef9",
   "metadata": {
    "tags": []
   },
   "outputs": [
    {
     "data": {
      "text/plain": [
       "b   -2.022697\n",
       "c   -0.965342\n",
       "d   -0.875651\n",
       "e   -1.415863\n",
       "dtype: float64"
      ]
     },
     "execution_count": 21,
     "metadata": {},
     "output_type": "execute_result"
    }
   ],
   "source": [
    "s2 = s[1:]\n",
    "s2"
   ]
  },
  {
   "cell_type": "code",
   "execution_count": 22,
   "id": "66f08671-da2a-4c6f-a228-d12b08d24485",
   "metadata": {
    "tags": []
   },
   "outputs": [
    {
     "data": {
      "text/plain": [
       "(a    0.602508\n",
       " b   -2.022697\n",
       " c   -0.965342\n",
       " d   -0.875651\n",
       " e         NaN\n",
       " dtype: float64,\n",
       " a         NaN\n",
       " b   -2.022697\n",
       " c   -0.965342\n",
       " d   -0.875651\n",
       " e   -1.415863\n",
       " dtype: float64)"
      ]
     },
     "execution_count": 22,
     "metadata": {},
     "output_type": "execute_result"
    }
   ],
   "source": [
    "s1.align(s2)"
   ]
  },
  {
   "cell_type": "code",
   "execution_count": 23,
   "id": "f6300696-73e0-4684-971b-2c2061b4d799",
   "metadata": {
    "tags": []
   },
   "outputs": [
    {
     "data": {
      "text/plain": [
       "(b   -2.022697\n",
       " c   -0.965342\n",
       " d   -0.875651\n",
       " dtype: float64,\n",
       " b   -2.022697\n",
       " c   -0.965342\n",
       " d   -0.875651\n",
       " dtype: float64)"
      ]
     },
     "execution_count": 23,
     "metadata": {},
     "output_type": "execute_result"
    }
   ],
   "source": [
    "s1.align(s2, join=\"inner\")"
   ]
  },
  {
   "cell_type": "code",
   "execution_count": 24,
   "id": "fc9d66bd-b123-4737-9a36-cb8e2eee06de",
   "metadata": {
    "tags": []
   },
   "outputs": [
    {
     "data": {
      "text/plain": [
       "(a    0.602508\n",
       " b   -2.022697\n",
       " c   -0.965342\n",
       " d   -0.875651\n",
       " dtype: float64,\n",
       " a         NaN\n",
       " b   -2.022697\n",
       " c   -0.965342\n",
       " d   -0.875651\n",
       " dtype: float64)"
      ]
     },
     "execution_count": 24,
     "metadata": {},
     "output_type": "execute_result"
    }
   ],
   "source": [
    "s1.align(s2, join=\"left\")"
   ]
  },
  {
   "cell_type": "markdown",
   "id": "c0958614-8183-48ad-93b9-a0b0162836ee",
   "metadata": {},
   "source": [
    "For DataFrames, the join method will be applied to both the index and the\n",
    "columns by default:"
   ]
  },
  {
   "cell_type": "code",
   "execution_count": 25,
   "id": "922c7668-012d-4f17-bb81-e5a303b053d2",
   "metadata": {
    "tags": []
   },
   "outputs": [
    {
     "data": {
      "text/html": [
       "<div>\n",
       "<style scoped>\n",
       "    .dataframe tbody tr th:only-of-type {\n",
       "        vertical-align: middle;\n",
       "    }\n",
       "\n",
       "    .dataframe tbody tr th {\n",
       "        vertical-align: top;\n",
       "    }\n",
       "\n",
       "    .dataframe thead th {\n",
       "        text-align: right;\n",
       "    }\n",
       "</style>\n",
       "<table border=\"1\" class=\"dataframe\">\n",
       "  <thead>\n",
       "    <tr style=\"text-align: right;\">\n",
       "      <th></th>\n",
       "      <th>one</th>\n",
       "      <th>two</th>\n",
       "      <th>three</th>\n",
       "    </tr>\n",
       "  </thead>\n",
       "  <tbody>\n",
       "    <tr>\n",
       "      <th>a</th>\n",
       "      <td>-1.121518</td>\n",
       "      <td>-0.295393</td>\n",
       "      <td>NaN</td>\n",
       "    </tr>\n",
       "    <tr>\n",
       "      <th>b</th>\n",
       "      <td>-2.490563</td>\n",
       "      <td>1.647826</td>\n",
       "      <td>-0.002534</td>\n",
       "    </tr>\n",
       "    <tr>\n",
       "      <th>c</th>\n",
       "      <td>0.229646</td>\n",
       "      <td>-0.924086</td>\n",
       "      <td>-1.545136</td>\n",
       "    </tr>\n",
       "    <tr>\n",
       "      <th>d</th>\n",
       "      <td>NaN</td>\n",
       "      <td>-1.158674</td>\n",
       "      <td>-0.105505</td>\n",
       "    </tr>\n",
       "  </tbody>\n",
       "</table>\n",
       "</div>"
      ],
      "text/plain": [
       "        one       two     three\n",
       "a -1.121518 -0.295393       NaN\n",
       "b -2.490563  1.647826 -0.002534\n",
       "c  0.229646 -0.924086 -1.545136\n",
       "d       NaN -1.158674 -0.105505"
      ]
     },
     "execution_count": 25,
     "metadata": {},
     "output_type": "execute_result"
    }
   ],
   "source": [
    "df"
   ]
  },
  {
   "cell_type": "code",
   "execution_count": 26,
   "id": "028af831-2202-49cd-a056-331ba3d6e91c",
   "metadata": {
    "tags": []
   },
   "outputs": [
    {
     "data": {
      "text/html": [
       "<div>\n",
       "<style scoped>\n",
       "    .dataframe tbody tr th:only-of-type {\n",
       "        vertical-align: middle;\n",
       "    }\n",
       "\n",
       "    .dataframe tbody tr th {\n",
       "        vertical-align: top;\n",
       "    }\n",
       "\n",
       "    .dataframe thead th {\n",
       "        text-align: right;\n",
       "    }\n",
       "</style>\n",
       "<table border=\"1\" class=\"dataframe\">\n",
       "  <thead>\n",
       "    <tr style=\"text-align: right;\">\n",
       "      <th></th>\n",
       "      <th>one</th>\n",
       "    </tr>\n",
       "  </thead>\n",
       "  <tbody>\n",
       "    <tr>\n",
       "      <th>c</th>\n",
       "      <td>0.229646</td>\n",
       "    </tr>\n",
       "    <tr>\n",
       "      <th>b</th>\n",
       "      <td>-2.490563</td>\n",
       "    </tr>\n",
       "    <tr>\n",
       "      <th>e</th>\n",
       "      <td>NaN</td>\n",
       "    </tr>\n",
       "    <tr>\n",
       "      <th>f</th>\n",
       "      <td>NaN</td>\n",
       "    </tr>\n",
       "  </tbody>\n",
       "</table>\n",
       "</div>"
      ],
      "text/plain": [
       "        one\n",
       "c  0.229646\n",
       "b -2.490563\n",
       "e       NaN\n",
       "f       NaN"
      ]
     },
     "execution_count": 26,
     "metadata": {},
     "output_type": "execute_result"
    }
   ],
   "source": [
    "df2"
   ]
  },
  {
   "cell_type": "code",
   "execution_count": 27,
   "id": "b21cce6a-e9cb-4a3c-ac48-ed13a23c3d0e",
   "metadata": {
    "tags": []
   },
   "outputs": [
    {
     "data": {
      "text/plain": [
       "(        one\n",
       " b -2.490563\n",
       " c  0.229646,\n",
       "         one\n",
       " b -2.490563\n",
       " c  0.229646)"
      ]
     },
     "execution_count": 27,
     "metadata": {},
     "output_type": "execute_result"
    }
   ],
   "source": [
    "df.align(df2, join=\"inner\")"
   ]
  },
  {
   "cell_type": "markdown",
   "id": "cf1f2c55-7412-44e2-a116-51003ae4f310",
   "metadata": {},
   "source": [
    "You can also pass an `axis` option to only align on the specified axis:"
   ]
  },
  {
   "cell_type": "code",
   "execution_count": 28,
   "id": "4760b437-649b-4228-814d-9e119495da36",
   "metadata": {
    "tags": []
   },
   "outputs": [
    {
     "data": {
      "text/plain": [
       "(        one       two     three\n",
       " b -2.490563  1.647826 -0.002534\n",
       " c  0.229646 -0.924086 -1.545136,\n",
       "         one\n",
       " b -2.490563\n",
       " c  0.229646)"
      ]
     },
     "execution_count": 28,
     "metadata": {},
     "output_type": "execute_result"
    }
   ],
   "source": [
    "df.align(df2, join=\"inner\", axis=0)"
   ]
  },
  {
   "cell_type": "markdown",
   "id": "e4a8eb71-0c12-48e4-a160-ac857d34e72f",
   "metadata": {},
   "source": [
    "If you pass a Series to `DataFrame.align()`, you can choose to align both\n",
    "objects either on the DataFrame’s index or columns using the `axis` argument:"
   ]
  },
  {
   "cell_type": "code",
   "execution_count": 29,
   "id": "3307c117-7184-4078-a5a7-1182a9700ce6",
   "metadata": {
    "tags": []
   },
   "outputs": [
    {
     "data": {
      "text/html": [
       "<div>\n",
       "<style scoped>\n",
       "    .dataframe tbody tr th:only-of-type {\n",
       "        vertical-align: middle;\n",
       "    }\n",
       "\n",
       "    .dataframe tbody tr th {\n",
       "        vertical-align: top;\n",
       "    }\n",
       "\n",
       "    .dataframe thead th {\n",
       "        text-align: right;\n",
       "    }\n",
       "</style>\n",
       "<table border=\"1\" class=\"dataframe\">\n",
       "  <thead>\n",
       "    <tr style=\"text-align: right;\">\n",
       "      <th></th>\n",
       "      <th>one</th>\n",
       "      <th>two</th>\n",
       "      <th>three</th>\n",
       "    </tr>\n",
       "  </thead>\n",
       "  <tbody>\n",
       "    <tr>\n",
       "      <th>a</th>\n",
       "      <td>-1.121518</td>\n",
       "      <td>-0.295393</td>\n",
       "      <td>NaN</td>\n",
       "    </tr>\n",
       "    <tr>\n",
       "      <th>b</th>\n",
       "      <td>-2.490563</td>\n",
       "      <td>1.647826</td>\n",
       "      <td>-0.002534</td>\n",
       "    </tr>\n",
       "    <tr>\n",
       "      <th>c</th>\n",
       "      <td>0.229646</td>\n",
       "      <td>-0.924086</td>\n",
       "      <td>-1.545136</td>\n",
       "    </tr>\n",
       "    <tr>\n",
       "      <th>d</th>\n",
       "      <td>NaN</td>\n",
       "      <td>-1.158674</td>\n",
       "      <td>-0.105505</td>\n",
       "    </tr>\n",
       "  </tbody>\n",
       "</table>\n",
       "</div>"
      ],
      "text/plain": [
       "        one       two     three\n",
       "a -1.121518 -0.295393       NaN\n",
       "b -2.490563  1.647826 -0.002534\n",
       "c  0.229646 -0.924086 -1.545136\n",
       "d       NaN -1.158674 -0.105505"
      ]
     },
     "execution_count": 29,
     "metadata": {},
     "output_type": "execute_result"
    }
   ],
   "source": [
    "df"
   ]
  },
  {
   "cell_type": "code",
   "execution_count": 30,
   "id": "c108f85e-49e2-4388-b954-ea08348c902d",
   "metadata": {
    "tags": []
   },
   "outputs": [
    {
     "data": {
      "text/html": [
       "<div>\n",
       "<style scoped>\n",
       "    .dataframe tbody tr th:only-of-type {\n",
       "        vertical-align: middle;\n",
       "    }\n",
       "\n",
       "    .dataframe tbody tr th {\n",
       "        vertical-align: top;\n",
       "    }\n",
       "\n",
       "    .dataframe thead th {\n",
       "        text-align: right;\n",
       "    }\n",
       "</style>\n",
       "<table border=\"1\" class=\"dataframe\">\n",
       "  <thead>\n",
       "    <tr style=\"text-align: right;\">\n",
       "      <th></th>\n",
       "      <th>one</th>\n",
       "    </tr>\n",
       "  </thead>\n",
       "  <tbody>\n",
       "    <tr>\n",
       "      <th>c</th>\n",
       "      <td>0.229646</td>\n",
       "    </tr>\n",
       "    <tr>\n",
       "      <th>b</th>\n",
       "      <td>-2.490563</td>\n",
       "    </tr>\n",
       "    <tr>\n",
       "      <th>e</th>\n",
       "      <td>NaN</td>\n",
       "    </tr>\n",
       "    <tr>\n",
       "      <th>f</th>\n",
       "      <td>NaN</td>\n",
       "    </tr>\n",
       "  </tbody>\n",
       "</table>\n",
       "</div>"
      ],
      "text/plain": [
       "        one\n",
       "c  0.229646\n",
       "b -2.490563\n",
       "e       NaN\n",
       "f       NaN"
      ]
     },
     "execution_count": 30,
     "metadata": {},
     "output_type": "execute_result"
    }
   ],
   "source": [
    "df2"
   ]
  },
  {
   "cell_type": "code",
   "execution_count": 31,
   "id": "fa7c61ec-bda5-4a13-b833-9771cb12a47d",
   "metadata": {
    "tags": []
   },
   "outputs": [
    {
     "data": {
      "text/plain": [
       "(        one     three       two\n",
       " a -1.121518       NaN -0.295393\n",
       " b -2.490563 -0.002534  1.647826\n",
       " c  0.229646 -1.545136 -0.924086\n",
       " d       NaN -0.105505 -1.158674,\n",
       " one      0.229646\n",
       " three         NaN\n",
       " two           NaN\n",
       " Name: c, dtype: float64)"
      ]
     },
     "execution_count": 31,
     "metadata": {},
     "output_type": "execute_result"
    }
   ],
   "source": [
    "df.align(df2.iloc[0], axis=1)"
   ]
  },
  {
   "cell_type": "markdown",
   "id": "2b6498b3-05c8-42c6-8388-42008978d712",
   "metadata": {},
   "source": [
    "## Filling while reindexing"
   ]
  },
  {
   "cell_type": "markdown",
   "id": "e6ce2e7b-839e-4e7f-9e8d-82ea1d9287d5",
   "metadata": {},
   "source": [
    "`reindex()` takes an optional parameter `method` which is a\n",
    "filling method chosen from the following table:"
   ]
  },
  {
   "cell_type": "markdown",
   "id": "9392df81-e7df-44cd-bd99-425e6a9f857b",
   "metadata": {},
   "source": [
    "We illustrate these fill methods on a simple Series:"
   ]
  },
  {
   "cell_type": "code",
   "execution_count": 34,
   "id": "75df3c67-a65b-44d3-9b01-55abe33b9bea",
   "metadata": {
    "tags": []
   },
   "outputs": [],
   "source": [
    "rng = pd.date_range(\"1/3/2000\", periods=8)"
   ]
  },
  {
   "cell_type": "code",
   "execution_count": 35,
   "id": "b741196f-a535-4e9c-9429-bf987f313e53",
   "metadata": {
    "tags": []
   },
   "outputs": [],
   "source": [
    "ts = pd.Series(np.random.randn(8), index=rng)"
   ]
  },
  {
   "cell_type": "code",
   "execution_count": 42,
   "id": "765b300b-4c9b-4faa-af22-1a50f2dba4d1",
   "metadata": {
    "tags": []
   },
   "outputs": [],
   "source": [
    "ts2 = ts.iloc[[0, 3, 6]]"
   ]
  },
  {
   "cell_type": "code",
   "execution_count": 43,
   "id": "9447ff1e-b7ee-405b-bffd-7ea2af88d429",
   "metadata": {
    "tags": []
   },
   "outputs": [
    {
     "data": {
      "text/plain": [
       "2000-01-03   -0.935042\n",
       "2000-01-04    0.087726\n",
       "2000-01-05   -0.799389\n",
       "2000-01-06   -0.441159\n",
       "2000-01-07   -0.358319\n",
       "2000-01-08    0.334735\n",
       "2000-01-09    0.472108\n",
       "2000-01-10    1.686189\n",
       "Freq: D, dtype: float64"
      ]
     },
     "execution_count": 43,
     "metadata": {},
     "output_type": "execute_result"
    }
   ],
   "source": [
    "ts"
   ]
  },
  {
   "cell_type": "code",
   "execution_count": 44,
   "id": "083f2d89-1206-47e4-b111-ae05e3d321aa",
   "metadata": {
    "tags": []
   },
   "outputs": [
    {
     "data": {
      "text/plain": [
       "2000-01-03   -0.935042\n",
       "2000-01-06   -0.441159\n",
       "2000-01-09    0.472108\n",
       "Freq: 3D, dtype: float64"
      ]
     },
     "execution_count": 44,
     "metadata": {},
     "output_type": "execute_result"
    }
   ],
   "source": [
    "ts2"
   ]
  },
  {
   "cell_type": "code",
   "execution_count": 45,
   "id": "f0274008-f691-454c-a24a-c1e613b35442",
   "metadata": {
    "tags": []
   },
   "outputs": [
    {
     "data": {
      "text/plain": [
       "2000-01-03   -0.935042\n",
       "2000-01-04         NaN\n",
       "2000-01-05         NaN\n",
       "2000-01-06   -0.441159\n",
       "2000-01-07         NaN\n",
       "2000-01-08         NaN\n",
       "2000-01-09    0.472108\n",
       "2000-01-10         NaN\n",
       "Freq: D, dtype: float64"
      ]
     },
     "execution_count": 45,
     "metadata": {},
     "output_type": "execute_result"
    }
   ],
   "source": [
    "ts2.reindex(ts.index)"
   ]
  },
  {
   "cell_type": "code",
   "execution_count": 46,
   "id": "32843b0b-9918-4474-8487-93a2e58bedf4",
   "metadata": {
    "tags": []
   },
   "outputs": [
    {
     "data": {
      "text/plain": [
       "2000-01-03   -0.935042\n",
       "2000-01-04   -0.935042\n",
       "2000-01-05   -0.935042\n",
       "2000-01-06   -0.441159\n",
       "2000-01-07   -0.441159\n",
       "2000-01-08   -0.441159\n",
       "2000-01-09    0.472108\n",
       "2000-01-10    0.472108\n",
       "Freq: D, dtype: float64"
      ]
     },
     "execution_count": 46,
     "metadata": {},
     "output_type": "execute_result"
    }
   ],
   "source": [
    "ts2.reindex(ts.index, method=\"ffill\")"
   ]
  },
  {
   "cell_type": "code",
   "execution_count": 47,
   "id": "161f9465-f9f7-4bf7-8602-f9b779677244",
   "metadata": {
    "tags": []
   },
   "outputs": [
    {
     "data": {
      "text/plain": [
       "2000-01-03   -0.935042\n",
       "2000-01-04   -0.441159\n",
       "2000-01-05   -0.441159\n",
       "2000-01-06   -0.441159\n",
       "2000-01-07    0.472108\n",
       "2000-01-08    0.472108\n",
       "2000-01-09    0.472108\n",
       "2000-01-10         NaN\n",
       "Freq: D, dtype: float64"
      ]
     },
     "execution_count": 47,
     "metadata": {},
     "output_type": "execute_result"
    }
   ],
   "source": [
    "ts2.reindex(ts.index, method=\"bfill\")"
   ]
  },
  {
   "cell_type": "code",
   "execution_count": 48,
   "id": "aff85622-1c01-4ff5-bb5b-a7c4219a0c94",
   "metadata": {
    "tags": []
   },
   "outputs": [
    {
     "data": {
      "text/plain": [
       "2000-01-03   -0.935042\n",
       "2000-01-04   -0.935042\n",
       "2000-01-05   -0.441159\n",
       "2000-01-06   -0.441159\n",
       "2000-01-07   -0.441159\n",
       "2000-01-08    0.472108\n",
       "2000-01-09    0.472108\n",
       "2000-01-10    0.472108\n",
       "Freq: D, dtype: float64"
      ]
     },
     "execution_count": 48,
     "metadata": {},
     "output_type": "execute_result"
    }
   ],
   "source": [
    "ts2.reindex(ts.index, method=\"nearest\")"
   ]
  },
  {
   "cell_type": "markdown",
   "id": "9236675a-0726-4cdc-a142-fc6106a4551f",
   "metadata": {},
   "source": [
    "These methods require that the indexes are **ordered** increasing or\n",
    "decreasing."
   ]
  },
  {
   "cell_type": "markdown",
   "id": "4bf25333-7e95-4dd2-8794-6f32b061fc1f",
   "metadata": {},
   "source": [
    "Note that the same result could have been achieved using\n",
    "fillna (except for `method='nearest'`) or\n",
    "interpolate:"
   ]
  },
  {
   "cell_type": "code",
   "execution_count": null,
   "id": "f00b4046-f279-44a5-9cae-5d13848f9eb2",
   "metadata": {},
   "outputs": [],
   "source": [
    "ts2.reindex(ts.index).fillna(method=\"ffill\")"
   ]
  },
  {
   "cell_type": "markdown",
   "id": "62eadd59-d3d3-49ae-9dc7-698ccd1d1f1c",
   "metadata": {},
   "source": [
    "`reindex()` will raise a ValueError if the index is not monotonically\n",
    "increasing or decreasing. `fillna()` and `interpolate()`\n",
    "will not perform any checks on the order of the index."
   ]
  },
  {
   "cell_type": "markdown",
   "id": "273f0a80-5440-46ff-af70-a49a8aedb24d",
   "metadata": {},
   "source": [
    "## Limits on filling while reindexing"
   ]
  },
  {
   "cell_type": "markdown",
   "id": "5ec70d8a-e67e-40c6-b97a-fef23d4d0022",
   "metadata": {},
   "source": [
    "The `limit` and `tolerance` arguments provide additional control over\n",
    "filling while reindexing. Limit specifies the maximum count of consecutive\n",
    "matches:"
   ]
  },
  {
   "cell_type": "code",
   "execution_count": 49,
   "id": "425cf951-293f-4ea2-8a54-d6316be71242",
   "metadata": {
    "tags": []
   },
   "outputs": [
    {
     "data": {
      "text/plain": [
       "2000-01-03   -0.935042\n",
       "2000-01-04   -0.935042\n",
       "2000-01-05         NaN\n",
       "2000-01-06   -0.441159\n",
       "2000-01-07   -0.441159\n",
       "2000-01-08         NaN\n",
       "2000-01-09    0.472108\n",
       "2000-01-10    0.472108\n",
       "Freq: D, dtype: float64"
      ]
     },
     "execution_count": 49,
     "metadata": {},
     "output_type": "execute_result"
    }
   ],
   "source": [
    "ts2.reindex(ts.index, method=\"ffill\", limit=1)"
   ]
  },
  {
   "cell_type": "markdown",
   "id": "fd1018d9-6c0e-432a-884f-2fe8e3403a06",
   "metadata": {},
   "source": [
    "In contrast, tolerance specifies the maximum distance between the index and\n",
    "indexer values:"
   ]
  },
  {
   "cell_type": "code",
   "execution_count": 50,
   "id": "3447307e-ef36-4dcd-aca7-e710173131b4",
   "metadata": {
    "tags": []
   },
   "outputs": [
    {
     "data": {
      "text/plain": [
       "2000-01-03   -0.935042\n",
       "2000-01-04   -0.935042\n",
       "2000-01-05         NaN\n",
       "2000-01-06   -0.441159\n",
       "2000-01-07   -0.441159\n",
       "2000-01-08         NaN\n",
       "2000-01-09    0.472108\n",
       "2000-01-10    0.472108\n",
       "Freq: D, dtype: float64"
      ]
     },
     "execution_count": 50,
     "metadata": {},
     "output_type": "execute_result"
    }
   ],
   "source": [
    "ts2.reindex(ts.index, method=\"ffill\", tolerance=\"1 day\")"
   ]
  },
  {
   "cell_type": "markdown",
   "id": "bc74c2b6-eac1-4bce-a044-9fc2a59ef7a3",
   "metadata": {},
   "source": [
    "Notice that when used on a `DatetimeIndex`, `TimedeltaIndex` or\n",
    "`PeriodIndex`, `tolerance` will coerced into a `Timedelta` if possible.\n",
    "This allows you to specify tolerance with appropriate strings."
   ]
  },
  {
   "cell_type": "markdown",
   "id": "e85a5b1e-0740-4b43-ba2c-1aee7836500f",
   "metadata": {},
   "source": [
    "## Dropping labels from an axis"
   ]
  },
  {
   "cell_type": "markdown",
   "id": "08709078-7645-4afa-9289-d0e896711673",
   "metadata": {},
   "source": [
    "A method closely related to `reindex` is the `drop()` function.\n",
    "It removes a set of labels from an axis:"
   ]
  },
  {
   "cell_type": "code",
   "execution_count": 51,
   "id": "bd967c42-f3b9-4c55-9007-78d7ab63128f",
   "metadata": {
    "tags": []
   },
   "outputs": [
    {
     "data": {
      "text/html": [
       "<div>\n",
       "<style scoped>\n",
       "    .dataframe tbody tr th:only-of-type {\n",
       "        vertical-align: middle;\n",
       "    }\n",
       "\n",
       "    .dataframe tbody tr th {\n",
       "        vertical-align: top;\n",
       "    }\n",
       "\n",
       "    .dataframe thead th {\n",
       "        text-align: right;\n",
       "    }\n",
       "</style>\n",
       "<table border=\"1\" class=\"dataframe\">\n",
       "  <thead>\n",
       "    <tr style=\"text-align: right;\">\n",
       "      <th></th>\n",
       "      <th>one</th>\n",
       "      <th>two</th>\n",
       "      <th>three</th>\n",
       "    </tr>\n",
       "  </thead>\n",
       "  <tbody>\n",
       "    <tr>\n",
       "      <th>a</th>\n",
       "      <td>-1.121518</td>\n",
       "      <td>-0.295393</td>\n",
       "      <td>NaN</td>\n",
       "    </tr>\n",
       "    <tr>\n",
       "      <th>b</th>\n",
       "      <td>-2.490563</td>\n",
       "      <td>1.647826</td>\n",
       "      <td>-0.002534</td>\n",
       "    </tr>\n",
       "    <tr>\n",
       "      <th>c</th>\n",
       "      <td>0.229646</td>\n",
       "      <td>-0.924086</td>\n",
       "      <td>-1.545136</td>\n",
       "    </tr>\n",
       "    <tr>\n",
       "      <th>d</th>\n",
       "      <td>NaN</td>\n",
       "      <td>-1.158674</td>\n",
       "      <td>-0.105505</td>\n",
       "    </tr>\n",
       "  </tbody>\n",
       "</table>\n",
       "</div>"
      ],
      "text/plain": [
       "        one       two     three\n",
       "a -1.121518 -0.295393       NaN\n",
       "b -2.490563  1.647826 -0.002534\n",
       "c  0.229646 -0.924086 -1.545136\n",
       "d       NaN -1.158674 -0.105505"
      ]
     },
     "execution_count": 51,
     "metadata": {},
     "output_type": "execute_result"
    }
   ],
   "source": [
    "df"
   ]
  },
  {
   "cell_type": "code",
   "execution_count": 52,
   "id": "667dbe32-e249-414a-9aeb-36761eaa8eef",
   "metadata": {
    "tags": []
   },
   "outputs": [
    {
     "data": {
      "text/html": [
       "<div>\n",
       "<style scoped>\n",
       "    .dataframe tbody tr th:only-of-type {\n",
       "        vertical-align: middle;\n",
       "    }\n",
       "\n",
       "    .dataframe tbody tr th {\n",
       "        vertical-align: top;\n",
       "    }\n",
       "\n",
       "    .dataframe thead th {\n",
       "        text-align: right;\n",
       "    }\n",
       "</style>\n",
       "<table border=\"1\" class=\"dataframe\">\n",
       "  <thead>\n",
       "    <tr style=\"text-align: right;\">\n",
       "      <th></th>\n",
       "      <th>one</th>\n",
       "      <th>two</th>\n",
       "      <th>three</th>\n",
       "    </tr>\n",
       "  </thead>\n",
       "  <tbody>\n",
       "    <tr>\n",
       "      <th>b</th>\n",
       "      <td>-2.490563</td>\n",
       "      <td>1.647826</td>\n",
       "      <td>-0.002534</td>\n",
       "    </tr>\n",
       "    <tr>\n",
       "      <th>c</th>\n",
       "      <td>0.229646</td>\n",
       "      <td>-0.924086</td>\n",
       "      <td>-1.545136</td>\n",
       "    </tr>\n",
       "  </tbody>\n",
       "</table>\n",
       "</div>"
      ],
      "text/plain": [
       "        one       two     three\n",
       "b -2.490563  1.647826 -0.002534\n",
       "c  0.229646 -0.924086 -1.545136"
      ]
     },
     "execution_count": 52,
     "metadata": {},
     "output_type": "execute_result"
    }
   ],
   "source": [
    "df.drop([\"a\", \"d\"], axis=0)"
   ]
  },
  {
   "cell_type": "code",
   "execution_count": 53,
   "id": "f05b9c94-3b64-47ba-8faa-184ee34423ed",
   "metadata": {
    "tags": []
   },
   "outputs": [
    {
     "data": {
      "text/html": [
       "<div>\n",
       "<style scoped>\n",
       "    .dataframe tbody tr th:only-of-type {\n",
       "        vertical-align: middle;\n",
       "    }\n",
       "\n",
       "    .dataframe tbody tr th {\n",
       "        vertical-align: top;\n",
       "    }\n",
       "\n",
       "    .dataframe thead th {\n",
       "        text-align: right;\n",
       "    }\n",
       "</style>\n",
       "<table border=\"1\" class=\"dataframe\">\n",
       "  <thead>\n",
       "    <tr style=\"text-align: right;\">\n",
       "      <th></th>\n",
       "      <th>two</th>\n",
       "      <th>three</th>\n",
       "    </tr>\n",
       "  </thead>\n",
       "  <tbody>\n",
       "    <tr>\n",
       "      <th>a</th>\n",
       "      <td>-0.295393</td>\n",
       "      <td>NaN</td>\n",
       "    </tr>\n",
       "    <tr>\n",
       "      <th>b</th>\n",
       "      <td>1.647826</td>\n",
       "      <td>-0.002534</td>\n",
       "    </tr>\n",
       "    <tr>\n",
       "      <th>c</th>\n",
       "      <td>-0.924086</td>\n",
       "      <td>-1.545136</td>\n",
       "    </tr>\n",
       "    <tr>\n",
       "      <th>d</th>\n",
       "      <td>-1.158674</td>\n",
       "      <td>-0.105505</td>\n",
       "    </tr>\n",
       "  </tbody>\n",
       "</table>\n",
       "</div>"
      ],
      "text/plain": [
       "        two     three\n",
       "a -0.295393       NaN\n",
       "b  1.647826 -0.002534\n",
       "c -0.924086 -1.545136\n",
       "d -1.158674 -0.105505"
      ]
     },
     "execution_count": 53,
     "metadata": {},
     "output_type": "execute_result"
    }
   ],
   "source": [
    "df.drop([\"one\"], axis=1)"
   ]
  },
  {
   "cell_type": "markdown",
   "id": "e907ab9e-aa82-478f-99da-7f23534f684c",
   "metadata": {},
   "source": [
    "## Renaming / mapping labels"
   ]
  },
  {
   "cell_type": "markdown",
   "id": "02eaffcf-9463-4cd5-9ae2-f8f997691614",
   "metadata": {},
   "source": [
    "The `rename()` method allows you to relabel an axis based on some\n",
    "mapping (a dict or Series) or an arbitrary function."
   ]
  },
  {
   "cell_type": "code",
   "execution_count": 54,
   "id": "8f518b11-8b04-4148-a2ed-db9188ce9f9c",
   "metadata": {
    "tags": []
   },
   "outputs": [
    {
     "data": {
      "text/plain": [
       "a    0.602508\n",
       "b   -2.022697\n",
       "c   -0.965342\n",
       "d   -0.875651\n",
       "e   -1.415863\n",
       "dtype: float64"
      ]
     },
     "execution_count": 54,
     "metadata": {},
     "output_type": "execute_result"
    }
   ],
   "source": [
    "s"
   ]
  },
  {
   "cell_type": "code",
   "execution_count": 55,
   "id": "3655a961-44b9-429a-981e-88e9cf933bcf",
   "metadata": {
    "tags": []
   },
   "outputs": [
    {
     "data": {
      "text/plain": [
       "A    0.602508\n",
       "B   -2.022697\n",
       "C   -0.965342\n",
       "D   -0.875651\n",
       "E   -1.415863\n",
       "dtype: float64"
      ]
     },
     "execution_count": 55,
     "metadata": {},
     "output_type": "execute_result"
    }
   ],
   "source": [
    "s.rename(str.upper)"
   ]
  },
  {
   "cell_type": "markdown",
   "id": "50ce188e-4583-42aa-8c62-4caedae8ca24",
   "metadata": {
    "tags": []
   },
   "source": [
    "If you pass a function, it must return a value when called with any of the\n",
    "labels (and must produce a set of unique values). A dict or\n",
    "Series can also be used:"
   ]
  },
  {
   "cell_type": "code",
   "execution_count": 57,
   "id": "9b145514-b602-46f5-a897-874739d9cc2e",
   "metadata": {
    "tags": []
   },
   "outputs": [
    {
     "data": {
      "text/html": [
       "<div>\n",
       "<style scoped>\n",
       "    .dataframe tbody tr th:only-of-type {\n",
       "        vertical-align: middle;\n",
       "    }\n",
       "\n",
       "    .dataframe tbody tr th {\n",
       "        vertical-align: top;\n",
       "    }\n",
       "\n",
       "    .dataframe thead th {\n",
       "        text-align: right;\n",
       "    }\n",
       "</style>\n",
       "<table border=\"1\" class=\"dataframe\">\n",
       "  <thead>\n",
       "    <tr style=\"text-align: right;\">\n",
       "      <th></th>\n",
       "      <th>foo</th>\n",
       "      <th>bar</th>\n",
       "      <th>three</th>\n",
       "    </tr>\n",
       "  </thead>\n",
       "  <tbody>\n",
       "    <tr>\n",
       "      <th>apple</th>\n",
       "      <td>-1.121518</td>\n",
       "      <td>-0.295393</td>\n",
       "      <td>NaN</td>\n",
       "    </tr>\n",
       "    <tr>\n",
       "      <th>banana</th>\n",
       "      <td>-2.490563</td>\n",
       "      <td>1.647826</td>\n",
       "      <td>-0.002534</td>\n",
       "    </tr>\n",
       "    <tr>\n",
       "      <th>c</th>\n",
       "      <td>0.229646</td>\n",
       "      <td>-0.924086</td>\n",
       "      <td>-1.545136</td>\n",
       "    </tr>\n",
       "    <tr>\n",
       "      <th>durian</th>\n",
       "      <td>NaN</td>\n",
       "      <td>-1.158674</td>\n",
       "      <td>-0.105505</td>\n",
       "    </tr>\n",
       "  </tbody>\n",
       "</table>\n",
       "</div>"
      ],
      "text/plain": [
       "             foo       bar     three\n",
       "apple  -1.121518 -0.295393       NaN\n",
       "banana -2.490563  1.647826 -0.002534\n",
       "c       0.229646 -0.924086 -1.545136\n",
       "durian       NaN -1.158674 -0.105505"
      ]
     },
     "execution_count": 57,
     "metadata": {},
     "output_type": "execute_result"
    }
   ],
   "source": [
    "df.rename(\n",
    "    columns={\"one\": \"foo\", \"two\": \"bar\"},\n",
    "    index={\"a\": \"apple\", \"b\": \"banana\", \"d\": \"durian\"},\n",
    ")"
   ]
  },
  {
   "cell_type": "markdown",
   "id": "d33aa095-e110-4ce9-8a57-a4ebbc320140",
   "metadata": {
    "tags": []
   },
   "source": [
    "If the mapping doesn’t include a column/index label, it isn’t renamed. Note that\n",
    "extra labels in the mapping don’t throw an error."
   ]
  },
  {
   "cell_type": "markdown",
   "id": "00dd7c49-7791-47db-bf5e-0c48811bc69e",
   "metadata": {},
   "source": [
    "`DataFrame.rename()` also supports an “axis-style” calling convention, where\n",
    "you specify a single `mapper` and the `axis` to apply that mapping to."
   ]
  },
  {
   "cell_type": "code",
   "execution_count": 59,
   "id": "617f317d-0ec8-4b0a-896b-cf39573d13c7",
   "metadata": {
    "tags": []
   },
   "outputs": [
    {
     "data": {
      "text/html": [
       "<div>\n",
       "<style scoped>\n",
       "    .dataframe tbody tr th:only-of-type {\n",
       "        vertical-align: middle;\n",
       "    }\n",
       "\n",
       "    .dataframe tbody tr th {\n",
       "        vertical-align: top;\n",
       "    }\n",
       "\n",
       "    .dataframe thead th {\n",
       "        text-align: right;\n",
       "    }\n",
       "</style>\n",
       "<table border=\"1\" class=\"dataframe\">\n",
       "  <thead>\n",
       "    <tr style=\"text-align: right;\">\n",
       "      <th></th>\n",
       "      <th>foo</th>\n",
       "      <th>bar</th>\n",
       "      <th>three</th>\n",
       "    </tr>\n",
       "  </thead>\n",
       "  <tbody>\n",
       "    <tr>\n",
       "      <th>a</th>\n",
       "      <td>-1.121518</td>\n",
       "      <td>-0.295393</td>\n",
       "      <td>NaN</td>\n",
       "    </tr>\n",
       "    <tr>\n",
       "      <th>b</th>\n",
       "      <td>-2.490563</td>\n",
       "      <td>1.647826</td>\n",
       "      <td>-0.002534</td>\n",
       "    </tr>\n",
       "    <tr>\n",
       "      <th>c</th>\n",
       "      <td>0.229646</td>\n",
       "      <td>-0.924086</td>\n",
       "      <td>-1.545136</td>\n",
       "    </tr>\n",
       "    <tr>\n",
       "      <th>d</th>\n",
       "      <td>NaN</td>\n",
       "      <td>-1.158674</td>\n",
       "      <td>-0.105505</td>\n",
       "    </tr>\n",
       "  </tbody>\n",
       "</table>\n",
       "</div>"
      ],
      "text/plain": [
       "        foo       bar     three\n",
       "a -1.121518 -0.295393       NaN\n",
       "b -2.490563  1.647826 -0.002534\n",
       "c  0.229646 -0.924086 -1.545136\n",
       "d       NaN -1.158674 -0.105505"
      ]
     },
     "execution_count": 59,
     "metadata": {},
     "output_type": "execute_result"
    }
   ],
   "source": [
    "df.rename({\"one\": \"foo\", \"two\": \"bar\"}, axis=\"columns\")"
   ]
  },
  {
   "cell_type": "code",
   "execution_count": 60,
   "id": "f387cb9c-bd4c-4cb5-b59f-77a6d5c25a67",
   "metadata": {
    "tags": []
   },
   "outputs": [
    {
     "data": {
      "text/html": [
       "<div>\n",
       "<style scoped>\n",
       "    .dataframe tbody tr th:only-of-type {\n",
       "        vertical-align: middle;\n",
       "    }\n",
       "\n",
       "    .dataframe tbody tr th {\n",
       "        vertical-align: top;\n",
       "    }\n",
       "\n",
       "    .dataframe thead th {\n",
       "        text-align: right;\n",
       "    }\n",
       "</style>\n",
       "<table border=\"1\" class=\"dataframe\">\n",
       "  <thead>\n",
       "    <tr style=\"text-align: right;\">\n",
       "      <th></th>\n",
       "      <th>one</th>\n",
       "      <th>two</th>\n",
       "      <th>three</th>\n",
       "    </tr>\n",
       "  </thead>\n",
       "  <tbody>\n",
       "    <tr>\n",
       "      <th>apple</th>\n",
       "      <td>-1.121518</td>\n",
       "      <td>-0.295393</td>\n",
       "      <td>NaN</td>\n",
       "    </tr>\n",
       "    <tr>\n",
       "      <th>banana</th>\n",
       "      <td>-2.490563</td>\n",
       "      <td>1.647826</td>\n",
       "      <td>-0.002534</td>\n",
       "    </tr>\n",
       "    <tr>\n",
       "      <th>c</th>\n",
       "      <td>0.229646</td>\n",
       "      <td>-0.924086</td>\n",
       "      <td>-1.545136</td>\n",
       "    </tr>\n",
       "    <tr>\n",
       "      <th>durian</th>\n",
       "      <td>NaN</td>\n",
       "      <td>-1.158674</td>\n",
       "      <td>-0.105505</td>\n",
       "    </tr>\n",
       "  </tbody>\n",
       "</table>\n",
       "</div>"
      ],
      "text/plain": [
       "             one       two     three\n",
       "apple  -1.121518 -0.295393       NaN\n",
       "banana -2.490563  1.647826 -0.002534\n",
       "c       0.229646 -0.924086 -1.545136\n",
       "durian       NaN -1.158674 -0.105505"
      ]
     },
     "execution_count": 60,
     "metadata": {},
     "output_type": "execute_result"
    }
   ],
   "source": [
    "df.rename({\"a\": \"apple\", \"b\": \"banana\", \"d\": \"durian\"}, axis=\"index\")"
   ]
  },
  {
   "cell_type": "markdown",
   "id": "fddc6364-3f45-4907-8663-1832823afa80",
   "metadata": {},
   "source": [
    "The `rename()` method also provides an `inplace` named\n",
    "parameter that is by default `False` and copies the underlying data. Pass\n",
    "`inplace=True` to rename the data in place."
   ]
  },
  {
   "cell_type": "markdown",
   "id": "c8a96b0b-abbe-41c0-957c-addc07f73351",
   "metadata": {},
   "source": [
    "Finally, `rename()` also accepts a scalar or list-like\n",
    "for altering the `Series.name` attribute."
   ]
  },
  {
   "cell_type": "code",
   "execution_count": 61,
   "id": "3aa05e68-56b2-4a56-b55e-c023f5c7b536",
   "metadata": {
    "tags": []
   },
   "outputs": [
    {
     "data": {
      "text/plain": [
       "a    0.602508\n",
       "b   -2.022697\n",
       "c   -0.965342\n",
       "d   -0.875651\n",
       "e   -1.415863\n",
       "Name: scalar-name, dtype: float64"
      ]
     },
     "execution_count": 61,
     "metadata": {},
     "output_type": "execute_result"
    }
   ],
   "source": [
    "s.rename(\"scalar-name\")"
   ]
  },
  {
   "cell_type": "markdown",
   "id": "3374114c-8264-47c8-b686-c6c4f9a95dd3",
   "metadata": {},
   "source": [
    "The methods `DataFrame.rename_axis()` and `Series.rename_axis()`\n",
    "allow specific names of a `MultiIndex` to be changed (as opposed to the\n",
    "labels)."
   ]
  },
  {
   "cell_type": "code",
   "execution_count": 62,
   "id": "3567e26d-8010-4f6f-948f-b1377519b520",
   "metadata": {
    "tags": []
   },
   "outputs": [],
   "source": [
    "df = pd.DataFrame(\n",
    "    {\"x\": [1, 2, 3, 4, 5, 6], \"y\": [10, 20, 30, 40, 50, 60]},\n",
    "    index=pd.MultiIndex.from_product(\n",
    "        [[\"a\", \"b\", \"c\"], [1, 2]], names=[\"let\", \"num\"]\n",
    "    ),\n",
    ")"
   ]
  },
  {
   "cell_type": "code",
   "execution_count": 63,
   "id": "885346d0-da43-43bf-99b1-4981d471114c",
   "metadata": {
    "tags": []
   },
   "outputs": [
    {
     "data": {
      "text/html": [
       "<div>\n",
       "<style scoped>\n",
       "    .dataframe tbody tr th:only-of-type {\n",
       "        vertical-align: middle;\n",
       "    }\n",
       "\n",
       "    .dataframe tbody tr th {\n",
       "        vertical-align: top;\n",
       "    }\n",
       "\n",
       "    .dataframe thead th {\n",
       "        text-align: right;\n",
       "    }\n",
       "</style>\n",
       "<table border=\"1\" class=\"dataframe\">\n",
       "  <thead>\n",
       "    <tr style=\"text-align: right;\">\n",
       "      <th></th>\n",
       "      <th></th>\n",
       "      <th>x</th>\n",
       "      <th>y</th>\n",
       "    </tr>\n",
       "    <tr>\n",
       "      <th>let</th>\n",
       "      <th>num</th>\n",
       "      <th></th>\n",
       "      <th></th>\n",
       "    </tr>\n",
       "  </thead>\n",
       "  <tbody>\n",
       "    <tr>\n",
       "      <th rowspan=\"2\" valign=\"top\">a</th>\n",
       "      <th>1</th>\n",
       "      <td>1</td>\n",
       "      <td>10</td>\n",
       "    </tr>\n",
       "    <tr>\n",
       "      <th>2</th>\n",
       "      <td>2</td>\n",
       "      <td>20</td>\n",
       "    </tr>\n",
       "    <tr>\n",
       "      <th rowspan=\"2\" valign=\"top\">b</th>\n",
       "      <th>1</th>\n",
       "      <td>3</td>\n",
       "      <td>30</td>\n",
       "    </tr>\n",
       "    <tr>\n",
       "      <th>2</th>\n",
       "      <td>4</td>\n",
       "      <td>40</td>\n",
       "    </tr>\n",
       "    <tr>\n",
       "      <th rowspan=\"2\" valign=\"top\">c</th>\n",
       "      <th>1</th>\n",
       "      <td>5</td>\n",
       "      <td>50</td>\n",
       "    </tr>\n",
       "    <tr>\n",
       "      <th>2</th>\n",
       "      <td>6</td>\n",
       "      <td>60</td>\n",
       "    </tr>\n",
       "  </tbody>\n",
       "</table>\n",
       "</div>"
      ],
      "text/plain": [
       "         x   y\n",
       "let num       \n",
       "a   1    1  10\n",
       "    2    2  20\n",
       "b   1    3  30\n",
       "    2    4  40\n",
       "c   1    5  50\n",
       "    2    6  60"
      ]
     },
     "execution_count": 63,
     "metadata": {},
     "output_type": "execute_result"
    }
   ],
   "source": [
    "df"
   ]
  },
  {
   "cell_type": "code",
   "execution_count": 64,
   "id": "1df1f668-18a6-445a-9b14-701faf9e445b",
   "metadata": {
    "tags": []
   },
   "outputs": [
    {
     "data": {
      "text/html": [
       "<div>\n",
       "<style scoped>\n",
       "    .dataframe tbody tr th:only-of-type {\n",
       "        vertical-align: middle;\n",
       "    }\n",
       "\n",
       "    .dataframe tbody tr th {\n",
       "        vertical-align: top;\n",
       "    }\n",
       "\n",
       "    .dataframe thead th {\n",
       "        text-align: right;\n",
       "    }\n",
       "</style>\n",
       "<table border=\"1\" class=\"dataframe\">\n",
       "  <thead>\n",
       "    <tr style=\"text-align: right;\">\n",
       "      <th></th>\n",
       "      <th></th>\n",
       "      <th>x</th>\n",
       "      <th>y</th>\n",
       "    </tr>\n",
       "    <tr>\n",
       "      <th>abc</th>\n",
       "      <th>num</th>\n",
       "      <th></th>\n",
       "      <th></th>\n",
       "    </tr>\n",
       "  </thead>\n",
       "  <tbody>\n",
       "    <tr>\n",
       "      <th rowspan=\"2\" valign=\"top\">a</th>\n",
       "      <th>1</th>\n",
       "      <td>1</td>\n",
       "      <td>10</td>\n",
       "    </tr>\n",
       "    <tr>\n",
       "      <th>2</th>\n",
       "      <td>2</td>\n",
       "      <td>20</td>\n",
       "    </tr>\n",
       "    <tr>\n",
       "      <th rowspan=\"2\" valign=\"top\">b</th>\n",
       "      <th>1</th>\n",
       "      <td>3</td>\n",
       "      <td>30</td>\n",
       "    </tr>\n",
       "    <tr>\n",
       "      <th>2</th>\n",
       "      <td>4</td>\n",
       "      <td>40</td>\n",
       "    </tr>\n",
       "    <tr>\n",
       "      <th rowspan=\"2\" valign=\"top\">c</th>\n",
       "      <th>1</th>\n",
       "      <td>5</td>\n",
       "      <td>50</td>\n",
       "    </tr>\n",
       "    <tr>\n",
       "      <th>2</th>\n",
       "      <td>6</td>\n",
       "      <td>60</td>\n",
       "    </tr>\n",
       "  </tbody>\n",
       "</table>\n",
       "</div>"
      ],
      "text/plain": [
       "         x   y\n",
       "abc num       \n",
       "a   1    1  10\n",
       "    2    2  20\n",
       "b   1    3  30\n",
       "    2    4  40\n",
       "c   1    5  50\n",
       "    2    6  60"
      ]
     },
     "execution_count": 64,
     "metadata": {},
     "output_type": "execute_result"
    }
   ],
   "source": [
    "df.rename_axis(index={\"let\": \"abc\"})"
   ]
  },
  {
   "cell_type": "code",
   "execution_count": 65,
   "id": "31b23e16-a3ef-4a30-9bcd-99ff72a1329d",
   "metadata": {
    "tags": []
   },
   "outputs": [
    {
     "data": {
      "text/html": [
       "<div>\n",
       "<style scoped>\n",
       "    .dataframe tbody tr th:only-of-type {\n",
       "        vertical-align: middle;\n",
       "    }\n",
       "\n",
       "    .dataframe tbody tr th {\n",
       "        vertical-align: top;\n",
       "    }\n",
       "\n",
       "    .dataframe thead th {\n",
       "        text-align: right;\n",
       "    }\n",
       "</style>\n",
       "<table border=\"1\" class=\"dataframe\">\n",
       "  <thead>\n",
       "    <tr style=\"text-align: right;\">\n",
       "      <th></th>\n",
       "      <th></th>\n",
       "      <th>x</th>\n",
       "      <th>y</th>\n",
       "    </tr>\n",
       "    <tr>\n",
       "      <th>LET</th>\n",
       "      <th>NUM</th>\n",
       "      <th></th>\n",
       "      <th></th>\n",
       "    </tr>\n",
       "  </thead>\n",
       "  <tbody>\n",
       "    <tr>\n",
       "      <th rowspan=\"2\" valign=\"top\">a</th>\n",
       "      <th>1</th>\n",
       "      <td>1</td>\n",
       "      <td>10</td>\n",
       "    </tr>\n",
       "    <tr>\n",
       "      <th>2</th>\n",
       "      <td>2</td>\n",
       "      <td>20</td>\n",
       "    </tr>\n",
       "    <tr>\n",
       "      <th rowspan=\"2\" valign=\"top\">b</th>\n",
       "      <th>1</th>\n",
       "      <td>3</td>\n",
       "      <td>30</td>\n",
       "    </tr>\n",
       "    <tr>\n",
       "      <th>2</th>\n",
       "      <td>4</td>\n",
       "      <td>40</td>\n",
       "    </tr>\n",
       "    <tr>\n",
       "      <th rowspan=\"2\" valign=\"top\">c</th>\n",
       "      <th>1</th>\n",
       "      <td>5</td>\n",
       "      <td>50</td>\n",
       "    </tr>\n",
       "    <tr>\n",
       "      <th>2</th>\n",
       "      <td>6</td>\n",
       "      <td>60</td>\n",
       "    </tr>\n",
       "  </tbody>\n",
       "</table>\n",
       "</div>"
      ],
      "text/plain": [
       "         x   y\n",
       "LET NUM       \n",
       "a   1    1  10\n",
       "    2    2  20\n",
       "b   1    3  30\n",
       "    2    4  40\n",
       "c   1    5  50\n",
       "    2    6  60"
      ]
     },
     "execution_count": 65,
     "metadata": {},
     "output_type": "execute_result"
    }
   ],
   "source": [
    "df.rename_axis(index=str.upper)"
   ]
  },
  {
   "cell_type": "code",
   "execution_count": null,
   "id": "b61ff8ed-3dfd-481a-bb6e-0e4b330973d7",
   "metadata": {},
   "outputs": [],
   "source": []
  }
 ],
 "metadata": {
  "kernelspec": {
   "display_name": "Python 3 (ipykernel)",
   "language": "python",
   "name": "python3"
  },
  "language_info": {
   "codemirror_mode": {
    "name": "ipython",
    "version": 3
   },
   "file_extension": ".py",
   "mimetype": "text/x-python",
   "name": "python",
   "nbconvert_exporter": "python",
   "pygments_lexer": "ipython3",
   "version": "3.11.4"
  }
 },
 "nbformat": 4,
 "nbformat_minor": 5
}
