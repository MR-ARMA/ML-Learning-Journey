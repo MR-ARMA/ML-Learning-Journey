{
 "cells": [
  {
   "cell_type": "markdown",
   "id": "c60820ca-29e6-4e7f-ba09-d3e383efa9f6",
   "metadata": {},
   "source": [
    "# <center><div style=\"width: 370px;\"> ![Panel Data](pictures/Panel_Data.jpg)"
   ]
  },
  {
   "cell_type": "markdown",
   "id": "7c98a8c0-10db-46a3-be81-727c2728b5d9",
   "metadata": {},
   "source": [
    "# <center>Series"
   ]
  },
  {
   "cell_type": "code",
   "execution_count": 1,
   "id": "5880c786-1036-465d-ab8b-09197148849f",
   "metadata": {
    "tags": []
   },
   "outputs": [],
   "source": [
    "import numpy as np\n",
    "import pandas as pd"
   ]
  },
  {
   "cell_type": "markdown",
   "id": "7bc243c7-673d-45c1-867d-faee73b9aaa6",
   "metadata": {},
   "source": [
    "`Series` is a one-dimensional labeled array capable of holding any data type (integers, strings, floating point numbers, Python objects, etc.). The axis labels are collectively referred to as the index. The basic method to create a Series is to call:"
   ]
  },
  {
   "cell_type": "markdown",
   "id": "69d5d3d1-47f0-4004-a38c-a111e8f65d16",
   "metadata": {
    "tags": []
   },
   "source": [
    "```python\n",
    "s = pd.Series(Data, index=index)\n",
    "```"
   ]
  },
  {
   "cell_type": "markdown",
   "id": "46e9ec7f-a375-40f2-b6d9-45918169d6d3",
   "metadata": {},
   "source": [
    "Here, data can be many different things:\n",
    "\n",
    "- a Python dict\n",
    "- an ndarray\n",
    "- a scalar value (like 5)\n",
    "\n",
    "The passed ***index*** is a list of axis labels. Thus, this separates into a few cases depending on what data is:\n",
    "**From ndarray**\n",
    "If data is an ndarray, ***index*** must be the same length as ***data***. If no index is passed, one will be created having values $[0, ..., len(data) - 1].$"
   ]
  },
  {
   "cell_type": "code",
   "execution_count": 9,
   "id": "e837cd4a-b986-411a-8a1f-41da4c155007",
   "metadata": {
    "tags": []
   },
   "outputs": [],
   "source": [
    "s = pd.Series(np.random.randint(0, 100, 5), index=['a', 'b', 'c', 'd', 'e'])"
   ]
  },
  {
   "cell_type": "code",
   "execution_count": 10,
   "id": "8c972a1c-3e9e-454a-a790-27708fc89d59",
   "metadata": {
    "tags": []
   },
   "outputs": [
    {
     "data": {
      "text/plain": [
       "a    37\n",
       "b    14\n",
       "c     1\n",
       "d    48\n",
       "e    44\n",
       "dtype: int64"
      ]
     },
     "execution_count": 10,
     "metadata": {},
     "output_type": "execute_result"
    }
   ],
   "source": [
    "s"
   ]
  },
  {
   "cell_type": "markdown",
   "id": "c7edcd4b-8833-4b7c-ae48-97d981a72aca",
   "metadata": {},
   "source": [
    "> ***Note:*** pandas supports non-unique index values. If an operation that does not support duplicate index values is attempted, an exception will be raised at that time. The reason for being lazy is nearly all performance-based (there are many instances in computations, like parts of GroupBy, where the index is not used)."
   ]
  },
  {
   "cell_type": "markdown",
   "id": "85ded355-b8e5-4e33-9f9d-e656ba12da6a",
   "metadata": {},
   "source": [
    "### From dict"
   ]
  },
  {
   "cell_type": "markdown",
   "id": "8d95542e-54d2-4274-b5b8-50d5f0231529",
   "metadata": {},
   "source": [
    "Series can be instantiated from dicts:\n"
   ]
  },
  {
   "cell_type": "code",
   "execution_count": 16,
   "id": "f8a32653-4862-4e1c-9283-911a55772547",
   "metadata": {
    "tags": []
   },
   "outputs": [],
   "source": [
    "d = {'a': 2, 'b': 4, 'c': 0}\n",
    "s = pd.Series(d)"
   ]
  },
  {
   "cell_type": "code",
   "execution_count": 17,
   "id": "112ac0e3-b3dd-4cab-9e90-d595eefb3aa2",
   "metadata": {
    "tags": []
   },
   "outputs": [
    {
     "data": {
      "text/plain": [
       "Index(['a', 'b', 'c'], dtype='object')"
      ]
     },
     "execution_count": 17,
     "metadata": {},
     "output_type": "execute_result"
    }
   ],
   "source": [
    "s.index"
   ]
  },
  {
   "cell_type": "markdown",
   "id": "cdb82e4f-db65-4ae5-b53c-3e85daf5c702",
   "metadata": {},
   "source": [
    "### From scaler value"
   ]
  },
  {
   "cell_type": "markdown",
   "id": "a4877404-5574-4003-a76f-9357c7532a24",
   "metadata": {},
   "source": [
    "If data is a scalar value, an index must be provided. The value will be repeated to match the length of index."
   ]
  },
  {
   "cell_type": "code",
   "execution_count": 18,
   "id": "2227e3de-f044-450a-abf5-69204a891926",
   "metadata": {
    "tags": []
   },
   "outputs": [
    {
     "data": {
      "text/plain": [
       "a    3\n",
       "b    3\n",
       "c    3\n",
       "dtype: int64"
      ]
     },
     "execution_count": 18,
     "metadata": {},
     "output_type": "execute_result"
    }
   ],
   "source": [
    "pd.Series(3, index=['a', 'b', 'c'])"
   ]
  },
  {
   "cell_type": "markdown",
   "id": "f8a65911-efc4-4e5e-8baa-ee9e65846bd5",
   "metadata": {},
   "source": [
    "### Series is ndarry_like"
   ]
  },
  {
   "cell_type": "markdown",
   "id": "36f93dce-2c2d-458d-89c2-f952b543d16d",
   "metadata": {},
   "source": [
    "Series acts very similarly to a ndarray, and is a valid argument to most NumPy functions. However, operations such as slicing will also slice the index."
   ]
  },
  {
   "cell_type": "code",
   "execution_count": 21,
   "id": "037c2ad6-6de2-45e1-a751-4fe140a690c8",
   "metadata": {
    "tags": []
   },
   "outputs": [
    {
     "data": {
      "text/plain": [
       "0    0.942829\n",
       "1    0.894262\n",
       "2    0.490630\n",
       "3    0.129121\n",
       "4    0.250253\n",
       "5    0.623522\n",
       "6    0.124655\n",
       "7    0.903468\n",
       "8    0.635358\n",
       "9    0.045040\n",
       "dtype: float64"
      ]
     },
     "execution_count": 21,
     "metadata": {},
     "output_type": "execute_result"
    }
   ],
   "source": [
    "s = pd.Series(np.random.random(10))\n",
    "s"
   ]
  },
  {
   "cell_type": "code",
   "execution_count": 22,
   "id": "4c44e535-0837-4b40-a1a2-23b6e1716389",
   "metadata": {
    "tags": []
   },
   "outputs": [
    {
     "data": {
      "text/plain": [
       "0.9428289466512927"
      ]
     },
     "execution_count": 22,
     "metadata": {},
     "output_type": "execute_result"
    }
   ],
   "source": [
    "s[0]"
   ]
  },
  {
   "cell_type": "code",
   "execution_count": 23,
   "id": "63d3b784-8b88-4a80-8404-535d8687ff43",
   "metadata": {
    "tags": []
   },
   "outputs": [
    {
     "data": {
      "text/plain": [
       "0    0.942829\n",
       "1    0.894262\n",
       "2    0.490630\n",
       "3    0.129121\n",
       "4    0.250253\n",
       "dtype: float64"
      ]
     },
     "execution_count": 23,
     "metadata": {},
     "output_type": "execute_result"
    }
   ],
   "source": [
    "s[:5]"
   ]
  },
  {
   "cell_type": "code",
   "execution_count": 24,
   "id": "604fd9f9-9325-4bf2-a5c3-ea72e9476a1d",
   "metadata": {
    "tags": []
   },
   "outputs": [
    {
     "data": {
      "text/plain": [
       "0    0.942829\n",
       "1    0.894262\n",
       "5    0.623522\n",
       "7    0.903468\n",
       "8    0.635358\n",
       "dtype: float64"
      ]
     },
     "execution_count": 24,
     "metadata": {},
     "output_type": "execute_result"
    }
   ],
   "source": [
    "s[s > s.median()]"
   ]
  },
  {
   "cell_type": "code",
   "execution_count": 25,
   "id": "d3afe68c-4fb5-4cbc-9fcd-2bb4927ef9cf",
   "metadata": {
    "tags": []
   },
   "outputs": [
    {
     "data": {
      "text/plain": [
       "0    2.567234\n",
       "1    2.445531\n",
       "2    1.633345\n",
       "3    1.137827\n",
       "4    1.284350\n",
       "5    1.865486\n",
       "6    1.132757\n",
       "7    2.468147\n",
       "8    1.887698\n",
       "9    1.046069\n",
       "dtype: float64"
      ]
     },
     "execution_count": 25,
     "metadata": {},
     "output_type": "execute_result"
    }
   ],
   "source": [
    "np.exp(s)"
   ]
  },
  {
   "cell_type": "markdown",
   "id": "19f8bc48-5e74-4771-94bd-95e267a2f42b",
   "metadata": {},
   "source": [
    "> **Note:** We will address array-based indexing like s[[4, 3, 1]] in section on indexing."
   ]
  },
  {
   "cell_type": "code",
   "execution_count": 27,
   "id": "8d8b699a-ab7f-4ac9-9b4c-6618b632735c",
   "metadata": {
    "tags": []
   },
   "outputs": [
    {
     "data": {
      "text/plain": [
       "3    0.129121\n",
       "4    0.250253\n",
       "5    0.623522\n",
       "dtype: float64"
      ]
     },
     "execution_count": 27,
     "metadata": {},
     "output_type": "execute_result"
    }
   ],
   "source": [
    "s[[3, 4, 5]]"
   ]
  },
  {
   "cell_type": "code",
   "execution_count": 28,
   "id": "9b4162ba-ff79-4b8a-a6c7-bc9903d92c1b",
   "metadata": {
    "tags": []
   },
   "outputs": [
    {
     "ename": "KeyError",
     "evalue": "'key of type tuple not found and not a MultiIndex'",
     "output_type": "error",
     "traceback": [
      "\u001b[0;31m---------------------------------------------------------------------------\u001b[0m",
      "\u001b[0;31mKeyError\u001b[0m                                  Traceback (most recent call last)",
      "Cell \u001b[0;32mIn[28], line 1\u001b[0m\n\u001b[0;32m----> 1\u001b[0m s[\u001b[38;5;241m3\u001b[39m, \u001b[38;5;241m4\u001b[39m, \u001b[38;5;241m5\u001b[39m]\n",
      "File \u001b[0;32m~/anaconda3/envs/my_learning/lib/python3.11/site-packages/pandas/core/series.py:1072\u001b[0m, in \u001b[0;36mSeries.__getitem__\u001b[0;34m(self, key)\u001b[0m\n\u001b[1;32m   1069\u001b[0m     key \u001b[38;5;241m=\u001b[39m np\u001b[38;5;241m.\u001b[39masarray(key, dtype\u001b[38;5;241m=\u001b[39m\u001b[38;5;28mbool\u001b[39m)\n\u001b[1;32m   1070\u001b[0m     \u001b[38;5;28;01mreturn\u001b[39;00m \u001b[38;5;28mself\u001b[39m\u001b[38;5;241m.\u001b[39m_get_rows_with_mask(key)\n\u001b[0;32m-> 1072\u001b[0m \u001b[38;5;28;01mreturn\u001b[39;00m \u001b[38;5;28mself\u001b[39m\u001b[38;5;241m.\u001b[39m_get_with(key)\n",
      "File \u001b[0;32m~/anaconda3/envs/my_learning/lib/python3.11/site-packages/pandas/core/series.py:1082\u001b[0m, in \u001b[0;36mSeries._get_with\u001b[0;34m(self, key)\u001b[0m\n\u001b[1;32m   1077\u001b[0m     \u001b[38;5;28;01mraise\u001b[39;00m \u001b[38;5;167;01mTypeError\u001b[39;00m(\n\u001b[1;32m   1078\u001b[0m         \u001b[38;5;124m\"\u001b[39m\u001b[38;5;124mIndexing a Series with DataFrame is not \u001b[39m\u001b[38;5;124m\"\u001b[39m\n\u001b[1;32m   1079\u001b[0m         \u001b[38;5;124m\"\u001b[39m\u001b[38;5;124msupported, use the appropriate DataFrame column\u001b[39m\u001b[38;5;124m\"\u001b[39m\n\u001b[1;32m   1080\u001b[0m     )\n\u001b[1;32m   1081\u001b[0m \u001b[38;5;28;01melif\u001b[39;00m \u001b[38;5;28misinstance\u001b[39m(key, \u001b[38;5;28mtuple\u001b[39m):\n\u001b[0;32m-> 1082\u001b[0m     \u001b[38;5;28;01mreturn\u001b[39;00m \u001b[38;5;28mself\u001b[39m\u001b[38;5;241m.\u001b[39m_get_values_tuple(key)\n\u001b[1;32m   1084\u001b[0m \u001b[38;5;28;01melif\u001b[39;00m \u001b[38;5;129;01mnot\u001b[39;00m is_list_like(key):\n\u001b[1;32m   1085\u001b[0m     \u001b[38;5;66;03m# e.g. scalars that aren't recognized by lib.is_scalar, GH#32684\u001b[39;00m\n\u001b[1;32m   1086\u001b[0m     \u001b[38;5;28;01mreturn\u001b[39;00m \u001b[38;5;28mself\u001b[39m\u001b[38;5;241m.\u001b[39mloc[key]\n",
      "File \u001b[0;32m~/anaconda3/envs/my_learning/lib/python3.11/site-packages/pandas/core/series.py:1126\u001b[0m, in \u001b[0;36mSeries._get_values_tuple\u001b[0;34m(self, key)\u001b[0m\n\u001b[1;32m   1123\u001b[0m     \u001b[38;5;28;01mreturn\u001b[39;00m result\n\u001b[1;32m   1125\u001b[0m \u001b[38;5;28;01mif\u001b[39;00m \u001b[38;5;129;01mnot\u001b[39;00m \u001b[38;5;28misinstance\u001b[39m(\u001b[38;5;28mself\u001b[39m\u001b[38;5;241m.\u001b[39mindex, MultiIndex):\n\u001b[0;32m-> 1126\u001b[0m     \u001b[38;5;28;01mraise\u001b[39;00m \u001b[38;5;167;01mKeyError\u001b[39;00m(\u001b[38;5;124m\"\u001b[39m\u001b[38;5;124mkey of type tuple not found and not a MultiIndex\u001b[39m\u001b[38;5;124m\"\u001b[39m)\n\u001b[1;32m   1128\u001b[0m \u001b[38;5;66;03m# If key is contained, would have returned by now\u001b[39;00m\n\u001b[1;32m   1129\u001b[0m indexer, new_index \u001b[38;5;241m=\u001b[39m \u001b[38;5;28mself\u001b[39m\u001b[38;5;241m.\u001b[39mindex\u001b[38;5;241m.\u001b[39mget_loc_level(key)\n",
      "\u001b[0;31mKeyError\u001b[0m: 'key of type tuple not found and not a MultiIndex'"
     ]
    }
   ],
   "source": [
    "s[3, 4, 5]"
   ]
  },
  {
   "cell_type": "code",
   "execution_count": 29,
   "id": "6aaaa585-ac06-4374-bfd5-91eec81cbb95",
   "metadata": {
    "tags": []
   },
   "outputs": [
    {
     "data": {
      "text/plain": [
       "dtype('float64')"
      ]
     },
     "execution_count": 29,
     "metadata": {},
     "output_type": "execute_result"
    }
   ],
   "source": [
    "s.dtype"
   ]
  },
  {
   "cell_type": "code",
   "execution_count": 35,
   "id": "bf68bfec-ec44-43ca-ae78-138007fc9f87",
   "metadata": {
    "tags": []
   },
   "outputs": [
    {
     "data": {
      "text/plain": [
       "pandas.core.arrays.numpy_.NumpyExtensionArray"
      ]
     },
     "execution_count": 35,
     "metadata": {},
     "output_type": "execute_result"
    }
   ],
   "source": [
    "type(s.array)"
   ]
  },
  {
   "cell_type": "code",
   "execution_count": 32,
   "id": "d40d9f50-5f01-43cf-ac65-7bcfaa1d6c4e",
   "metadata": {
    "tags": []
   },
   "outputs": [
    {
     "data": {
      "text/plain": [
       "array([0.94282895, 0.89426247, 0.49062995, 0.12912065, 0.25025293,\n",
       "       0.62352153, 0.12465474, 0.9034677 , 0.6353582 , 0.04503964])"
      ]
     },
     "execution_count": 32,
     "metadata": {},
     "output_type": "execute_result"
    }
   ],
   "source": [
    "s.to_numpy()"
   ]
  },
  {
   "cell_type": "code",
   "execution_count": 37,
   "id": "df3de8fe-e070-4400-97a2-3f04a62688a9",
   "metadata": {
    "tags": []
   },
   "outputs": [
    {
     "data": {
      "text/plain": [
       "numpy.ndarray"
      ]
     },
     "execution_count": 37,
     "metadata": {},
     "output_type": "execute_result"
    }
   ],
   "source": [
    "type(s.to_numpy())"
   ]
  },
  {
   "cell_type": "markdown",
   "id": "0942070f-5545-40ad-a10a-618a0721de77",
   "metadata": {},
   "source": [
    "### Series is dict-like"
   ]
  },
  {
   "cell_type": "markdown",
   "id": "ec343bc7-3848-4fd4-adba-d5e5441462b6",
   "metadata": {},
   "source": [
    "A Series is like a fixed-size dict in that you can get and set values by index label:"
   ]
  },
  {
   "cell_type": "code",
   "execution_count": 50,
   "id": "83ab219a-04ee-47a5-9a2e-77a4942a3162",
   "metadata": {
    "tags": []
   },
   "outputs": [],
   "source": [
    "s = pd.Series(np.random.random(6), index=['a', 'b', 'c', 'd', 'e', 'f'])"
   ]
  },
  {
   "cell_type": "code",
   "execution_count": 51,
   "id": "ab20d069-c5ab-4a7b-b189-d21d1e5c2467",
   "metadata": {
    "tags": []
   },
   "outputs": [
    {
     "data": {
      "text/plain": [
       "a    0.164954\n",
       "b    0.491002\n",
       "c    0.170725\n",
       "d    0.607901\n",
       "e    0.185288\n",
       "f    0.258652\n",
       "dtype: float64"
      ]
     },
     "execution_count": 51,
     "metadata": {},
     "output_type": "execute_result"
    }
   ],
   "source": [
    "s"
   ]
  },
  {
   "cell_type": "code",
   "execution_count": 52,
   "id": "a4c489fe-a1c7-46a9-9872-f9a82b1e55b5",
   "metadata": {
    "tags": []
   },
   "outputs": [
    {
     "data": {
      "text/plain": [
       "0.16495445266218822"
      ]
     },
     "execution_count": 52,
     "metadata": {},
     "output_type": "execute_result"
    }
   ],
   "source": [
    "s[\"a\"]"
   ]
  },
  {
   "cell_type": "code",
   "execution_count": 53,
   "id": "9e06cc3e-dbe4-4105-93ab-cbab086a0ed3",
   "metadata": {
    "tags": []
   },
   "outputs": [
    {
     "data": {
      "text/plain": [
       "True"
      ]
     },
     "execution_count": 53,
     "metadata": {},
     "output_type": "execute_result"
    }
   ],
   "source": [
    "'a' in s"
   ]
  },
  {
   "cell_type": "code",
   "execution_count": 54,
   "id": "d1db2661-7138-4399-852f-0be0afcf966c",
   "metadata": {
    "tags": []
   },
   "outputs": [
    {
     "data": {
      "text/plain": [
       "False"
      ]
     },
     "execution_count": 54,
     "metadata": {},
     "output_type": "execute_result"
    }
   ],
   "source": [
    "'g' in s"
   ]
  },
  {
   "cell_type": "markdown",
   "id": "c3dfaffc-a428-43e6-b7b0-73af553c90ef",
   "metadata": {},
   "source": [
    "#### Vectorized operations and label alignment with Series"
   ]
  },
  {
   "cell_type": "markdown",
   "id": "928ea6b3-26ae-4bd2-90b0-98d31e3761b0",
   "metadata": {},
   "source": [
    "When working with raw NumPy arrays, looping through value-by-value is usually not necessary. The same is true when working with Series in pandas. Series can also be passed into most NumPy methods expecting an ndarray."
   ]
  },
  {
   "cell_type": "code",
   "execution_count": 55,
   "id": "6af5b9ed-686e-4dad-be08-70da71b9108a",
   "metadata": {
    "tags": []
   },
   "outputs": [
    {
     "data": {
      "text/plain": [
       "a    0.329909\n",
       "b    0.982004\n",
       "c    0.341449\n",
       "d    1.215802\n",
       "e    0.370577\n",
       "f    0.517304\n",
       "dtype: float64"
      ]
     },
     "execution_count": 55,
     "metadata": {},
     "output_type": "execute_result"
    }
   ],
   "source": [
    "s + s"
   ]
  },
  {
   "cell_type": "code",
   "execution_count": 56,
   "id": "aab7beb4-a9ba-423f-962b-48027b2f42ee",
   "metadata": {
    "tags": []
   },
   "outputs": [
    {
     "data": {
      "text/plain": [
       "a    0.027210\n",
       "b    0.241083\n",
       "c    0.029147\n",
       "d    0.369544\n",
       "e    0.034332\n",
       "f    0.066901\n",
       "dtype: float64"
      ]
     },
     "execution_count": 56,
     "metadata": {},
     "output_type": "execute_result"
    }
   ],
   "source": [
    "s ** 2"
   ]
  },
  {
   "cell_type": "code",
   "execution_count": 57,
   "id": "9df49b4c-d070-4d48-acc4-ccf36d6699c7",
   "metadata": {
    "tags": []
   },
   "outputs": [
    {
     "data": {
      "text/plain": [
       "a         NaN\n",
       "b    0.982004\n",
       "c    0.341449\n",
       "d    1.215802\n",
       "e    0.370577\n",
       "f         NaN\n",
       "dtype: float64"
      ]
     },
     "execution_count": 57,
     "metadata": {},
     "output_type": "execute_result"
    }
   ],
   "source": [
    "s[1:] + s[:-1]"
   ]
  },
  {
   "cell_type": "markdown",
   "id": "8f78a02b-b560-436a-b6da-60ad2c7f7dd2",
   "metadata": {},
   "source": [
    "The result of an operation between unaligned Series will have the ***union*** of the indexes involved. If a label is not found in one Series or the other, the result will be marked as missing NaN. Being able to write code without doing any explicit data alignment grants immense freedom and flexibility in interactive data analysis and research. The integrated data alignment features of the pandas data structures set pandas apart from the majority of related tools for working with labeled data"
   ]
  },
  {
   "cell_type": "markdown",
   "id": "0b67846c-0851-40cd-b911-ebc9ab29e50b",
   "metadata": {},
   "source": [
    "### Name attribute"
   ]
  },
  {
   "cell_type": "markdown",
   "id": "c3c82a37-5814-437d-b667-9f3c700e4ddf",
   "metadata": {},
   "source": [
    "Series can also have a name attribute:"
   ]
  },
  {
   "cell_type": "code",
   "execution_count": 58,
   "id": "d3e5c788-c2d1-4374-863c-33b297807a8a",
   "metadata": {
    "tags": []
   },
   "outputs": [],
   "source": [
    "s = pd.Series(np.random.randint(0, 100, 5), name=\"age\")"
   ]
  },
  {
   "cell_type": "code",
   "execution_count": 59,
   "id": "42ad054a-ac6e-461e-8875-f87f89d1beed",
   "metadata": {
    "tags": []
   },
   "outputs": [
    {
     "data": {
      "text/plain": [
       "0     6\n",
       "1    84\n",
       "2    31\n",
       "3    18\n",
       "4    32\n",
       "Name: age, dtype: int64"
      ]
     },
     "execution_count": 59,
     "metadata": {},
     "output_type": "execute_result"
    }
   ],
   "source": [
    "s"
   ]
  },
  {
   "cell_type": "code",
   "execution_count": 60,
   "id": "a1c892e0-4019-45ad-bf31-141e3459ed17",
   "metadata": {
    "tags": []
   },
   "outputs": [
    {
     "data": {
      "text/plain": [
       "'age'"
      ]
     },
     "execution_count": 60,
     "metadata": {},
     "output_type": "execute_result"
    }
   ],
   "source": [
    "s.name"
   ]
  },
  {
   "cell_type": "markdown",
   "id": "ed1584f2-e284-42d7-8d88-c03bf63de9fc",
   "metadata": {},
   "source": [
    "### In Summary"
   ]
  },
  {
   "cell_type": "markdown",
   "id": "81a8e7fb-eab6-403f-bde4-f398a749dcaa",
   "metadata": {},
   "source": [
    "**In Summary**\n",
    "\n",
    "In this tutorial, you've taken your first steps into the world of Pandas, where data manipulation and analysis become a breeze. Here's a quick recap of what you've learned:\n",
    "\n",
    "- You've uncovered the intricacies of the Series data structure, a versatile tool for handling one-dimensional data.\n",
    "\n",
    "- You've mastered the art of building a Series, understanding how to construct this fundamental data structure from scratch.\n",
    "\n",
    "- You've ventured into the world of operations, learning how to wield various operations to transform and analyze your Series data.\n",
    "\n",
    "But our journey is far from over. In the next section, we'll set our sights on the DataFrame data structure. Unlike Series, DataFrames offer a broader canvas to work with. They can contain not just one, but multiple Series, forming a cohesive collection that unlocks even more powerful data analysis capabilities. So, stay with us as we dive deeper into the realm of DataFrames and explore the vast possibilities they bring to the table."
   ]
  },
  {
   "cell_type": "code",
   "execution_count": null,
   "id": "ca4daf03-3732-4449-97ec-1b2e27f0754b",
   "metadata": {},
   "outputs": [],
   "source": []
  }
 ],
 "metadata": {
  "kernelspec": {
   "display_name": "Python 3 (ipykernel)",
   "language": "python",
   "name": "python3"
  },
  "language_info": {
   "codemirror_mode": {
    "name": "ipython",
    "version": 3
   },
   "file_extension": ".py",
   "mimetype": "text/x-python",
   "name": "python",
   "nbconvert_exporter": "python",
   "pygments_lexer": "ipython3",
   "version": "3.11.4"
  }
 },
 "nbformat": 4,
 "nbformat_minor": 5
}
