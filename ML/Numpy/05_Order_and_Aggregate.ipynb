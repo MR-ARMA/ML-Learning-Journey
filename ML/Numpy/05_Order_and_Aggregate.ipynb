{
 "cells": [
  {
   "cell_type": "markdown",
   "id": "9e80d20b-14ed-4c74-a0ed-58bd86e71cf8",
   "metadata": {},
   "source": [
    "# <center> <div style=\"width: 370px;\"> ![numpy title](pictures/numpy_tytle.jpg)"
   ]
  },
  {
   "cell_type": "markdown",
   "id": "e0d47764-f079-4b8d-99f4-c1d085c0bd91",
   "metadata": {},
   "source": [
    "# <center>Data Science Operations: Order, Aggregate"
   ]
  },
  {
   "cell_type": "markdown",
   "id": "33b12ab7-75c8-407d-9ff3-e8c24074e9d4",
   "metadata": {},
   "source": [
    "## Transposing, Sorting, and Concatenating"
   ]
  },
  {
   "cell_type": "code",
   "execution_count": 1,
   "id": "0fee3cd4-46cc-47b0-8069-4684d591deee",
   "metadata": {
    "tags": []
   },
   "outputs": [],
   "source": [
    "import numpy as np"
   ]
  },
  {
   "cell_type": "markdown",
   "id": "e2f5bf03-4f2e-4967-9576-ac8a334f2fe9",
   "metadata": {},
   "source": [
    "Transposing in NumPy is a common operation that involves changing the shape of a NumPy array by flipping its rows and columns. You can think of it as rotating the data along its diagonal. NumPy provides the `.T` attribute for transposing arrays and the `numpy.transpose()` function for more complex transformations. Here's how you can perform transposing in NumPy:"
   ]
  },
  {
   "cell_type": "markdown",
   "id": "2ae5772f-8888-449a-9dee-1b71debf1f46",
   "metadata": {},
   "source": [
    "For a 1-D array, this returns an unchanged view of the original array, as a transposed vector is simply the same vector. To convert a 1-D array into a 2-D column vector, an additional dimension must be added, e.g., `np.atleast2d(a).T` achieves this, as does `a[:, np.newaxis]`. For a 2-D array, this is the standard matrix transpose. For an n-D array, if axes are given, their order indicates how the axes are permuted (see Examples). If axes are not provided, then `transpose(a).shape == a.shape[::-1]`.\n"
   ]
  },
  {
   "cell_type": "code",
   "execution_count": 4,
   "id": "e8244889-8ecd-44cc-9bef-ed41a49caf57",
   "metadata": {
    "tags": []
   },
   "outputs": [],
   "source": [
    "a = np.array(np.random.randint(10, size=(3, 4)))"
   ]
  },
  {
   "cell_type": "code",
   "execution_count": 5,
   "id": "add4ea7e-7db4-4849-a3bb-708a1d0dcea3",
   "metadata": {
    "tags": []
   },
   "outputs": [
    {
     "data": {
      "text/plain": [
       "array([[0, 6, 5, 8],\n",
       "       [4, 5, 2, 2],\n",
       "       [0, 7, 7, 2]])"
      ]
     },
     "execution_count": 5,
     "metadata": {},
     "output_type": "execute_result"
    }
   ],
   "source": [
    "a"
   ]
  },
  {
   "cell_type": "code",
   "execution_count": 6,
   "id": "2566aed1-96b6-45ed-9b6a-9607d5537d89",
   "metadata": {
    "tags": []
   },
   "outputs": [
    {
     "data": {
      "text/plain": [
       "array([[0, 4, 0],\n",
       "       [6, 5, 7],\n",
       "       [5, 2, 7],\n",
       "       [8, 2, 2]])"
      ]
     },
     "execution_count": 6,
     "metadata": {},
     "output_type": "execute_result"
    }
   ],
   "source": [
    "a.T"
   ]
  },
  {
   "cell_type": "code",
   "execution_count": 7,
   "id": "27013a06-3b11-4963-8ab0-008d8e564645",
   "metadata": {
    "tags": []
   },
   "outputs": [
    {
     "data": {
      "text/plain": [
       "array([[0, 4, 0],\n",
       "       [6, 5, 7],\n",
       "       [5, 2, 7],\n",
       "       [8, 2, 2]])"
      ]
     },
     "execution_count": 7,
     "metadata": {},
     "output_type": "execute_result"
    }
   ],
   "source": [
    "a.transpose()"
   ]
  },
  {
   "cell_type": "code",
   "execution_count": 13,
   "id": "8d4ede5e-aa86-49d6-8ce7-a03702887799",
   "metadata": {
    "tags": []
   },
   "outputs": [
    {
     "data": {
      "text/plain": [
       "array([[0, 4, 0],\n",
       "       [6, 5, 7],\n",
       "       [5, 2, 7],\n",
       "       [8, 2, 2]])"
      ]
     },
     "execution_count": 13,
     "metadata": {},
     "output_type": "execute_result"
    }
   ],
   "source": [
    "np.transpose(a, axes=None)"
   ]
  },
  {
   "cell_type": "markdown",
   "id": "ed97c578-0582-4e5b-b9ef-cb69e6f04e3a",
   "metadata": {},
   "source": [
    "When you calculate the transpose of an array, the row and column indices of every element are switched. Item `[0, 2]`, for example, becomes item `[2, 0]`. You can also use `a.T` as an alias for `a.transpose()`."
   ]
  },
  {
   "cell_type": "markdown",
   "id": "36bef0e6-84dc-415e-a75f-262138271cd1",
   "metadata": {},
   "source": [
    "The following code block shows sorting, but you’ll also see a more powerful sorting technique in the coming section on structured data:"
   ]
  },
  {
   "cell_type": "code",
   "execution_count": 21,
   "id": "9fc6b727-3917-406f-88cc-b0e884f4f71a",
   "metadata": {
    "tags": []
   },
   "outputs": [
    {
     "data": {
      "text/plain": [
       "array([[8, 7, 7],\n",
       "       [9, 8, 3],\n",
       "       [4, 2, 9]])"
      ]
     },
     "execution_count": 21,
     "metadata": {},
     "output_type": "execute_result"
    }
   ],
   "source": [
    "data = np.array(np.random.randint(10, size=(3, 3)))\n",
    "data"
   ]
  },
  {
   "cell_type": "markdown",
   "id": "093778a7-18aa-46ca-91ee-d7c417560d38",
   "metadata": {},
   "source": [
    "Omitting the axis argument automatically selects the last and innermost dimension, which is the rows in this example. Using None flattens the array and performs a global sort. Otherwise, you can specify which axis you want. In output of `np.sort(data, axis=0)`, each column of the array still has all of its elements but they have been sorted low-to-high inside that column.\n"
   ]
  },
  {
   "cell_type": "code",
   "execution_count": 22,
   "id": "3ee730d6-ec65-4d2c-ab72-6889f663fe02",
   "metadata": {
    "tags": []
   },
   "outputs": [
    {
     "data": {
      "text/plain": [
       "array([[7, 7, 8],\n",
       "       [3, 8, 9],\n",
       "       [2, 4, 9]])"
      ]
     },
     "execution_count": 22,
     "metadata": {},
     "output_type": "execute_result"
    }
   ],
   "source": [
    "np.sort(data)"
   ]
  },
  {
   "cell_type": "code",
   "execution_count": 23,
   "id": "a4453703-39d3-4e58-a0e5-21c5d265ad5a",
   "metadata": {
    "tags": []
   },
   "outputs": [
    {
     "data": {
      "text/plain": [
       "array([2, 3, 4, 7, 7, 8, 8, 9, 9])"
      ]
     },
     "execution_count": 23,
     "metadata": {},
     "output_type": "execute_result"
    }
   ],
   "source": [
    "np.sort(data, axis=None)"
   ]
  },
  {
   "cell_type": "code",
   "execution_count": 24,
   "id": "a66810de-91a4-4368-b10a-ae714da90f40",
   "metadata": {
    "tags": []
   },
   "outputs": [
    {
     "data": {
      "text/plain": [
       "array([[4, 2, 3],\n",
       "       [8, 7, 7],\n",
       "       [9, 8, 9]])"
      ]
     },
     "execution_count": 24,
     "metadata": {},
     "output_type": "execute_result"
    }
   ],
   "source": [
    "np.sort(data, axis=0)"
   ]
  },
  {
   "cell_type": "code",
   "execution_count": 25,
   "id": "92b60dbd-7720-46b6-be52-4bcf69d2192d",
   "metadata": {
    "tags": []
   },
   "outputs": [
    {
     "data": {
      "text/plain": [
       "array([[7, 7, 8],\n",
       "       [3, 8, 9],\n",
       "       [2, 4, 9]])"
      ]
     },
     "execution_count": 25,
     "metadata": {},
     "output_type": "execute_result"
    }
   ],
   "source": [
    "np.sort(data, axis=1)"
   ]
  },
  {
   "cell_type": "markdown",
   "id": "0461f571-db00-49b4-aa65-f1a9cc0cd4cc",
   "metadata": {},
   "source": [
    "\n",
    "Finally, here’s an example of concatenation. While there’s a `np.concatenate()` function, there are also a number of helper functions that are sometimes easier to read."
   ]
  },
  {
   "cell_type": "code",
   "execution_count": 27,
   "id": "2f990a9c-7681-4761-ad7a-1df7458c7763",
   "metadata": {
    "tags": []
   },
   "outputs": [],
   "source": [
    "a = np.array(np.random.randint(10, size=(3, 4)))\n",
    "b = np.array(np.random.randint(10, size=(3, 4)))"
   ]
  },
  {
   "cell_type": "code",
   "execution_count": 28,
   "id": "19cf9f87-fc79-4f6b-9a35-68ce2aa7817b",
   "metadata": {
    "tags": []
   },
   "outputs": [
    {
     "data": {
      "text/plain": [
       "array([[7, 4, 2, 1],\n",
       "       [7, 6, 6, 4],\n",
       "       [6, 5, 2, 5]])"
      ]
     },
     "execution_count": 28,
     "metadata": {},
     "output_type": "execute_result"
    }
   ],
   "source": [
    "a"
   ]
  },
  {
   "cell_type": "code",
   "execution_count": 29,
   "id": "108b67f0-ac67-4c46-939f-d884aa5a84a0",
   "metadata": {
    "tags": []
   },
   "outputs": [
    {
     "data": {
      "text/plain": [
       "array([[9, 2, 1, 5],\n",
       "       [6, 8, 5, 9],\n",
       "       [8, 8, 6, 0]])"
      ]
     },
     "execution_count": 29,
     "metadata": {},
     "output_type": "execute_result"
    }
   ],
   "source": [
    "b"
   ]
  },
  {
   "cell_type": "code",
   "execution_count": 30,
   "id": "fd05e196-a838-44b5-ba74-009d47210c22",
   "metadata": {
    "tags": []
   },
   "outputs": [
    {
     "data": {
      "text/plain": [
       "array([[7, 4, 2, 1, 9, 2, 1, 5],\n",
       "       [7, 6, 6, 4, 6, 8, 5, 9],\n",
       "       [6, 5, 2, 5, 8, 8, 6, 0]])"
      ]
     },
     "execution_count": 30,
     "metadata": {},
     "output_type": "execute_result"
    }
   ],
   "source": [
    "np.hstack((a, b))"
   ]
  },
  {
   "cell_type": "code",
   "execution_count": 31,
   "id": "f29f7170-3e6a-4134-a3ed-345473700dba",
   "metadata": {
    "tags": []
   },
   "outputs": [
    {
     "data": {
      "text/plain": [
       "array([[7, 4, 2, 1],\n",
       "       [7, 6, 6, 4],\n",
       "       [6, 5, 2, 5],\n",
       "       [9, 2, 1, 5],\n",
       "       [6, 8, 5, 9],\n",
       "       [8, 8, 6, 0]])"
      ]
     },
     "execution_count": 31,
     "metadata": {},
     "output_type": "execute_result"
    }
   ],
   "source": [
    "np.vstack((a, b))"
   ]
  },
  {
   "cell_type": "code",
   "execution_count": 32,
   "id": "41f5c98d-5282-4ef2-ad03-938d68ed2a9f",
   "metadata": {
    "tags": []
   },
   "outputs": [
    {
     "data": {
      "text/plain": [
       "array([[7, 4, 2, 1],\n",
       "       [7, 6, 6, 4],\n",
       "       [6, 5, 2, 5],\n",
       "       [9, 2, 1, 5],\n",
       "       [6, 8, 5, 9],\n",
       "       [8, 8, 6, 0]])"
      ]
     },
     "execution_count": 32,
     "metadata": {},
     "output_type": "execute_result"
    }
   ],
   "source": [
    "np.concatenate((a, b))"
   ]
  },
  {
   "cell_type": "code",
   "execution_count": 33,
   "id": "4620340b-5ebb-4ca5-bb5d-2f8adff9b6e8",
   "metadata": {
    "tags": []
   },
   "outputs": [
    {
     "data": {
      "text/plain": [
       "array([[7, 4, 2, 1],\n",
       "       [7, 6, 6, 4],\n",
       "       [6, 5, 2, 5],\n",
       "       [9, 2, 1, 5],\n",
       "       [6, 8, 5, 9],\n",
       "       [8, 8, 6, 0]])"
      ]
     },
     "execution_count": 33,
     "metadata": {},
     "output_type": "execute_result"
    }
   ],
   "source": [
    "np.concatenate((a, b), axis=0)"
   ]
  },
  {
   "cell_type": "code",
   "execution_count": 34,
   "id": "70b6089c-723c-494a-883f-c0485037e3e8",
   "metadata": {
    "tags": []
   },
   "outputs": [
    {
     "data": {
      "text/plain": [
       "array([[7, 4, 2, 1, 9, 2, 1, 5],\n",
       "       [7, 6, 6, 4, 6, 8, 5, 9],\n",
       "       [6, 5, 2, 5, 8, 8, 6, 0]])"
      ]
     },
     "execution_count": 34,
     "metadata": {},
     "output_type": "execute_result"
    }
   ],
   "source": [
    "np.concatenate((a, b), axis=1)"
   ]
  },
  {
   "cell_type": "code",
   "execution_count": 35,
   "id": "979d7d89-c360-4754-9124-dbeb6182a3dc",
   "metadata": {
    "tags": []
   },
   "outputs": [
    {
     "data": {
      "text/plain": [
       "array([7, 4, 2, 1, 7, 6, 6, 4, 6, 5, 2, 5, 9, 2, 1, 5, 6, 8, 5, 9, 8, 8,\n",
       "       6, 0])"
      ]
     },
     "execution_count": 35,
     "metadata": {},
     "output_type": "execute_result"
    }
   ],
   "source": [
    "np.concatenate((a, b), axis=None)"
   ]
  },
  {
   "cell_type": "markdown",
   "id": "1254ef99-b4a2-4e50-81e7-33506bb10767",
   "metadata": {},
   "source": [
    "The NumPy functions `np.hstack()` and `np.vstack()` concatenate arrays horizontally and vertically, respectively. The function `np.concatenate()` is more generic and can concatenate arrays along any axis. By default, `np.concatenate()` concatenates arrays along the first axis, but you can also specify a different axis using the `axis` argument.\n",
    "\n",
    "One important thing to note is that all of these functions require the arrays to be passed in as a tuple. This is because the functions can concatenate any number of arrays, and a tuple is a convenient way to represent a sequence of objects.\n"
   ]
  },
  {
   "cell_type": "markdown",
   "id": "2ec69c2c-441e-43e4-9b75-b55daf73d822",
   "metadata": {},
   "source": [
    "## Aggregating"
   ]
  },
  {
   "cell_type": "markdown",
   "id": "7da114e5-a94c-4e93-a9a2-df4fa4907a0a",
   "metadata": {},
   "source": [
    "\n",
    "Before delving into more advanced topics and examples, let's explore the concept of aggregation in NumPy. During this journey through NumPy's functionality, you've already encountered several aggregation methods such as `.sum()`, `.max()`, `.mean()`, and `.std()`. NumPy offers a wide range of additional functions for aggregation purposes, covering mathematical, financial, and statistical domains. These aggregation functions play a crucial role in simplifying your data by reducing its dimensions, making complex data analysis tasks more manageable."
   ]
  },
  {
   "cell_type": "code",
   "execution_count": 38,
   "id": "d1dabb72-4b56-4b24-b226-2bf46845fd09",
   "metadata": {
    "tags": []
   },
   "outputs": [],
   "source": [
    "import numpy as np"
   ]
  },
  {
   "cell_type": "code",
   "execution_count": 62,
   "id": "553808dc-a073-4981-a2f1-d3d6e10d7f1f",
   "metadata": {
    "tags": []
   },
   "outputs": [],
   "source": [
    "data = np.array(np.random.randint(1000, 2000, size=10))"
   ]
  },
  {
   "cell_type": "code",
   "execution_count": 63,
   "id": "c1bd7544-675f-4b6d-9360-0c5175654fe3",
   "metadata": {
    "tags": []
   },
   "outputs": [
    {
     "data": {
      "text/plain": [
       "array([1015, 1290, 1204, 1240, 1063, 1894, 1007, 1588, 1119, 1133])"
      ]
     },
     "execution_count": 63,
     "metadata": {},
     "output_type": "execute_result"
    }
   ],
   "source": [
    "data"
   ]
  },
  {
   "cell_type": "code",
   "execution_count": 64,
   "id": "1ee47b72-4c2e-43e5-aeb5-311ade20449e",
   "metadata": {
    "tags": []
   },
   "outputs": [
    {
     "data": {
      "text/plain": [
       "12553"
      ]
     },
     "execution_count": 64,
     "metadata": {},
     "output_type": "execute_result"
    }
   ],
   "source": [
    "np.sum(data)"
   ]
  },
  {
   "cell_type": "code",
   "execution_count": 65,
   "id": "faa8ff50-0941-43b7-8a23-e1321fc5a263",
   "metadata": {
    "tags": []
   },
   "outputs": [
    {
     "data": {
      "text/plain": [
       "1894"
      ]
     },
     "execution_count": 65,
     "metadata": {},
     "output_type": "execute_result"
    }
   ],
   "source": [
    "np.max(data)"
   ]
  },
  {
   "cell_type": "code",
   "execution_count": 66,
   "id": "434d61ce-cc36-4d1f-9e37-9a555467663a",
   "metadata": {
    "tags": []
   },
   "outputs": [
    {
     "data": {
      "text/plain": [
       "1255.3"
      ]
     },
     "execution_count": 66,
     "metadata": {},
     "output_type": "execute_result"
    }
   ],
   "source": [
    "np.mean(data)"
   ]
  },
  {
   "cell_type": "code",
   "execution_count": 67,
   "id": "c97ad629-9dc6-42a0-ba2b-71bbb0053bf6",
   "metadata": {
    "tags": []
   },
   "outputs": [
    {
     "data": {
      "text/plain": [
       "266.947204518047"
      ]
     },
     "execution_count": 67,
     "metadata": {},
     "output_type": "execute_result"
    }
   ],
   "source": [
    "np.std(data)"
   ]
  }
 ],
 "metadata": {
  "kernelspec": {
   "display_name": "Python 3 (ipykernel)",
   "language": "python",
   "name": "python3"
  },
  "language_info": {
   "codemirror_mode": {
    "name": "ipython",
    "version": 3
   },
   "file_extension": ".py",
   "mimetype": "text/x-python",
   "name": "python",
   "nbconvert_exporter": "python",
   "pygments_lexer": "ipython3",
   "version": "3.11.4"
  }
 },
 "nbformat": 4,
 "nbformat_minor": 5
}
