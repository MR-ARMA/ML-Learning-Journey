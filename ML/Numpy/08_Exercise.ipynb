{
 "cells": [
  {
   "cell_type": "markdown",
   "id": "3ddef9ab-e089-4153-a72b-eff5fc27f795",
   "metadata": {},
   "source": [
    "# <center> <div style=\"width: 370px;\"> ![numpy title](pictures/numpy_tytle.jpg)"
   ]
  },
  {
   "cell_type": "markdown",
   "id": "82b93da9-688e-4cac-85d1-0d704ac6392c",
   "metadata": {},
   "source": [
    "# <center>Exercise"
   ]
  },
  {
   "cell_type": "markdown",
   "id": "c403c8a5-a826-4d50-8da2-fbedf8a6c505",
   "metadata": {},
   "source": [
    "The purpose of these exercises is to test the skills that have been learned so far in NumPy and to increase those skills"
   ]
  },
  {
   "cell_type": "markdown",
   "id": "1546133a-699e-4e17-bdf2-285327644e7c",
   "metadata": {},
   "source": [
    "### Exercise 0."
   ]
  },
  {
   "cell_type": "markdown",
   "id": "036d8423-fe51-40d4-83cb-7c9b0690f4d9",
   "metadata": {},
   "source": [
    "What is Numpy?"
   ]
  },
  {
   "cell_type": "markdown",
   "id": "aae9841d-e51d-432e-adef-5f183c96cf61",
   "metadata": {},
   "source": [
    "NumPy, short for Numerical Python, stands as a remarkably versatile, meticulously optimized, open-source package dedicated to the realm of array processing. Within its extensive toolkit, NumPy equips users to harness top-tier performance when working with N-dimensional arrays, fostering a seamless experience in the world of numerical computing.\n",
    "\n",
    "This robust library is not confined to a single domain; rather, it serves as a powerhouse for a multitude of tasks, including scientific computations, intricate mathematical operations, logical evaluations, sorting tasks, I/O functions, fundamental statistical analyses, and pivotal linear algebra manipulations. Moreover, NumPy doesn't stop there; it extends its utility to the realm of random simulations and broadcasting functionalities, offering a comprehensive suite of tools to cater to diverse computational needs.\n",
    "\n",
    "The wealth of capabilities inherent to NumPy has earned it widespread acclaim and made it the preferred choice among developers and researchers alike. The visual representation below succinctly illustrates the versatile applications of NumPy, showcasing its indispensability in modern data science and scientific computing."
   ]
  },
  {
   "cell_type": "markdown",
   "id": "6193616e-655d-4528-b758-cf68b7a1311d",
   "metadata": {},
   "source": [
    "### Exersice 1."
   ]
  },
  {
   "cell_type": "markdown",
   "id": "9b08fe10-40cd-4e67-8e9a-f3b664f4ae37",
   "metadata": {},
   "source": [
    " Import numpy as np and see the version"
   ]
  },
  {
   "cell_type": "code",
   "execution_count": 8,
   "id": "b2adf27a-4855-4643-930d-1350139442fa",
   "metadata": {
    "tags": []
   },
   "outputs": [
    {
     "data": {
      "text/plain": [
       "'1.25.2'"
      ]
     },
     "execution_count": 8,
     "metadata": {},
     "output_type": "execute_result"
    }
   ],
   "source": [
    "import numpy as np\n",
    "np.__version__"
   ]
  },
  {
   "cell_type": "markdown",
   "id": "6c4bab57-b76e-4e8f-a77a-4685a7e7387c",
   "metadata": {
    "tags": []
   },
   "source": [
    "### Exercise 2."
   ]
  },
  {
   "cell_type": "markdown",
   "id": "231b6daf-5923-43d8-949a-5a8c90e304ac",
   "metadata": {
    "tags": []
   },
   "source": [
    "How to create a 1D array?"
   ]
  },
  {
   "cell_type": "code",
   "execution_count": 32,
   "id": "79489667-1298-49e5-8d2c-911ef5d3d27b",
   "metadata": {
    "tags": []
   },
   "outputs": [],
   "source": [
    "a = np.array(np.arange(100))"
   ]
  },
  {
   "cell_type": "code",
   "execution_count": 33,
   "id": "a28e2011-7292-4994-be6b-b6d12de4cb9a",
   "metadata": {
    "tags": []
   },
   "outputs": [
    {
     "data": {
      "text/plain": [
       "array([ 0,  1,  2,  3,  4,  5,  6,  7,  8,  9, 10, 11, 12, 13, 14, 15, 16,\n",
       "       17, 18, 19, 20, 21, 22, 23, 24, 25, 26, 27, 28, 29, 30, 31, 32, 33,\n",
       "       34, 35, 36, 37, 38, 39, 40, 41, 42, 43, 44, 45, 46, 47, 48, 49, 50,\n",
       "       51, 52, 53, 54, 55, 56, 57, 58, 59, 60, 61, 62, 63, 64, 65, 66, 67,\n",
       "       68, 69, 70, 71, 72, 73, 74, 75, 76, 77, 78, 79, 80, 81, 82, 83, 84,\n",
       "       85, 86, 87, 88, 89, 90, 91, 92, 93, 94, 95, 96, 97, 98, 99])"
      ]
     },
     "execution_count": 33,
     "metadata": {},
     "output_type": "execute_result"
    }
   ],
   "source": [
    "a"
   ]
  },
  {
   "cell_type": "markdown",
   "id": "a75184b8-dc26-4ad7-8133-625846a5fcff",
   "metadata": {},
   "source": [
    "### Exercise 3."
   ]
  },
  {
   "cell_type": "markdown",
   "id": "166698c3-bad4-4644-8ccd-7fa632b76a51",
   "metadata": {},
   "source": [
    "How to create a boolean array?"
   ]
  },
  {
   "cell_type": "code",
   "execution_count": 46,
   "id": "6c5dfd6e-fac3-4483-8627-552aa8125fb9",
   "metadata": {
    "tags": []
   },
   "outputs": [
    {
     "data": {
      "text/plain": [
       "array([False, False,  True,  True,  True, False, False,  True, False,\n",
       "       False])"
      ]
     },
     "execution_count": 46,
     "metadata": {},
     "output_type": "execute_result"
    }
   ],
   "source": [
    "a = np.array(np.random.randint(0, 2, size=10), dtype=bool)\n",
    "a"
   ]
  },
  {
   "cell_type": "code",
   "execution_count": 60,
   "id": "984499e2-f095-4a36-b88e-41e6ef934f05",
   "metadata": {
    "tags": []
   },
   "outputs": [],
   "source": [
    "a = np.full((2, 2, 3), (True, False, False), dtype=bool)"
   ]
  },
  {
   "cell_type": "code",
   "execution_count": 61,
   "id": "85b34ebd-ffa2-42b4-a829-cf7f305c8424",
   "metadata": {
    "tags": []
   },
   "outputs": [
    {
     "data": {
      "text/plain": [
       "array([[[ True, False, False],\n",
       "        [ True, False, False]],\n",
       "\n",
       "       [[ True, False, False],\n",
       "        [ True, False, False]]])"
      ]
     },
     "execution_count": 61,
     "metadata": {},
     "output_type": "execute_result"
    }
   ],
   "source": [
    "a"
   ]
  },
  {
   "cell_type": "markdown",
   "id": "1c047451-4f2e-4821-bbf6-0fd5f958525f",
   "metadata": {},
   "source": [
    "### Exercise 4."
   ]
  },
  {
   "cell_type": "markdown",
   "id": "6c5090e0-cf83-42fd-810f-c1ce69c7f631",
   "metadata": {},
   "source": [
    "Create a null vector of size 10 "
   ]
  },
  {
   "cell_type": "code",
   "execution_count": 63,
   "id": "11b3605f-901f-4642-8dd5-b1e6d2db4f95",
   "metadata": {
    "tags": []
   },
   "outputs": [
    {
     "data": {
      "text/plain": [
       "array([0., 0., 0., 0., 0., 0., 0., 0., 0., 0.])"
      ]
     },
     "execution_count": 63,
     "metadata": {},
     "output_type": "execute_result"
    }
   ],
   "source": [
    "a = np.zeros(10)\n",
    "a"
   ]
  },
  {
   "cell_type": "markdown",
   "id": "bedce78e-c0aa-436f-b04a-13c617052711",
   "metadata": {
    "tags": []
   },
   "source": [
    "### Exercise 5."
   ]
  },
  {
   "cell_type": "markdown",
   "id": "bb64e619-c73a-4ce4-bb59-e20366c02561",
   "metadata": {},
   "source": [
    "How to find the memory size of any array "
   ]
  },
  {
   "cell_type": "code",
   "execution_count": 67,
   "id": "4ad7b227-6af7-44da-80ae-c6033f46abd0",
   "metadata": {
    "tags": []
   },
   "outputs": [
    {
     "data": {
      "text/plain": [
       "80"
      ]
     },
     "execution_count": 67,
     "metadata": {},
     "output_type": "execute_result"
    }
   ],
   "source": [
    "a.size * a.itemsize"
   ]
  },
  {
   "cell_type": "markdown",
   "id": "b70f90f6-84c7-4b2b-bfa4-7527fa4d4ad1",
   "metadata": {
    "tags": []
   },
   "source": [
    "### Exercise 6."
   ]
  },
  {
   "cell_type": "markdown",
   "id": "5bbbacc3-171a-4c41-bacc-88ee32c0711f",
   "metadata": {},
   "source": [
    "make zeros array with 10 elements, that $5^{th}$ element equal 1."
   ]
  },
  {
   "cell_type": "code",
   "execution_count": 87,
   "id": "e2be6a8c-6b98-4e4c-a9f0-15afa77486dd",
   "metadata": {
    "tags": []
   },
   "outputs": [
    {
     "data": {
      "text/plain": [
       "array([0, 0, 0, 0, 1, 0, 0, 0, 0, 0])"
      ]
     },
     "execution_count": 87,
     "metadata": {},
     "output_type": "execute_result"
    }
   ],
   "source": [
    "a = np.zeros(10, dtype=int)\n",
    "a[4] = 1\n",
    "a"
   ]
  },
  {
   "cell_type": "markdown",
   "id": "1b5686fd-3fb9-460e-9809-2d7ebf9a353d",
   "metadata": {},
   "source": [
    "### Exercise 7."
   ]
  },
  {
   "cell_type": "markdown",
   "id": "7871a7f3-f67e-4db8-83bc-06f69e65ecdb",
   "metadata": {},
   "source": [
    "Given are 2 similar dimensional numpy arrays, how to get a numpy array output in which every element is an element-wise sum of the 2 numpy arrays."
   ]
  },
  {
   "cell_type": "code",
   "execution_count": 94,
   "id": "ec342964-53ca-4589-9867-2818721f7921",
   "metadata": {
    "tags": []
   },
   "outputs": [
    {
     "data": {
      "text/plain": [
       "(array([[9, 9, 4],\n",
       "        [0, 7, 8]]),\n",
       " array([[4, 9, 4],\n",
       "        [3, 8, 9]]))"
      ]
     },
     "execution_count": 94,
     "metadata": {},
     "output_type": "execute_result"
    }
   ],
   "source": [
    "a = np.array(np.random.randint(0, 10, size=(2, 3)))\n",
    "b = np.array(np.random.randint(0, 10, size=(2, 3)))\n",
    "a, b"
   ]
  },
  {
   "cell_type": "code",
   "execution_count": 95,
   "id": "4b701909-7580-4830-a70d-c4e13077cbf0",
   "metadata": {
    "tags": []
   },
   "outputs": [
    {
     "data": {
      "text/plain": [
       "array([[13, 18,  8],\n",
       "       [ 3, 15, 17]])"
      ]
     },
     "execution_count": 95,
     "metadata": {},
     "output_type": "execute_result"
    }
   ],
   "source": [
    "a + b"
   ]
  },
  {
   "cell_type": "markdown",
   "id": "c8799375-8116-4807-9f96-31a27eb3ba8b",
   "metadata": {},
   "source": [
    "### Exercise 8."
   ]
  },
  {
   "cell_type": "markdown",
   "id": "9af852cc-3f55-42f0-996d-b1b513c02954",
   "metadata": {},
   "source": [
    "Given a numpy array (matrix), how to get a numpy array output which is equal to the original matrix multiplied by a scalar?"
   ]
  },
  {
   "cell_type": "code",
   "execution_count": 100,
   "id": "14d9c5a5-277d-4d8a-b8dd-b9bc13f3b69d",
   "metadata": {
    "tags": []
   },
   "outputs": [
    {
     "data": {
      "text/plain": [
       "array([[8, 3, 7],\n",
       "       [9, 9, 9]])"
      ]
     },
     "execution_count": 100,
     "metadata": {},
     "output_type": "execute_result"
    }
   ],
   "source": [
    "a = np.array(np.random.randint(0, 10, size=(2, 3)))\n",
    "a"
   ]
  },
  {
   "cell_type": "code",
   "execution_count": 101,
   "id": "7f76743e-c250-446e-9675-7f2f5b4b455b",
   "metadata": {
    "tags": []
   },
   "outputs": [
    {
     "data": {
      "text/plain": [
       "array([[24,  9, 21],\n",
       "       [27, 27, 27]])"
      ]
     },
     "execution_count": 101,
     "metadata": {},
     "output_type": "execute_result"
    }
   ],
   "source": [
    "3 * a"
   ]
  },
  {
   "cell_type": "markdown",
   "id": "b872bde9-31e1-4700-a91f-7dbb6022cea6",
   "metadata": {},
   "source": [
    "### Exercise 9."
   ]
  },
  {
   "cell_type": "markdown",
   "id": "cc01f5b3-63aa-4240-adc4-924fb42b607b",
   "metadata": {},
   "source": [
    "Create an identity matrix of dimension 4-by-4"
   ]
  },
  {
   "cell_type": "code",
   "execution_count": 105,
   "id": "653935b8-a0cd-4884-becb-9dc33dcae7be",
   "metadata": {
    "tags": []
   },
   "outputs": [
    {
     "data": {
      "text/plain": [
       "array([[1., 0., 0., 0.],\n",
       "       [0., 1., 0., 0.],\n",
       "       [0., 0., 1., 0.],\n",
       "       [0., 0., 0., 1.]])"
      ]
     },
     "execution_count": 105,
     "metadata": {},
     "output_type": "execute_result"
    }
   ],
   "source": [
    "np.eye((4))"
   ]
  },
  {
   "cell_type": "markdown",
   "id": "78372614-7746-42d1-9074-5a4818cd70d9",
   "metadata": {},
   "source": [
    "### Exercise 10."
   ]
  },
  {
   "cell_type": "markdown",
   "id": "4e23c654-6998-4743-afab-87b45b925abc",
   "metadata": {},
   "source": [
    "Convert a 1-D array to a 3-D array"
   ]
  },
  {
   "cell_type": "code",
   "execution_count": 111,
   "id": "cb539c1b-f144-4554-9139-52474c25f34b",
   "metadata": {
    "tags": []
   },
   "outputs": [],
   "source": [
    "a = np.array(np.random.randint(0, 100, 27))"
   ]
  },
  {
   "cell_type": "code",
   "execution_count": 112,
   "id": "64ab499a-f814-4c9e-9297-6a275053b84c",
   "metadata": {
    "tags": []
   },
   "outputs": [
    {
     "data": {
      "text/plain": [
       "array([[[28, 46, 33],\n",
       "        [29, 55, 72],\n",
       "        [17, 36, 77]],\n",
       "\n",
       "       [[65, 76, 90],\n",
       "        [40, 74, 11],\n",
       "        [81, 52, 14]],\n",
       "\n",
       "       [[14, 80, 28],\n",
       "        [61, 40,  0],\n",
       "        [91, 87, 65]]])"
      ]
     },
     "execution_count": 112,
     "metadata": {},
     "output_type": "execute_result"
    }
   ],
   "source": [
    "a.reshape(3, 3, 3)"
   ]
  },
  {
   "cell_type": "markdown",
   "id": "1882f1ce-e673-4553-8db9-3149b3f62746",
   "metadata": {
    "tags": []
   },
   "source": [
    "### Exercise 11."
   ]
  },
  {
   "cell_type": "markdown",
   "id": "b4b68ab2-6f39-4264-8023-6a13b015d063",
   "metadata": {},
   "source": [
    "Convert all the elements of a numpy array from float to integer datatype"
   ]
  },
  {
   "cell_type": "code",
   "execution_count": 131,
   "id": "7bec6e03-1e7d-4d5d-8437-6516b35ba1c2",
   "metadata": {
    "tags": []
   },
   "outputs": [
    {
     "data": {
      "text/plain": [
       "array([8.20089546, 7.61664306, 5.24865189, 9.38939031, 1.11283897,\n",
       "       1.30278538, 8.6181384 , 0.6031732 , 9.62607767, 5.69232473])"
      ]
     },
     "execution_count": 131,
     "metadata": {},
     "output_type": "execute_result"
    }
   ],
   "source": [
    "a = np.array(10*np.random.random(10))\n",
    "a"
   ]
  },
  {
   "cell_type": "code",
   "execution_count": 145,
   "id": "33e21a03-becd-4b4b-a10d-4258e8c55b25",
   "metadata": {
    "tags": []
   },
   "outputs": [
    {
     "data": {
      "text/plain": [
       "array([1, 0, 0, 1, 1, 0, 1, 0, 0, 1])"
      ]
     },
     "execution_count": 145,
     "metadata": {},
     "output_type": "execute_result"
    }
   ],
   "source": [
    "a.astype('int')"
   ]
  },
  {
   "cell_type": "markdown",
   "id": "7c8011c4-33dc-4d9f-9cc3-bc07ef28a661",
   "metadata": {},
   "source": [
    "### Exercise 12."
   ]
  },
  {
   "cell_type": "markdown",
   "id": "3108aa9b-e66d-4a17-89c4-a619636ab312",
   "metadata": {},
   "source": [
    "Convert a binary numpy array (containing only 0s and 1s) to a boolean numpy array"
   ]
  },
  {
   "cell_type": "code",
   "execution_count": 143,
   "id": "19f18c6c-03e4-40ca-8a64-3310a47670a2",
   "metadata": {
    "tags": []
   },
   "outputs": [
    {
     "data": {
      "text/plain": [
       "array([1, 0, 0, 1, 1, 0, 1, 0, 0, 1])"
      ]
     },
     "execution_count": 143,
     "metadata": {},
     "output_type": "execute_result"
    }
   ],
   "source": [
    "a = np.random.randint(0, 2, size=10)\n",
    "a"
   ]
  },
  {
   "cell_type": "code",
   "execution_count": 144,
   "id": "9501893d-f27b-4f80-9376-dd750e54fcf0",
   "metadata": {
    "tags": []
   },
   "outputs": [
    {
     "data": {
      "text/plain": [
       "array([ True, False, False,  True,  True, False,  True, False, False,\n",
       "        True])"
      ]
     },
     "execution_count": 144,
     "metadata": {},
     "output_type": "execute_result"
    }
   ],
   "source": [
    "a.astype('bool')"
   ]
  },
  {
   "cell_type": "markdown",
   "id": "3411e116-09cf-436e-b85d-da7b77d3ab4d",
   "metadata": {
    "tags": []
   },
   "source": [
    "### Exercise 13."
   ]
  },
  {
   "cell_type": "markdown",
   "id": "dae4def3-8930-4a62-b25b-893f8651b73c",
   "metadata": {},
   "source": [
    "Stack 2 numpy arrays horizontally i.e., 2 arrays having the same 1st dimension (number of rows in 2D arrays)"
   ]
  },
  {
   "cell_type": "code",
   "execution_count": 149,
   "id": "6af32cbb-8318-4a50-9b19-e02045e954d0",
   "metadata": {
    "tags": []
   },
   "outputs": [
    {
     "data": {
      "text/plain": [
       "(array([[88, 75, 24, 67, 34],\n",
       "        [70, 22, 82, 69, 47]]),\n",
       " array([[33, 59, 38,  1, 48],\n",
       "        [34, 58, 64, 69, 72]]))"
      ]
     },
     "execution_count": 149,
     "metadata": {},
     "output_type": "execute_result"
    }
   ],
   "source": [
    "a = np.random.randint(0, 100, size=(2, 5))\n",
    "b = np.random.randint(0, 100, size=(2, 5))\n",
    "a, b"
   ]
  },
  {
   "cell_type": "code",
   "execution_count": 151,
   "id": "0523eec5-f88c-4ef9-933c-4bf2d037098b",
   "metadata": {
    "tags": []
   },
   "outputs": [
    {
     "data": {
      "text/plain": [
       "array([[88, 75, 24, 67, 34, 33, 59, 38,  1, 48],\n",
       "       [70, 22, 82, 69, 47, 34, 58, 64, 69, 72]])"
      ]
     },
     "execution_count": 151,
     "metadata": {},
     "output_type": "execute_result"
    }
   ],
   "source": [
    "np.hstack((a, b))"
   ]
  },
  {
   "cell_type": "markdown",
   "id": "455d708e-f024-42f7-820e-cef8af556b17",
   "metadata": {},
   "source": [
    "### Exercise 14."
   ]
  },
  {
   "cell_type": "markdown",
   "id": "c9dcb014-f0a3-4482-8922-d7293b8a6722",
   "metadata": {},
   "source": [
    "Stack 2 numpy arrays vertically i.e., 2 arrays having the same last dimension (number of columns in 2D arrays)"
   ]
  },
  {
   "cell_type": "code",
   "execution_count": 152,
   "id": "a4695473-da12-4a95-a925-be8dba3aa201",
   "metadata": {
    "tags": []
   },
   "outputs": [
    {
     "data": {
      "text/plain": [
       "(array([[73, 55, 61, 93, 12],\n",
       "        [72,  3, 97, 36, 88]]),\n",
       " array([[24, 36,  0, 46, 85],\n",
       "        [30, 94, 63, 60, 57]]))"
      ]
     },
     "execution_count": 152,
     "metadata": {},
     "output_type": "execute_result"
    }
   ],
   "source": [
    "a = np.random.randint(0, 100, size=(2, 5))\n",
    "b = np.random.randint(0, 100, size=(2, 5))\n",
    "a, b"
   ]
  },
  {
   "cell_type": "code",
   "execution_count": 158,
   "id": "2f459f66-abea-4fd9-b601-216781827441",
   "metadata": {
    "tags": []
   },
   "outputs": [
    {
     "data": {
      "text/plain": [
       "array([[73, 55, 61, 93, 12],\n",
       "       [72,  3, 97, 36, 88],\n",
       "       [24, 36,  0, 46, 85],\n",
       "       [30, 94, 63, 60, 57]])"
      ]
     },
     "execution_count": 158,
     "metadata": {},
     "output_type": "execute_result"
    }
   ],
   "source": [
    "np.vstack((a, b))"
   ]
  },
  {
   "cell_type": "markdown",
   "id": "2e92e560-bedf-4d1a-b6e1-fa68773ba742",
   "metadata": {},
   "source": [
    "### Exercise 15."
   ]
  },
  {
   "cell_type": "markdown",
   "id": "0936b2f5-bd85-433b-bfcb-8003cc986b7b",
   "metadata": {},
   "source": [
    "Generate a sequence of numbers in the form of a numpy array from 0 to 100 with gaps of 2 numbers, for example: 0, 2, 4 ...."
   ]
  },
  {
   "cell_type": "code",
   "execution_count": 156,
   "id": "e0bfb84c-defa-4f1c-bcf2-e12f01d433b0",
   "metadata": {
    "tags": []
   },
   "outputs": [
    {
     "data": {
      "text/plain": [
       "array([  0,   2,   4,   6,   8,  10,  12,  14,  16,  18,  20,  22,  24,\n",
       "        26,  28,  30,  32,  34,  36,  38,  40,  42,  44,  46,  48,  50,\n",
       "        52,  54,  56,  58,  60,  62,  64,  66,  68,  70,  72,  74,  76,\n",
       "        78,  80,  82,  84,  86,  88,  90,  92,  94,  96,  98, 100])"
      ]
     },
     "execution_count": 156,
     "metadata": {},
     "output_type": "execute_result"
    }
   ],
   "source": [
    "np.arange(0, 101, 2)"
   ]
  },
  {
   "cell_type": "markdown",
   "id": "cec7aae5-aadf-44ef-8990-ab61b5d2ad0f",
   "metadata": {},
   "source": [
    "### Exercise 16."
   ]
  },
  {
   "cell_type": "markdown",
   "id": "a2a5b8b6-f97d-45ce-808e-b67eee4ac431",
   "metadata": {},
   "source": [
    "From 2 numpy arrays, extract the indexes in which the elements in the 2 arrays match"
   ]
  },
  {
   "cell_type": "code",
   "execution_count": 185,
   "id": "78c091bf-118f-48d3-a064-2152e720395e",
   "metadata": {
    "tags": []
   },
   "outputs": [],
   "source": [
    "a = np.array([1, 2, 3, 4, 5, 6, 7, 8, 9, 10])\n",
    "b = np.array([1, 2, 4, 4, 0, 6, 1, 4, 1, 10])"
   ]
  },
  {
   "cell_type": "code",
   "execution_count": 186,
   "id": "1413bf5e-3473-4e50-a690-c367fd501aa1",
   "metadata": {
    "tags": []
   },
   "outputs": [
    {
     "data": {
      "text/plain": [
       "(array([0, 1, 3, 5, 9]),)"
      ]
     },
     "execution_count": 186,
     "metadata": {},
     "output_type": "execute_result"
    }
   ],
   "source": [
    "np.where(a == b)"
   ]
  },
  {
   "cell_type": "markdown",
   "id": "c05525b4-f23d-419e-855d-72239306932d",
   "metadata": {},
   "source": [
    "### Exercise 17."
   ]
  },
  {
   "cell_type": "markdown",
   "id": "34f7d1f0-356d-477e-9572-1b75e0d1c7d3",
   "metadata": {},
   "source": [
    "Output a sequence of equally gapped 5 numbers in the range 0 to 100 (both inclusive)"
   ]
  },
  {
   "cell_type": "code",
   "execution_count": 190,
   "id": "e4b6f854-f30c-4996-80f8-e150261efff8",
   "metadata": {
    "tags": []
   },
   "outputs": [
    {
     "data": {
      "text/plain": [
       "array([  0.,  25.,  50.,  75., 100.])"
      ]
     },
     "execution_count": 190,
     "metadata": {},
     "output_type": "execute_result"
    }
   ],
   "source": [
    "np.linspace(0, 100, 5)"
   ]
  },
  {
   "cell_type": "markdown",
   "id": "08c795e1-d369-4c2d-bea0-3d5ce27808fb",
   "metadata": {
    "tags": []
   },
   "source": [
    "### Exercise 18."
   ]
  },
  {
   "cell_type": "markdown",
   "id": "a1c1185b-35d1-4a6b-9d7a-6754506919d6",
   "metadata": {},
   "source": [
    "Output a matrix (numpy array) of dimension 2-by-3 with each and every value equal to 5"
   ]
  },
  {
   "cell_type": "code",
   "execution_count": 189,
   "id": "8a2d05ae-8b10-422c-843b-4bef16da3fcb",
   "metadata": {
    "tags": []
   },
   "outputs": [
    {
     "data": {
      "text/plain": [
       "array([[5, 5, 5],\n",
       "       [5, 5, 5]])"
      ]
     },
     "execution_count": 189,
     "metadata": {},
     "output_type": "execute_result"
    }
   ],
   "source": [
    "np.full((2, 3), 5)"
   ]
  },
  {
   "cell_type": "markdown",
   "id": "4153e205-3feb-4d97-999e-09f35fd2fd8c",
   "metadata": {},
   "source": [
    "### Exercise 19."
   ]
  },
  {
   "cell_type": "markdown",
   "id": "7d8e7683-e01d-4b89-9096-a5cef4936dfc",
   "metadata": {},
   "source": [
    "Take a two-dimensional array with random data and print the sorted array at the output"
   ]
  },
  {
   "cell_type": "code",
   "execution_count": 193,
   "id": "b0b17359-087d-45c4-ab6d-3961cf80feb7",
   "metadata": {
    "tags": []
   },
   "outputs": [
    {
     "data": {
      "text/plain": [
       "array([[64, 17, 95, 19, 85, 93, 99, 97, 64, 37],\n",
       "       [62,  9, 30, 37, 48, 28, 81, 80, 89, 26]])"
      ]
     },
     "execution_count": 193,
     "metadata": {},
     "output_type": "execute_result"
    }
   ],
   "source": [
    "a = np.array(np.random.randint(0, 100, size=(2, 10)))\n",
    "a"
   ]
  },
  {
   "cell_type": "code",
   "execution_count": 194,
   "id": "651f7bed-c707-46cc-ba8a-6b72483ec150",
   "metadata": {
    "tags": []
   },
   "outputs": [
    {
     "data": {
      "text/plain": [
       "array([[17, 19, 37, 64, 64, 85, 93, 95, 97, 99],\n",
       "       [ 9, 26, 28, 30, 37, 48, 62, 80, 81, 89]])"
      ]
     },
     "execution_count": 194,
     "metadata": {},
     "output_type": "execute_result"
    }
   ],
   "source": [
    "np.sort(a)"
   ]
  },
  {
   "cell_type": "markdown",
   "id": "ed946044-4204-4aa0-bf0a-9bde6483343a",
   "metadata": {},
   "source": [
    "### Exercise 20."
   ]
  },
  {
   "cell_type": "markdown",
   "id": "1dc43fe4-8748-447f-b887-60259f8a220c",
   "metadata": {},
   "source": [
    "Output an array by repeating a smaller array of 2 dimensions, 10 times"
   ]
  },
  {
   "cell_type": "code",
   "execution_count": 198,
   "id": "f62fdc3c-e010-4603-8377-7d7f1a74870a",
   "metadata": {
    "tags": []
   },
   "outputs": [],
   "source": [
    "a = np.array([[1, 2, 3], [4, 5, 6]])"
   ]
  },
  {
   "cell_type": "code",
   "execution_count": 199,
   "id": "ca23d61d-758b-44f2-ad7b-5699397dd10d",
   "metadata": {
    "tags": []
   },
   "outputs": [
    {
     "data": {
      "text/plain": [
       "array([[1, 2, 3, 1, 2, 3, 1, 2, 3, 1, 2, 3, 1, 2, 3, 1, 2, 3, 1, 2, 3, 1,\n",
       "        2, 3, 1, 2, 3, 1, 2, 3],\n",
       "       [4, 5, 6, 4, 5, 6, 4, 5, 6, 4, 5, 6, 4, 5, 6, 4, 5, 6, 4, 5, 6, 4,\n",
       "        5, 6, 4, 5, 6, 4, 5, 6]])"
      ]
     },
     "execution_count": 199,
     "metadata": {},
     "output_type": "execute_result"
    }
   ],
   "source": [
    "np.tile(a, 10)"
   ]
  },
  {
   "cell_type": "markdown",
   "id": "300db2ab-a5b1-46f7-ad88-fb7b990870ab",
   "metadata": {},
   "source": [
    "### Exercise 21."
   ]
  },
  {
   "cell_type": "markdown",
   "id": "a3514ce0-85df-48d6-91ac-05d6048c0e53",
   "metadata": {},
   "source": [
    "Output a 5-by-5 array of random integers between 0 (inclusive) and 10 (exclusive)"
   ]
  },
  {
   "cell_type": "code",
   "execution_count": 200,
   "id": "a31ad203-9369-4f5f-9933-c7756004bca7",
   "metadata": {
    "tags": []
   },
   "outputs": [
    {
     "data": {
      "text/plain": [
       "array([[5, 7, 1, 2, 4],\n",
       "       [3, 0, 9, 0, 9],\n",
       "       [5, 4, 5, 1, 3],\n",
       "       [6, 4, 7, 0, 8],\n",
       "       [3, 8, 9, 6, 5]])"
      ]
     },
     "execution_count": 200,
     "metadata": {},
     "output_type": "execute_result"
    }
   ],
   "source": [
    "np.random.randint(0, 10, size=(5, 5))"
   ]
  },
  {
   "cell_type": "markdown",
   "id": "983382a8-0b44-40ee-bfef-b95df6eeefaf",
   "metadata": {},
   "source": [
    "### Exercise 22."
   ]
  },
  {
   "cell_type": "markdown",
   "id": "5c16660d-9037-4a42-ac0e-36abd082a3ec",
   "metadata": {},
   "source": [
    "Output a 3-by-3 array of random numbers following normal distribution"
   ]
  },
  {
   "cell_type": "code",
   "execution_count": 203,
   "id": "f39fb618-4fd2-4730-b1aa-f5c96eb5a0ab",
   "metadata": {
    "tags": []
   },
   "outputs": [
    {
     "data": {
      "text/plain": [
       "array([[-1.61866255, -0.27699707, -0.83653769],\n",
       "       [-0.324253  ,  0.31194097, -0.65386135],\n",
       "       [ 0.71081347, -2.13834325, -0.63436713]])"
      ]
     },
     "execution_count": 203,
     "metadata": {},
     "output_type": "execute_result"
    }
   ],
   "source": [
    "np.random.normal(size=(3, 3))"
   ]
  },
  {
   "cell_type": "markdown",
   "id": "e284ac8b-65f1-4372-9b5e-38038594b5b7",
   "metadata": {},
   "source": [
    "### Exercise 23."
   ]
  },
  {
   "cell_type": "markdown",
   "id": "cc2c6722-e567-448c-bce3-c759bf7a1e5a",
   "metadata": {},
   "source": [
    "Given 2 numpy arrays as matrices, output the result of multiplying the 2 matrices (as a numpy array)"
   ]
  },
  {
   "cell_type": "code",
   "execution_count": 206,
   "id": "b09d50be-5614-41c4-9402-9294de1b604a",
   "metadata": {
    "tags": []
   },
   "outputs": [
    {
     "data": {
      "text/plain": [
       "(array([[3, 9, 6],\n",
       "        [4, 1, 9],\n",
       "        [7, 2, 7]]),\n",
       " array([[0, 1, 9],\n",
       "        [3, 2, 9],\n",
       "        [4, 9, 8]]))"
      ]
     },
     "execution_count": 206,
     "metadata": {},
     "output_type": "execute_result"
    }
   ],
   "source": [
    "a = np.array(np.random.randint(0, 10, size=(3, 3)))\n",
    "b = np.array(np.random.randint(0, 10, size=(3, 3)))\n",
    "a, b"
   ]
  },
  {
   "cell_type": "code",
   "execution_count": 207,
   "id": "5a8226c9-624e-4c12-9c92-64f0076b8301",
   "metadata": {
    "tags": []
   },
   "outputs": [
    {
     "data": {
      "text/plain": [
       "array([[ 51,  75, 156],\n",
       "       [ 39,  87, 117],\n",
       "       [ 34,  74, 137]])"
      ]
     },
     "execution_count": 207,
     "metadata": {},
     "output_type": "execute_result"
    }
   ],
   "source": [
    "a @ b"
   ]
  },
  {
   "cell_type": "code",
   "execution_count": 208,
   "id": "cca0b589-fdaa-4a7c-8d25-17e3534d68d6",
   "metadata": {
    "tags": []
   },
   "outputs": [
    {
     "data": {
      "text/plain": [
       "array([[ 51,  75, 156],\n",
       "       [ 39,  87, 117],\n",
       "       [ 34,  74, 137]])"
      ]
     },
     "execution_count": 208,
     "metadata": {},
     "output_type": "execute_result"
    }
   ],
   "source": [
    "np.matmul(a, b)"
   ]
  },
  {
   "cell_type": "markdown",
   "id": "af37fb92-d4e2-4443-a5bb-b2032759535b",
   "metadata": {
    "tags": []
   },
   "source": [
    "### Exercise 24."
   ]
  },
  {
   "cell_type": "markdown",
   "id": "73664df1-2c10-4c3c-a42e-aea1a969db99",
   "metadata": {
    "tags": []
   },
   "source": [
    "Output the transpose of a matrix (as numpy array)"
   ]
  },
  {
   "cell_type": "code",
   "execution_count": 211,
   "id": "6803b3ef-fea8-4e64-878e-c2d734a0916f",
   "metadata": {
    "tags": []
   },
   "outputs": [
    {
     "data": {
      "text/plain": [
       "array([[3, 9, 5],\n",
       "       [9, 9, 9],\n",
       "       [1, 3, 9]])"
      ]
     },
     "execution_count": 211,
     "metadata": {},
     "output_type": "execute_result"
    }
   ],
   "source": [
    "a = np.array(np.random.randint(0, 10, size=(3, 3)))\n",
    "a"
   ]
  },
  {
   "cell_type": "code",
   "execution_count": 213,
   "id": "338a87a6-f754-49ca-b213-dce618300a6f",
   "metadata": {
    "tags": []
   },
   "outputs": [
    {
     "data": {
      "text/plain": [
       "array([[3, 9, 1],\n",
       "       [9, 9, 3],\n",
       "       [5, 9, 9]])"
      ]
     },
     "execution_count": 213,
     "metadata": {},
     "output_type": "execute_result"
    }
   ],
   "source": [
    "a.T"
   ]
  },
  {
   "cell_type": "code",
   "execution_count": 215,
   "id": "cc0c1069-5fee-47ce-9e8c-c0e2b96580c9",
   "metadata": {
    "tags": []
   },
   "outputs": [
    {
     "data": {
      "text/plain": [
       "array([[3, 9, 1],\n",
       "       [9, 9, 3],\n",
       "       [5, 9, 9]])"
      ]
     },
     "execution_count": 215,
     "metadata": {},
     "output_type": "execute_result"
    }
   ],
   "source": [
    "a.transpose()"
   ]
  },
  {
   "cell_type": "markdown",
   "id": "1178470d-e4f2-4924-ba3c-58f31f947ba2",
   "metadata": {},
   "source": [
    "### Exercise 25."
   ]
  },
  {
   "cell_type": "markdown",
   "id": "ebf5fb56-ee69-4e1c-ae82-5126d31b137c",
   "metadata": {},
   "source": [
    "Calculate the sine of an array of angles (in radians) using NumPy"
   ]
  },
  {
   "cell_type": "code",
   "execution_count": 216,
   "id": "c74b5753-7a24-4df4-bee5-49a06607a08d",
   "metadata": {
    "tags": []
   },
   "outputs": [],
   "source": [
    "import math"
   ]
  },
  {
   "cell_type": "code",
   "execution_count": 217,
   "id": "d8101730-7fa0-4d2d-99e3-40471ad77e38",
   "metadata": {
    "tags": []
   },
   "outputs": [],
   "source": [
    "angles = np.array([math.pi, math.pi/2, 2 * math.pi])"
   ]
  },
  {
   "cell_type": "code",
   "execution_count": 219,
   "id": "f7af5d00-b3b0-45e4-a054-11f034f27a59",
   "metadata": {
    "tags": []
   },
   "outputs": [
    {
     "data": {
      "text/plain": [
       "array([ 1.22464680e-16,  9.99999683e-01, -3.18530179e-03])"
      ]
     },
     "execution_count": 219,
     "metadata": {},
     "output_type": "execute_result"
    }
   ],
   "source": [
    "np.sin(angles)"
   ]
  },
  {
   "cell_type": "markdown",
   "id": "d0f99f4f-b698-4a10-9f91-bbb51b848710",
   "metadata": {},
   "source": [
    "### Exercise 26."
   ]
  },
  {
   "cell_type": "markdown",
   "id": "3663e08d-a1d2-4b49-a6db-b4c810d0d9c7",
   "metadata": {},
   "source": [
    "Calculate the cosine similarity of 2 vectors (as numpy arrays)"
   ]
  },
  {
   "cell_type": "code",
   "execution_count": 220,
   "id": "bb7417ce-a608-4d37-8fae-e5d7811b696f",
   "metadata": {
    "tags": []
   },
   "outputs": [
    {
     "data": {
      "text/plain": [
       "array([-1.00000000e+00,  7.96326711e-04,  9.99994927e-01])"
      ]
     },
     "execution_count": 220,
     "metadata": {},
     "output_type": "execute_result"
    }
   ],
   "source": [
    "np.cos(angles)"
   ]
  },
  {
   "cell_type": "markdown",
   "id": "3ea20a7e-2c37-438d-99d8-b186972292b6",
   "metadata": {},
   "source": [
    "### Exercise 27."
   ]
  },
  {
   "cell_type": "markdown",
   "id": "f4362bbe-f228-4ed8-b96b-dc4c40493c13",
   "metadata": {},
   "source": [
    "Output the array element indexes such that the array elements appear in the ascending order"
   ]
  },
  {
   "cell_type": "code",
   "execution_count": 221,
   "id": "04c53dfc-3c6b-461a-a0a8-cafb99c509f3",
   "metadata": {
    "tags": []
   },
   "outputs": [
    {
     "data": {
      "text/plain": [
       "array([5, 2, 6, 5, 7, 7, 7, 9, 6, 6])"
      ]
     },
     "execution_count": 221,
     "metadata": {},
     "output_type": "execute_result"
    }
   ],
   "source": [
    "a = np.array(np.random.randint(0, 10, size=10))\n",
    "a"
   ]
  },
  {
   "cell_type": "code",
   "execution_count": 222,
   "id": "8884d6cc-3ced-4cf8-9502-33ccf5ca4521",
   "metadata": {
    "tags": []
   },
   "outputs": [
    {
     "data": {
      "text/plain": [
       "array([1, 0, 3, 2, 9, 8, 4, 5, 6, 7])"
      ]
     },
     "execution_count": 222,
     "metadata": {},
     "output_type": "execute_result"
    }
   ],
   "source": [
    "np.argsort(a)"
   ]
  },
  {
   "cell_type": "markdown",
   "id": "df009dfb-64ff-41fa-8219-522aea7130f5",
   "metadata": {
    "tags": []
   },
   "source": [
    "### Exercise 28."
   ]
  },
  {
   "cell_type": "markdown",
   "id": "216c60e1-d9c2-4ab8-be40-06ecd78744db",
   "metadata": {},
   "source": [
    "What is the output of the below code snippet?\n",
    "```python\n",
    "import numpy as np\n",
    "arr = np.array([[4,2,0,5],[1,3,5,7]])\n",
    "arr.size\n",
    "```"
   ]
  },
  {
   "cell_type": "code",
   "execution_count": 225,
   "id": "6d81355b-ca2a-423b-9f49-1c28c43bfbde",
   "metadata": {
    "tags": []
   },
   "outputs": [],
   "source": [
    "import numpy as np"
   ]
  },
  {
   "cell_type": "code",
   "execution_count": 227,
   "id": "bb808a26-0c15-4beb-8065-a0c0b563e0c8",
   "metadata": {
    "tags": []
   },
   "outputs": [],
   "source": [
    "arr = np.array([[4,2,0,5],[1,3,5,7]])"
   ]
  },
  {
   "cell_type": "code",
   "execution_count": 228,
   "id": "a5a71fb1-b62b-4f29-af56-db97c5decc67",
   "metadata": {
    "tags": []
   },
   "outputs": [
    {
     "data": {
      "text/plain": [
       "8"
      ]
     },
     "execution_count": 228,
     "metadata": {},
     "output_type": "execute_result"
    }
   ],
   "source": [
    "arr.size"
   ]
  },
  {
   "cell_type": "markdown",
   "id": "dcd90377-df1f-4b1a-a097-15540f4a0f97",
   "metadata": {},
   "source": [
    "### Exercise 29."
   ]
  },
  {
   "cell_type": "markdown",
   "id": "aef0f765-d0b8-4fd6-9c53-a0c7777e65b1",
   "metadata": {},
   "source": [
    "we going to sort 3-D array `a`, but not in `axis=-1`."
   ]
  },
  {
   "cell_type": "markdown",
   "id": "f0b419c3-0227-4cf2-9e48-ffbf3cc7ac60",
   "metadata": {
    "tags": []
   },
   "source": [
    "**array a:**"
   ]
  },
  {
   "cell_type": "code",
   "execution_count": 254,
   "id": "5e850f6b-f7b3-4e3c-9da4-bd6baa8ca63d",
   "metadata": {
    "tags": []
   },
   "outputs": [
    {
     "data": {
      "text/plain": [
       "array([[[8, 6, 5],\n",
       "        [3, 3, 1],\n",
       "        [1, 1, 2]],\n",
       "\n",
       "       [[8, 6, 9],\n",
       "        [5, 6, 9],\n",
       "        [7, 6, 5]],\n",
       "\n",
       "       [[6, 9, 3],\n",
       "        [8, 7, 1],\n",
       "        [4, 8, 5]]])"
      ]
     },
     "execution_count": 254,
     "metadata": {},
     "output_type": "execute_result"
    }
   ],
   "source": [
    "from numpy.random import default_rng\n",
    "\n",
    "\n",
    "rng = default_rng(seed=0)\n",
    "a = rng.integers(1,10,size=(3,3,3))\n",
    "a"
   ]
  },
  {
   "cell_type": "markdown",
   "id": "836b2d91-7764-4291-b6d4-2ce3bd77eb13",
   "metadata": {},
   "source": [
    "**when we sort array:**"
   ]
  },
  {
   "cell_type": "code",
   "execution_count": 255,
   "id": "30d1a1a2-3749-4069-955d-5cf976ce1b3c",
   "metadata": {
    "tags": []
   },
   "outputs": [
    {
     "data": {
      "text/plain": [
       "array([[[5, 6, 8],\n",
       "        [1, 3, 3],\n",
       "        [1, 1, 2]],\n",
       "\n",
       "       [[6, 8, 9],\n",
       "        [5, 6, 9],\n",
       "        [5, 6, 7]],\n",
       "\n",
       "       [[3, 6, 9],\n",
       "        [1, 7, 8],\n",
       "        [4, 5, 8]]])"
      ]
     },
     "execution_count": 255,
     "metadata": {},
     "output_type": "execute_result"
    }
   ],
   "source": [
    "np.sort(a)"
   ]
  },
  {
   "cell_type": "markdown",
   "id": "f49ddd8a-dd91-4ec7-afa2-09a71d6b78aa",
   "metadata": {
    "tags": []
   },
   "source": [
    "**But what we want:**\n",
    "```python\n",
    "array([[[1, 1, 1],\n",
    "        [3, 3, 2],\n",
    "        [8, 6, 5]],\n",
    "\n",
    "       [[5, 6, 5],\n",
    "        [7, 6, 9],\n",
    "        [8, 6, 9]],\n",
    "\n",
    "       [[4, 7, 1],\n",
    "        [6, 8, 3],\n",
    "        [8, 9, 5]]])\n",
    "```"
   ]
  },
  {
   "cell_type": "markdown",
   "id": "9f7ec244-b555-47dd-a9f3-fa6395d5b4b4",
   "metadata": {},
   "source": [
    "#### Solution:"
   ]
  },
  {
   "cell_type": "code",
   "execution_count": 252,
   "id": "7703ef9d-cd06-4620-b4db-34b7b7afd8e6",
   "metadata": {
    "tags": []
   },
   "outputs": [
    {
     "data": {
      "text/plain": [
       "array([[[1, 1, 1],\n",
       "        [3, 3, 2],\n",
       "        [8, 6, 5]],\n",
       "\n",
       "       [[5, 6, 5],\n",
       "        [7, 6, 9],\n",
       "        [8, 6, 9]],\n",
       "\n",
       "       [[4, 7, 1],\n",
       "        [6, 8, 3],\n",
       "        [8, 9, 5]]])"
      ]
     },
     "execution_count": 252,
     "metadata": {},
     "output_type": "execute_result"
    }
   ],
   "source": [
    "np.sort(a, axis=1)"
   ]
  },
  {
   "cell_type": "markdown",
   "id": "7ec61228-639d-4734-973a-fb9af8a283af",
   "metadata": {
    "tags": []
   },
   "source": [
    "### Exercise 30."
   ]
  },
  {
   "cell_type": "markdown",
   "id": "604258c4-024a-4f79-96c8-6dd6744cf863",
   "metadata": {},
   "source": [
    "The heart rate of the patient was recorded in the x array on two consecutive days. Each row of this array represents the data recorded in one day.\n",
    "We ask you to calculate the mean and standard deviation of each day using aggregation functions of Numpy.\n",
    "```python\n",
    "import numpy as np\n",
    "\n",
    "\n",
    "x = np.array([[90, 87, 83, 100, 72, 67, 69, 73, 70],\n",
    "              [80, 91, 111, 90, 62, 57, 59, 63, 60]])\n",
    "```"
   ]
  },
  {
   "cell_type": "markdown",
   "id": "ab203be3-2564-40af-91aa-b48ea5ccc575",
   "metadata": {},
   "source": [
    "#### Solution:"
   ]
  },
  {
   "cell_type": "code",
   "execution_count": 257,
   "id": "302ae20c-f24d-40b3-b35e-4d8bb8d818e5",
   "metadata": {
    "tags": []
   },
   "outputs": [],
   "source": [
    "import numpy as np\n",
    "\n",
    "\n",
    "x = np.array([[90, 87, 83, 100, 72, 67, 69, 73, 70],\n",
    "              [80, 91, 111, 90, 62, 57, 59, 63, 60]])"
   ]
  },
  {
   "cell_type": "code",
   "execution_count": 266,
   "id": "38f45aeb-8b37-4bf8-8953-50682ac1fc84",
   "metadata": {
    "tags": []
   },
   "outputs": [
    {
     "data": {
      "text/plain": [
       "array([[79.        , 10.81151649],\n",
       "       [74.77777778, 18.01097059]])"
      ]
     },
     "execution_count": 266,
     "metadata": {},
     "output_type": "execute_result"
    }
   ],
   "source": [
    "np.array([np.mean(x, axis=-1), np.std(x, axis=-1)]).T"
   ]
  },
  {
   "cell_type": "markdown",
   "id": "84ce1baa-9986-4608-a614-f932eb5b5a34",
   "metadata": {},
   "source": [
    "### Exercise 31.Reshape Manipulation"
   ]
  },
  {
   "cell_type": "markdown",
   "id": "08293971-eef1-43a8-8548-675169d3c676",
   "metadata": {},
   "source": [
    "- Start with a random 3D array of shape (3, 4, 5)\n",
    "- Reshape it to have shape (5, 4, 3) using .reshape()\n",
    "- Verify that the total number of elements is unchanged"
   ]
  },
  {
   "cell_type": "code",
   "execution_count": 1,
   "id": "b3d04ad4-1e92-4078-9b44-32c3db67a26a",
   "metadata": {
    "tags": []
   },
   "outputs": [
    {
     "name": "stdout",
     "output_type": "stream",
     "text": [
      "Original Shape: (3, 4, 5)\n",
      "New Shape: (5, 4, 3)\n"
     ]
    }
   ],
   "source": [
    "import numpy as np\n",
    "\n",
    "orig_arr = np.random.rand(3, 4, 5)\n",
    "print(\"Original Shape:\", orig_arr.shape)\n",
    "\n",
    "new_arr = orig_arr.reshape(5, 4, 3)\n",
    "print(\"New Shape:\", new_arr.shape)\n",
    "\n",
    "assert orig_arr.size == new_arr.size"
   ]
  },
  {
   "cell_type": "markdown",
   "id": "f56c6b1f-9f6b-424b-bf5d-662b73114bff",
   "metadata": {},
   "source": [
    "### Exercise 32.Array Concatenation"
   ]
  },
  {
   "cell_type": "markdown",
   "id": "5c6349f1-ec0b-47d2-b6f1-411a1b44d90a",
   "metadata": {},
   "source": [
    "- Generate two random integer arrays of shape (3, 4)\n",
    "- Concatenate them vertically and horizontally\n",
    "- Print the shapes of the concatenated arrays"
   ]
  },
  {
   "cell_type": "code",
   "execution_count": null,
   "id": "83e06868-4502-4e51-9fdb-4e8c9f5c1ba2",
   "metadata": {},
   "outputs": [],
   "source": [
    "import numpy as np\n",
    "\n",
    "arr1 = np.random.randint(0, 10, (3, 4))\n",
    "arr2 = np.random.randint(0, 10, (3, 4))\n",
    "\n",
    "vert_cat = np.vstack((arr1, arr2))\n",
    "horz_cat = np.hstack((arr1, arr2))\n",
    "\n",
    "print(\"Vertical Concat Shape:\", vert_cat.shape)  \n",
    "print(\"Horizontal Concat Shape:\", horz_cat.shape)"
   ]
  },
  {
   "cell_type": "markdown",
   "id": "c3933310-3c05-4ca9-a48f-7aa4ab790b68",
   "metadata": {},
   "source": [
    "### Exercise 33.Boolean Indexing"
   ]
  },
  {
   "cell_type": "markdown",
   "id": "9f435813-b1f7-45c8-874d-0ae13e93c144",
   "metadata": {},
   "source": [
    "- Create an array of normally distributed random numbers\n",
    "- Use boolean indexing to filter values within 2 standard deviations\n",
    "- Print the percentage filtered"
   ]
  },
  {
   "cell_type": "code",
   "execution_count": 2,
   "id": "0660a78e-6003-45e2-8425-142a98a8f337",
   "metadata": {
    "tags": []
   },
   "outputs": [
    {
     "name": "stdout",
     "output_type": "stream",
     "text": [
      "95.39999999999999 % filtered\n"
     ]
    }
   ],
   "source": [
    "import numpy as np\n",
    "\n",
    "arr = np.random.normal(size=1000)\n",
    "filt = arr[(np.abs(arr) < 2*arr.std())]\n",
    "\n",
    "print(len(filt)/len(arr) * 100, \"% filtered\")"
   ]
  },
  {
   "cell_type": "markdown",
   "id": "ff778f64-7119-482f-b20e-ddef2865a21a",
   "metadata": {},
   "source": [
    "### Exercise 34.Aggregation"
   ]
  },
  {
   "cell_type": "markdown",
   "id": "aa4eb66d-7577-475c-8472-dd1034716faf",
   "metadata": {},
   "source": [
    "- Generate a random integer array of size 1000\n",
    "- Use aggregation functions like sum, min, max, mean on array\n",
    "- Time each operation to compare speeds"
   ]
  },
  {
   "cell_type": "code",
   "execution_count": null,
   "id": "9db4abfd-eec1-4349-9d6f-2c707a3114f0",
   "metadata": {},
   "outputs": [],
   "source": [
    "import numpy as np\n",
    "import time\n",
    "\n",
    "arr = np.random.randint(0, 1000, 1000)\n",
    "\n",
    "t1 = time.time()\n",
    "arr.sum() \n",
    "t2 = time.time()\n",
    "print(\"Sum time:\", t2 - t1)\n",
    "\n",
    "t1 = time.time()  \n",
    "arr.min()\n",
    "t2 = time.time()\n",
    "print(\"Min time:\", t2 - t1)\n",
    "\n"
   ]
  },
  {
   "cell_type": "markdown",
   "id": "e3171539-2c3c-4fa4-a782-4b43c0276d80",
   "metadata": {},
   "source": [
    "### Exercise 35.Memory Sharing"
   ]
  },
  {
   "cell_type": "markdown",
   "id": "df7b5a1f-17bd-4370-83ca-7c2de58f7ed6",
   "metadata": {},
   "source": [
    "- Create a slice of an array and assign it to new variable\n",
    "- Check if they share memory using `may_share_memory()`\n",
    "- Repeat with indexing instead of slicing"
   ]
  },
  {
   "cell_type": "code",
   "execution_count": 3,
   "id": "6a674af0-7004-400e-b23e-cfe8a6515c45",
   "metadata": {
    "tags": []
   },
   "outputs": [
    {
     "name": "stdout",
     "output_type": "stream",
     "text": [
      "True\n",
      "False\n"
     ]
    }
   ],
   "source": [
    "import numpy as np\n",
    "\n",
    "arr = np.random.rand(5, 5)\n",
    "view = arr[:, 1:3]\n",
    "print(np.may_share_memory(arr, view)) \n",
    "\n",
    "copy = arr[[0, 1], 1:3]  \n",
    "print(np.may_share_memory(arr, copy))"
   ]
  },
  {
   "cell_type": "markdown",
   "id": "815b388c-7744-4db0-b72c-a0c378e23e55",
   "metadata": {},
   "source": []
  }
 ],
 "metadata": {
  "kernelspec": {
   "display_name": "Python 3 (ipykernel)",
   "language": "python",
   "name": "python3"
  },
  "language_info": {
   "codemirror_mode": {
    "name": "ipython",
    "version": 3
   },
   "file_extension": ".py",
   "mimetype": "text/x-python",
   "name": "python",
   "nbconvert_exporter": "python",
   "pygments_lexer": "ipython3",
   "version": "3.11.4"
  }
 },
 "nbformat": 4,
 "nbformat_minor": 5
}
