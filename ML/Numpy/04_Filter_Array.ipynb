{
 "cells": [
  {
   "cell_type": "markdown",
   "id": "64771920-62c4-44c2-9171-c0eccb36ba01",
   "metadata": {
    "tags": []
   },
   "source": [
    "# <center> <div style=\"width: 370px;\"> ![numpy title](pictures/numpy_tytle.jpg)"
   ]
  },
  {
   "cell_type": "markdown",
   "id": "28a3bbf1-bf0d-4e71-b9d3-6bb4218cb1ab",
   "metadata": {},
   "source": [
    "# <center> Data Science Operations: Indexing, Filter"
   ]
  },
  {
   "cell_type": "markdown",
   "id": "15e80f2b-cbc6-4fff-8343-532c87809869",
   "metadata": {},
   "source": [
    "## Indexing"
   ]
  },
  {
   "cell_type": "markdown",
   "id": "a8a0a3b4-45e5-4fb9-b97b-3155b7ec2390",
   "metadata": {},
   "source": [
    "Indexing in NumPy refers to the process of accessing elements or subsets of elements from a NumPy array. NumPy arrays are similar to Python lists, but they can have multiple dimensions, which makes indexing more versatile."
   ]
  },
  {
   "cell_type": "markdown",
   "id": "52af12f9-8a63-4e96-ad76-42d301210a0f",
   "metadata": {},
   "source": [
    "ndarrays can be indexed using the standard Python `x[obj]` syntax, where `x` is the array and `obj` the selection. There are different kinds of indexing available depending on `obj`:"
   ]
  },
  {
   "cell_type": "markdown",
   "id": "a11b6ee4-f58d-417d-b569-8e9667123bd8",
   "metadata": {},
   "source": [
    "- Basic indexing\n",
    "- Advanced indexing\n",
    "- Field access."
   ]
  },
  {
   "cell_type": "markdown",
   "id": "fe083f6f-2453-4f22-b1f5-818d288d1dd6",
   "metadata": {},
   "source": [
    "Here’s the difference: NumPy arrays use commas between axes, so you can index multiple axes in one set of square brackets."
   ]
  },
  {
   "cell_type": "markdown",
   "id": "86de7b29-6d3d-4038-927a-ea30fa6400b5",
   "metadata": {},
   "source": [
    "> Note that in Python, `x[(exp1, exp2, ..., expN)]` is equivalent to `x[exp1, exp2, ..., expN]`; the latter is just syntactic sugar for the former. This will come handy later in Advanced Indexing."
   ]
  },
  {
   "cell_type": "markdown",
   "id": "d4f570f6-c9b1-4586-a1a0-66ce51f5880f",
   "metadata": {},
   "source": [
    "## Slicing and Striding"
   ]
  },
  {
   "cell_type": "markdown",
   "id": "aa40ecdb-00e6-4e2d-aeed-133520654459",
   "metadata": {},
   "source": [
    "Basic slicing in NumPy extends Python's slicing concept to N dimensions. It is used when the indexing object (obj) is a `slice` object defined using the `start:stop:step` notation inside square brackets. The obj can also be an integer or a tuple containing slice objects and integers. Additionally, you can use `ellipsis` (`...`) and `newaxis` objects in combination with basic slicing.\n",
    "\n",
    "**Note That:** When you perform basic slicing on a NumPy array, it creates a ***view*** of the original array, not a copy. This means that the sliced array still shares the underlying data with the original array.\n",
    "\n",
    "> It's important to be cautious when extracting a small portion from a large array, especially if you no longer need the original array after the extraction. This is because the extracted portion still references the larger original array, and the memory of the original array won't be released until all derived arrays are garbage-collected. In such cases, it's advisable to create an explicit copy of the sliced portion using the `copy()` method.\n",
    "\n",
    "Basic slicing follows the standard slicing rules, which apply to each dimension separately. Some useful concept to remmeber include:\n"
   ]
  },
  {
   "cell_type": "markdown",
   "id": "32c310b6-b20c-4188-950a-8c1b3128aa9b",
   "metadata": {},
   "source": [
    "- The basic slice syntax is `i:j:k` where `i` is the starting index, `j` is the stopping index, and `k` is the step."
   ]
  },
  {
   "cell_type": "code",
   "execution_count": 1,
   "id": "2a218cb2-7d13-42c1-9631-db1c8bf040f9",
   "metadata": {
    "tags": []
   },
   "outputs": [],
   "source": [
    "import numpy as np"
   ]
  },
  {
   "cell_type": "code",
   "execution_count": 2,
   "id": "810babf7-d48a-410f-ab9c-66091b23cac0",
   "metadata": {
    "tags": []
   },
   "outputs": [
    {
     "data": {
      "text/plain": [
       "array([0, 1, 2, 3, 4, 5, 6, 7, 8, 9])"
      ]
     },
     "execution_count": 2,
     "metadata": {},
     "output_type": "execute_result"
    }
   ],
   "source": [
    "a = np.array(range(10))\n",
    "a"
   ]
  },
  {
   "cell_type": "code",
   "execution_count": 3,
   "id": "a3a57037-4326-4bc5-bfdc-176c16487884",
   "metadata": {
    "tags": []
   },
   "outputs": [
    {
     "data": {
      "text/plain": [
       "array([1, 4, 7])"
      ]
     },
     "execution_count": 3,
     "metadata": {},
     "output_type": "execute_result"
    }
   ],
   "source": [
    "a[1:9:3]"
   ]
  },
  {
   "cell_type": "markdown",
   "id": "8157b9b1-a0f8-440f-8c69-0ad69744cce2",
   "metadata": {},
   "source": [
    "- An integer, `i`, returns the same values as `i:i+1` except the dimensionality of the returned object is reduced by 1. In particular, a selection tuple with the p-th element an integer (and all other entries :) returns the corresponding sub-array with dimension `N - 1`. If `N = 1` then the returned object is an array scalar. These objects are explained in Scalars.\n",
    "\n",
    "\n",
    "(in other word:   When you use a single integer `i` as an index for slicing an array, you are effectively selecting a single element from the array. The notation `i:i+1` is equivalent to selecting a single element starting from `i` and ending at `i+1`, but it effectively selects the element at index `i`. When you select a single element using an integer index, the resulting object is a scalar or a 0-dimensional array. This means that the dimensionality of the object is reduced by `1` compared to the original array. If you have a selection tuple where one of the elements is an integer `(e.g., (i, :, :)` or `(:, i, :))`, it selects a sub-array along that dimension, effectively reducing the dimensionality of the resulting array by `1`. The `p-th` element in this context refers to the element at index `p` in the tuple. If the original array has only one dimension `(N = 1)`, and you select an element using an integer index, the resulting object is not a `1-dimensional` array but an array scalar. An array scalar is essentially a single value rather than a 1D array.)"
   ]
  },
  {
   "cell_type": "code",
   "execution_count": 4,
   "id": "2a6bf549-8dc4-46cd-a107-e4c7c5a8cbc1",
   "metadata": {
    "tags": []
   },
   "outputs": [],
   "source": [
    "a = np.random.randint(10, size=(3, 4))\n"
   ]
  },
  {
   "cell_type": "code",
   "execution_count": 5,
   "id": "b5ec9f5f-963b-4190-89fc-f028a26e8434",
   "metadata": {
    "tags": []
   },
   "outputs": [
    {
     "data": {
      "text/plain": [
       "array([[5, 3, 5, 8],\n",
       "       [5, 9, 3, 7],\n",
       "       [4, 9, 0, 6]])"
      ]
     },
     "execution_count": 5,
     "metadata": {},
     "output_type": "execute_result"
    }
   ],
   "source": [
    "a"
   ]
  },
  {
   "cell_type": "code",
   "execution_count": 6,
   "id": "4c0a8f1a-7448-437d-a6a0-bb3643930b23",
   "metadata": {
    "tags": []
   },
   "outputs": [
    {
     "data": {
      "text/plain": [
       "(4,)"
      ]
     },
     "execution_count": 6,
     "metadata": {},
     "output_type": "execute_result"
    }
   ],
   "source": [
    "a[0].shape"
   ]
  },
  {
   "cell_type": "code",
   "execution_count": 7,
   "id": "a03cf77f-c60e-4a6c-aeff-0c7b62cdc759",
   "metadata": {
    "tags": []
   },
   "outputs": [
    {
     "data": {
      "text/plain": [
       "array([5, 3, 5, 8])"
      ]
     },
     "execution_count": 7,
     "metadata": {},
     "output_type": "execute_result"
    }
   ],
   "source": [
    "a[0]"
   ]
  },
  {
   "cell_type": "code",
   "execution_count": 8,
   "id": "c2dc516f-9ab8-476f-9c90-24adcc4ad18b",
   "metadata": {
    "tags": []
   },
   "outputs": [
    {
     "data": {
      "text/plain": [
       "(1, 4)"
      ]
     },
     "execution_count": 8,
     "metadata": {},
     "output_type": "execute_result"
    }
   ],
   "source": [
    "a[0:1].shape"
   ]
  },
  {
   "cell_type": "code",
   "execution_count": 9,
   "id": "c555a894-1645-453c-a406-b651e948c7ec",
   "metadata": {
    "tags": []
   },
   "outputs": [
    {
     "data": {
      "text/plain": [
       "array([[5, 3, 5, 8],\n",
       "       [5, 9, 3, 7]])"
      ]
     },
     "execution_count": 9,
     "metadata": {},
     "output_type": "execute_result"
    }
   ],
   "source": [
    "a[0:2]"
   ]
  },
  {
   "cell_type": "markdown",
   "id": "49bcfef9-8a3d-43ec-b211-a6507f400119",
   "metadata": {},
   "source": [
    "- You may use slicing to set values in the array, but (unlike lists) you can never grow the array. The size of the value to be set in `x[obj] = value` must be (broadcastable) to the same shape as `x[obj]`."
   ]
  },
  {
   "cell_type": "code",
   "execution_count": 10,
   "id": "ece212d8-bfe8-4deb-a255-eff61e1e8481",
   "metadata": {
    "tags": []
   },
   "outputs": [],
   "source": [
    "l = [0, 1, 2, 3, 4, 5, 6, 7]"
   ]
  },
  {
   "cell_type": "code",
   "execution_count": 11,
   "id": "c428809d-b37c-4064-88ca-4f6b924bd7f3",
   "metadata": {
    "tags": []
   },
   "outputs": [],
   "source": [
    "l[:5] = [8, 9, 10]"
   ]
  },
  {
   "cell_type": "code",
   "execution_count": 12,
   "id": "b2c6be70-a1c1-42c6-8b81-1e3f95c770ff",
   "metadata": {
    "tags": []
   },
   "outputs": [
    {
     "data": {
      "text/plain": [
       "[8, 9, 10, 5, 6, 7]"
      ]
     },
     "execution_count": 12,
     "metadata": {},
     "output_type": "execute_result"
    }
   ],
   "source": [
    "l"
   ]
  },
  {
   "cell_type": "code",
   "execution_count": 13,
   "id": "1b36a64c-1512-4e54-a05a-f591f198f3d8",
   "metadata": {
    "tags": []
   },
   "outputs": [
    {
     "data": {
      "text/plain": [
       "array([0, 1, 2, 3, 4, 5, 6, 7])"
      ]
     },
     "execution_count": 13,
     "metadata": {},
     "output_type": "execute_result"
    }
   ],
   "source": [
    "a = np.array(range(8))\n",
    "a"
   ]
  },
  {
   "cell_type": "code",
   "execution_count": 14,
   "id": "3bb200b3-df19-4028-8fe2-5c90323b786b",
   "metadata": {
    "tags": []
   },
   "outputs": [
    {
     "ename": "TypeError",
     "evalue": "'builtin_function_or_method' object is not subscriptable",
     "output_type": "error",
     "traceback": [
      "\u001b[0;31m---------------------------------------------------------------------------\u001b[0m",
      "\u001b[0;31mTypeError\u001b[0m                                 Traceback (most recent call last)",
      "Cell \u001b[0;32mIn[14], line 1\u001b[0m\n\u001b[0;32m----> 1\u001b[0m a[:\u001b[38;5;241m5\u001b[39m] \u001b[38;5;241m=\u001b[39m np\u001b[38;5;241m.\u001b[39marray[\u001b[38;5;241m8\u001b[39m, \u001b[38;5;241m9\u001b[39m, \u001b[38;5;241m10\u001b[39m]\n",
      "\u001b[0;31mTypeError\u001b[0m: 'builtin_function_or_method' object is not subscriptable"
     ]
    }
   ],
   "source": [
    "a[:5] = np.array[8, 9, 10]"
   ]
  },
  {
   "cell_type": "code",
   "execution_count": 15,
   "id": "c743f3e3-8945-42e5-bf89-9f0b0d85b602",
   "metadata": {
    "tags": []
   },
   "outputs": [
    {
     "data": {
      "text/plain": [
       "((3,), (5,))"
      ]
     },
     "execution_count": 15,
     "metadata": {},
     "output_type": "execute_result"
    }
   ],
   "source": [
    "np.array([8, 9, 10]).shape, a[:5].shape"
   ]
  },
  {
   "cell_type": "code",
   "execution_count": 16,
   "id": "c42dbd84-41f7-4ca1-a22a-6546d89f27df",
   "metadata": {
    "tags": []
   },
   "outputs": [],
   "source": [
    "a[:5] = 8"
   ]
  },
  {
   "cell_type": "code",
   "execution_count": 17,
   "id": "c0b59ec7-cf47-4b59-b123-65f0d056de3c",
   "metadata": {
    "tags": []
   },
   "outputs": [
    {
     "data": {
      "text/plain": [
       "array([8, 8, 8, 8, 8, 5, 6, 7])"
      ]
     },
     "execution_count": 17,
     "metadata": {},
     "output_type": "execute_result"
    }
   ],
   "source": [
    "a"
   ]
  },
  {
   "cell_type": "code",
   "execution_count": 18,
   "id": "8efafeb2-9cb1-465f-87aa-f393b16a782a",
   "metadata": {
    "tags": []
   },
   "outputs": [],
   "source": [
    "a[:5] = np.array([9, 8, 7, 6, 5])"
   ]
  },
  {
   "cell_type": "code",
   "execution_count": 19,
   "id": "775d9538-e4b8-4f1e-b821-ea697ad8853c",
   "metadata": {
    "tags": []
   },
   "outputs": [
    {
     "data": {
      "text/plain": [
       "array([9, 8, 7, 6, 5, 5, 6, 7])"
      ]
     },
     "execution_count": 19,
     "metadata": {},
     "output_type": "execute_result"
    }
   ],
   "source": [
    "a"
   ]
  },
  {
   "cell_type": "markdown",
   "id": "13a24020-f4b2-4f03-b106-2f5b0e2373a1",
   "metadata": {},
   "source": [
    "- A slicing tuple can always be constructed as obj and used in the x[obj] notation. Slice objects can be used in the construction in place of the [start:stop:step] notation. For example, x[1:10:5, ::-1] can also be implemented as obj = (slice(1, 10, 5), slice(None, None, -1)); x[obj] . This can be useful for constructing generic code that works on arrays of arbitrary dimensions. See [Dealing with variable numbers of indices within programs](https://numpy.org/doc/stable/user/basics.indexing.html#dealing-with-variable-indices) for more information."
   ]
  },
  {
   "cell_type": "markdown",
   "id": "e1191ebe-afcc-4c2e-96ab-2cab4e89bfaf",
   "metadata": {},
   "source": [
    "## Dimensional Indexing Tools"
   ]
  },
  {
   "cell_type": "markdown",
   "id": "78e37632-4890-4f18-8b48-7ad99003c3cf",
   "metadata": {},
   "source": [
    "NumPy provides useful tools for conveniently matching array shapes in expressions and assignments.\n",
    "\n",
    "One such tool is the `Ellipsis` (`...`) notation, which automatically expands to the number of colon (`:`) objects required in the selection tuple to index all dimensions. In most cases, this means that the length of the expanded selection tuple matches the number of dimensions in the array, denoted as `x.ndim`. It's important to note that there can only be a single ellipsis present in the selection tuple.\n",
    "\n",
    "For instance:"
   ]
  },
  {
   "cell_type": "code",
   "execution_count": 34,
   "id": "7305f69e-72bb-4506-b42e-470624e4abd6",
   "metadata": {
    "tags": []
   },
   "outputs": [],
   "source": [
    "a = np.random.randint(10, size=(2, 3, 4, 5))"
   ]
  },
  {
   "cell_type": "code",
   "execution_count": 35,
   "id": "2ad34e0b-f3a9-442b-aaea-daea8cfe419e",
   "metadata": {
    "tags": []
   },
   "outputs": [
    {
     "data": {
      "text/plain": [
       "4"
      ]
     },
     "execution_count": 35,
     "metadata": {},
     "output_type": "execute_result"
    }
   ],
   "source": [
    "a.ndim"
   ]
  },
  {
   "cell_type": "code",
   "execution_count": 36,
   "id": "003000a6-b999-4474-9178-7b40ab4b07eb",
   "metadata": {
    "tags": []
   },
   "outputs": [
    {
     "data": {
      "text/plain": [
       "4"
      ]
     },
     "execution_count": 36,
     "metadata": {},
     "output_type": "execute_result"
    }
   ],
   "source": [
    "len(a.shape)"
   ]
  },
  {
   "cell_type": "code",
   "execution_count": 37,
   "id": "88b3233e-5758-4c2e-8b7c-4460a40b863a",
   "metadata": {
    "tags": []
   },
   "outputs": [
    {
     "data": {
      "text/plain": [
       "array([[[[8, 3, 7, 6, 3],\n",
       "         [5, 1, 7, 1, 9],\n",
       "         [3, 1, 4, 7, 1],\n",
       "         [1, 8, 8, 6, 5]],\n",
       "\n",
       "        [[0, 6, 4, 6, 3],\n",
       "         [6, 5, 4, 7, 7],\n",
       "         [8, 4, 5, 5, 5],\n",
       "         [9, 7, 7, 6, 5]],\n",
       "\n",
       "        [[3, 9, 1, 3, 0],\n",
       "         [3, 5, 4, 2, 0],\n",
       "         [7, 5, 1, 4, 6],\n",
       "         [1, 2, 9, 5, 3]]],\n",
       "\n",
       "\n",
       "       [[[7, 7, 2, 6, 0],\n",
       "         [5, 3, 3, 3, 5],\n",
       "         [8, 1, 9, 2, 8],\n",
       "         [9, 7, 2, 1, 2]],\n",
       "\n",
       "        [[0, 4, 2, 3, 6],\n",
       "         [1, 6, 4, 2, 5],\n",
       "         [3, 3, 4, 7, 1],\n",
       "         [3, 5, 4, 9, 9]],\n",
       "\n",
       "        [[9, 6, 2, 8, 1],\n",
       "         [7, 2, 4, 9, 0],\n",
       "         [6, 9, 7, 3, 0],\n",
       "         [5, 4, 7, 2, 5]]]])"
      ]
     },
     "execution_count": 37,
     "metadata": {},
     "output_type": "execute_result"
    }
   ],
   "source": [
    "a"
   ]
  },
  {
   "cell_type": "code",
   "execution_count": 38,
   "id": "995ada02-d365-47e4-b0c3-477f2d31eef4",
   "metadata": {
    "tags": []
   },
   "outputs": [],
   "source": [
    "b = a[:, :, :, 3]"
   ]
  },
  {
   "cell_type": "code",
   "execution_count": 39,
   "id": "d3f47421-f560-41c6-bfec-4af9cabfe239",
   "metadata": {
    "tags": []
   },
   "outputs": [
    {
     "data": {
      "text/plain": [
       "(2, 3, 4)"
      ]
     },
     "execution_count": 39,
     "metadata": {},
     "output_type": "execute_result"
    }
   ],
   "source": [
    "b.shape"
   ]
  },
  {
   "cell_type": "code",
   "execution_count": 40,
   "id": "d6083380-3538-4f82-8430-e17fff624ff5",
   "metadata": {
    "tags": []
   },
   "outputs": [],
   "source": [
    "c = a[..., 3]"
   ]
  },
  {
   "cell_type": "code",
   "execution_count": 41,
   "id": "30a6b6db-cd68-4784-bcee-8ece37d3ce39",
   "metadata": {
    "tags": []
   },
   "outputs": [
    {
     "data": {
      "text/plain": [
       "array([[[6, 1, 7, 6],\n",
       "        [6, 7, 5, 6],\n",
       "        [3, 2, 4, 5]],\n",
       "\n",
       "       [[6, 3, 2, 1],\n",
       "        [3, 2, 7, 9],\n",
       "        [8, 9, 3, 2]]])"
      ]
     },
     "execution_count": 41,
     "metadata": {},
     "output_type": "execute_result"
    }
   ],
   "source": [
    "c"
   ]
  },
  {
   "cell_type": "code",
   "execution_count": 47,
   "id": "d2af7839-5f76-466f-9b18-378da8da9816",
   "metadata": {
    "tags": []
   },
   "outputs": [
    {
     "data": {
      "text/plain": [
       "True"
      ]
     },
     "execution_count": 47,
     "metadata": {},
     "output_type": "execute_result"
    }
   ],
   "source": [
    "(c == b).all()"
   ]
  },
  {
   "cell_type": "code",
   "execution_count": 43,
   "id": "a496f065-e402-40e5-aa5f-c6df221e6035",
   "metadata": {
    "tags": []
   },
   "outputs": [
    {
     "data": {
      "text/plain": [
       "(2, 3, 4)"
      ]
     },
     "execution_count": 43,
     "metadata": {},
     "output_type": "execute_result"
    }
   ],
   "source": [
    "b.shape"
   ]
  },
  {
   "cell_type": "code",
   "execution_count": 44,
   "id": "367b08af-846f-4e59-a044-6eff218c5ece",
   "metadata": {
    "tags": []
   },
   "outputs": [],
   "source": [
    "d = a[:, 1, :, :]"
   ]
  },
  {
   "cell_type": "code",
   "execution_count": 30,
   "id": "795debcb-dac8-4e47-b678-35860e25c914",
   "metadata": {
    "tags": []
   },
   "outputs": [
    {
     "data": {
      "text/plain": [
       "array([[[6, 0, 6, 8, 6],\n",
       "        [8, 4, 5, 6, 6],\n",
       "        [4, 7, 2, 4, 2],\n",
       "        [9, 9, 2, 3, 5]],\n",
       "\n",
       "       [[4, 5, 8, 3, 2],\n",
       "        [5, 6, 3, 5, 5],\n",
       "        [4, 7, 7, 4, 5],\n",
       "        [3, 3, 3, 9, 5]]])"
      ]
     },
     "execution_count": 30,
     "metadata": {},
     "output_type": "execute_result"
    }
   ],
   "source": [
    "d"
   ]
  },
  {
   "cell_type": "code",
   "execution_count": 49,
   "id": "5b5fb8f0-def4-4e94-bbe5-7f59d0fa82de",
   "metadata": {
    "tags": []
   },
   "outputs": [
    {
     "data": {
      "text/plain": [
       "(2, 4, 5)"
      ]
     },
     "execution_count": 49,
     "metadata": {},
     "output_type": "execute_result"
    }
   ],
   "source": [
    "d.shape"
   ]
  },
  {
   "cell_type": "markdown",
   "id": "56ab90a5-7c4b-4557-a301-52bec326fb03",
   "metadata": {},
   "source": [
    "### Ellipsis and newaxis"
   ]
  },
  {
   "cell_type": "markdown",
   "id": "1e274fbf-298a-4c27-bb14-8e26cecc56a2",
   "metadata": {},
   "source": [
    "The interpretation of Ellipsis (`...`) in Python is quite flexible and depends on the implementation of the `__getitem__` function where it's used. However, its primary and intended use is prominent in the NumPy third-party library, which introduces a multidimensional array type. This is because, in multidimensional arrays, slicing becomes more intricate than just specifying start and stop indices; it often involves slicing in multiple dimensions simultaneously.\n",
    "\n",
    "Expanding on this concept, Ellipsis serves as a placeholder to represent the unspecified dimensions within an array. You can think of it as equivalent to using a full slice (`[:]`) for all the dimensions in the place it's positioned. For example, in a 3D array, `a[...,0]` is essentially the same as `a[:,:,0]`, and in a 4D array, `a[0,...,0]` is equivalent to `a[0,:,:,0]`, where the number of colons in the middle indicates the full number of dimensions in the array.\n"
   ]
  },
  {
   "cell_type": "code",
   "execution_count": 48,
   "id": "9b93572b-0960-4c35-9aa9-a7cde27e476d",
   "metadata": {
    "tags": []
   },
   "outputs": [
    {
     "data": {
      "text/plain": [
       "Ellipsis"
      ]
     },
     "execution_count": 48,
     "metadata": {},
     "output_type": "execute_result"
    }
   ],
   "source": [
    "..."
   ]
  },
  {
   "cell_type": "markdown",
   "id": "56d96839-5c03-44cd-9468-1261fe44beb6",
   "metadata": {},
   "source": [
    "> It's worth noting that Ellipsis is not limited to NumPy; it also finds use in the standard-library typing module. For instance, it's used in type hinting as seen in `Callable[..., int]`, which signifies a callable that returns an integer without specifying the exact function signature. Similarly, `Tuple[str, ...]` indicates a variable-length homogeneous tuple of strings, where the ellipsis implies that the tuple can have an arbitrary number of elements."
   ]
  },
  {
   "cell_type": "markdown",
   "id": "9c7ed1e8-ffb7-459a-9c08-e9ad3f85c92b",
   "metadata": {},
   "source": [
    "Each `newaxis` object in the selection tuple serves to expand the dimensions of the resulting selection by one unit-length dimension. The added dimension is the position of the `newaxis` object in the selection tuple. `newaxis` is an alias for `None`, and `None` can be used in place of this with the same result."
   ]
  },
  {
   "cell_type": "code",
   "execution_count": 54,
   "id": "ec13e4cb-657e-416b-8382-fb0406773cb7",
   "metadata": {
    "tags": []
   },
   "outputs": [
    {
     "data": {
      "text/plain": [
       "(2, 3, 4, 5)"
      ]
     },
     "execution_count": 54,
     "metadata": {},
     "output_type": "execute_result"
    }
   ],
   "source": [
    "a.shape"
   ]
  },
  {
   "cell_type": "code",
   "execution_count": 55,
   "id": "52663b3b-1ce6-4590-bf7f-8105cf1ac9b7",
   "metadata": {
    "tags": []
   },
   "outputs": [
    {
     "data": {
      "text/plain": [
       "(1, 2, 3, 4, 5, 1)"
      ]
     },
     "execution_count": 55,
     "metadata": {},
     "output_type": "execute_result"
    }
   ],
   "source": [
    "a[None, ..., np.newaxis].shape"
   ]
  },
  {
   "cell_type": "markdown",
   "id": "e6bf09d3-5935-4f49-b0ae-1def242b5d30",
   "metadata": {
    "tags": []
   },
   "source": [
    "This can be handy to combine two arrays in a way that otherwise would require explicit reshaping operations. For example:"
   ]
  },
  {
   "cell_type": "code",
   "execution_count": 66,
   "id": "b4084075-c566-4ba7-a819-c3efb4f1feeb",
   "metadata": {
    "tags": []
   },
   "outputs": [],
   "source": [
    "a = np.arange(10)"
   ]
  },
  {
   "cell_type": "code",
   "execution_count": 67,
   "id": "f6de0f54-0588-42d7-82b5-0cb2ed9414b8",
   "metadata": {
    "tags": []
   },
   "outputs": [
    {
     "data": {
      "text/plain": [
       "array([0, 1, 2, 3, 4, 5, 6, 7, 8, 9])"
      ]
     },
     "execution_count": 67,
     "metadata": {},
     "output_type": "execute_result"
    }
   ],
   "source": [
    "a"
   ]
  },
  {
   "cell_type": "code",
   "execution_count": 68,
   "id": "cbfd0324-3590-4f07-bc1f-a9684ada5c64",
   "metadata": {
    "tags": []
   },
   "outputs": [
    {
     "data": {
      "text/plain": [
       "array([[0],\n",
       "       [1],\n",
       "       [2],\n",
       "       [3],\n",
       "       [4],\n",
       "       [5],\n",
       "       [6],\n",
       "       [7],\n",
       "       [8],\n",
       "       [9]])"
      ]
     },
     "execution_count": 68,
     "metadata": {},
     "output_type": "execute_result"
    }
   ],
   "source": [
    "a[:, np.newaxis]"
   ]
  },
  {
   "cell_type": "code",
   "execution_count": 69,
   "id": "019691c4-1ce3-4094-a09c-ada7d953f0f9",
   "metadata": {
    "tags": []
   },
   "outputs": [
    {
     "data": {
      "text/plain": [
       "array([[0, 1, 2, 3, 4, 5, 6, 7, 8, 9]])"
      ]
     },
     "execution_count": 69,
     "metadata": {},
     "output_type": "execute_result"
    }
   ],
   "source": [
    "a[np.newaxis, :]"
   ]
  },
  {
   "cell_type": "code",
   "execution_count": 70,
   "id": "9dc2cc44-f36d-419c-adb2-9dfe6bc08b14",
   "metadata": {
    "tags": []
   },
   "outputs": [
    {
     "data": {
      "text/plain": [
       "array([[ 0],\n",
       "       [ 2],\n",
       "       [ 4],\n",
       "       [ 6],\n",
       "       [ 8],\n",
       "       [10],\n",
       "       [12],\n",
       "       [14],\n",
       "       [16],\n",
       "       [18]])"
      ]
     },
     "execution_count": 70,
     "metadata": {},
     "output_type": "execute_result"
    }
   ],
   "source": [
    "a[:, np.newaxis] + a[:, np.newaxis]"
   ]
  },
  {
   "cell_type": "code",
   "execution_count": 71,
   "id": "6f07ba1d-a507-4ed4-b28a-e26bbbd69f3f",
   "metadata": {
    "tags": []
   },
   "outputs": [
    {
     "data": {
      "text/plain": [
       "array([[ 0,  1,  2,  3,  4,  5,  6,  7,  8,  9],\n",
       "       [ 1,  2,  3,  4,  5,  6,  7,  8,  9, 10],\n",
       "       [ 2,  3,  4,  5,  6,  7,  8,  9, 10, 11],\n",
       "       [ 3,  4,  5,  6,  7,  8,  9, 10, 11, 12],\n",
       "       [ 4,  5,  6,  7,  8,  9, 10, 11, 12, 13],\n",
       "       [ 5,  6,  7,  8,  9, 10, 11, 12, 13, 14],\n",
       "       [ 6,  7,  8,  9, 10, 11, 12, 13, 14, 15],\n",
       "       [ 7,  8,  9, 10, 11, 12, 13, 14, 15, 16],\n",
       "       [ 8,  9, 10, 11, 12, 13, 14, 15, 16, 17],\n",
       "       [ 9, 10, 11, 12, 13, 14, 15, 16, 17, 18]])"
      ]
     },
     "execution_count": 71,
     "metadata": {},
     "output_type": "execute_result"
    }
   ],
   "source": [
    "a[:, np.newaxis] + a[np.newaxis, :]"
   ]
  },
  {
   "cell_type": "markdown",
   "id": "f290cea6-0b5a-46b2-ae01-b0c4f1fe8d78",
   "metadata": {},
   "source": [
    "An example is the easiest way to show indexing and slicing off. It’s time to confirm [Dürer’s magic](https://en.wikipedia.org/wiki/Magic_square#Albrecht_D%C3%BCrer%27s_magic_square) square!\n",
    "\n",
    "The number square below has some amazing properties. If you add up any of the rows, columns, or diagonals, then you’ll get the same number, 34. That’s also what you’ll get if you add up each of the four quadrants, the center four squares, the four corner squares, or the four corner squares of any of the contained 3 × 3 grids. You’re going to prove it!"
   ]
  },
  {
   "cell_type": "code",
   "execution_count": 88,
   "id": "9adb2c7f-e5b3-4fea-a1ae-18f89affdf05",
   "metadata": {
    "tags": []
   },
   "outputs": [
    {
     "name": "stdout",
     "output_type": "stream",
     "text": [
      "[[17 24  1  8 15]\n",
      " [23  5  7 14 16]\n",
      " [ 4  6 13 20 22]\n",
      " [10 12 19 21  3]\n",
      " [11 18 25  2  9]]\n"
     ]
    }
   ],
   "source": [
    "# Make magic square with odd N\n",
    "import numpy as np\n",
    "\n",
    "N  = 5\n",
    "magic_square = np.zeros((N,N), dtype=int)\n",
    "\n",
    "n = 1\n",
    "i, j = 0, N//2\n",
    "\n",
    "while n <= N**2:\n",
    "    magic_square[i, j] = n\n",
    "    n += 1\n",
    "    newi, newj = (i-1) % N, (j+1)% N\n",
    "    if magic_square[newi, newj]:\n",
    "        i += 1\n",
    "    else:\n",
    "        i, j = newi, newj\n",
    "\n",
    "print(magic_square)"
   ]
  },
  {
   "cell_type": "markdown",
   "id": "03cc7c48-b2f3-44e4-9331-b4247f3d67b2",
   "metadata": {},
   "source": [
    "#### Dürer’s magic square:"
   ]
  },
  {
   "cell_type": "code",
   "execution_count": 90,
   "id": "99748909-e4a4-4a6e-9e29-40070e5d43e9",
   "metadata": {
    "tags": []
   },
   "outputs": [],
   "source": [
    "import numpy as np"
   ]
  },
  {
   "cell_type": "code",
   "execution_count": 91,
   "id": "ba8df7a7-5d03-4d86-a976-d91dc4758601",
   "metadata": {
    "tags": []
   },
   "outputs": [],
   "source": [
    "square = np.array([\n",
    "    [16,  3,  2, 13],\n",
    "    [ 5, 10, 11,  8],\n",
    "    [ 9,  6,  7, 12],\n",
    "    [ 4, 15, 14,  1],\n",
    "])"
   ]
  },
  {
   "cell_type": "code",
   "execution_count": 92,
   "id": "38e4df8d-e39f-4c8a-8b25-3343d472f8c6",
   "metadata": {
    "tags": []
   },
   "outputs": [],
   "source": [
    "mylist = [\n",
    "    [16, 3, 2, 13],\n",
    "    [5, 10, 11, 8],\n",
    "    [9, 6, 7, 12],\n",
    "    [4, 15, 14, 1]\n",
    "]"
   ]
  },
  {
   "cell_type": "code",
   "execution_count": 93,
   "id": "2159f480-9fca-42c6-a38a-56b664b14fe3",
   "metadata": {
    "tags": []
   },
   "outputs": [
    {
     "data": {
      "text/plain": [
       "(4, 4)"
      ]
     },
     "execution_count": 93,
     "metadata": {},
     "output_type": "execute_result"
    }
   ],
   "source": [
    "square.shape"
   ]
  },
  {
   "cell_type": "code",
   "execution_count": 94,
   "id": "49879cc4-b6f7-466a-993f-10a1735ddc27",
   "metadata": {
    "tags": []
   },
   "outputs": [
    {
     "data": {
      "text/plain": [
       "array([16,  5,  9,  4])"
      ]
     },
     "execution_count": 94,
     "metadata": {},
     "output_type": "execute_result"
    }
   ],
   "source": [
    "square[:, 0]"
   ]
  },
  {
   "cell_type": "code",
   "execution_count": 95,
   "id": "7d65a7e4-5f54-4dbd-b6a1-c2935cfc30d3",
   "metadata": {
    "tags": []
   },
   "outputs": [],
   "source": [
    "for i in range(4):\n",
    "    assert square[:, i].sum() == 34\n",
    "    assert square[i, :].sum() == 34"
   ]
  },
  {
   "cell_type": "code",
   "execution_count": 96,
   "id": "c84de219-27e4-4e44-8b49-20b783429ff3",
   "metadata": {
    "tags": []
   },
   "outputs": [],
   "source": [
    "assert square[2:, 2:].sum() == 34"
   ]
  },
  {
   "cell_type": "code",
   "execution_count": 97,
   "id": "242a16a5-2bbf-479f-8750-f78e4d021b05",
   "metadata": {
    "tags": []
   },
   "outputs": [],
   "source": [
    "assert square[:2, 2:].sum() == 34"
   ]
  },
  {
   "cell_type": "code",
   "execution_count": 98,
   "id": "95bbf183-6b39-4c2f-871c-c240073a2294",
   "metadata": {
    "tags": []
   },
   "outputs": [],
   "source": [
    "assert square[2:, :2].sum() == 34"
   ]
  },
  {
   "cell_type": "code",
   "execution_count": 99,
   "id": "2105b546-1c60-4249-be11-31a833e3926b",
   "metadata": {
    "tags": []
   },
   "outputs": [],
   "source": [
    "assert square[:2, :2].sum() == 34"
   ]
  },
  {
   "cell_type": "markdown",
   "id": "359f4cb4-72d1-4492-963b-1a80def01458",
   "metadata": {},
   "source": [
    "Inside the for loop, you verify that all the rows and all the columns add up to 34. After that, using selective indexing, you verify that each of the quadrants also adds up to 34.\n",
    "\n",
    "One last thing to note is that you’re able to take the sum of any array to add up all of its elements globally with `square.sum()`. This method can also take an axis argument to do an axis-wise summing instead."
   ]
  },
  {
   "cell_type": "code",
   "execution_count": 100,
   "id": "42954405-9338-48c7-b952-a09434997ff0",
   "metadata": {
    "tags": []
   },
   "outputs": [
    {
     "data": {
      "text/plain": [
       "136"
      ]
     },
     "execution_count": 100,
     "metadata": {},
     "output_type": "execute_result"
    }
   ],
   "source": [
    "square.sum()"
   ]
  },
  {
   "cell_type": "markdown",
   "id": "b6cb955a-5d6e-42e3-96ad-d3c4eb63503e",
   "metadata": {
    "tags": []
   },
   "source": [
    "## Advanced indexing"
   ]
  },
  {
   "cell_type": "markdown",
   "id": "79ddf837-be90-488b-8aa7-cdb9317ed021",
   "metadata": {},
   "source": [
    "Advanced indexing comes into play when the selection object, 'obj,' takes the form of a non-tuple sequence object, an ndarray (with integer or bool data type), or a tuple containing at least one sequence object or ndarray (again, with integer or bool data type). There are two primary types of advanced indexing:\n",
    "\n",
    "1. **Integer Indexing:**\n",
    "2. **Boolean Indexing:** \n",
    "\n",
    "> **Note:** It's crucial to note that advanced indexing always returns a copy of the data, in contrast to basic slicing, which returns a view of the original data.\n",
    "\n",
    "> **Note:** Additionally, it's important to understand that the definition of advanced indexing makes expressions like `x[(1, 2, 3),]` fundamentally different from `x[(1, 2, 3)]`. The latter is equivalent to `x[1, 2, 3]`, which triggers basic selection. Meanwhile, the former, `x[(1, 2, 3),]`, initiates advanced indexing. It's essential to grasp the reasons behind this distinction for effective use of advanced indexing in NumPy."
   ]
  },
  {
   "cell_type": "markdown",
   "id": "966a5092-6a20-4b1c-a14d-c19b5530ca2e",
   "metadata": {},
   "source": [
    "### Integer Array Indexing"
   ]
  },
  {
   "cell_type": "markdown",
   "id": "c7ff177d-0437-478a-b2a7-1ba857e50eb1",
   "metadata": {},
   "source": [
    "Integer array indexing enables the selection of specific elements within an array by specifying their N-dimensional indices. In this approach, each integer array serves as a collection of indices within a particular dimension.\n",
    "\n",
    "It's worth noting that negative values are valid within these index arrays, and they behave in the same way as with single indices or slices:"
   ]
  },
  {
   "cell_type": "code",
   "execution_count": 104,
   "id": "ad3cb085-82f6-4eab-9ed9-5ddb400105d5",
   "metadata": {
    "tags": []
   },
   "outputs": [],
   "source": [
    "a = np.arange(10, 0, -1)"
   ]
  },
  {
   "cell_type": "code",
   "execution_count": 107,
   "id": "a14d3ffe-9e34-4fd6-9333-5b5e90741406",
   "metadata": {
    "tags": []
   },
   "outputs": [
    {
     "data": {
      "text/plain": [
       "(10,)"
      ]
     },
     "execution_count": 107,
     "metadata": {},
     "output_type": "execute_result"
    }
   ],
   "source": [
    "a.shape"
   ]
  },
  {
   "cell_type": "code",
   "execution_count": 115,
   "id": "9c74af11-841c-411e-8cc4-2e317e95d6b3",
   "metadata": {
    "tags": []
   },
   "outputs": [],
   "source": [
    "b = a[np.array([3, 3, 1, 8])]"
   ]
  },
  {
   "cell_type": "code",
   "execution_count": 110,
   "id": "5ec5c906-b61b-4dec-967e-b5ab88b870d1",
   "metadata": {
    "tags": []
   },
   "outputs": [
    {
     "data": {
      "text/plain": [
       "False"
      ]
     },
     "execution_count": 110,
     "metadata": {},
     "output_type": "execute_result"
    }
   ],
   "source": [
    "# Advanced Indexing results in a copy, not a view\n",
    "np.may_share_memory(a, b)"
   ]
  },
  {
   "cell_type": "code",
   "execution_count": 111,
   "id": "e0e20673-3965-42ed-a468-8e5b724ac0cc",
   "metadata": {
    "tags": []
   },
   "outputs": [
    {
     "data": {
      "text/plain": [
       "array([7, 7, 9, 2])"
      ]
     },
     "execution_count": 111,
     "metadata": {},
     "output_type": "execute_result"
    }
   ],
   "source": [
    "a[[3, 3, 1, 8]]"
   ]
  },
  {
   "cell_type": "code",
   "execution_count": 112,
   "id": "154a6258-31dd-4c45-b1a7-e3aee191119c",
   "metadata": {
    "tags": []
   },
   "outputs": [
    {
     "data": {
      "text/plain": [
       "array([7, 7, 9, 2])"
      ]
     },
     "execution_count": 112,
     "metadata": {},
     "output_type": "execute_result"
    }
   ],
   "source": [
    "# ((3, 3, 1, 8), ) is a tuple with one sequence object --> Advanced Indexing\n",
    "a[(3, 3, 1, 8), ] "
   ]
  },
  {
   "cell_type": "code",
   "execution_count": 113,
   "id": "1215641a-afe8-4cfe-a0c3-fd39b29d7d14",
   "metadata": {
    "tags": []
   },
   "outputs": [
    {
     "data": {
      "text/plain": [
       "array([7, 7, 3, 2])"
      ]
     },
     "execution_count": 113,
     "metadata": {},
     "output_type": "execute_result"
    }
   ],
   "source": [
    "# Negative values work as before\n",
    "a[np.array([3, 3, -3, 8])]"
   ]
  },
  {
   "cell_type": "code",
   "execution_count": 114,
   "id": "0ef8b366-5983-4158-9a17-4d68ac7616e0",
   "metadata": {
    "tags": []
   },
   "outputs": [
    {
     "ename": "IndexError",
     "evalue": "too many indices for array: array is 1-dimensional, but 4 were indexed",
     "output_type": "error",
     "traceback": [
      "\u001b[0;31m---------------------------------------------------------------------------\u001b[0m",
      "\u001b[0;31mIndexError\u001b[0m                                Traceback (most recent call last)",
      "Cell \u001b[0;32mIn[114], line 2\u001b[0m\n\u001b[1;32m      1\u001b[0m \u001b[38;5;66;03m# Note that this will raise error as a is 1 dimensional\u001b[39;00m\n\u001b[0;32m----> 2\u001b[0m a[\u001b[38;5;241m3\u001b[39m, \u001b[38;5;241m3\u001b[39m, \u001b[38;5;241m1\u001b[39m, \u001b[38;5;241m8\u001b[39m]\n",
      "\u001b[0;31mIndexError\u001b[0m: too many indices for array: array is 1-dimensional, but 4 were indexed"
     ]
    }
   ],
   "source": [
    "# Note that this will raise error as a is 1 dimensional\n",
    "a[3, 3, 1, 8]  # (3, 3, 1, 8) is a tuple -> Basic indexing"
   ]
  },
  {
   "cell_type": "markdown",
   "id": "5fff7fdd-5f16-414c-81f8-cb428c256484",
   "metadata": {},
   "source": [
    "### Boolean Array Indexing"
   ]
  },
  {
   "cell_type": "markdown",
   "id": "d8ceff69-1dff-4d7a-aea9-3a2b531a3bd0",
   "metadata": {},
   "source": [
    "This advanced indexing occurs when obj is an array object of Boolean type, such as may be returned from comparison operators.\n",
    "\n",
    "If `obj.ndim == x.ndim`, `x[obj]` returns a 1-dimensional array filled with the elements of `x` corresponding to the `True` values of `obj`. The search order will be row-major, C-style. If obj has True values at entries that are outside of the bounds of `x`, then an index error will be raised. If `obj` is smaller than `x` it is identical to filling it with `False`."
   ]
  },
  {
   "cell_type": "code",
   "execution_count": 120,
   "id": "5f2b0a6d-a057-48f3-81c5-1480f7c128da",
   "metadata": {
    "tags": []
   },
   "outputs": [],
   "source": [
    "a = np.random.randint(10, size=(3, 4))"
   ]
  },
  {
   "cell_type": "code",
   "execution_count": 121,
   "id": "c6d25d53-4e70-4e58-888c-c9c83a63f3c2",
   "metadata": {
    "tags": []
   },
   "outputs": [
    {
     "data": {
      "text/plain": [
       "array([[9, 2, 7, 9],\n",
       "       [6, 1, 1, 7],\n",
       "       [4, 3, 0, 6]])"
      ]
     },
     "execution_count": 121,
     "metadata": {},
     "output_type": "execute_result"
    }
   ],
   "source": [
    "a"
   ]
  },
  {
   "cell_type": "code",
   "execution_count": 122,
   "id": "4e08d266-ae27-41b1-a5e3-8c9cb2d96571",
   "metadata": {
    "tags": []
   },
   "outputs": [
    {
     "data": {
      "text/plain": [
       "array([[9, 7],\n",
       "       [6, 1],\n",
       "       [4, 0]])"
      ]
     },
     "execution_count": 122,
     "metadata": {},
     "output_type": "execute_result"
    }
   ],
   "source": [
    "a[:, [True, False, True, False]]"
   ]
  },
  {
   "cell_type": "code",
   "execution_count": 123,
   "id": "8d1752af-e859-4a30-977b-0352d75c2111",
   "metadata": {
    "tags": []
   },
   "outputs": [
    {
     "data": {
      "text/plain": [
       "array([[9, 2, 7, 9],\n",
       "       [4, 3, 0, 6]])"
      ]
     },
     "execution_count": 123,
     "metadata": {},
     "output_type": "execute_result"
    }
   ],
   "source": [
    "a[[True, False, True], :]"
   ]
  },
  {
   "cell_type": "markdown",
   "id": "c7e4d5dd-5cd5-4325-ad07-857954eb6e5b",
   "metadata": {},
   "source": [
    "A common use case for this is filtering for desired element values. For example, one may wish to select all entries from an array which are not NaN:"
   ]
  },
  {
   "cell_type": "code",
   "execution_count": 136,
   "id": "ebc91884-3e90-45a0-8521-b3eb82036998",
   "metadata": {
    "tags": []
   },
   "outputs": [],
   "source": [
    "x = np.array([[1., 2.], [np.nan, 3.], [np.nan, np.nan]])"
   ]
  },
  {
   "cell_type": "code",
   "execution_count": 137,
   "id": "52ce6569-e75d-4230-bb40-a8cba5275fbb",
   "metadata": {
    "tags": []
   },
   "outputs": [
    {
     "data": {
      "text/plain": [
       "array([[False, False],\n",
       "       [ True, False],\n",
       "       [ True,  True]])"
      ]
     },
     "execution_count": 137,
     "metadata": {},
     "output_type": "execute_result"
    }
   ],
   "source": [
    "np.isnan(x)"
   ]
  },
  {
   "cell_type": "code",
   "execution_count": 138,
   "id": "91f4576d-733b-48a8-ae89-459e7a2bfc6a",
   "metadata": {
    "tags": []
   },
   "outputs": [
    {
     "data": {
      "text/plain": [
       "array([1., 2., 3.])"
      ]
     },
     "execution_count": 138,
     "metadata": {},
     "output_type": "execute_result"
    }
   ],
   "source": [
    "x[~np.isnan(x)]"
   ]
  },
  {
   "cell_type": "code",
   "execution_count": 139,
   "id": "c478aa52-6c96-4869-b245-310a9ca29b23",
   "metadata": {
    "tags": []
   },
   "outputs": [
    {
     "data": {
      "text/plain": [
       "array([1., 2., 3.])"
      ]
     },
     "execution_count": 139,
     "metadata": {},
     "output_type": "execute_result"
    }
   ],
   "source": [
    "x[(~np.isnan(x)).nonzero()]"
   ]
  },
  {
   "cell_type": "code",
   "execution_count": 140,
   "id": "9a6eedff-a995-481e-9229-180ebd643b19",
   "metadata": {
    "tags": []
   },
   "outputs": [
    {
     "data": {
      "text/plain": [
       "(array([0, 0, 1]), array([0, 1, 1]))"
      ]
     },
     "execution_count": 140,
     "metadata": {},
     "output_type": "execute_result"
    }
   ],
   "source": [
    "(~np.isnan(x)).nonzero()"
   ]
  },
  {
   "cell_type": "markdown",
   "id": "91c33c90-43ce-4146-b150-5ec3f668be13",
   "metadata": {},
   "source": [
    "Or wish to add a constant to all negative elements:\n",
    "\n"
   ]
  },
  {
   "cell_type": "code",
   "execution_count": 132,
   "id": "1df431a3-43dd-41b9-8d92-1252e57866de",
   "metadata": {
    "tags": []
   },
   "outputs": [],
   "source": [
    "x = np.array([1., -1., -2., 3])\n",
    "x[x < 0] += 20"
   ]
  },
  {
   "cell_type": "code",
   "execution_count": 133,
   "id": "ff7b8b03-9122-4377-aea5-7dfc1c195a38",
   "metadata": {
    "tags": []
   },
   "outputs": [
    {
     "data": {
      "text/plain": [
       "array([ 1., 19., 18.,  3.])"
      ]
     },
     "execution_count": 133,
     "metadata": {},
     "output_type": "execute_result"
    }
   ],
   "source": [
    "x"
   ]
  },
  {
   "cell_type": "markdown",
   "id": "bce15a9a-5e5d-468c-ad7a-980a68bd7b94",
   "metadata": {},
   "source": [
    "In general if an index includes a Boolean array, the result will be identical to inserting `obj.nonzero()` into the same position and using the integer array indexing mechanism described above. `x[ind_1, boolean_array, ind_2]` is equivalent to `x[(ind_1,) + boolean_array.nonzero() + (ind_2,)]`."
   ]
  },
  {
   "cell_type": "markdown",
   "id": "c9a3e712-4e96-4d4e-92f4-55726338e871",
   "metadata": {},
   "source": [
    "This is where the concept of a ***mask*** comes into play."
   ]
  },
  {
   "cell_type": "markdown",
   "id": "49789628-1b3c-400b-8028-b4672cac4f71",
   "metadata": {},
   "source": [
    "A mask is an array that has the exact same shape as your data, but instead of your values, it holds Boolean values: either `True` or `False`. You can use this mask array to index into your data array in nonlinear and complex ways. It will return all of the elements where the Boolean array has a True value."
   ]
  },
  {
   "cell_type": "markdown",
   "id": "14195928-b9ae-497a-a304-d34c601f335e",
   "metadata": {},
   "source": [
    "Here’s an example showing the process, first in slow motion and then how it’s typically done, all in one line:"
   ]
  },
  {
   "cell_type": "code",
   "execution_count": null,
   "id": "831f777b-b524-4071-ac44-4eec548c8ef7",
   "metadata": {},
   "outputs": [],
   "source": [
    "numbers = np.linspace(5, 50, 24, dtype=int).reshape(4, -1)\n",
    "\n",
    "numbers"
   ]
  },
  {
   "cell_type": "code",
   "execution_count": null,
   "id": "ac93216f-0bd8-4ce1-b8ce-0ee30b8db5a2",
   "metadata": {},
   "outputs": [],
   "source": [
    "mask = numbers % 4 == 0\n",
    "\n",
    "mask"
   ]
  },
  {
   "cell_type": "code",
   "execution_count": null,
   "id": "76b4780f-4784-4427-b98c-d65eac8c1391",
   "metadata": {},
   "outputs": [],
   "source": [
    "numbers[mask]"
   ]
  },
  {
   "cell_type": "code",
   "execution_count": null,
   "id": "17d163d8-982c-4b35-ac5e-dc50ea6895b8",
   "metadata": {},
   "outputs": [],
   "source": [
    "np.may_share_memory(numbers[mask], numbers)"
   ]
  },
  {
   "cell_type": "code",
   "execution_count": null,
   "id": "13845538-18f5-4342-ba90-813991c5824a",
   "metadata": {},
   "outputs": [],
   "source": [
    "# how it's typically done\n",
    "by_four = numbers[numbers % 4 == 0]\n",
    "\n",
    "by_four"
   ]
  },
  {
   "cell_type": "markdown",
   "id": "de8050a3-84f7-48f4-9597-673964c540f7",
   "metadata": {},
   "source": [
    "You’ll see an explanation of the new array creation tricks in input 2 in a moment, but for now, focus on the meat of the example. These are the important parts:\n",
    "\n",
    "- ***`mask = numbers % 4 == 0`*** creates the mask by performing a ***vectorized Boolean computation***, taking each element and checking to see if it divides evenly by four. This returns a mask array of the same shape with the element-wise results of the computation.\n",
    "- ***`numbers[mask]`*** uses this mask to index into the original numbers array. This causes the array to lose its original shape, reducing it to one dimension, but you still get the data you’re looking for.\n",
    "- ***`by_four = numbers[numbers % 4 == 0]`*** provides a more traditional, idiomatic masked selection that you might see in the wild, with an anonymous filtering array created inline, inside the selection brackets. This syntax is similar to usage in the R programming language.\n",
    "Coming back to numbers = np.linspace(5, 50, 24, dtype=int).reshape(4, -1), you encounter three new concepts:\n",
    "\n"
   ]
  },
  {
   "cell_type": "markdown",
   "id": "971fd0c8-d3ae-4328-8f29-a558d73dcd25",
   "metadata": {},
   "source": [
    "- Using `np.linspace()` to generate an evenly spaced array\n",
    "- Setting the `dtype` of an output\n",
    "- Reshaping an array with `-1`"
   ]
  },
  {
   "cell_type": "markdown",
   "id": "b99fb4ab-fc8f-49b7-b4d4-72c7afc6519b",
   "metadata": {},
   "source": [
    "`np.linspace()` generates n numbers evenly distributed between a minimum and a maximum, which is useful for evenly distributed sampling in scientific plotting\n",
    "\n",
    "Because of the particular calculation in this example, it makes life easier to have integers in the `numbers` array. But because the space between 5 and 50 doesn’t divide evenly by 24, the resulting numbers would be floating-point numbers. You specify a `dtype` of `int` to force the function to round down and give you whole integers. You’ll see a more detailed discussion of data types later on.\n",
    "\n",
    "Finally, `array.reshape()` can take `-1` as one of its dimension sizes. That signifies that NumPy should just figure out how big that particular axis needs to be based on the size of the other axes. In this case, with 24 values and a size of `4` in axis 0, axis 1 ends up with a size of `6`.\n",
    "\n",
    "Here’s one more example to show off the power of masked filtering. The normal distribution is a probability distribution in which roughly 95.45% of values occur within two standard deviations of the mean.\n",
    "\n",
    "You can verify that with a little help from NumPy’s random module for generating random values:"
   ]
  },
  {
   "cell_type": "code",
   "execution_count": 156,
   "id": "0a4149cc-abe3-4fee-8b9f-9aa1c8d6013f",
   "metadata": {
    "tags": []
   },
   "outputs": [
    {
     "data": {
      "text/plain": [
       "array([ 0.05200714,  1.34950551, -0.96828012, -0.63604235,  0.86354089])"
      ]
     },
     "execution_count": 156,
     "metadata": {},
     "output_type": "execute_result"
    }
   ],
   "source": [
    "import numpy as np\n",
    "\n",
    "from numpy.random import default_rng\n",
    "\n",
    "rng = default_rng()\n",
    "\n",
    "values = rng.standard_normal(10000)\n",
    "\n",
    "values[:5]"
   ]
  },
  {
   "cell_type": "code",
   "execution_count": 157,
   "id": "f245b590-68ab-43c5-837b-48150c49dba3",
   "metadata": {
    "tags": []
   },
   "outputs": [
    {
     "data": {
      "text/plain": [
       "0.9947914643194757"
      ]
     },
     "execution_count": 157,
     "metadata": {},
     "output_type": "execute_result"
    }
   ],
   "source": [
    "std = values.std()\n",
    "\n",
    "std"
   ]
  },
  {
   "cell_type": "code",
   "execution_count": 158,
   "id": "a66c61a0-2137-4424-8d39-dc218e7abbb1",
   "metadata": {
    "tags": []
   },
   "outputs": [
    {
     "data": {
      "text/plain": [
       "9541"
      ]
     },
     "execution_count": 158,
     "metadata": {},
     "output_type": "execute_result"
    }
   ],
   "source": [
    "filtered = values[(values > -2 * std) & (values < 2 * std)]\n",
    "\n",
    "filtered.size"
   ]
  },
  {
   "cell_type": "code",
   "execution_count": 159,
   "id": "acb29606-5d49-4424-9a42-2991306ee70b",
   "metadata": {
    "tags": []
   },
   "outputs": [
    {
     "data": {
      "text/plain": [
       "10000"
      ]
     },
     "execution_count": 159,
     "metadata": {},
     "output_type": "execute_result"
    }
   ],
   "source": [
    "values.size"
   ]
  },
  {
   "cell_type": "code",
   "execution_count": 160,
   "id": "b13500c9-231b-45ac-a52e-51f597eb211a",
   "metadata": {
    "tags": []
   },
   "outputs": [
    {
     "data": {
      "text/plain": [
       "0.9541"
      ]
     },
     "execution_count": 160,
     "metadata": {},
     "output_type": "execute_result"
    }
   ],
   "source": [
    "filtered.size / values.size"
   ]
  },
  {
   "cell_type": "markdown",
   "id": "de399cba-35aa-42f9-888c-51941e5d994c",
   "metadata": {},
   "source": [
    "Here you use a potentially strange-looking syntax to combine filter conditions: a ***binary & operator***. Why would that be the case? It’s because NumPy designates `&` and `|` as the vectorized, element-wise operators to combine Booleans. If you try to do `A` and `B`, then you’ll get a warning about how the truth value for an array is weird, because the and is operating on the truth value of the whole array, not element by element."
   ]
  },
  {
   "cell_type": "code",
   "execution_count": null,
   "id": "d656747e-31c3-4fd3-b9a5-d2b366ba87d6",
   "metadata": {},
   "outputs": [],
   "source": []
  }
 ],
 "metadata": {
  "kernelspec": {
   "display_name": "Python 3 (ipykernel)",
   "language": "python",
   "name": "python3"
  },
  "language_info": {
   "codemirror_mode": {
    "name": "ipython",
    "version": 3
   },
   "file_extension": ".py",
   "mimetype": "text/x-python",
   "name": "python",
   "nbconvert_exporter": "python",
   "pygments_lexer": "ipython3",
   "version": "3.11.4"
  }
 },
 "nbformat": 4,
 "nbformat_minor": 5
}
