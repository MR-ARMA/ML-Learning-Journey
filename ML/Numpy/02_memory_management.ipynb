{
 "cells": [
  {
   "cell_type": "markdown",
   "id": "b1dbfac6-f0b2-4f61-86c0-9cd1c06fc6e3",
   "metadata": {},
   "source": [
    "# <center> <div style=\"width: 370px;\"> ![numpy title](pictures/numpy_tytle.jpg)"
   ]
  },
  {
   "cell_type": "markdown",
   "id": "260cef86-ed2c-4115-954d-c570fb921fdb",
   "metadata": {},
   "source": [
    "<h1 align=\"center\">Memory Management in NumPy</h1>"
   ]
  },
  {
   "cell_type": "markdown",
   "id": "188bcfde-9ef8-40bc-b093-d600f30d987e",
   "metadata": {},
   "source": [
    "## Intro to Memory Management"
   ]
  },
  {
   "cell_type": "markdown",
   "id": "c55bd5a5-2719-4492-8191-07ae026f0a26",
   "metadata": {
    "tags": []
   },
   "source": [
    "**Before we dive into NumPy, it’s crucial to understand how computers manages memory.**"
   ]
  },
  {
   "cell_type": "markdown",
   "id": "3d36f832-2865-413a-aca4-94360138a14e",
   "metadata": {},
   "source": [
    "Imagine a computer's memory as an empty book awaiting short stories. The book's pages are blank at the start, symbolizing available memory space. As different authors (representing applications or processes) arrive, they seek their own space within the book's pages.\n",
    "To avoid conflicts, these authors must coordinate with the book's manager, who allocates specific pages for each author. Over time, some stories become irrelevant, much like forgotten tales in the book. When no one reads or references these stories, they are removed to make room for new ones. This process resembles a garbage collector tidying up the book.\n",
    "In essence, computer memory parallels an empty book, where fixed-length contiguous blocks of memory are like its pages.\n",
    "Memory management involves the process of reading and writing data in applications. A memory manager plays the crucial role of determining where to place an application's data within the finite memory space, a process known as memory allocation.\n",
    "Conversely, when data is no longer needed, it can be deleted or freed. But where does this \"memory\" come from?\n",
    "Inside your computer, a physical device stores data while running programs. Multiple layers of abstraction exist between your Python code and the hardware. The operating system (OS) sits above the hardware, processing requests to read and write memory.\n",
    "Further above, applications, including the default Python implementation, handle memory management. This article explores the algorithms and structures employed by the Python application for memory management.\n",
    "Let's focus on the default Python implementation, CPython. Surprisingly, CPython is written in the C programming language, serving as both a code interpreter and an executor on a virtual machine.\n",
    "Python operates as an interpreted language, transforming Python code into bytecode, which gets interpreted by a virtual machine when running your code. If you've come across .pyc files or `__pycache__` folders, they contain the bytecode interpreted by the virtual machine.\n",
    "It's important to note that besides `CPython`, there are other Python implementations like `IronPython`, `Jython`, and `PyPy`.\n",
    "To understand Python's memory management, it's essential to grasp the fundamentals of CPython. Despite C's limited support for object-oriented programming, CPython treats everything in Python as an object. Each object in CPython relies on a struct called a PyObject.\n",
    "This PyObject, the backbone of Python objects, has two components:\n",
    "\n",
    "1. **ob_refcnt:** A reference count used for garbage collection.\n",
    "2. **ob_type:** A pointer to the object's type, defining its characteristics.\n",
    "\n",
    "Each Python object has its memory allocator and deallocator, responsible for allocating and freeing memory as needed.\n",
    "However, an essential consideration in memory management is that memory is a shared resource in a computer. Concurrent attempts by different processes to write to the same memory location can lead to undesirable consequences."
   ]
  },
  {
   "cell_type": "markdown",
   "id": "990772da-41a6-4239-a255-468d9aeda7cc",
   "metadata": {},
   "source": [
    "### NumPy’s Role in Memory Management "
   ]
  },
  {
   "cell_type": "markdown",
   "id": "ef59708d-ca94-4fc6-b21c-87a4203a03b4",
   "metadata": {},
   "source": [
    "NumPy is a powerful library for numerical computations in Python. It provides an array object that is up to 50x faster than traditional Python lists. This speed is due to the internal optimizations in NumPy, one of which is its memory management.\n",
    "NumPy arrays are stored in a contiguous block of memory, unlike Python lists. This means that all elements of the array are stored next to each other in memory, which allows for faster access and operations.\n",
    "When you create a very large NumPy array, it doesn’t throw a memory error because it uses a technique called memory mapping."
   ]
  },
  {
   "cell_type": "markdown",
   "id": "c381c0d0-c1e7-40a1-96ff-4cd7a7c7dcc9",
   "metadata": {
    "tags": []
   },
   "source": [
    "### Memory Mapping with NumPy"
   ]
  },
  {
   "cell_type": "markdown",
   "id": "bc857d38-97e2-487d-a092-fceb7746971b",
   "metadata": {},
   "source": [
    "Memory mapping is a method that allows a program to use more memory than what is physically available on your machine. It does this by creating a ‘map’ between a disk file and the memory. This map acts as a cache for the data stored on the disk.\n",
    "When you create a very large NumPy array, instead of storing the entire array in memory, NumPy creates a memory map and stores the array on disk. This allows you to work with arrays larger than your machine’s memory.\n",
    "To create a memory-mapped array, you can use the `numpy.memmap` function. Here’s an example:"
   ]
  },
  {
   "cell_type": "code",
   "execution_count": 1,
   "id": "c88d1ff7-a29a-4a9d-9387-e8e5dc78870e",
   "metadata": {
    "tags": []
   },
   "outputs": [],
   "source": [
    "import numpy as np"
   ]
  },
  {
   "cell_type": "code",
   "execution_count": 2,
   "id": "4956eb47-e28d-4cb5-9902-3b48fd73e27e",
   "metadata": {
    "tags": []
   },
   "outputs": [],
   "source": [
    "# Create a memory-mapped array and initialize it with zeros\n",
    "large_array = np.memmap('large_array.dat',\n",
    "                        dtype='float32',\n",
    "                        mode='w+',\n",
    "                        shape=(10000, 10000)\n",
    "                       )"
   ]
  },
  {
   "cell_type": "code",
   "execution_count": 3,
   "id": "12fddef5-b82b-442e-b179-6deae4a51dfa",
   "metadata": {
    "tags": []
   },
   "outputs": [],
   "source": [
    "# Initialize with zeros\n",
    "large_array[:] = np.random.rand(10000, 10000)  "
   ]
  },
  {
   "cell_type": "code",
   "execution_count": 4,
   "id": "a173dd78-c779-49f9-91c6-8f7572c206ae",
   "metadata": {
    "tags": []
   },
   "outputs": [
    {
     "data": {
      "text/plain": [
       "memmap([[0.01897797, 0.41709578, 0.00262423, ..., 0.6209537 , 0.87336725,\n",
       "         0.7445942 ],\n",
       "        [0.42035276, 0.63977575, 0.5798491 , ..., 0.7200078 , 0.6183163 ,\n",
       "         0.11023203],\n",
       "        [0.32341477, 0.14885117, 0.2601995 , ..., 0.9040125 , 0.6356539 ,\n",
       "         0.41146332],\n",
       "        ...,\n",
       "        [0.10718223, 0.49055314, 0.39380866, ..., 0.7717925 , 0.20798364,\n",
       "         0.7730101 ],\n",
       "        [0.3436252 , 0.08154535, 0.5164416 , ..., 0.01196378, 0.8672023 ,\n",
       "         0.00249079],\n",
       "        [0.8540558 , 0.02701333, 0.6641607 , ..., 0.18023962, 0.25932774,\n",
       "         0.20604192]], dtype=float32)"
      ]
     },
     "execution_count": 4,
     "metadata": {},
     "output_type": "execute_result"
    }
   ],
   "source": [
    "large_array"
   ]
  },
  {
   "cell_type": "markdown",
   "id": "2473d1ba-d472-456d-accf-dddd6fffc13a",
   "metadata": {},
   "source": [
    "### Internal Memory Layout of an ndarray\n"
   ]
  },
  {
   "cell_type": "markdown",
   "id": "25d95d5f-7956-4a31-b734-12296cf58932",
   "metadata": {},
   "source": [
    "A 'ndarray' class instance represents a cohesive, one-dimensional segment of computer memory. This memory segment is either owned by the array itself or another object. It is accompanied by an indexing system that translates N integers into the precise location of an item within this memory block.\n",
    "\n",
    "The permissible ranges for these indices are determined by the array's shape. The specifics of how many bytes each item occupies and the interpretation of these bytes are dictated by the data-type object linked to the array."
   ]
  },
  {
   "cell_type": "code",
   "execution_count": 5,
   "id": "0831c701-5c7e-4c43-bac8-843ffb66c897",
   "metadata": {
    "tags": []
   },
   "outputs": [],
   "source": [
    "x = np.array([0, 1, 2, 3, 4, 5])"
   ]
  },
  {
   "cell_type": "code",
   "execution_count": 6,
   "id": "53b2749c-6711-4cd1-b0e4-3b17748f6772",
   "metadata": {
    "tags": []
   },
   "outputs": [
    {
     "data": {
      "text/plain": [
       "  C_CONTIGUOUS : True\n",
       "  F_CONTIGUOUS : True\n",
       "  OWNDATA : True\n",
       "  WRITEABLE : True\n",
       "  ALIGNED : True\n",
       "  WRITEBACKIFCOPY : False"
      ]
     },
     "execution_count": 6,
     "metadata": {},
     "output_type": "execute_result"
    }
   ],
   "source": [
    "x.flags"
   ]
  },
  {
   "cell_type": "markdown",
   "id": "25e7eefe-f62f-43fb-86e4-02f1998d9dd4",
   "metadata": {},
   "source": [
    "These are flags or attributes associated with NumPy arrays in Python, which provide information about various aspects of the array's memory layout and properties. Here's an explanation of each:\n",
    "\n",
    "1. **C_CONTIGUOUS**: This flag indicates whether the array is C-contiguous, meaning its data is stored in memory in a C-like (row-major) order. In a C-contiguous array, elements in the same row are adjacent in memory. This is the default layout for NumPy arrays, and you can check this flag to determine if an array is stored in C-contiguous order.\n",
    "\n",
    "2. **F_CONTIGUOUS**: The F-contiguous flag indicates whether the array is F-contiguous, following a Fortran-like (column-major) memory layout. In an F-contiguous array, elements in the same column are stored adjacent in memory. This layout is used by some other programming languages like Fortran, R, Julia, and MATLAB.\n",
    "\n",
    "3. **OWNDATA**: This flag tells you whether the array owns its data or if it shares data with another array. If OWNDATA is True, the array has its own data; if False, it shares data with another array. It's important because modifying a shared data array can affect other arrays that share the same data.\n",
    "\n",
    "4. **WRITEABLE**: WRITEABLE indicates whether the array is writeable or read-only. If WRITEABLE is True, you can modify the contents of the array. If it's False, the array is read-only, and any attempt to modify it will raise an error.\n",
    "\n",
    "5. **ALIGNED**: The ALIGNED flag indicates whether the array data is properly aligned in memory for efficient access. If ALIGNED is True, it means the array is aligned; if False, it may not be optimally aligned. Proper alignment can improve performance when working with the array.\n",
    "\n",
    "6. **WRITEBACKIFCOPY**: This flag is used in the context of creating views or copies of arrays. When WRITEBACKIFCOPY is True, it implies that a copy of the array was created, and modifications to this copy may be written back to the original array when the copy is deleted. It's typically used for memory-mapped arrays or when you create a copy of an array with a different data type.\n",
    "\n"
   ]
  },
  {
   "cell_type": "code",
   "execution_count": 7,
   "id": "bfc18141-f4f1-47c0-83e5-a5d582ef9d27",
   "metadata": {
    "tags": []
   },
   "outputs": [],
   "source": [
    "c_array = np.random.rand(10000, 1000) "
   ]
  },
  {
   "cell_type": "code",
   "execution_count": 8,
   "id": "24dc5202-5d8e-4863-9412-09e338dd5667",
   "metadata": {
    "tags": []
   },
   "outputs": [],
   "source": [
    "f_array = np.asfortranarray(c_array) "
   ]
  },
  {
   "cell_type": "code",
   "execution_count": 9,
   "id": "b44ae341-70ed-4c70-a19f-c25d9d166fe6",
   "metadata": {
    "tags": []
   },
   "outputs": [],
   "source": [
    "def sum_row(x):    \n",
    "    return np.sum(x[0, :])"
   ]
  },
  {
   "cell_type": "code",
   "execution_count": 10,
   "id": "c296ea6b-123b-4242-916c-654c232fa2b5",
   "metadata": {
    "tags": []
   },
   "outputs": [],
   "source": [
    "def sum_col(x):\n",
    "    return np.sum(x[:, 0])"
   ]
  },
  {
   "cell_type": "markdown",
   "id": "613a8d4d-7548-4ef6-9aa0-6517c7f1b84e",
   "metadata": {},
   "source": [
    "if we test the performance, we have:"
   ]
  },
  {
   "cell_type": "code",
   "execution_count": 11,
   "id": "b8c0432c-b480-409f-a224-b75dee0dc4f0",
   "metadata": {
    "tags": []
   },
   "outputs": [
    {
     "name": "stdout",
     "output_type": "stream",
     "text": [
      "2.47 µs ± 109 ns per loop (mean ± std. dev. of 7 runs, 100,000 loops each)\n"
     ]
    }
   ],
   "source": [
    "%timeit sum_row(c_array)"
   ]
  },
  {
   "cell_type": "code",
   "execution_count": 12,
   "id": "baa16354-9989-4fa6-a7b6-185386a9d430",
   "metadata": {
    "tags": []
   },
   "outputs": [
    {
     "name": "stdout",
     "output_type": "stream",
     "text": [
      "3.4 µs ± 414 ns per loop (mean ± std. dev. of 7 runs, 100,000 loops each)\n"
     ]
    }
   ],
   "source": [
    "%timeit sum_row(f_array)"
   ]
  },
  {
   "cell_type": "code",
   "execution_count": 13,
   "id": "2f2bd2ba-b102-4a0f-8a3c-c1104c7f517d",
   "metadata": {
    "tags": []
   },
   "outputs": [
    {
     "name": "stdout",
     "output_type": "stream",
     "text": [
      "71.5 µs ± 4.2 µs per loop (mean ± std. dev. of 7 runs, 10,000 loops each)\n"
     ]
    }
   ],
   "source": [
    "%timeit sum_col(c_array)"
   ]
  },
  {
   "cell_type": "code",
   "execution_count": 14,
   "id": "308662ad-a137-4193-ac57-017714158eae",
   "metadata": {
    "tags": []
   },
   "outputs": [
    {
     "name": "stdout",
     "output_type": "stream",
     "text": [
      "5.94 µs ± 893 ns per loop (mean ± std. dev. of 7 runs, 100,000 loops each)\n"
     ]
    }
   ],
   "source": [
    "%timeit sum_col(f_array)"
   ]
  },
  {
   "cell_type": "markdown",
   "id": "1fa2908b-7e31-4613-ab77-3f3ab17408ff",
   "metadata": {
    "tags": []
   },
   "source": [
    "As we can see, summing up the row of a `C` array is much faster than summing up its column. This is because, in a `C` array, elements in a row are laid out in successive memory locations. The opposite is true for a Fortran array, where the elements of a column are laid out in consecutive memory locations.\n",
    "\n",
    "This is an important distinction and allows you to suitably arrange your data in an array, depending on the kind of algorithm or operation you are performing. Knowing this distinction can help you speed up your code by orders of magnitude."
   ]
  },
  {
   "cell_type": "markdown",
   "id": "079361b5-cdb7-4305-b750-0ef9013346ae",
   "metadata": {},
   "source": [
    "### Views and Copies"
   ]
  },
  {
   "cell_type": "markdown",
   "id": "7ef72706-5047-4399-bd2b-6823c7d49cd1",
   "metadata": {},
   "source": [
    "When working with NumPy arrays, there are two fundamental ways to access data: through copies and views. These two methods determine whether you directly access elements from the original array or create a separate copy of the array containing only the accessed elements.\n",
    "A ***view*** is essentially a reference to the original array. In Python, variables are references, so when you modify a view, you are, in fact, modifying the original array. Conversely, a ***copy*** is a distinct array with its own memory space, and modifications to a copy do not affect the original array.\n",
    "To discern whether two arrays are copies or views of each other, NumPy provides the `may_share_memory` function in its miscellaneous routines. While this function is reliable in most cases, it relies on heuristics and may occasionally yield inaccurate results. For introductory purposes, we will assume its reliability.\n",
    "In practice, slicing an array typically creates a view, while indexing it generates a copy. Let's delve into these distinctions through a few illustrative code snippets. First, we will create a random `9x99` array for demonstration purposes."
   ]
  },
  {
   "cell_type": "code",
   "execution_count": 15,
   "id": "fd9559d8-d0ce-4c00-a759-7a6e6e0225ba",
   "metadata": {
    "tags": []
   },
   "outputs": [],
   "source": [
    "x = np.random.rand(9, 99)"
   ]
  },
  {
   "cell_type": "markdown",
   "id": "8a315bc8-8425-4751-8725-9d2c2dcb1de1",
   "metadata": {},
   "source": [
    "if extract the first 3 columns of the array and assign them to variable `y`:"
   ]
  },
  {
   "cell_type": "code",
   "execution_count": 16,
   "id": "5766e9fd-ed9d-4019-b3cc-d01fb81786fa",
   "metadata": {
    "tags": []
   },
   "outputs": [],
   "source": [
    "y = x[:, :3]"
   ]
  },
  {
   "cell_type": "code",
   "execution_count": 17,
   "id": "56863cbb-5d15-4c16-b581-8a6a53f93064",
   "metadata": {
    "tags": []
   },
   "outputs": [
    {
     "data": {
      "text/plain": [
       "True"
      ]
     },
     "execution_count": 17,
     "metadata": {},
     "output_type": "execute_result"
    }
   ],
   "source": [
    "np.may_share_memory(x, y)"
   ]
  },
  {
   "cell_type": "markdown",
   "id": "8491a1c7-8640-4f50-9c81-d35b44324e1c",
   "metadata": {},
   "source": [
    "As you can see `x` and `y` ***may*** have shared memory.\n",
    "Now, if we modify the array `y`, see affects `x`. set all the elements of `y` to zero:"
   ]
  },
  {
   "cell_type": "code",
   "execution_count": 18,
   "id": "87a63baf-1690-4a78-955e-61bb2148f0c9",
   "metadata": {
    "tags": []
   },
   "outputs": [
    {
     "data": {
      "text/plain": [
       "array([[0.98836233, 0.13912672, 0.36707162],\n",
       "       [0.83774828, 0.49489622, 0.11479716],\n",
       "       [0.25616877, 0.27211892, 0.45904872],\n",
       "       [0.07999371, 0.3444876 , 0.78864417],\n",
       "       [0.60795913, 0.55563961, 0.68654045],\n",
       "       [0.07822455, 0.59545474, 0.75667895],\n",
       "       [0.82895351, 0.75111266, 0.71877659],\n",
       "       [0.15413075, 0.07084817, 0.63945433],\n",
       "       [0.31179026, 0.78923352, 0.73698378]])"
      ]
     },
     "execution_count": 18,
     "metadata": {},
     "output_type": "execute_result"
    }
   ],
   "source": [
    "x[:, :3]"
   ]
  },
  {
   "cell_type": "code",
   "execution_count": 19,
   "id": "77eaf94f-da92-402f-b52d-72601c4660ca",
   "metadata": {
    "tags": []
   },
   "outputs": [],
   "source": [
    "y[:] = 0."
   ]
  },
  {
   "cell_type": "code",
   "execution_count": 20,
   "id": "7f620e76-0403-4389-9292-4b6866969b1e",
   "metadata": {
    "tags": []
   },
   "outputs": [
    {
     "data": {
      "text/plain": [
       "array([[0., 0., 0.],\n",
       "       [0., 0., 0.],\n",
       "       [0., 0., 0.],\n",
       "       [0., 0., 0.],\n",
       "       [0., 0., 0.],\n",
       "       [0., 0., 0.],\n",
       "       [0., 0., 0.],\n",
       "       [0., 0., 0.],\n",
       "       [0., 0., 0.]])"
      ]
     },
     "execution_count": 20,
     "metadata": {},
     "output_type": "execute_result"
    }
   ],
   "source": [
    "x[:, :3]"
   ]
  },
  {
   "cell_type": "markdown",
   "id": "685a5d85-6437-45d8-8e6b-100dd4f2a92e",
   "metadata": {},
   "source": [
    " This is because `y` was just a view, a reference to `x`."
   ]
  },
  {
   "cell_type": "markdown",
   "id": "7d8ef954-057c-42d6-bc21-3cf6dd97badd",
   "metadata": {},
   "source": [
    "In the next we create a copy to see differences. In this alternative approach, we employ the same method as before (but for copy elements) to generate the x array using a random function. However, in this iteration, we take a different route for initializing the y array. We begin by using `numpy.empty` to create an empty array, and subsequently, we populate it with the values from x. As a result, y ceases to be a reference to x; instead, it becomes a distinct and independent array, albeit containing the same values as a subset of x. To confirm this transformation, let's once more utilize the `may_share_memory` function to ascertain that y is indeed a copy of x:"
   ]
  },
  {
   "cell_type": "code",
   "execution_count": 21,
   "id": "0c923cdb-e2d8-422b-bb09-f53f64d42414",
   "metadata": {
    "tags": []
   },
   "outputs": [],
   "source": [
    "x = np.random.rand(9, 99)"
   ]
  },
  {
   "cell_type": "code",
   "execution_count": 22,
   "id": "8f102e22-c50e-4f1b-80a1-12ffd83190d6",
   "metadata": {
    "tags": []
   },
   "outputs": [],
   "source": [
    "y = np.empty([8, 3]) "
   ]
  },
  {
   "cell_type": "code",
   "execution_count": 23,
   "id": "60899df7-3452-4782-9cda-1347e07c7dd3",
   "metadata": {
    "tags": []
   },
   "outputs": [],
   "source": [
    "y[:] = x[:8, :3]"
   ]
  },
  {
   "cell_type": "code",
   "execution_count": 24,
   "id": "5e95a4b6-39ea-4b8e-bc30-697ce4ca470e",
   "metadata": {
    "tags": []
   },
   "outputs": [
    {
     "data": {
      "text/plain": [
       "False"
      ]
     },
     "execution_count": 24,
     "metadata": {},
     "output_type": "execute_result"
    }
   ],
   "source": [
    "np.may_share_memory(x, y)"
   ]
  },
  {
   "cell_type": "markdown",
   "id": "fd234525-cd0f-485e-b647-b04f274120eb",
   "metadata": {},
   "source": [
    "***alter the valiu in `y` and check whether the value of `x` changes as well:***"
   ]
  },
  {
   "cell_type": "code",
   "execution_count": 25,
   "id": "e46518a0-6651-4530-95bb-03d73fc1efa4",
   "metadata": {
    "tags": []
   },
   "outputs": [],
   "source": [
    "y[:] = 0"
   ]
  },
  {
   "cell_type": "code",
   "execution_count": 26,
   "id": "1a4207a2-d17b-42f0-9a04-a8f9ba47b769",
   "metadata": {
    "tags": []
   },
   "outputs": [
    {
     "data": {
      "text/plain": [
       "array([[0.07575805, 0.89679058, 0.97974359],\n",
       "       [0.28493419, 0.55612284, 0.69756472],\n",
       "       [0.96624807, 0.97224952, 0.92912351],\n",
       "       [0.28957506, 0.55358986, 0.377225  ],\n",
       "       [0.66816083, 0.87931233, 0.06841157],\n",
       "       [0.55830194, 0.99910953, 0.25892622],\n",
       "       [0.69106984, 0.67013092, 0.09848187],\n",
       "       [0.46858213, 0.44801985, 0.34229392]])"
      ]
     },
     "execution_count": 26,
     "metadata": {},
     "output_type": "execute_result"
    }
   ],
   "source": [
    "x[:8, :3]"
   ]
  },
  {
   "cell_type": "markdown",
   "id": "c7cee301-0db2-4818-b7d2-a1911d044d7f",
   "metadata": {},
   "source": [
    "You should observe the previous code snippet displaying five rows of random numbers, as we initialized `x`. Consequently, altering the values of `y` to 0 did not have any impact on the contents of `x`."
   ]
  },
  {
   "cell_type": "markdown",
   "id": "ea4593d1-9c23-4ddc-a9f9-72fb290173f9",
   "metadata": {},
   "source": [
    "### Intro to Strides"
   ]
  },
  {
   "cell_type": "markdown",
   "id": "cd96e268-7aa5-4890-ad27-9c8d2794f6e7",
   "metadata": {},
   "source": [
    "\n",
    "Strides serve as the indexing mechanism within NumPy arrays, dictating the number of bytes to advance in order to locate the next element. While we've already explored the performance enhancements of NumPy, which arise from its reliance on a uniform multidimensional array structure containing fixed-size elements (the `numpy.ndarray` object), we've primarily focused on aspects like shape (dimensions), data types, and ordering (whether it follows C-style row-major or Fortran-style column-major indexing). Now, let's delve deeper into the concept of strides.\n"
   ]
  },
  {
   "cell_type": "markdown",
   "id": "7336e715-6e9e-467d-9643-f00314b6d121",
   "metadata": {},
   "source": [
    "#### Example"
   ]
  },
  {
   "cell_type": "code",
   "execution_count": 27,
   "id": "3173a753-beaa-4b46-be2f-c703ce35342e",
   "metadata": {
    "tags": []
   },
   "outputs": [],
   "source": [
    "import numpy as np\n",
    "import random"
   ]
  },
  {
   "cell_type": "code",
   "execution_count": 28,
   "id": "b019502f-5618-49e2-9756-4b906ed7ec17",
   "metadata": {
    "tags": []
   },
   "outputs": [],
   "source": [
    "x = np.random.randint(0, 128, (4, 4), dtype=np.int8)"
   ]
  },
  {
   "cell_type": "code",
   "execution_count": 29,
   "id": "fba85038-ab91-40d1-94ac-5b88650b56fa",
   "metadata": {
    "tags": []
   },
   "outputs": [
    {
     "data": {
      "text/plain": [
       "(4, 4)"
      ]
     },
     "execution_count": 29,
     "metadata": {},
     "output_type": "execute_result"
    }
   ],
   "source": [
    "x.shape"
   ]
  },
  {
   "cell_type": "code",
   "execution_count": 30,
   "id": "2fbfefe4-0ebc-4746-bf2b-f027f66b18c1",
   "metadata": {
    "tags": []
   },
   "outputs": [
    {
     "data": {
      "text/plain": [
       "array([[108,   9, 122,  10],\n",
       "       [ 50,  79,  96, 125],\n",
       "       [ 72,  59,  22,  97],\n",
       "       [ 95,  56,  84,  58]], dtype=int8)"
      ]
     },
     "execution_count": 30,
     "metadata": {},
     "output_type": "execute_result"
    }
   ],
   "source": [
    "x"
   ]
  },
  {
   "cell_type": "code",
   "execution_count": 31,
   "id": "8ab4436f-3725-4703-85ff-5c17ce15c3db",
   "metadata": {
    "tags": []
   },
   "outputs": [
    {
     "data": {
      "text/plain": [
       "<memory at 0x7f88321b0520>"
      ]
     },
     "execution_count": 31,
     "metadata": {},
     "output_type": "execute_result"
    }
   ],
   "source": [
    "x.data"
   ]
  },
  {
   "cell_type": "code",
   "execution_count": 32,
   "id": "883c6e62-d647-46f6-9eb1-656319490eec",
   "metadata": {
    "tags": []
   },
   "outputs": [
    {
     "data": {
      "text/plain": [
       "(4, 1)"
      ]
     },
     "execution_count": 32,
     "metadata": {},
     "output_type": "execute_result"
    }
   ],
   "source": [
    "x.strides"
   ]
  },
  {
   "cell_type": "markdown",
   "id": "f60b0466-81e6-452d-9c7c-80e9409ab9b6",
   "metadata": {},
   "source": [
    "It means that `4` steps should be taken for each `row` and `1` step should be taken for each `column`.\n",
    "we can change shape and see that again:"
   ]
  },
  {
   "cell_type": "code",
   "execution_count": 33,
   "id": "f165bb17-6149-4797-9a91-67a589fbaef2",
   "metadata": {
    "tags": []
   },
   "outputs": [],
   "source": [
    "x.shape = 8, 2"
   ]
  },
  {
   "cell_type": "code",
   "execution_count": 34,
   "id": "1797b1e8-8852-40bf-aefc-11051648a842",
   "metadata": {
    "tags": []
   },
   "outputs": [
    {
     "data": {
      "text/plain": [
       "(2, 1)"
      ]
     },
     "execution_count": 34,
     "metadata": {},
     "output_type": "execute_result"
    }
   ],
   "source": [
    "x.strides"
   ]
  },
  {
   "cell_type": "code",
   "execution_count": 35,
   "id": "663c4109-4c7f-49b5-827c-83c1a3bff944",
   "metadata": {
    "tags": []
   },
   "outputs": [
    {
     "data": {
      "text/plain": [
       "array([[108,   9],\n",
       "       [122,  10],\n",
       "       [ 50,  79],\n",
       "       [ 96, 125],\n",
       "       [ 72,  59],\n",
       "       [ 22,  97],\n",
       "       [ 95,  56],\n",
       "       [ 84,  58]], dtype=int8)"
      ]
     },
     "execution_count": 35,
     "metadata": {},
     "output_type": "execute_result"
    }
   ],
   "source": [
    "x"
   ]
  },
  {
   "cell_type": "code",
   "execution_count": 36,
   "id": "abe991ad-6dda-416a-a089-21f6cf4d9496",
   "metadata": {
    "tags": []
   },
   "outputs": [
    {
     "data": {
      "text/plain": [
       "<memory at 0x7f88321b0450>"
      ]
     },
     "execution_count": 36,
     "metadata": {},
     "output_type": "execute_result"
    }
   ],
   "source": [
    "x.data"
   ]
  },
  {
   "cell_type": "markdown",
   "id": "d3cb2f76-df8b-48f5-bd41-c85a8b3626ef",
   "metadata": {
    "tags": []
   },
   "source": [
    "we can also change the dimensions:"
   ]
  },
  {
   "cell_type": "code",
   "execution_count": 37,
   "id": "567f2167-cffe-4dcc-86aa-c877431a43b4",
   "metadata": {
    "tags": []
   },
   "outputs": [],
   "source": [
    "x.shape = 16, 1, 1"
   ]
  },
  {
   "cell_type": "code",
   "execution_count": 38,
   "id": "ed9bb088-35c2-4e3e-97bd-2c340aa808c4",
   "metadata": {
    "tags": []
   },
   "outputs": [
    {
     "data": {
      "text/plain": [
       "(1, 1, 1)"
      ]
     },
     "execution_count": 38,
     "metadata": {},
     "output_type": "execute_result"
    }
   ],
   "source": [
    "x.strides"
   ]
  },
  {
   "cell_type": "code",
   "execution_count": 39,
   "id": "0e0727c9-70fc-4602-b284-a6d47495b015",
   "metadata": {
    "tags": []
   },
   "outputs": [
    {
     "data": {
      "text/plain": [
       "array([[[108]],\n",
       "\n",
       "       [[  9]],\n",
       "\n",
       "       [[122]],\n",
       "\n",
       "       [[ 10]],\n",
       "\n",
       "       [[ 50]],\n",
       "\n",
       "       [[ 79]],\n",
       "\n",
       "       [[ 96]],\n",
       "\n",
       "       [[125]],\n",
       "\n",
       "       [[ 72]],\n",
       "\n",
       "       [[ 59]],\n",
       "\n",
       "       [[ 22]],\n",
       "\n",
       "       [[ 97]],\n",
       "\n",
       "       [[ 95]],\n",
       "\n",
       "       [[ 56]],\n",
       "\n",
       "       [[ 84]],\n",
       "\n",
       "       [[ 58]]], dtype=int8)"
      ]
     },
     "execution_count": 39,
     "metadata": {},
     "output_type": "execute_result"
    }
   ],
   "source": [
    "x"
   ]
  },
  {
   "cell_type": "code",
   "execution_count": 40,
   "id": "67abeef5-35aa-4364-aa09-01cccad60f72",
   "metadata": {
    "tags": []
   },
   "outputs": [
    {
     "data": {
      "text/plain": [
       "<memory at 0x7f88708986d0>"
      ]
     },
     "execution_count": 40,
     "metadata": {},
     "output_type": "execute_result"
    }
   ],
   "source": [
    "x.data"
   ]
  },
  {
   "cell_type": "markdown",
   "id": "87293653-d05e-4917-8b22-7c32be175cff",
   "metadata": {},
   "source": [
    "as we can see that the memory layout of the data remains the same, but only the strides change."
   ]
  },
  {
   "cell_type": "markdown",
   "id": "787552fb-b838-4fd0-868c-44296347afee",
   "metadata": {},
   "source": [
    "### How can the stride improve our NumPy experience?"
   ]
  },
  {
   "cell_type": "markdown",
   "id": "19da6506-ac5c-4c56-94c5-eea184060666",
   "metadata": {},
   "source": [
    "\n",
    "So now we know what a stride is, and its relationship to an ndarray object, but how can the stride improve our NumPy experience? Let's do some stride manipulation to get a better sense of this: two arrays are with same content but have different strides:\n"
   ]
  },
  {
   "cell_type": "code",
   "execution_count": 41,
   "id": "7ad2cf5b-bbdd-4724-a856-3f35284f6dae",
   "metadata": {
    "tags": []
   },
   "outputs": [],
   "source": [
    "x = np.ones((10000, )) "
   ]
  },
  {
   "cell_type": "code",
   "execution_count": 42,
   "id": "d4d469c3-128f-46d8-8e46-7642d0c4996a",
   "metadata": {
    "tags": []
   },
   "outputs": [],
   "source": [
    "y = np.ones((10000 * 100, ))[::100] "
   ]
  },
  {
   "cell_type": "code",
   "execution_count": 43,
   "id": "ab61516a-164d-4b7a-bf62-eae6c3570365",
   "metadata": {
    "tags": []
   },
   "outputs": [
    {
     "data": {
      "text/plain": [
       "((10000,), (10000,))"
      ]
     },
     "execution_count": 43,
     "metadata": {},
     "output_type": "execute_result"
    }
   ],
   "source": [
    "x.shape, y.shape"
   ]
  },
  {
   "cell_type": "code",
   "execution_count": 44,
   "id": "1b091445-5dd4-40d3-8cc1-7927025101e3",
   "metadata": {
    "tags": []
   },
   "outputs": [
    {
     "data": {
      "text/plain": [
       "True"
      ]
     },
     "execution_count": 44,
     "metadata": {},
     "output_type": "execute_result"
    }
   ],
   "source": [
    "(x == y).all()"
   ]
  },
  {
   "cell_type": "markdown",
   "id": "cbad2aa1-952c-4dcb-a675-792ccc407c8b",
   "metadata": {},
   "source": [
    "We create two NumPy Arrays, `x` and `y`, and do a comparison; we can see that the two arrays are equal. They have the same shape and all the elements are one, but actually the two arrays are different in terms of memory layout. Let's simply use the flags attribute to check the two arrays' memory layout."
   ]
  },
  {
   "cell_type": "code",
   "execution_count": 45,
   "id": "d6f1de14-e5a1-461b-a488-94934d5fd3f1",
   "metadata": {
    "tags": []
   },
   "outputs": [
    {
     "data": {
      "text/plain": [
       "  C_CONTIGUOUS : True\n",
       "  F_CONTIGUOUS : True\n",
       "  OWNDATA : True\n",
       "  WRITEABLE : True\n",
       "  ALIGNED : True\n",
       "  WRITEBACKIFCOPY : False"
      ]
     },
     "execution_count": 45,
     "metadata": {},
     "output_type": "execute_result"
    }
   ],
   "source": [
    "x.flags"
   ]
  },
  {
   "cell_type": "code",
   "execution_count": 46,
   "id": "1f1af35e-7cdd-430c-900d-fe0f0abadc20",
   "metadata": {
    "tags": []
   },
   "outputs": [
    {
     "data": {
      "text/plain": [
       "  C_CONTIGUOUS : False\n",
       "  F_CONTIGUOUS : False\n",
       "  OWNDATA : False\n",
       "  WRITEABLE : True\n",
       "  ALIGNED : True\n",
       "  WRITEBACKIFCOPY : False"
      ]
     },
     "execution_count": 46,
     "metadata": {},
     "output_type": "execute_result"
    }
   ],
   "source": [
    "y.flags"
   ]
  },
  {
   "cell_type": "markdown",
   "id": "5548568e-2ce0-4631-aa60-4eda195bc3e1",
   "metadata": {
    "tags": []
   },
   "source": [
    "We can see that the `x` array is continuous in both the C and Fortran order while `y` is not. Let's check the strides for the difference:"
   ]
  },
  {
   "cell_type": "code",
   "execution_count": 47,
   "id": "0136dad4-5b8a-4354-9211-9157128c3c20",
   "metadata": {
    "tags": []
   },
   "outputs": [
    {
     "data": {
      "text/plain": [
       "((8,), (800,))"
      ]
     },
     "execution_count": 47,
     "metadata": {},
     "output_type": "execute_result"
    }
   ],
   "source": [
    "x.strides, y.strides"
   ]
  },
  {
   "cell_type": "markdown",
   "id": "8ea8fc15-dcb9-4878-b0fb-cdf222e48fa5",
   "metadata": {},
   "source": [
    "Array `x` is created continuously, so in the same dimension each element is eight bytes apart (the default `dtype` of `numpy.ones` is a 64-bit float); however, `y` is created from a subset of 10000 * 100 for every 100 elements, so the index schema in the memory layout is not continuous."
   ]
  },
  {
   "cell_type": "markdown",
   "id": "bc985184-f68c-4217-8623-12c629607d5e",
   "metadata": {
    "tags": []
   },
   "source": [
    "Even though `x` and `y` have the same shape, each element in `y` is 800 bytes apart from each other. When you use NumPy arrays `x` and `y`, you might not notice the difference in indexing, but the memory layout does affect the performance. Let's use the `%timeit` to check this out:"
   ]
  },
  {
   "cell_type": "code",
   "execution_count": 48,
   "id": "965318f9-b91a-4f4e-aafc-e58f7bb7410b",
   "metadata": {
    "tags": []
   },
   "outputs": [
    {
     "name": "stdout",
     "output_type": "stream",
     "text": [
      "4.52 µs ± 196 ns per loop (mean ± std. dev. of 7 runs, 100,000 loops each)\n"
     ]
    }
   ],
   "source": [
    "%timeit x.sum()"
   ]
  },
  {
   "cell_type": "code",
   "execution_count": 49,
   "id": "8064ba67-dd69-421a-aa5f-fef772495321",
   "metadata": {
    "tags": []
   },
   "outputs": [
    {
     "name": "stdout",
     "output_type": "stream",
     "text": [
      "8.79 µs ± 766 ns per loop (mean ± std. dev. of 7 runs, 100,000 loops each)\n"
     ]
    }
   ],
   "source": [
    "%timeit y.sum()"
   ]
  },
  {
   "cell_type": "markdown",
   "id": "81f23e8a-1dee-4c46-9b04-4f0e657ad495",
   "metadata": {},
   "source": [
    "Typically with a fixed cache size, when the stride size gets larger, the hit rate (the fraction of memory accessed that finds data in the cache) will be lower, comparatively, while the miss rate (the fraction of memory accessed that has to go to the memory) will be higher. The cache hit time and miss time compose the average data access time. Let's try to look at our example again from the cache perspective. Array `x` with smaller strides is faster than the larger strides of `y`. The reason for the difference in performance is that the CPU is pulling data from the main memory to its cache in blocks, and the smaller stride means fewer transfers are needed. See the following graph for details, where the red line represents the size of the CPU cache, and blue boxes represent the memory layout containing the data."
   ]
  },
  {
   "cell_type": "markdown",
   "id": "b80b2f0a-fcec-458e-8d44-eb155b02b794",
   "metadata": {
    "tags": []
   },
   "source": [
    "It's obvious that if `x` and `y` are both required, 100 blue boxes of data, the required cache time for `x` will be less."
   ]
  },
  {
   "attachments": {
    "be78b243-670b-4901-af7f-b4021fb0cd4a.JPG": {
     "image/jpeg": "[encoded data removed]"
    }
   },
   "cell_type": "markdown",
   "id": "2f0e63e2-1695-4815-9225-54a72077d0ce",
   "metadata": {
    "tags": []
   },
   "source": [
    "# <center> <div style=\"width: 700px;\"> ![CPU_cach_size.JPG](attachment:be78b243-670b-4901-af7f-b4021fb0cd4a.JPG)"
   ]
  },
  {
   "cell_type": "markdown",
   "id": "7b0af565-4acd-42da-b02d-1bd26d8d4704",
   "metadata": {},
   "source": [
    "### Stride in N-dimensional `ndarray`"
   ]
  },
  {
   "cell_type": "markdown",
   "id": "ee3ad5c0-1c05-4cd1-a2d8-d8d55f103c70",
   "metadata": {},
   "source": [
    "A segment of memory is inherently 1-dimensional, and there are many different schemes for arranging the items of an N-dimensional array in a 1-dimensional block. NumPy is flexible, and ndarray objects can accommodate any strided indexing scheme. In a strided scheme, the N-dimensional index $(`n_0, n_1, ..., n_{N-1}`)$ corresponds to the offset (in bytes):\n",
    "\n",
    "$$n_{\\text{offset}} = \\sum_{k=0}^{N-1} s_k n_k$$\n",
    "\n",
    "from the beginning of the memory block associated with the array. Here, $s_k$ are integers which specify the strides of the array."
   ]
  },
  {
   "cell_type": "code",
   "execution_count": 50,
   "id": "416be17c-664c-40e6-a3bb-b2735109b4f0",
   "metadata": {
    "tags": []
   },
   "outputs": [],
   "source": [
    "import numpy as np"
   ]
  },
  {
   "cell_type": "code",
   "execution_count": 51,
   "id": "9fa79e86-97e4-41cd-8114-c4dd29967535",
   "metadata": {
    "tags": []
   },
   "outputs": [],
   "source": [
    "x = np.random.rand(3, 4)"
   ]
  },
  {
   "cell_type": "code",
   "execution_count": 52,
   "id": "75082c1e-6ba6-45c0-9c67-24929956f585",
   "metadata": {
    "tags": []
   },
   "outputs": [
    {
     "data": {
      "text/plain": [
       "(8, 32.0)"
      ]
     },
     "execution_count": 52,
     "metadata": {},
     "output_type": "execute_result"
    }
   ],
   "source": [
    "x.itemsize, x.nbytes / x.shape[0]"
   ]
  },
  {
   "cell_type": "code",
   "execution_count": 53,
   "id": "92e63fdd-f0b1-4de7-b838-b11a4b6375f2",
   "metadata": {
    "tags": []
   },
   "outputs": [
    {
     "data": {
      "text/plain": [
       "(32, 8)"
      ]
     },
     "execution_count": 53,
     "metadata": {},
     "output_type": "execute_result"
    }
   ],
   "source": [
    "x.strides"
   ]
  },
  {
   "cell_type": "code",
   "execution_count": 54,
   "id": "04fe3c67-9bf4-4e30-b4f1-2455e6e09b3b",
   "metadata": {
    "tags": []
   },
   "outputs": [
    {
     "data": {
      "text/plain": [
       "array([0.5988397 , 0.36368215, 0.64372507, 0.90114128, 0.21142683,\n",
       "       0.82963352, 0.99683143, 0.82450406, 0.67529549, 0.60012722,\n",
       "       0.74184872, 0.06982166])"
      ]
     },
     "execution_count": 54,
     "metadata": {},
     "output_type": "execute_result"
    }
   ],
   "source": [
    "# .flatten() returns numpy array\n",
    "x.flatten()"
   ]
  },
  {
   "cell_type": "code",
   "execution_count": 55,
   "id": "2ebaa7f1-78a1-4e53-92f0-0685d33f26df",
   "metadata": {
    "tags": []
   },
   "outputs": [
    {
     "data": {
      "text/plain": [
       "array([0.5988397 , 0.36368215, 0.64372507, 0.90114128, 0.21142683,\n",
       "       0.82963352, 0.99683143, 0.82450406, 0.67529549, 0.60012722,\n",
       "       0.74184872, 0.06982166])"
      ]
     },
     "execution_count": 55,
     "metadata": {},
     "output_type": "execute_result"
    }
   ],
   "source": [
    "# .flat returns iterator\n",
    "np.array(x.flat)"
   ]
  },
  {
   "cell_type": "code",
   "execution_count": 56,
   "id": "6f4f6032-cf30-410d-936c-714a42699651",
   "metadata": {
    "tags": []
   },
   "outputs": [
    {
     "data": {
      "text/plain": [
       "array([0.21142683, 0.82963352, 0.99683143, 0.82450406])"
      ]
     },
     "execution_count": 56,
     "metadata": {},
     "output_type": "execute_result"
    }
   ],
   "source": [
    "# a stride of 1 is equal to 32 bytes\n",
    "x[1]"
   ]
  },
  {
   "cell_type": "markdown",
   "id": "5414cbd7-86c2-4ae8-a342-bcbd4be8fc36",
   "metadata": {
    "tags": []
   },
   "source": [
    "## Why `np.array` not `list`"
   ]
  },
  {
   "cell_type": "code",
   "execution_count": 57,
   "id": "45603ab1-6b12-4fe8-b456-85b0328bb100",
   "metadata": {
    "tags": []
   },
   "outputs": [],
   "source": [
    "x = [1, '2', [1, 2, 3]]\n",
    "arr = np.array([1, 2, 3])"
   ]
  },
  {
   "cell_type": "markdown",
   "id": "a0bb64f9-4043-4f1c-8d50-4b7656cf926d",
   "metadata": {
    "tags": []
   },
   "source": [
    "list: more memory is needed\n",
    "      homogenous memory in numpy results in more speed  -> different data types\n",
    "      c_array f_array  ---->  which operations are slow which are fast? which axes?\n",
    "      default is memory view in numpy -----> no copy\n",
    "      debug ---> flags, strides, data, (under the hood information)\n",
    "      \n",
    "      vectorization --> beutiy, no foor loop, formula == code\n",
    "      broadcasting --> no broadcasting in python"
   ]
  }
 ],
 "metadata": {
  "kernelspec": {
   "display_name": "Python 3 (ipykernel)",
   "language": "python",
   "name": "python3"
  },
  "language_info": {
   "codemirror_mode": {
    "name": "ipython",
    "version": 3
   },
   "file_extension": ".py",
   "mimetype": "text/x-python",
   "name": "python",
   "nbconvert_exporter": "python",
   "pygments_lexer": "ipython3",
   "version": "3.11.4"
  }
 },
 "nbformat": 4,
 "nbformat_minor": 5
}
