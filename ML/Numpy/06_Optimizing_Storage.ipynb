{
 "cells": [
  {
   "cell_type": "markdown",
   "id": "0551fdbe-c0bd-45fe-a3bd-f5ddfa26ae35",
   "metadata": {},
   "source": [
    "# <center> <div style=\"width: 370px;\"> ![numpy title](pictures/numpy_tytle.jpg)"
   ]
  },
  {
   "cell_type": "markdown",
   "id": "167c3ff9-8eb9-4b16-acac-1b268b5be6fd",
   "metadata": {},
   "source": [
    "# <center> Optimizing Storage: Numpy Data Types"
   ]
  },
  {
   "cell_type": "markdown",
   "id": "e22902b4-345e-4490-80db-b4ca7bf25c40",
   "metadata": {},
   "source": [
    "Now that you've gained some practical experience, it's time to revisit the theoretical aspect and delve into the world of data types. While data types may not be at the forefront of many Python code projects, they play a crucial role in how data is manipulated. In Python, numbers behave as expected, strings serve their purpose, Booleans determine truth or falsehood, and beyond that, you have the freedom to create your own objects and collections.\n",
    "\n",
    "However, when it comes to NumPy, the story becomes more intricate. NumPy employs C code beneath its surface to optimize performance, and this optimization hinges on a critical requirement: all elements within an array must share the same data type. It's not merely about them being the same Python type; they must possess identical underlying C types, along with matching shapes and sizes in terms of bits!\n",
    "\n",
    "Python, by default, defines only one type for each data class, such as a single integer type and a single floating-point type. This simplicity can be advantageous in applications where you don't need to concern yourself with the various ways data can be represented within a computer. However, in the realm of scientific computing, greater control is often necessary.\n",
    "\n",
    "In NumPy, you'll encounter 24 new fundamental Python types designed to describe various scalar data types. These type descriptors draw heavily from the types available in the C language, which CPython, the Python interpreter, is written in. Additionally, NumPy introduces several extra types that align with Python's native types, providing you with a rich palette of options for precise data manipulation in scientific computing endeavors."
   ]
  },
  {
   "cell_type": "markdown",
   "id": "b350865e-a7e9-4c72-bef1-b374e7f3dd21",
   "metadata": {},
   "source": [
    "## Data Type Objects (`dtype`)"
   ]
  },
  {
   "cell_type": "markdown",
   "id": "0016d628-f3f1-4705-a0dc-5972e26e68e9",
   "metadata": {},
   "source": [
    "In the world of NumPy, data type objects are the linchpin that governs the interpretation of the bytes within a fixed-size memory block assigned to an array item. These data type objects, instances of the numpy.dtype class, provide a comprehensive blueprint for understanding various aspects of the data they encapsulate:\n",
    "\n",
    "1. **Data Type**: They define the fundamental type of the data, whether it's an integer, a floating-point number, a Python object, or something else entirely.\n",
    "\n",
    "2. **Data Size**: Data type objects specify the size in bytes occupied by the data. For instance, they reveal how many bytes constitute an integer or any other data type.\n",
    "\n",
    "3. **Byte Order**: These objects define the byte order of the data, indicating whether it's little-endian or big-endian.\n",
    "\n",
    "4. **Structured Data Types**: In the case of structured data types – an amalgamation of different data types that describe an array item, such as an integer combined with a float – data type objects unravel several crucial details:\n",
    "   \n",
    "   - Names of Fields: They delineate the names assigned to each \"field\" within the structure, providing a means to access them.\n",
    "   \n",
    "   - Data Type of Each Field: Data type objects unveil the specific data type associated with each field.\n",
    "\n",
    "   - Memory Allocation: They specify the portion of the memory block allocated to accommodate each field of the structured data type.\n",
    "\n",
    "5. **Sub-Arrays**: When dealing with sub-arrays, data type objects inform us about the shape and data type of these sub-arrays, offering essential insights into the hierarchical structure of data."
   ]
  },
  {
   "cell_type": "markdown",
   "id": "edbf01f4-32fa-418d-adc0-1e8a5de5ed2b",
   "metadata": {},
   "source": [
    "In NumPy, the characterization of scalar data types is facilitated by a diverse range of built-in scalar types, catering to different levels of precision for integers, floating-point numbers, and more. When you extract an item from an array, such as through indexing, you retrieve a Python object. This Python object's type aligns seamlessly with the scalar type linked to the array's data type, ensuring a coherent and accurate representation of the data."
   ]
  },
  {
   "cell_type": "markdown",
   "id": "99ca42b1-e40e-44d9-89e5-b0f95563c4b4",
   "metadata": {},
   "source": [
    "> **Important Note:** While scalar types are versatile and can serve as replacements for dtype objects in various NumPy scenarios requiring data type specifications, it's essential to recognize that scalar types themselves are distinct from dtype objects."
   ]
  },
  {
   "cell_type": "markdown",
   "id": "34163341-ae71-41cb-a0a0-421f3131069c",
   "metadata": {},
   "source": [
    "Structured data types in NumPy are crafted by defining a data type that encompasses fields composed of other data types. Each field within this structure is given a name, providing a convenient means of access. The parent data type, within which these fields reside, must possess adequate size to accommodate all its constituent fields. Typically, the parent data type is based on the versatile void type, capable of accommodating items of arbitrary sizes. It's worth noting that structured data types can also include nested sub-array data types within their fields.\n",
    "\n",
    "Additionally, a data type can delineate items that are themselves arrays composed of elements of another data type. However, these sub-arrays must adhere to a fixed size.\n",
    "\n",
    "When you create an array using a data type that describes a sub-array, the dimensions of the sub-array are appended to the shape of the resulting array during its creation process. It's important to mention that sub-arrays residing within fields of a structured type exhibit unique behaviors, which are elaborated upon in the [Numpy Documentation under](https://numpy.org/doc/stable/reference/arrays.indexing.html#arrays-indexing-fields)\n",
    "\n",
    "Furthermore, it's noteworthy that sub-arrays invariably adopt a C-contiguous memory layout.\n"
   ]
  },
  {
   "cell_type": "markdown",
   "id": "1e1e9651-d75f-474d-9ef6-a0d0609e5d13",
   "metadata": {},
   "source": [
    "A simple data type containing a 32-bit big-endian integer:"
   ]
  },
  {
   "cell_type": "code",
   "execution_count": 1,
   "id": "cc405ac3-152a-4bae-974d-a2468f200efa",
   "metadata": {
    "tags": []
   },
   "outputs": [],
   "source": [
    "import numpy as np"
   ]
  },
  {
   "cell_type": "code",
   "execution_count": 2,
   "id": "0a66676c-2dd1-40ad-923d-985d622abd0f",
   "metadata": {
    "tags": []
   },
   "outputs": [],
   "source": [
    "dt = np.dtype('>i4')"
   ]
  },
  {
   "cell_type": "code",
   "execution_count": 3,
   "id": "6c9a6049-4457-4a8e-b4a1-f640aefb457e",
   "metadata": {
    "tags": []
   },
   "outputs": [
    {
     "data": {
      "text/plain": [
       "'>'"
      ]
     },
     "execution_count": 3,
     "metadata": {},
     "output_type": "execute_result"
    }
   ],
   "source": [
    "dt.byteorder"
   ]
  },
  {
   "cell_type": "code",
   "execution_count": 4,
   "id": "e0aaa9f5-29de-4bc5-afd8-ab9d9cee03d6",
   "metadata": {
    "tags": []
   },
   "outputs": [
    {
     "data": {
      "text/plain": [
       "4"
      ]
     },
     "execution_count": 4,
     "metadata": {},
     "output_type": "execute_result"
    }
   ],
   "source": [
    "dt.itemsize"
   ]
  },
  {
   "cell_type": "code",
   "execution_count": 5,
   "id": "d4ab041f-db04-4b46-890b-f9b14d3b9bdd",
   "metadata": {
    "tags": []
   },
   "outputs": [
    {
     "data": {
      "text/plain": [
       "'int32'"
      ]
     },
     "execution_count": 5,
     "metadata": {},
     "output_type": "execute_result"
    }
   ],
   "source": [
    "dt.name"
   ]
  },
  {
   "cell_type": "code",
   "execution_count": 20,
   "id": "ac3c6395-07a8-4d20-bd84-8fc75118e2de",
   "metadata": {
    "tags": []
   },
   "outputs": [
    {
     "data": {
      "text/plain": [
       "1"
      ]
     },
     "execution_count": 20,
     "metadata": {},
     "output_type": "execute_result"
    }
   ],
   "source": [
    "np.size(dt)"
   ]
  },
  {
   "cell_type": "code",
   "execution_count": 6,
   "id": "800ae349-5b01-41b5-a242-fa56a90e59ec",
   "metadata": {
    "tags": []
   },
   "outputs": [
    {
     "data": {
      "text/plain": [
       "True"
      ]
     },
     "execution_count": 6,
     "metadata": {},
     "output_type": "execute_result"
    }
   ],
   "source": [
    "dt.type is np.int32"
   ]
  },
  {
   "cell_type": "markdown",
   "id": "3d7b98ae-aba8-4311-864d-ff00db9e35ec",
   "metadata": {},
   "source": [
    "A structured data type containing a 16-character string (in field ‍`name`) and a sub-array of two 64-bit floating-point number (in field `grades`):"
   ]
  },
  {
   "cell_type": "code",
   "execution_count": 7,
   "id": "972be163-0659-449f-8b1a-6bf617c12a5f",
   "metadata": {
    "tags": []
   },
   "outputs": [],
   "source": [
    "dt = np.dtype([('name', np.unicode_, 16), ('grades', np.float64, (2,))])"
   ]
  },
  {
   "cell_type": "code",
   "execution_count": 8,
   "id": "b489548a-71a8-40c4-9a7e-e49dc9f6a5e8",
   "metadata": {
    "tags": []
   },
   "outputs": [
    {
     "data": {
      "text/plain": [
       "dtype('<U16')"
      ]
     },
     "execution_count": 8,
     "metadata": {},
     "output_type": "execute_result"
    }
   ],
   "source": [
    "dt['name']"
   ]
  },
  {
   "cell_type": "code",
   "execution_count": 9,
   "id": "91454659-4938-431f-b047-9f2057beb7ed",
   "metadata": {
    "tags": []
   },
   "outputs": [
    {
     "data": {
      "text/plain": [
       "dtype(('<f8', (2,)))"
      ]
     },
     "execution_count": 9,
     "metadata": {},
     "output_type": "execute_result"
    }
   ],
   "source": [
    "dt['grades']"
   ]
  },
  {
   "cell_type": "markdown",
   "id": "9671b869-05c9-4ad0-8810-ca01b1dafae6",
   "metadata": {},
   "source": [
    "Items of an array of this data type are wrapped in an array scalar type that also has two fields:"
   ]
  },
  {
   "cell_type": "code",
   "execution_count": 10,
   "id": "4f996fd3-93c3-483e-8b5a-ce4e6e77c60c",
   "metadata": {
    "tags": []
   },
   "outputs": [],
   "source": [
    "x = np.array([('Sarah', (8.0, 7.0)), ('John', (6.0, 7.0))], dtype=dt)"
   ]
  },
  {
   "cell_type": "code",
   "execution_count": 11,
   "id": "da5f074c-988b-411a-9ac4-b17296802a2a",
   "metadata": {
    "tags": []
   },
   "outputs": [
    {
     "data": {
      "text/plain": [
       "('Sarah', [8., 7.])"
      ]
     },
     "execution_count": 11,
     "metadata": {},
     "output_type": "execute_result"
    }
   ],
   "source": [
    "x[0]"
   ]
  },
  {
   "cell_type": "code",
   "execution_count": 12,
   "id": "420eaf0e-7ef2-4928-900b-011f407ae0d6",
   "metadata": {
    "tags": []
   },
   "outputs": [
    {
     "data": {
      "text/plain": [
       "array([6., 7.])"
      ]
     },
     "execution_count": 12,
     "metadata": {},
     "output_type": "execute_result"
    }
   ],
   "source": [
    "x[1]['grades']"
   ]
  },
  {
   "cell_type": "code",
   "execution_count": 13,
   "id": "d1ba3019-85b7-499a-9b5e-a57848a099ab",
   "metadata": {
    "tags": []
   },
   "outputs": [
    {
     "data": {
      "text/plain": [
       "numpy.void"
      ]
     },
     "execution_count": 13,
     "metadata": {},
     "output_type": "execute_result"
    }
   ],
   "source": [
    "type(x[1])"
   ]
  },
  {
   "cell_type": "code",
   "execution_count": 14,
   "id": "22c14cb8-73f9-4bd8-a08f-0b035f3b6dc4",
   "metadata": {
    "tags": []
   },
   "outputs": [
    {
     "data": {
      "text/plain": [
       "numpy.ndarray"
      ]
     },
     "execution_count": 14,
     "metadata": {},
     "output_type": "execute_result"
    }
   ],
   "source": [
    "type(x[1]['grades'])"
   ]
  },
  {
   "cell_type": "markdown",
   "id": "be39a54f-1056-4933-a648-36e3a529011c",
   "metadata": {},
   "source": [
    "## Specifying and Constructing Data Types"
   ]
  },
  {
   "cell_type": "markdown",
   "id": "b3fd432c-e2ab-4f36-89be-2e21d1d50fe4",
   "metadata": {},
   "source": [
    "Whenever a data-type is required in a NumPy function or method, either a dtype object or something that can be converted to one can be supplied. Such conversions are done by the dtype constructor:"
   ]
  },
  {
   "cell_type": "code",
   "execution_count": 15,
   "id": "7379f85e-3a7b-421c-8b0f-9244dff772fc",
   "metadata": {
    "tags": []
   },
   "outputs": [],
   "source": [
    "dt = np.dtype(np.int32)      # 32-bit integer"
   ]
  },
  {
   "cell_type": "code",
   "execution_count": 16,
   "id": "4712ee66-a18c-44ef-b562-d1d251553d82",
   "metadata": {
    "tags": []
   },
   "outputs": [],
   "source": [
    "dt = np.dtype(np.complex128) # 128-bit complex floating-point number"
   ]
  },
  {
   "cell_type": "markdown",
   "id": "e5522e77-6ddf-41ea-a9e4-04c746a283e8",
   "metadata": {},
   "source": [
    "Several python types are equivalent to a corresponding array scalar when used to generate a dtype object:"
   ]
  },
  {
   "cell_type": "markdown",
   "id": "f9cd07ab-7f1a-4da0-85be-feedf10bebc9",
   "metadata": {},
   "source": [
    "|built-in python type|numpy type|\n",
    "|--|--|\n",
    "|`int`|`int_`|\n",
    "|`bool`|`bool_`|\n",
    "|`float`|`float_`|\n",
    "|`complex`|`cfloat`|\n",
    "|`bytes`|`bytes_`|\n",
    "|`str`|`str_`|\n",
    "|`buffer`|`void`|\n",
    "|all others|`object_`|"
   ]
  },
  {
   "cell_type": "markdown",
   "id": "9abe145a-047a-4234-8f92-a073f933560a",
   "metadata": {},
   "source": [
    "### More on Data Types"
   ]
  },
  {
   "cell_type": "markdown",
   "id": "45fcd005-2135-47c9-8ef0-852086c4ef4c",
   "metadata": {},
   "source": [
    "This segment of the tutorial has been carefully curated to equip you with the essential knowledge required to be productive with NumPy's data types. It offers insights into the inner workings of NumPy and helps you navigate common pitfalls. However, please be aware that it's not an exhaustive guide.\n",
    "\n",
    "For those seeking deeper knowledge, the [NumPy documentation on `ndarrays`](https://numpy.org/doc/stable/reference/arrays.ndarray.html#internal-memory-layout-of-an-ndarray) offers a wealth of additional resources and in-depth insights.\n",
    "\n",
    "Furthermore, if you're interested in exploring the intricacies of `dtype` objects, including various construction methods, customization options, and optimization techniques, as well as ensuring they meet your data handling needs with robustness, there's a dedicated resource available [here](https://numpy.org/doc/stable/reference/arrays.dtypes.html). This can be a valuable starting point if you encounter challenges when loading your data into arrays.\n",
    "\n",
    "Lastly, the NumPy `recarray` is a formidable tool in its own right, and our exploration here only scratches the surface of its capabilities. Delving into the [`recarray` documentation](https://numpy.org/doc/stable/reference/generated/numpy.recarray.html) will provide you with a comprehensive understanding of its potential. Additionally, NumPy offers other specialized array [subclasses](https://numpy.org/doc/stable/reference/arrays.classes.html) that are worth exploring to expand your proficiency in utilizing NumPy effectively."
   ]
  },
  {
   "cell_type": "code",
   "execution_count": null,
   "id": "d35cb2dc-3269-434a-aa41-96d42088176d",
   "metadata": {},
   "outputs": [],
   "source": []
  }
 ],
 "metadata": {
  "kernelspec": {
   "display_name": "Python 3 (ipykernel)",
   "language": "python",
   "name": "python3"
  },
  "language_info": {
   "codemirror_mode": {
    "name": "ipython",
    "version": 3
   },
   "file_extension": ".py",
   "mimetype": "text/x-python",
   "name": "python",
   "nbconvert_exporter": "python",
   "pygments_lexer": "ipython3",
   "version": "3.11.4"
  }
 },
 "nbformat": 4,
 "nbformat_minor": 5
}
